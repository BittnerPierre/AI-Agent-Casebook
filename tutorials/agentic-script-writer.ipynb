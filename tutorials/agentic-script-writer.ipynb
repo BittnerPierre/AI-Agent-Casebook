{
 "cells": [
  {
   "cell_type": "markdown",
   "id": "1d507716-09d2-4b73-93e6-a139b349f1de",
   "metadata": {},
   "source": [
    "# Building an Agentic System for YouTube Script Writing with LangGraph and Mistral Small 3"
   ]
  },
  {
   "cell_type": "markdown",
   "id": "f7ec9162-84cb-46f9-bb4e-7d64c57e62ed",
   "metadata": {
    "jupyter": {
     "source_hidden": true
    }
   },
   "source": [
    "## Introduction\n",
    "\n",
    "Automating YouTube script writing is an ideal use case to showcase the power of agentic systems. In this article, we will build an agentic system step by step using [**LangGraph**](https://langchain-ai.github.io/langgraph/tutorials/introduction/) and [**LangChain**](https://python.langchain.com/docs/introduction/), following an iterative approach.\n",
    "\n",
    "We will use [**Mistral Small 3**](https://mistral.ai/en/news/mistral-small-3) as our primary LLM. This choice is strategic as agentic systems allow us to avoid relying on very large models such as *OpenAI GPT-4o*, *Mistral Large*, *Anthropic Claude 3.5 Sonnet*. With this approach, we can achieve advanced results while being more efficient in terms of computational resources.\n",
    "\n",
    "**Mistral Small 3** covers all our needs for this agentic use case: \n",
    "- Low-latency function calling,\n",
    "- Robust structured output,\n",
    "- Competitive instruction following,\n",
    "- Fast-response conversational assistance,\n",
    "- General knowledge performance that rivals models three times larger.\n",
    "\n",
    "We will explore how to transition from a single LLM-based writing assistant to a multi-agent system capable of collaborating to produce a high-quality script.\n",
    "\n",
    "**Note**: \n",
    "- This *how-to* is based on the **Video Script** agent from my [AI-Agent-Casebook](https://github.com/BittnerPierre/AI-Agent-Casebook) project on Github.\n",
    "- This content is a personal initiative and is not part of any ambassador program. \n",
    "\n",
    "Don't forget to subscribe to my [Youtube Channel](https://www.youtube.com/@pierrebittner)."
   ]
  },
  {
   "cell_type": "markdown",
   "id": "597c8d42-9742-416d-afea-d42a0eb2896c",
   "metadata": {},
   "source": [
    "## What You Will Learn\n",
    "- The basics of agentic systems and why they matter\n",
    "- How to create a **multi-agent** system with LangGraph\n",
    "- How to evaluate agents and improve their quality\n",
    "- How to use **Mistral Small 3** as part of automated or agentic workflows\n",
    "- How to implement a **supervisor** to coordinate agent collaboration"
   ]
  },
  {
   "cell_type": "markdown",
   "id": "478701cc-1d02-43f5-9c4c-7a524e890150",
   "metadata": {},
   "source": [
    "### **Understanding What an Agentic System Is (Collaboration of Agents, Not Just Function Calling)**\n",
    "\n",
    "An **agentic system** is fundamentally about **collaboration between multiple autonomous agents** to accomplish a complex task. Unlike a traditional **function-calling approach**, where a single model or function sequentially processes inputs, an **agentic system** enables **distributed decision-making**, **specialized roles**, and **dynamic workflow adjustments** based on real-time results.\n",
    "\n",
    "In this tutorial, we will **not focusing on function calling**, as it plays only a minimal role in our implementation.. Instead, we aim to build an **end-to-end agentic solution** with **fundamental capabilities**, showcasing how independent agents can work together in a structured, modular way.\n",
    "\n",
    "### **Why Focus on the Basics?**\n",
    "LangGraph’s official documentation often highlights **advanced features** such as:\n",
    "- **Human-in-the-loop interventions** (where users can manually approve, edit, or intervene in workflows),\n",
    "- **Memory management** (persistent state tracking across interactions),\n",
    "- **Streaming outputs** (real-time updates from LLMs),\n",
    "- **Complex multi-agent workflows** with intricate dependencies and decision-making.\n",
    "\n",
    "These advanced features are **powerful but may overwhelm beginners** who are just starting with agentic systems\n",
    "\n",
    "### **The Goal of This Tutorial**\n",
    "- Provide a **clear, accessible** introduction to **multi-agent system construction** using **LangGraph**.\n",
    "- Focus on **core principles**: agent coordination, modularity, and workflow execution.\n",
    "- **Avoid unnecessary complexity** while still demonstrating the **power of agentic architectures**.\n",
    "\n",
    "This step-by-step approach ensures that **readers first master the fundamentals** before diving into **more advanced agentic capabilities**."
   ]
  },
  {
   "cell_type": "markdown",
   "id": "98cef887-b134-42fa-9312-0e0d9a7dd535",
   "metadata": {},
   "source": [
    "## Chapter 1: Understanding the Limitations of Classical Approaches\n",
    "\n",
    "### The Problem with Classical Writing Assistants\n",
    "\n",
    "Early iterations of writing assistants relied on a single LLM with a RAG knowledge base. Unfortunately, these systems had limitations:\n",
    "\n",
    "- Excessive reliance on prompts\n",
    "- Lack of coherence in the generated script\n",
    "- Difficulty integrating user feedback\n",
    "\n",
    "### Towards an Agentic Approach\n",
    "\n",
    "Instead of asking a single model to handle everything, we will break down the writing process into multiple specific tasks assigned to specialized agents:\n",
    "\n",
    "- **Planning**: Defining chapters and the overall script structure\n",
    "- **Researcher**: Gathering relevant information\n",
    "- **Writer**: Generating the content for each section\n",
    "- **Reviewer**: Editing and validating the script\n",
    "- **Supervisor**: Managing the workflow and final validation"
   ]
  },
  {
   "attachments": {
    "2f47c12c-ec76-4a66-9e60-48aebec4b465.png": {
     "image/png": "[encoded data removed]"
    }
   },
   "cell_type": "markdown",
   "id": "2d33cd05-5231-466f-afd5-e43f8ffb24e1",
   "metadata": {},
   "source": [
    "![video_script_state_graph.png](attachment:2f47c12c-ec76-4a66-9e60-48aebec4b465.png)"
   ]
  },
  {
   "cell_type": "markdown",
   "id": "ac1f25ad-a850-4942-8d98-de15c1098fd9",
   "metadata": {},
   "source": [
    "## Chapter 2: Introduction to LangChain Concepts\n",
    "\n",
    "Before diving into LangGraph, it is crucial to understand the core LangChain concepts that will be used in nodes:\n",
    "\n",
    "- **Prompt Templates**: Structuring effective prompts for agent interactions.\n",
    "- **LLM with Structured Output**: Ensuring predictable responses.\n",
    "- **LLM with Tools**: Allowing agents to interact with external sources.\n",
    "- **Prompt Hub from LangSmith**: Reusing and managing prompts efficiently.\n",
    "\n",
    "We will also explore how to test individual nodes before integrating them into a full graph-based workflow."
   ]
  },
  {
   "cell_type": "code",
   "execution_count": 1,
   "id": "5a10aca0-e34a-4305-8a63-edf500a68c9a",
   "metadata": {},
   "outputs": [],
   "source": [
    "##############\n",
    "# Import     #\n",
    "##############\n",
    "from typing import TypedDict, Literal, Annotated, List\n",
    "\n",
    "from dotenv import load_dotenv, find_dotenv\n",
    "from langchain_core.prompts import ChatPromptTemplate, MessagesPlaceholder, PromptTemplate\n",
    "from langchain_core.messages import HumanMessage, AIMessage\n",
    "from langchain_mistralai import ChatMistralAI\n",
    "\n"
   ]
  },
  {
   "cell_type": "markdown",
   "id": "a2b0f8e6-7920-47b8-9088-40c8acb93890",
   "metadata": {},
   "source": [
    "Now, we load the LangChain MistralAI client, which we will use throughout this notebook."
   ]
  },
  {
   "cell_type": "code",
   "execution_count": 2,
   "id": "55b8dcdb-47e6-4d2d-84dd-3babc184ee90",
   "metadata": {},
   "outputs": [],
   "source": [
    "import getpass\n",
    "import os\n",
    "\n",
    "\n",
    "################\n",
    "# AUTH KEY     #\n",
    "################\n",
    "\n",
    "# Import key from .env\n",
    "_ = load_dotenv(find_dotenv())\n",
    "\n",
    "# You'll need following key in you .env\n",
    "# MISTRAL_API_KEY=vx...\n",
    "# for LC Prompt Hub\n",
    "# LANGCHAIN_API_KEY=lsv2_pt...\n",
    "\n",
    "\n",
    "def _set_env(var: str):\n",
    "    if not os.environ.get(var):\n",
    "        os.environ[var] = getpass.getpass(f\"{var}: \")\n",
    "\n",
    "\n",
    "_set_env(\"MISTRAL_API_KEY\")\n",
    "_set_env(\"LANGCHAIN_API_KEY\")\n",
    "\n"
   ]
  },
  {
   "cell_type": "code",
   "execution_count": 3,
   "id": "56756d98-9e31-41a7-b265-4dec657a2462",
   "metadata": {},
   "outputs": [],
   "source": [
    "################\n",
    "# COMMON     #\n",
    "################\n",
    "\n",
    "# Mistral Small 3 available on Mistral AI 'La Platforme'\n",
    "llm = ChatMistralAI(model=\"mistral-small-latest\")\n",
    "\n"
   ]
  },
  {
   "cell_type": "markdown",
   "id": "ad359b46-80ef-4de6-a914-c949278eefde",
   "metadata": {},
   "source": [
    "Here is the code of our first agent: the researcher."
   ]
  },
  {
   "cell_type": "code",
   "execution_count": 64,
   "id": "f29d2051-feb5-43bc-8ee7-74f2f6857b2d",
   "metadata": {},
   "outputs": [],
   "source": [
    "####################\n",
    "# RESEARCHER AGENT #\n",
    "####################\n",
    "\n",
    "# Define output format\n",
    "class Research(TypedDict):\n",
    "    research: str\n",
    "    comment: str\n",
    "\n",
    "\n",
    "researcher_prompt = ChatPromptTemplate.from_messages(\n",
    "    [\n",
    "        (\n",
    "            \"system\",\n",
    "            f\"\"\"\n",
    "            You are the **Researcher** in a team responsible for scriptwriting YouTube videos.\n",
    "            Your role is to **gather, verify, and organize** relevant information to support scriptwriter in producing accurate and engaging content.  \n",
    "            \n",
    "            ### Responsibilities:\n",
    "            - Provide **exhaustive, detailed, well-organized, contrasted and factual** information\n",
    "            to feed the writer for all topics on the agenda. \n",
    "            - **No assumptions or generic statements**—only verifiable, specific facts or knowledge.\n",
    "            - **Incorporate feedback** to refine and improve your research.  \n",
    "            - **You do not write the script.**\n",
    "            - **You do not plan the agenda.**\n",
    "            - **You do not review or make critics.**\n",
    "\n",
    "            ### Constraint:\n",
    "            The scriptwriter will not have access to any other source than your research.\n",
    "            - Ensure that all necessary information is provided in your response.  \n",
    "            - Do not assume the scriptwriter knows background details—explain key concepts where needed.  \n",
    "            - Use reliable **sources** whenever possible to support claims.\n",
    "            \n",
    "            #### Expected Output Format:\n",
    "            1. **Research**  \n",
    "               - Organize your research with **numbered sections, subsections, bullet points, and hyphens** following the agenda for clarity.  \n",
    "               - Include **sources** whenever possible.  \n",
    "            2. **Comment**  \n",
    "               - Use plain text to add **research notes** or respond to feedback.  \n",
    "               - If informations are missing, state it here.\n",
    "            \n",
    "            #### Additional Notes:\n",
    "            - Maintain a **clear and structured** format for readability.  \n",
    "            - Avoid using **JSON, XML, or code-like formats.** Stick to plain text.  \n",
    "            \"\"\"\n",
    "        ),\n",
    "        MessagesPlaceholder(variable_name=\"messages\"),\n",
    "    ]\n",
    ")\n",
    "\n",
    "researcher = researcher_prompt | llm.with_structured_output(Research)"
   ]
  },
  {
   "cell_type": "markdown",
   "id": "b4727714-f86d-4f95-9e11-5ced9a28a33c",
   "metadata": {},
   "source": [
    "This is a simple LLM chain with structured output. However, in real-world applications, you’ll likely need to extend it by integrating function calling or RAG (Retrieval-Augmented Generation) to enhance accuracy.\n",
    "\n",
    "You can take inspiration from the [Research Team](https://langchain-ai.github.io/langgraph/tutorials/multi_agent/hierarchical_agent_teams/?h=#research-team) of [Hierarchical Agent Teams](https://langchain-ai.github.io/langgraph/tutorials/multi_agent/hierarchical_agent_teams/?h=#hierarchical-agent-teams) on LangGraph Documentations.\n",
    "\n",
    "We will keep 'research agent' as is for simplification."
   ]
  },
  {
   "cell_type": "markdown",
   "id": "f7027993-05f8-4898-b600-9a4848f5a66c",
   "metadata": {},
   "source": [
    "Let's test this researcher agent. We define a conversation from a 'Human' and the 'Planner' ."
   ]
  },
  {
   "cell_type": "code",
   "execution_count": 5,
   "id": "598a8503-94b4-4fb2-b36b-8209b4803d21",
   "metadata": {},
   "outputs": [],
   "source": [
    "# Emulate a conversation\n",
    "\n",
    "input = [\n",
    "        (\"human\", \"\"\"I would like a two-chapter video, 2 minutes long, containing 450 words on the topic\n",
    "            'AI will not take your job. Those who use AI will!'\"\"\"),\n",
    "        (\"assistant\", \"\"\"Here's a suggested agenda for your 2-chapter video on 'AI will not take your job. Those who use AI will!'\n",
    "\n",
    "    ### Chapter 1\n",
    "    1. **Title**\n",
    "    AI will not take your job. Those who use AI will! (200 words):\n",
    "    \n",
    "    2. **Brief**\n",
    "    Introduction of the video, presentation of the topic, and key points to be covered.\n",
    "    \n",
    "    3. **Covered Topics**\n",
    "    - Understanding AI's role in the job market\n",
    "    - The benefits of AI for workers\n",
    "    - The skills needed to work with AI\n",
    "\n",
    "    ### Chapter 2\n",
    "    1. **Title**\n",
    "    AI and Career Opportunities (250 words):\n",
    "    \n",
    "    2. **Brief**\n",
    "    Presentation of companies that are succeeding thanks to AI, the skills in demand, and career opportunities.\n",
    "    \n",
    "    3. **Covered Topics**\n",
    "    - Companies that have succeeded with AI\n",
    "    - Skills sought by employers\n",
    "    - Career opportunities with AI\"\"\"),\n",
    "        (\"human\", \"Provide research for the video.\"),\n",
    "    ]\n"
   ]
  },
  {
   "cell_type": "markdown",
   "id": "95923a30-4346-496d-859c-380c6cda0481",
   "metadata": {},
   "source": [
    "To call the agent, simply provide the conversation history along with a team description as input to the ```invoke``` method.\n",
    "\n",
    "As our agent is a LangChain runnable, you could stream, batch or make asynchronous call. Sweet! But we just invoke here."
   ]
  },
  {
   "cell_type": "code",
   "execution_count": 7,
   "id": "5dc57f53-3777-4134-b735-44542f1bd74b",
   "metadata": {},
   "outputs": [
    {
     "name": "stdout",
     "output_type": "stream",
     "text": [
      "{'research': \"Chapter 1\\n\\n1. **Introduction to AI's Role in the Job Market**\\n\\n- **Definition of AI**: Artificial Intelligence (AI) refers to the simulation of human intelligence in machines that are programmed to think and learn like humans.\\n\\n- **Impact on the Workforce**: AI is changing the job market by automating repetitive tasks, increasing efficiency, and creating new roles.\\n\\n- **Stats and Facts**:\\n  - According to a World Economic Forum report, while AI may displace 85 million jobs by 2025, it could also create 97 million new jobs.\\n  - A McKinsey report suggests that as much as 30% of the tasks in around 60% of occupations could be automated with today's technology.\\n\\n- **Sources**:\\n  - World Economic Forum: The Future of Jobs Report 2020\\n  - McKinsey & Company: Jobs lost, jobs gained: What the future of work will mean for jobs, skills, and wages\\n\\n2. **Benefits of AI for Workers**\\n\\n- **Efficiency and Productivity**: AI tools can handle routine tasks, freeing up time for workers to focus on creative and strategic work.\\n\\n- **Decision Making**: AI can provide data-driven insights that aid in better decision-making.\\n\\n- **Personalized Learning**: AI can offer personalized training and development opportunities, helping workers upskill and reskill.\\n\\n- **Sources**:\\n  - Harvard Business Review: How AI Can Enhance (Not Replace) Human Decision Making\\n  - Deloitte: The AI Advantage: How to Put the Power of Artificial Intelligence to Work\\n\\n3. **Skills Needed to Work with AI**\\n\\n- **Technical Skills**: Proficiency in programming languages like Python, R, and SQL, as well as knowledge of machine learning algorithms.\\n\\n- **Soft Skills**: Critical thinking, problem-solving, and the ability to work collaboratively with AI tools.\\n\\n- **Adaptability**: The ability to learn and adapt to new technologies and methodologies.\\n\\n- **Sources**:\\n  - World Economic Forum: The Future of Jobs Report 2020\\n  - LinkedIn Learning: The Most In-Demand Hard and Soft Skills of 2022\", 'comment': \"I haven't found information on the specific skills in demand for AI.\"}\n"
     ]
    }
   ],
   "source": [
    "researcher_res = researcher.invoke(input={\"messages\": input})\n",
    "print(researcher_res)"
   ]
  },
  {
   "cell_type": "markdown",
   "id": "d93fc1f3-edcc-4cdb-add8-a4bf1e4a4722",
   "metadata": {},
   "source": [
    "You should get 2-chapter research and a comment. The quality of research may vary. This is 'normal' based on the stochastic nature of LLM outputs.\n",
    "\n",
    "This is fine for now. Later, we will introduce a 'reviewer' agent to ensure the quality of the research content. Also, we will move our scriptwriting workflow to operate chapter per chapter to mitigate this by letting the agent work on a smaller chunk of task.\n",
    "\n",
    "Next, we will see an important practice in agentic agent and will introduce the concept of how an llm agent can 'review' the work of another one."
   ]
  },
  {
   "cell_type": "markdown",
   "id": "2de362d8-217d-43ce-b8f2-c4eeaddf6c30",
   "metadata": {},
   "source": [
    "### Good Practice #1: Agent Evaluation\n",
    "\n",
    "It is essential to have a robust evaluation system in place from the beginning to ensure steady progress while developing your agentic workflow.\n",
    "\n",
    "As llm answer can change we will use llm-as-judge to evaluate our agent answer."
   ]
  },
  {
   "cell_type": "code",
   "execution_count": 8,
   "id": "b2fdb4e0-b744-410c-8c08-3b490d278fe9",
   "metadata": {},
   "outputs": [],
   "source": [
    "research_evaluator_prompt = ChatPromptTemplate.from_template(\"\"\"\n",
    "### **Evaluation Prompt for Research (AI as Judge)**  \n",
    "\n",
    "You are an evaluator assessing the relevance and adequacy of research results based on a defined **story request** \n",
    "and a **suggested agenda**. \n",
    "\n",
    "Your goal is to determine whether the provided research aligns with the requested topic and provides useful, structured, and relevant information.  \n",
    "\n",
    "Here is the evaluation data:\n",
    "[BEGIN DATA]  \n",
    "************  \n",
    "<Request>\n",
    "{input}\n",
    "</Request>\n",
    "************  \n",
    "<Research>\n",
    "{response}\n",
    "</Research>\n",
    "************\n",
    "[END DATA]  \n",
    "\n",
    "#### **Evaluation Process**  \n",
    "1. **Relevance to Request**  \n",
    "   - Does the research directly address the requested chapter and its covered topics?  \n",
    "   - Does it stay within the intended scope without deviating into unrelated areas?  \n",
    "\n",
    "2. **Alignment with Proposed Planning**  \n",
    "   - Does the research sufficiently cover the key points outlined in the planning?  \n",
    "   - Are the topics appropriately developed to provide meaningful insights?  \n",
    "\n",
    "3. **Usefulness & Informational Value**  \n",
    "   - Is the research **clear, structured, and informative**?  \n",
    "   - Does it provide **credible information** (facts, explanations, or sources where applicable)?  \n",
    "   - Can the content be **directly used** for the requested video script without requiring excessive modifications?  \n",
    "\n",
    "#### **Evaluation Criteria (Score 0-10)**  \n",
    "- **8-10**: The research is highly relevant, well-structured, and directly usable for the script.  \n",
    "- **6-8**: Mostly aligned but may lack minor details or refinement.  \n",
    "- **4-6**: Partially aligned, missing key elements or requiring significant rework.  \n",
    "- **2-4**: Misaligned with the request, lacks important aspects, or includes off-topic content.  \n",
    "- **0-2**: Irrelevant or not useful for the intended purpose.  \n",
    "\n",
    "#### **Response Format:**  \n",
    "**Grade:** <ACCEPTABLE or UNACCEPTABLE>  \n",
    "**Score:** <0-10>  \n",
    "**Comment:** <Brief justification for the score, highlighting any gaps or misalignment>  \n",
    "\"\"\")"
   ]
  },
  {
   "cell_type": "markdown",
   "id": "107e3748-e1f6-4543-b987-bcb1486fa727",
   "metadata": {},
   "source": [
    "LLM as judge is very easy to setup with LC."
   ]
  },
  {
   "cell_type": "code",
   "execution_count": 9,
   "id": "dd504f23-c42b-4699-a66c-d3773947baf1",
   "metadata": {},
   "outputs": [],
   "source": [
    "class ScriptEvaluatorFeedback(TypedDict):\n",
    "    Grade: Literal['ACCEPTABLE', 'UNACCEPTABLE']\n",
    "    Score: int\n",
    "    Comment: str\n",
    "\n",
    "research_evaluator = research_evaluator_prompt | llm.with_structured_output(ScriptEvaluatorFeedback)\n",
    "\n",
    "\n",
    "def valid_research(input: str, output: str) -> ScriptEvaluatorFeedback:\n",
    "  \"\"\"Use an LLM to judge if the research is consistent.\"\"\"\n",
    "\n",
    "  res = research_evaluator.invoke(input={\"input\": input, \"response\": output})\n",
    "  return res\n",
    "\n",
    "\n",
    "def test_researcher(agent, input):\n",
    "\n",
    "    output = agent.invoke(input={\"messages\": input})\n",
    "\n",
    "    res = valid_research(input, output)\n",
    "\n",
    "    assert res[\"Grade\"], \"Acceptable\"\n",
    "    return res\n"
   ]
  },
  {
   "cell_type": "markdown",
   "id": "71b3d93a-ebdf-4bbe-b2f9-51e82f2c93e1",
   "metadata": {},
   "source": [
    "I advice you to go further with LangSmith on [LLM as Judge](https://docs.smith.langchain.com/evaluation/how_to_guides/llm_as_judge) with  dataset and evaluator and include it in your test set. "
   ]
  },
  {
   "cell_type": "code",
   "execution_count": 12,
   "id": "35fdc968-481f-4bd4-8674-ed21a45b8c88",
   "metadata": {},
   "outputs": [
    {
     "data": {
      "text/plain": [
       "{'Grade': 'ACCEPTABLE',\n",
       " 'Score': 7,\n",
       " 'Comment': \"The research aligns well with the requested topics and the suggested agenda. It covers the key points outlined for both chapters, including AI's role in the job market, benefits for workers, skills needed, and career opportunities. However, it lacks specific examples and detailed information, which would enhance its usefulness for the script. The structure is clear, but more content development is needed to make it directly usable for the video script without extensive modifications.\"}"
      ]
     },
     "execution_count": 12,
     "metadata": {},
     "output_type": "execute_result"
    }
   ],
   "source": [
    "test_researcher(researcher, input)"
   ]
  },
  {
   "cell_type": "markdown",
   "id": "215c1f3c-fb9d-4a0d-80d5-9fda0748da26",
   "metadata": {},
   "source": [
    "Result will be probably evaluated as 'UNACCEPTABLE'.  \n",
    "\n",
    "There are several strategies to improve that, like performing external search as stated before or operate chapter per chapter. \n",
    "We will cover the 2nd stategy later.\n",
    "\n",
    "Again this is not very important at this stage, we want to keep research agent simple.\n",
    "\n",
    "For our demo purpose, **Mistral Small 3** has sufficient 'world knowledge' to produce **good enough** research. "
   ]
  },
  {
   "cell_type": "markdown",
   "id": "9e004233-850e-42de-857e-ad616b6400c7",
   "metadata": {},
   "source": [
    "### Good Practice #2: Prompt-Oriented Architecture\n",
    "\n",
    "In GenAI app development, it's a best practice to decouple business logic from prompt engineering since prompts and system instructions follow a distinct lifecycle from the application's core logic. \n",
    "\n",
    "By treating prompts as modular and reusable assets, developers can iterate independently, conduct A/B testing, and integrate seamlessly with LLM orchestration frameworks like LangChain or LlamaIndex.\n",
    "\n",
    "Tools such as [LangSmith](https://smith.langchain.com/) Prompt Hub enable prompt versioning and evaluation, ensuring optimal performance without entangling prompt design with backend workflows."
   ]
  },
  {
   "cell_type": "markdown",
   "id": "5d62f093-2cf4-447e-bdb8-3aa7f927299d",
   "metadata": {},
   "source": [
    "So next, we'll declare the 'scriptwriter' prompt directly in prompt hub."
   ]
  },
  {
   "cell_type": "code",
   "execution_count": 13,
   "id": "19531620-0c45-42c4-8538-4fcb99e36d41",
   "metadata": {},
   "outputs": [
    {
     "name": "stdout",
     "output_type": "stream",
     "text": [
      "Prompt has not changed.'Conflict for /commits/-/tuto-video-script-writer-prompt. HTTPError('409 Client Error: Conflict for url: https://api.smith.langchain.com/commits/-/tuto-video-script-writer-prompt', '{\"detail\":\"Nothing to commit: prompt has not changed since latest commit\"}')'\n"
     ]
    }
   ],
   "source": [
    "from langchain import hub\n",
    "from langsmith.utils import LangSmithConflictError\n",
    "\n",
    "writer_prompt = ChatPromptTemplate.from_messages(\n",
    "    [\n",
    "        (\n",
    "            \"system\",\n",
    "            \"\"\"You are the **Scriptwriter** in a team responsible for scriptwriting YouTube videos.\n",
    "\n",
    "            Your job is to:\n",
    "            - Write or improve a video script based on the agenda and information given.\n",
    "            - Make changes based on feedback to improve your script.\n",
    "            - Only use the information provided; do not do additional research.\n",
    "            \n",
    "            ### How to Format Your Output\n",
    "            1. Put the **full script** in the `chapter` section. Write it as plain text without any formatting.\n",
    "            2. Put any notes, responses to feedback, or extra suggestions in the `comment` section. Write these as plain text, like a conversation.\n",
    "            \n",
    "            ### Important Points\n",
    "            - Do not use structured formatting (like JSON or XML) in the `comment` section.\n",
    "            - If you need more information, say so in the `comment` section.\n",
    "            - Make sure the `chapter` text is clear and complete without relying on formatting.\n",
    "            \"\"\"\n",
    "        ),\n",
    "        MessagesPlaceholder(variable_name=\"messages\"),\n",
    "    ]\n",
    ")\n",
    "# langsmith create an error if prompt's content does not change. So we catch the error. \n",
    "try:\n",
    "    hub.push(repo_full_name=\"tuto-video-script-writer-prompt\", object=writer_prompt, new_repo_is_public=False)\n",
    "except LangSmithConflictError as e:\n",
    "    print(f\"Prompt has not changed.'{e}'\")"
   ]
  },
  {
   "cell_type": "markdown",
   "id": "1dca5664-585a-4c7c-8cf3-09e083cb64c1",
   "metadata": {},
   "source": [
    "Then, we will use the writer prompt to create the writer agent"
   ]
  },
  {
   "cell_type": "code",
   "execution_count": 14,
   "id": "4591e658-8f9f-442e-b523-888c81131a5a",
   "metadata": {},
   "outputs": [],
   "source": [
    "##############\n",
    "# WRITER     #\n",
    "##############\n",
    "\n",
    "class Draft(TypedDict):\n",
    "    script: str\n",
    "    comment: str"
   ]
  },
  {
   "cell_type": "code",
   "execution_count": 15,
   "id": "cee0ea5d-1400-4ac5-99ef-2349ca421368",
   "metadata": {},
   "outputs": [],
   "source": [
    "writer_prompt = hub.pull(\"tuto-video-script-writer-prompt\")\n",
    "writer = writer_prompt | llm.with_structured_output(Draft)"
   ]
  },
  {
   "cell_type": "markdown",
   "id": "a47c96f1-996b-47a2-b01b-fa538014c785",
   "metadata": {},
   "source": [
    "We can do the same with the previously declared researcher prompt.\n",
    "\n",
    "```python\n",
    "try:\n",
    "    hub.push(repo_full_name=\"tuto-video-script-researcher-prompt\", object=researcher_prompt, new_repo_is_public=False)\n",
    "except LangSmithConflictError as e:\n",
    "    print(f\"Prompt has not changed.'{e}'\")\n",
    "\n",
    "\n",
    "researcher_prompt = hub.pull(\"tuto-video-script-researcher-prompt\")\n",
    "researcher = researcher_prompt | llm.with_structured_output(Research)\n",
    "```"
   ]
  },
  {
   "cell_type": "markdown",
   "id": "5309673b-527f-4306-a861-515876a154f9",
   "metadata": {},
   "source": [
    "If you don't want to use Prompt hub yet, use this script to declare writer agent\n",
    "\n",
    "```python\n",
    "writer = writer_prompt | llm.with_structured_output(Draft)\n",
    "```"
   ]
  },
  {
   "cell_type": "markdown",
   "id": "4afad01d-113d-47cb-95c2-2e054a917f76",
   "metadata": {},
   "source": [
    "Let's test the 'writer agent'.\n",
    "\n",
    "First, we will format a message for the writer based on the result of research."
   ]
  },
  {
   "cell_type": "code",
   "execution_count": 16,
   "id": "d25d895f-c483-40af-b3e9-d2552b33db55",
   "metadata": {},
   "outputs": [],
   "source": [
    "researcher_res_comment = researcher_res.get('comment', 'No comment provided.')\n",
    "researcher_res_content = researcher_res['research']\n",
    "research_message_content = (f\"# Research \"\n",
    "                            f\"\\n\\n{researcher_res_content}\"\n",
    "                            f\"\\n\\n-----\\n\\n# Researcher Comment\"\n",
    "                            f\"\\n\\n{researcher_res_comment}\")"
   ]
  },
  {
   "cell_type": "code",
   "execution_count": 17,
   "id": "cf06fce4-cacf-42ee-b536-54745c5c1a5a",
   "metadata": {},
   "outputs": [
    {
     "data": {
      "text/plain": [
       "\"# Research \\n\\nChapter 1\\n\\n1. **Introduction to AI's Role in the Job Market**\\n\\n- **Definition of AI**: Artificial Intelligence (AI) refers to the simulation of human intelligence in machines that are programmed to think and learn like humans.\\n\\n- **Impact on the Workforce**: AI is changing the job market by automating repetitive tasks, increasing efficiency, and creating new roles.\\n\\n- **Stats and Facts**:\\n  - According to a World Economic Forum report, while AI may displace 85 million jobs by 2025, it could also create 97 million new jobs.\\n  - A McKinsey report suggests that as much as 30% of the tasks in around 60% of occupations could be automated with today's technology.\\n\\n- **Sources**:\\n  - World Economic Forum: The Future of Jobs Report 2020\\n  - McKinsey & Company: Jobs lost, jobs gained: What the future of work will mean for jobs, skills, and wages\\n\\n2. **Benefits of AI for Workers**\\n\\n- **Efficiency and Productivity**: AI tools can handle routine tasks, freeing up time for workers to focus on creative and strategic work.\\n\\n- **Decision Making**: AI can provide data-driven insights that aid in better decision-making.\\n\\n- **Personalized Learning**: AI can offer personalized training and development opportunities, helping workers upskill and reskill.\\n\\n- **Sources**:\\n  - Harvard Business Review: How AI Can Enhance (Not Replace) Human Decision Making\\n  - Deloitte: The AI Advantage: How to Put the Power of Artificial Intelligence to Work\\n\\n3. **Skills Needed to Work with AI**\\n\\n- **Technical Skills**: Proficiency in programming languages like Python, R, and SQL, as well as knowledge of machine learning algorithms.\\n\\n- **Soft Skills**: Critical thinking, problem-solving, and the ability to work collaboratively with AI tools.\\n\\n- **Adaptability**: The ability to learn and adapt to new technologies and methodologies.\\n\\n- **Sources**:\\n  - World Economic Forum: The Future of Jobs Report 2020\\n  - LinkedIn Learning: The Most In-Demand Hard and Soft Skills of 2022\\n\\n-----\\n\\n# Researcher Comment\\n\\nI haven't found information on the specific skills in demand for AI.\""
      ]
     },
     "execution_count": 17,
     "metadata": {},
     "output_type": "execute_result"
    }
   ],
   "source": [
    "research_message_content"
   ]
  },
  {
   "cell_type": "markdown",
   "id": "f567b85b-1993-4d37-8400-1c16f01a80d0",
   "metadata": {},
   "source": [
    "Next, we prepare messages input for the writer. We take previous conversation on which we append research result and writer instructions."
   ]
  },
  {
   "cell_type": "code",
   "execution_count": 18,
   "id": "f1352437-3088-42ad-be4d-7393e24da8ac",
   "metadata": {},
   "outputs": [],
   "source": [
    "writer_input = input + [(\"assistant\", research_message_content), \n",
    "          (\"human\", \"Write the script for the video using agenda and research.\") ]"
   ]
  },
  {
   "cell_type": "code",
   "execution_count": 19,
   "id": "7c71aff4-47b2-4393-b261-6871957eb6bf",
   "metadata": {},
   "outputs": [],
   "source": [
    "writer_res = writer.invoke(input={\"messages\": writer_input})"
   ]
  },
  {
   "cell_type": "code",
   "execution_count": 20,
   "id": "06cdd666-db1a-42c6-9342-cc459b6d1375",
   "metadata": {},
   "outputs": [
    {
     "data": {
      "text/plain": [
       "{'script': \"Chapter 1: AI will not take your job. Those who use AI will! \\n\\nArtificial Intelligence, or AI, is transforming the job market. It's important to understand that AI isn't here to replace humans but to augment our capabilities. AI excels at automating repetitive tasks, increasing efficiency, and providing data-driven insights. \\n\\nAccording to a World Economic Forum report, while AI may displace 85 million jobs by 2025, it could also create 97 million new jobs. A McKinsey report suggests that as much as 30% of the tasks in around 60% of occupations could be automated with today's technology. \\n\\nSo, how can workers benefit from AI? Firstly, AI tools can handle routine tasks, freeing up time for creative and strategic work. This means workers can focus on what they do best—innovating and problem-solving. \\n\\nSecondly, AI can aid in decision-making by providing data-driven insights. This helps workers make more informed decisions, leading to better outcomes. For instance, AI can analyze vast amounts of data to predict trends, identify patterns, and provide actionable insights. \\n\\nLastly, AI offers personalized learning and development opportunities. AI can help workers upskill and reskill, ensuring they stay relevant in a rapidly changing job market. \\n\\nTo work effectively with AI, certain skills are crucial. These include technical skills like proficiency in programming languages and knowledge of machine learning algorithms. But soft skills are equally important—critical thinking, problem-solving, and the ability to work collaboratively with AI tools. \\n\\nAdaptability is also key. The ability to learn and adapt to new technologies and methodologies will be invaluable as AI continues to evolve. \\n\\nIn summary, AI is not a threat to jobs but an opportunity for those who are willing to embrace it. Those who use AI will not only survive but thrive in the job market of the future. \\n\\n\\nChapter 2: AI and Career Opportunities \\n\\nAI is already transforming industries and creating new career opportunities. Let's look at some companies that have succeeded with AI and the skills they're looking for. \\n\\nNetflix, for instance, uses AI to personalize content recommendations for its users. This not only enhances user experience but also drives customer retention. Companies like Google and Amazon use AI for everything from search algorithms to predictive analytics. \\n\\nSo, what skills are in demand? Employers are looking for professionals who can bridge the gap between technology and business. This includes roles like AI specialists, data scientists, and machine learning engineers. \\n\\nBut it's not just about technical skills. Employers also value soft skills like communication, teamwork, and leadership. \\n\\nIn conclusion, AI is opening up a world of opportunities for those who are ready to seize them. By embracing AI and acquiring the right skills, workers can position themselves for success in the future job market.\",\n",
       " 'comment': \"I haven't found information on the specific skills in demand for AI. I wrote the script mentioning the skills in general.\"}"
      ]
     },
     "execution_count": 20,
     "metadata": {},
     "output_type": "execute_result"
    }
   ],
   "source": [
    "writer_res"
   ]
  },
  {
   "cell_type": "markdown",
   "id": "94187925-80d3-4c11-90fd-fb5607e3eca9",
   "metadata": {},
   "source": [
    "# Chapter 3: Creating a Minimal Skeleton of our Agentic Workflow (Planner + Researcher +Writer)\n",
    "\n",
    "Defining an Initial Graph\n",
    "\n",
    "To start, we create a simple workflow with two agents:\n",
    "\n",
    "1. **Planner**: Determines the script structure (agenda, key topic, brief).\n",
    "2. **Researcher**: Generates research based on the agenda.\n",
    "3. **Writer**: Generates the script based on the agenda + research.\n",
    "\n",
    "In LangGraph, an agentic workflow is described using a graph representation. So will have to define a [Graph](https://langchain-ai.github.io/langgraph/concepts/low_level/#graphs), [Node](https://langchain-ai.github.io/langgraph/concepts/low_level/#nodes) and [Edges](https://langchain-ai.github.io/langgraph/concepts/low_level/#edges)."
   ]
  },
  {
   "cell_type": "markdown",
   "id": "1df09456-d2ba-4f94-b464-62ef3dd7d765",
   "metadata": {},
   "source": [
    "Let's now create the planning step. This will be used by the team to guide during their script writing  process."
   ]
  },
  {
   "cell_type": "code",
   "execution_count": 21,
   "id": "8cfe115b-d298-45bf-b631-2b4707d8448d",
   "metadata": {},
   "outputs": [],
   "source": [
    "class Chapter(TypedDict):\n",
    "    title: str\n",
    "    covered_topics: List[str]\n",
    "\n",
    "\n",
    "class Planning(TypedDict):\n",
    "    topic: str\n",
    "    plan: List[Chapter]"
   ]
  },
  {
   "cell_type": "code",
   "execution_count": 22,
   "id": "4b82196e-945f-4ffb-b6da-f148f63a8072",
   "metadata": {},
   "outputs": [],
   "source": [
    "producer_prompt = ChatPromptTemplate.from_messages(\n",
    "    [\n",
    "        (\n",
    "            \"system\",\n",
    "            \"You are the 'producer' in a team responsible for scriptwriting YouTube videos.\\n\\n\"\n",
    "            \"Your responsibilities:\\n\"\n",
    "            \"- Plan the video agenda: \\n\"\n",
    "            \"Define for each section:\"\n",
    "            \" - Title [words count]\\n\"\n",
    "            \" - covered topics (max 3)\\n\"\n",
    "            \"- Decide which team members should act 'next' or provide 'approval' for the script revision to move forward.\\n\"\n",
    "            \"You ensure that the process is efficient by limiting iteration or superfluous revision.\\n\"\n",
    "            \"The video must follow this template :\\n\"\n",
    "            \"- Section 1: Video hook and intro\\n\"\n",
    "            \"- Section 2: Body, main content \\n\"\n",
    "            \"- Section 3: CTA (call to action) and Conclusion\\n\"\n",
    "            \"\\n\\n\"\n",
    "            \"You DO NOT write script.\\n\"\n",
    "            \"You DO NOT make research.\"\n",
    "            \"You DO NOT review.\\n\"\n",
    "        ),\n",
    "        MessagesPlaceholder(variable_name=\"messages\"),\n",
    "    ]\n",
    ")\n",
    "\n",
    "planner = producer_prompt | llm.with_structured_output(Planning)"
   ]
  },
  {
   "cell_type": "code",
   "execution_count": 23,
   "id": "9eaf2245-97ed-46ae-aee6-2a049a747d1d",
   "metadata": {},
   "outputs": [
    {
     "name": "stdout",
     "output_type": "stream",
     "text": [
      "Prompt has not changed.'Conflict for /commits/-/tuto-video-script-planner-prompt. HTTPError('409 Client Error: Conflict for url: https://api.smith.langchain.com/commits/-/tuto-video-script-planner-prompt', '{\"detail\":\"Nothing to commit: prompt has not changed since latest commit\"}')'\n"
     ]
    }
   ],
   "source": [
    "planner_prompt = PromptTemplate.from_template(\n",
    "    \"Elaborate the plan of the video script. \\n\"\n",
    "    \"Define for each chapter:\\n\"\n",
    "    \" - Chapter 'Title' (including words count directive for the chapter in format '[X words]')\\n\"\n",
    "    \" - Covered topics (max 3 per chapter) with specific and actionable direction.\\n\"\n",
    "    \" - Brief for the chapter explaining where you want to go.\\n\"\n",
    "    \"You provide information that guide your team to deliver the story you envision.\\n\"\n",
    "    \"\\n\\n\"\n",
    "    \"The video plan must follow this structure :\\n\"\n",
    "    \"- 'Opening Section': contains video hook and introduction.\\n\"\n",
    "    \"- 'Main Section': 'Body' of the script where you develop the X chapters.\\n\"\n",
    "    \"- 'Closing Section': contains the CTA (call to action) and a brief conclusion.\\n\"\n",
    "    \"\\n\\n\"\n",
    "    \"Opening and Closing section does not count as 'user chapters'. \"\n",
    "    \"If user ask for 3 chapters, you must plan for 5 (1: Hook+Introduction, 2,3,4: user chapters, 5: CTA+Conclusion)\"\n",
    ")\n",
    "try:\n",
    "    hub.push(repo_full_name=\"tuto-video-script-planner-prompt\", object=planner_prompt, new_repo_is_public=False)\n",
    "except LangSmithConflictError as e:\n",
    "    print(f\"Prompt has not changed.'{e}'\")"
   ]
  },
  {
   "cell_type": "code",
   "execution_count": 24,
   "id": "82f1bea1-3648-4f58-99c0-493995c681de",
   "metadata": {},
   "outputs": [],
   "source": [
    "from langgraph.graph.message import add_messages\n",
    "from langchain_core.messages import  BaseMessage\n",
    "\n",
    "class VideoScriptState(TypedDict):\n",
    "    messages: Annotated[List[BaseMessage], add_messages]\n",
    "    chapters: List[Chapter]"
   ]
  },
  {
   "cell_type": "markdown",
   "id": "758a983b-a164-4e3c-b0e5-57b9643c69b6",
   "metadata": {},
   "source": [
    "In LangGraph, the Graph's *'State'* is a **shared data structure** that represents the current snapshot of your application. It can be any Python type, but is typically a TypedDict or Pydantic BaseModel.\n",
    "\n",
    "It is what will collect the messages produced by each agent within the workflow. But you can use it to share any information each component in your graph need to collaborate.\n",
    "\n",
    "To simplify our like, LangGraph provide reducer to automatically merge output of node. There is one specific for handling [message state](https://langchain-ai.github.io/langgraph/how-tos/state-reducers/#messagesstate).\n",
    "\n",
    "In the snippet above: ```from langgraph.graph.message import add_messages```and ```messages: Annotated[List[BaseMessage], add_messages]```\n",
    "\n",
    "Here, we will add the chapter generated by the 'planner_node' that will be used by 'researcher' and 'writer'.\n",
    "\n",
    "Why that? We want to handle at a granular level what each node works on. We cannot only rely on the conversation as it may become very long and agent could start to be confused. "
   ]
  },
  {
   "cell_type": "markdown",
   "id": "dd2614b5-e648-450a-8ae8-6b8f6f52e712",
   "metadata": {},
   "source": [
    "Let's define a node for Planner, researcher and writer. The planner node is the 'host/producer' agent with a specific prompt to create the agenda.\n",
    "\n",
    "We parse the output of **'planner'** agent to add its content directly in the **'VideoStateGraph'** in **'chapter'** field.."
   ]
  },
  {
   "cell_type": "code",
   "execution_count": 25,
   "id": "9edb90f6-4057-479d-890f-e26e8e370612",
   "metadata": {},
   "outputs": [],
   "source": [
    "#####################\n",
    "# TOOLING\n",
    "#####################\n",
    "\n",
    "def _format_chapters(chapters):\n",
    "    formatted_chapters = \"\"\n",
    "    for chapter in chapters:\n",
    "        formatted_chapters += f\"{chapter['title']}:\\n\"\n",
    "        if 'chapter_brief' in chapter:\n",
    "            formatted_chapters += f\"  - Brief: {chapter['chapter_brief']}\\n\"\n",
    "        formatted_chapters += \"  - Covered Topics:\\n\"\n",
    "        for topic in chapter['covered_topics']:\n",
    "            formatted_chapters += f\"    - {topic}\\n\"\n",
    "        formatted_chapters += \"\\n\"\n",
    "    return formatted_chapters"
   ]
  },
  {
   "cell_type": "code",
   "execution_count": 26,
   "id": "98ec29b5-3bfb-4e40-bc4b-090b2c0dba18",
   "metadata": {},
   "outputs": [],
   "source": [
    "def planner_node(state: VideoScriptState) -> VideoScriptState:\n",
    "    \"\"\"\n",
    "    The Host/Producer sets the plan (how many chapters, the overall direction).\n",
    "    In a real scenario, you'd call host_producer_prompt with the user request to produce an agenda.\n",
    "    We'll simulate it here.\n",
    "    \"\"\"\n",
    "    # If not already done, let's define chapters in the conversation or from user input\n",
    "    # Example simulation: The user wants a 3-chapter video, so we store that:\n",
    "    if not state.get(\"chapters\"):\n",
    "\n",
    "        planner_prompt = hub.pull(\"tuto-video-script-planner-prompt\")\n",
    "        message_content = planner_prompt.format()\n",
    "        messages = state[\"messages\"] + [HumanMessage(content=message_content, name=\"user\")]\n",
    "        res = planner.invoke(input={\"messages\": messages})\n",
    "        chapters = res['plan']\n",
    "        state[\"chapters\"] = chapters\n",
    "        formatted_chapters = _format_chapters(chapters)\n",
    "        producer_message = (f\"Here's a suggested agenda for your video.\"\n",
    "                            f\"\\n\\n{formatted_chapters}\")\n",
    "        host_message = AIMessage(content=producer_message, name=\"host-producer\")\n",
    "        state[\"messages\"].append(host_message)\n",
    "    return state"
   ]
  },
  {
   "cell_type": "markdown",
   "id": "3e7a52ca-0cbc-4f68-a26a-51e2cdd5f9f7",
   "metadata": {},
   "source": [
    "### Command: A new tool for building multi-agent architectures in LangGraph"
   ]
  },
  {
   "cell_type": "markdown",
   "id": "bf6e3244-9c71-499f-9973-6d182247045b",
   "metadata": {},
   "source": [
    "For the next nodes, we will use a new addition to LangGraph arsenal : [*'Command'*](https://langchain-ai.github.io/langgraph/how-tos/command/)"
   ]
  },
  {
   "cell_type": "code",
   "execution_count": 27,
   "id": "53710d95-0f21-4cb7-84ec-95c25622c5bc",
   "metadata": {},
   "outputs": [],
   "source": [
    "from langgraph.types import Command"
   ]
  },
  {
   "cell_type": "code",
   "execution_count": 28,
   "id": "3335e7d9-c94f-41a3-b6c7-1ec11a77096f",
   "metadata": {},
   "outputs": [],
   "source": [
    "def researcher_node(state: VideoScriptState) -> Command[Literal[\"writer\"]]:\n",
    "    \"\"\"\n",
    "    The Researcher provides factual data/ideas for the current chapter.\n",
    "    For demonstration, we just append a dummy 'AIMessage' with bullet points.\n",
    "    \"\"\"\n",
    "    chapters = state[\"chapters\"]\n",
    "    message_content = f\"Provide research for the video covering the key topics of agenda.\"\n",
    "    human_message = HumanMessage(content=message_content, name=\"user\")\n",
    "    messages = state[\"messages\"] + [human_message]\n",
    "\n",
    "    res = researcher.invoke(input={\"messages\": messages})\n",
    "\n",
    "    research_response_comment = res.get('comment', 'No comment provided.')\n",
    "    research_chapter_content = res['research']\n",
    "    research_message_content = (f\"# Research\"\n",
    "                                f\"\\n\\n{research_chapter_content}\"\n",
    "                                f\"\\n\\n-----\\n\\n#Comment\"\n",
    "                                f\"\\n\\n{research_response_comment}\")\n",
    "\n",
    "    return Command(\n",
    "        update={\n",
    "            \"messages\": [AIMessage(content=research_message_content, name=\"researcher\")],\n",
    "        },\n",
    "        goto=\"writer\",\n",
    "    )"
   ]
  },
  {
   "cell_type": "code",
   "execution_count": 29,
   "id": "006bf4ac-949b-4681-849b-001b795f5fdd",
   "metadata": {},
   "outputs": [],
   "source": [
    "def writer_node(state: VideoScriptState) -> Command[Literal[\"__end__\"]]:\n",
    "    \"\"\"\n",
    "    The Writer composes or updates the script for the current chapter using the research input.\n",
    "    \"\"\"\n",
    "    chapters = state[\"chapters\"]\n",
    "    message_content = f\"Write the script using agenda and research.\"\n",
    "    human_message = HumanMessage(content=message_content, name=\"user\")\n",
    "    messages = state[\"messages\"] + [human_message]\n",
    "\n",
    "    res = writer.invoke(input={\"messages\": messages})\n",
    "\n",
    "    # Check if 'comment' is in the response\n",
    "    writer_script_content = res['script']\n",
    "    writer_response_comment = res.get('comment', 'No comment provided.')\n",
    "\n",
    "    writer_message_content = (f\"# Script\"\n",
    "                              f\"\\n\\n{writer_script_content}\\n\\n-----\"\n",
    "                              f\"\\n\\n# Writer Comment\"\n",
    "                              f\"\\n\\n{writer_response_comment}\")\n",
    "\n",
    "    return Command(\n",
    "        update={\n",
    "            \"messages\": [AIMessage(content=writer_message_content, name=\"writer\")],\n",
    "        },\n",
    "        goto=\"__end__\",\n",
    "    )"
   ]
  },
  {
   "cell_type": "code",
   "execution_count": 30,
   "id": "73d8a04e-0e13-46d4-b2c7-1dfb3b4459f9",
   "metadata": {},
   "outputs": [
    {
     "data": {
      "text/plain": [
       "<langgraph.graph.state.StateGraph at 0x1066f6bd0>"
      ]
     },
     "execution_count": 30,
     "metadata": {},
     "output_type": "execute_result"
    }
   ],
   "source": [
    "from langgraph.graph import StateGraph, START, END\n",
    "\n",
    "workflow = StateGraph(VideoScriptState)\n",
    "workflow.add_node(\"planning\", planner_node)\n",
    "workflow.add_node(\"researcher\", researcher_node)\n",
    "workflow.add_node(\"writer\", writer_node)\n",
    "workflow.add_edge(START, \"planning\")\n",
    "workflow.add_edge(\"planning\", \"researcher\")"
   ]
  },
  {
   "cell_type": "markdown",
   "id": "2ee04b80-a75d-46c8-87c3-4ad7ffa6e059",
   "metadata": {},
   "source": [
    "Of course, LangGraph need to store the state of the graph somewhere. It use Memory for that. For real use case,\n",
    "you must use persistant memory but for this demo we will use MemorySaver."
   ]
  },
  {
   "cell_type": "code",
   "execution_count": 31,
   "id": "ab1bab5d-0c78-4c7b-9b4b-00059971f976",
   "metadata": {},
   "outputs": [],
   "source": [
    "from langgraph.checkpoint.memory import MemorySaver\n",
    "\n",
    "memory = MemorySaver()"
   ]
  },
  {
   "cell_type": "markdown",
   "id": "6742e456-35ed-41aa-8d78-5ccbc3b9baf6",
   "metadata": {},
   "source": [
    "And at the end, we compile the Graph. LangGraph will check its consistency so you can have error."
   ]
  },
  {
   "cell_type": "code",
   "execution_count": 32,
   "id": "ead86184-e6fb-4540-bf13-fbccdebe008f",
   "metadata": {},
   "outputs": [],
   "source": [
    "video_script_app = workflow.compile(checkpointer=memory)"
   ]
  },
  {
   "cell_type": "markdown",
   "id": "fc0b74f0-20df-4221-b280-fc88121fa1e7",
   "metadata": {},
   "source": [
    "We will exlain the 2 approaches here:\n",
    "\n",
    "- **'planning_node'** function return an updated *'StateGraph'* and the *'edge'* between **'planning_node'** and **'writer_node'** is declare at graph level with *'add_edge'* method.\n",
    "- **'researcher_node'** and **'writer_node'** use *'Command'* and its attribute *'goto'* to create the *'edge'* between them. It is also in the signature of the function (return). Command is an important addition to LangGraph to allow dynamic workflow. Change on *'StateGraph'* is transfer via the *'update*' parameter. This allow *handoff* between agents in the graph.\n",
    "\n",
    "If you prefer the first method, you can use 'add_conditional_edge' method of stategraph for decision making. Take care, you cannot combined both approach (ie. a node that return a Command and a conditional_edge on the graph).\n",
    "\n",
    "Let's see what our graph looks like.\n"
   ]
  },
  {
   "cell_type": "code",
   "execution_count": 33,
   "id": "3fdf8d21-2d16-48b6-bd73-b8d29f970be1",
   "metadata": {},
   "outputs": [
    {
     "data": {
      "image/png": "[encoded data removed]",
      "text/plain": [
       "<IPython.core.display.Image object>"
      ]
     },
     "metadata": {},
     "output_type": "display_data"
    }
   ],
   "source": [
    "from IPython.display import Image, display\n",
    "\n",
    "try:\n",
    "    display(Image(video_script_app.get_graph().draw_mermaid_png()))\n",
    "except Exception:\n",
    "    # This requires some extra dependencies and is optional\n",
    "    pass"
   ]
  },
  {
   "cell_type": "markdown",
   "id": "afa1df65-27c9-4458-b8a7-aaa187a38526",
   "metadata": {},
   "source": [
    "We have a linear process '__start__' --> 'planning' --> 'researcher' --> 'writer' --> '__end__' which starts to look like something we could do in real-life. You see that the edges are not the same (continuous versus dotted line) showing the two approach.\n",
    "\n",
    "So we are not in an agentic workflow yet as each next step is known in advance and no agent decide what to do next (decision making / reasonning). But we have already moved away from the *'llm-chain'* paradigm. "
   ]
  },
  {
   "cell_type": "markdown",
   "id": "46f802bb-9c44-4753-88d6-439d550fb613",
   "metadata": {},
   "source": [
    "Let's run the graph now."
   ]
  },
  {
   "cell_type": "code",
   "execution_count": 34,
   "id": "524b2c33-d7d4-44d0-822e-4cd9799dd5a3",
   "metadata": {},
   "outputs": [
    {
     "name": "stdout",
     "output_type": "stream",
     "text": [
      "Directive: 'I'd like a 2-chapter video of 2 minutes of 450 words on 'AI Won't Take Your Jobs. Those Who Use AI Will!''\n",
      "Result: '================================== Ai Message ==================================\n",
      "Name: writer\n",
      "\n",
      "# Script\n",
      "\n",
      "Opening Section: AI Revolution  We are living in the midst of an AI revolution.   AI, or Artificial Intelligence, refers to the simulation of human intelligence processes by machines, especially computer systems. These processes include learning, reasoning, and self-correction. The concept of AI has been around since the 1950s, but recent advancements in machine learning, natural language processing, and big data have accelerated its development and integration into various industries. Today, AI powers virtual assistants like Siri and Alexa, complex decision-making systems in finance and healthcare, and much more.  But here's the thing: AI won't take your jobs. Those who use AI will!  This phrase highlights a crucial shift in how we think about AI in the workplace. Instead of fearing automation, we should embrace augmentation—the use of AI to enhance human capabilities. Automation replaces human jobs, but augmentation makes workers more productive and valuable.  The future of work will require new skills. Those who can leverage AI tools will be in high demand, while those who cannot may struggle to keep up. The World Economic Forum predicts that while AI may displace 85 million jobs by 2025, it could also create 97 million new jobs. The key is to focus on reskilling and upskilling the workforce to adapt to these changes.  The Role of AI in the Modern Workplace  AI is transforming the workplace by automating routine tasks, providing data-driven insights, and enabling new business models. Companies that embrace AI are more likely to innovate, grow, and stay competitive.  Preparing for the AI-Driven Future  To thrive in an AI-driven future, individuals and organizations must focus on continuous learning, adaptability, and innovation. This includes investing in education, training, and infrastructure that support AI adoption.  Ethical Considerations  As AI becomes more integrated into society, ethical considerations such as privacy, bias, and accountability will become increasingly important. Ensuring that AI is developed and used responsibly will be crucial for building trust and maximizing its benefits.\n",
      "\n",
      "-----\n",
      "\n",
      "# Writer Comment\n",
      "\n",
      "I've written a script based on the provided agenda and research. The script is divided into three chapters, each addressing a key aspect of the AI revolution and its impact on the workforce. The first chapter introduces the concept of AI and its current state, while the second chapter delves into the impact of AI on jobs and the skills required for the future. The third chapter discusses the role of AI in the modern workplace, the need for continuous learning and adaptability, and the ethical considerations surrounding AI. The script is designed to be engaging and informative, with a clear narrative flow. If you have any feedback or suggestions, please let me know!'\n"
     ]
    }
   ],
   "source": [
    "prompt = (\"I'd like a 2-chapter video of 2 minutes of 450 words on 'AI Won't Take Your Jobs. Those Who Use AI Will!'\")\n",
    "\n",
    "config = {\"configurable\": {\"thread_id\": \"1\"}}\n",
    "\n",
    "example_input = {\n",
    "    \"messages\": [(\"human\", prompt)],\n",
    "}\n",
    "\n",
    "# Collect all steps from the astream generator\n",
    "steps = [step for step in video_script_app.stream(example_input, config=config, stream_mode=\"values\")]\n",
    "\n",
    "# Access the last step\n",
    "last_step = steps[-1]\n",
    "\n",
    "print(f\"Directive: '{prompt}'\")\n",
    "\n",
    "# Print the last message of the last step\n",
    "last_message = last_step[\"messages\"][-1]\n",
    "\n",
    "output = last_message.pretty_repr()\n",
    "print(f\"Result: '{output}'\")\n"
   ]
  },
  {
   "cell_type": "markdown",
   "id": "dc6be045-21dd-4fa0-b6dd-0ebb038d07a8",
   "metadata": {},
   "source": [
    "What's important here is ```config = {\"configurable\": {\"thread_id\": \"1\"}}```\n",
    "\n",
    "You have to define a **'thread_id'** for each user. This is mandatory because StateGraph is statefull. You remember the 'MemorySaver' we have added when we compile the graph. So you have to identify the user uniquely.\n",
    "\n",
    "LangChain use **'session_id'** to handle conversation history per user. So you'll have to initialize both value if you are using advanced chain like *'RunnableWithMessageHistory'*. \n",
    "\n",
    "So if you are already using LC, take care: LC and LG does not use the same *keyword* for memory management.\n",
    "\n",
    "In this notebook, we can simply use 1 as value but for real application you will probably have a code like:\n",
    "\n",
    "```python\n",
    "import uuid\n",
    "\n",
    "thread_id = config.configurable.get(\"thread_id\") if config and hasattr(config, 'configurable') else str(uuid.uuid4())\n",
    "```\n",
    "\n",
    "uuid helps to generate unique id."
   ]
  },
  {
   "cell_type": "markdown",
   "id": "239587af-1836-4814-94b4-dee4be5a0612",
   "metadata": {},
   "source": [
    "2nd interesting things is that langgraph work per step (and handle everything smoothly for you). It will orchestrate the call between all agent. We won't go into the detail of what is going while langgraph is executing the process. Here, we just retrieve the last step and display the last message.\n",
    "\n",
    "StateGraph is also a runnable (like LangChain chain) so you have all the nice feature with async calling, streaming, batching etc. You also have access granularly to all events during execution to display progress to user."
   ]
  },
  {
   "cell_type": "markdown",
   "id": "ed4d7bb3-e187-4cd4-b841-d0fdec99ab76",
   "metadata": {},
   "source": [
    "## Chapter 4: Agentic Evaluation and Simulation\n",
    "\n",
    "Like agent, you have to test you agentic worklow. \n",
    "\n",
    "Here we will use the same strategy has research but for final script. For conversational agent, you will use a [Simulator agent](https://langchain-ai.github.io/langgraph/tutorials/chatbot-simulation-evaluation/agent-simulation-evaluation/) that will *'simulate'* a human interaction with AI Assistant. Here, we have a fully automatized process, we'll just evaluate the final results. \n",
    "\n",
    "I recommend to set up more advanced evaluation. LangSmith is very convenient for that. They have a good documentation for [graph evaluation](https://docs.smith.langchain.com/evaluation/how_to_guides/langgraph) covering other approaches like evaluating intermediate steps or running and evaluating individual nodes)."
   ]
  },
  {
   "cell_type": "code",
   "execution_count": 35,
   "id": "fc4d5d9f-1c71-4f37-b187-88831e1bfb65",
   "metadata": {},
   "outputs": [],
   "source": [
    "script_evaluator_prompt = ChatPromptTemplate.from_template(\"\"\"\n",
    "You are evaluating a submitted script based on the given request. \n",
    "\n",
    "Here is the evaluation data:\n",
    "[BEGIN DATA]  \n",
    "************  \n",
    "<Request>\n",
    "{input}\n",
    "</Request>\n",
    "************  \n",
    "<SubmittedScript>\n",
    "{response}\n",
    "</SubmittedScript>\n",
    "************\n",
    "[END DATA]  \n",
    "\n",
    "Compare the submitted script with the request.  \n",
    "Ignore differences in style, minor phrasing, or wording variations.  \n",
    "\n",
    "Assess alignment based on:  \n",
    "- **Structure**: Does it follow a logical **chapitrage** (proposed agenda)?  \n",
    "- **Angle**: Does the story perspective fit the topic?  \n",
    "- **Length & Duration**: Is it reasonably aligned with expectations?  \n",
    "- **Language**: Does the script is in the expected language (same as request if user not specify)?  \n",
    "- **Quality**: Is it coherent, engaging, and suitable for a YouTube AI audience?  \n",
    "\n",
    "**Grade the result:**  \n",
    "- **8 to 10**: Fully meets the request across all aspects.  \n",
    "- **6 to 8**: Mostly aligned, with minor gaps.  \n",
    "- **4 to 6**: Partially aligned, missing key aspects.  \n",
    "- **2 to 4**: Significant misalignment with the request.  \n",
    "- **0 to 2**: Off-topic or completely missing expectations.  \n",
    "If the submission is entirely missing or contains no meaningful content (ex: None), assign a score of 0.\n",
    "The script is **ACCEPTABLE** if the score is above 6. It is **UNACCEPTABLE** if the score is below 6.  \n",
    "\n",
    "**Answer format:**  \n",
    "Grade: <ACCEPTABLE or UNACCEPTABLE>  \n",
    "Score: <grade from 0 to 10>\"**  \n",
    "Comment: <Brief justification for the score, highlighting any gaps or misalignment>  \n",
    "\"\"\")"
   ]
  },
  {
   "cell_type": "code",
   "execution_count": 36,
   "id": "76a76a04-69dd-4799-8c53-cc1f7f77bfda",
   "metadata": {},
   "outputs": [],
   "source": [
    "import uuid\n",
    "\n",
    "script_evaluator = script_evaluator_prompt | llm.with_structured_output(ScriptEvaluatorFeedback)\n",
    "\n",
    "\n",
    "def valid_script(input: str, output: str) -> ScriptEvaluatorFeedback:\n",
    "  \"\"\"Use an LLM to judge if the script is consistent.\"\"\"\n",
    "\n",
    "  res = script_evaluator.invoke(input={\"input\": input, \"response\": output})\n",
    "  return res\n",
    "\n",
    "\n",
    "def test_script(agent, input):\n",
    "\n",
    "    thread_id = config.configurable.get(\"thread_id\") if config and hasattr(config, 'configurable') else str(\n",
    "        uuid.uuid4())\n",
    "\n",
    "    effective_config = {\"recursion_limit\": 99, \"configurable\": {\"thread_id\": thread_id}}\n",
    "\n",
    "    input_data = {'messages': [HumanMessage(content=input)],}\n",
    "\n",
    "    steps = [step for step in agent.stream(input=input_data, config=effective_config, stream_mode=\"values\")]\n",
    "\n",
    "    # Access the last step\n",
    "    last_step = steps[-1]\n",
    "\n",
    "    # Print the last message of the last step\n",
    "    last_message = last_step[\"messages\"][-1]\n",
    "    output = last_message.pretty_repr()\n",
    "\n",
    "    # output = agent.invoke(input={\"messages\": input})\n",
    "\n",
    "    res = valid_script(input, output)\n",
    "\n",
    "    assert res[\"Grade\"], \"Acceptable\"\n",
    "    return res\n"
   ]
  },
  {
   "cell_type": "code",
   "execution_count": 37,
   "id": "eabbd31e-03ac-482d-abc0-9f12c715578c",
   "metadata": {},
   "outputs": [
    {
     "data": {
      "text/plain": [
       "{'Grade': 'ACCEPTABLE',\n",
       " 'Score': 8,\n",
       " 'Comment': 'The script is well-aligned with the request. It follows a logical structure with a clear introduction, two chapters, and a concluding call to action. The angle is appropriately focused on how AI creates job opportunities and the importance of AI literacy, fitting the topic well. The length is reasonable for a 2-minute video, and the language is suitable for a YouTube AI audience. The content is coherent, engaging, and provides practical steps for the audience. Minor improvements could be made in terms of depth and more specific examples, but overall, it meets the request effectively.'}"
      ]
     },
     "execution_count": 37,
     "metadata": {},
     "output_type": "execute_result"
    }
   ],
   "source": [
    "test_script(video_script_app, prompt)"
   ]
  },
  {
   "cell_type": "markdown",
   "id": "f222efde-1dea-4a0a-ad08-cc9e87c18d11",
   "metadata": {},
   "source": [
    "This is basic testing but it is very simple to implement and as your workflow start to complexify, you must have a robust testing strategy in place from the beggining."
   ]
  },
  {
   "cell_type": "markdown",
   "id": "62e613bd-b9f8-4529-935c-c2f8e65a26bb",
   "metadata": {},
   "source": [
    "If you look carefully at the test_script function, you'll notice that I've added a **\"recursion_limit\"** parameter to the configurable.\n",
    "\n",
    "This is crucial because, from this point on, we will introduce 'branches' and 'loops' into our graph, and we don't want our workflow to enter an infinite loop, especially since decision-making will be handled by autonomous agents. Setting a **'recursion_limit'** prevents the AI agent from running indefinitely and consuming excessive credits."
   ]
  },
  {
   "cell_type": "markdown",
   "id": "9610eaba-4472-4d92-a036-8d4e3119f01c",
   "metadata": {},
   "source": [
    "# Chapter 5: Supervisor node\n",
    "\n",
    "Now, we will move toward a real agentic workflow. A supervisor agents will orchestrate worker agents and make decision on what to do next.\n",
    "\n",
    "First, we will add a new member in the script writing team: the **'reviewer'**.\n",
    "\n",
    "Reviewer will be in charge to check the quality of the research and the script and give advice for enhancement. It will advice the supervisor if the next task must be directed to 'researcher' (if more information is needed) or to the 'writer' if only style or structure revision is required. He can also 'approved' the script if it is ok for him. "
   ]
  },
  {
   "cell_type": "markdown",
   "id": "6c5630cb-0c24-42ab-b20c-01f4e46440b9",
   "metadata": {},
   "source": [
    "But for good measure, we will redeclare import in one cell so we won't have to search for them."
   ]
  },
  {
   "cell_type": "code",
   "execution_count": 38,
   "id": "7c1a43b1-699a-41a2-b4f1-e3e913b555a4",
   "metadata": {},
   "outputs": [],
   "source": [
    "# redeclaring import here to avoir searching in different cells.\n",
    "from typing import TypedDict, Literal, Annotated, List,  Tuple\n",
    "\n",
    "from langgraph.types import Command\n",
    "from langchain_core.prompts import ChatPromptTemplate, MessagesPlaceholder, PromptTemplate\n",
    "\n",
    "from langchain_core.prompts import ChatPromptTemplate, MessagesPlaceholder, PromptTemplate\n",
    "from langchain_core.messages import HumanMessage, AIMessage\n",
    "\n",
    "from langgraph.graph.message import add_messages\n",
    "from langchain_core.messages import  BaseMessage\n",
    "\n",
    "from langchain import hub\n",
    "from langsmith.utils import LangSmithConflictError\n",
    "\n",
    "import operator\n",
    "\n",
    "from langgraph.graph import StateGraph, START, END\n",
    "\n",
    "from langgraph.checkpoint.memory import MemorySaver"
   ]
  },
  {
   "cell_type": "code",
   "execution_count": 62,
   "id": "6db948c2-9311-4113-8751-6e97f626e190",
   "metadata": {},
   "outputs": [],
   "source": [
    "class ReviewFeedback(TypedDict):\n",
    "    GoodPoints: str\n",
    "    MissingOrNeedsResearch: str\n",
    "    SuperfluousContent: str\n",
    "    StyleRefinement: str\n",
    "    NextNode: Literal['researcher', 'writer', 'approved']\n",
    "\n",
    "review_prompt = ChatPromptTemplate.from_messages(\n",
    "    [\n",
    "        (\n",
    "            \"system\",\n",
    "            \"You are the `Reviewer` in a team responsible for scriptwriting YouTube videos.\\n\\n\"\n",
    "            \"\"\"Based solely on the proposed key topics and brief from the agenda and writing guidelines,\n",
    "            your task is to evaluate the script draft and provide concise and structured feedback in four parts:\n",
    "\n",
    "            1. **GoodPoints**: List the positive aspects that should be retained.\n",
    "            2. **MissingOrNeedsResearch**: Specify missing information or areas that require more research.\n",
    "            3. **SuperfluousContent**: Identify anything unnecessary or off-topic in the chapter.\n",
    "            4. **StyleRefinement**: Major issues with writing guidelines such as word counts per chapter or repetition.\n",
    "            5. **NextNode**: Indicate the next action by choosing one of:\n",
    "               - 'approved': If no major revisions or research are necessary.\n",
    "               - 'writer': If Superfluous Content or Style Refinement BUT NO NEW CONTENT.\n",
    "               - 'research': If Missing Or Needs Research to address gaps or improve accuracy from the agenda.\n",
    "\n",
    "            ---\n",
    "\n",
    "            ### **Decision-Making Guidance for NextNode**:\n",
    "            1. Choose **'approved'** (default) if issues are minor or stylistic.\n",
    "            2. Choose **'writer'** if structural or stylistic improvements are required AND NO NEW content is required.\n",
    "            3. Choose **'research'** if missing content.\n",
    "            **IMPORTANT**: 'writer' cannot do his own research independently. Go to 'research' any time new content is necessary.\n",
    "            In case of ambiguity or perplexity, choose 'research'.\n",
    "            ---\n",
    "            \"\"\"\n",
    "        ),\n",
    "        MessagesPlaceholder(variable_name=\"messages\"),\n",
    "    ]\n",
    ")\n",
    "\n",
    "reviewer = review_prompt | llm.with_structured_output(ReviewFeedback)"
   ]
  },
  {
   "cell_type": "markdown",
   "id": "087723a5-a814-4ac0-a2f8-12738bea546a",
   "metadata": {},
   "source": [
    "Nothing particular to comment here.\n",
    "\n",
    "Let's define the **'reviewer_node'**."
   ]
  },
  {
   "cell_type": "code",
   "execution_count": 40,
   "id": "4c8a908c-3538-460c-9d08-f2bd131fd1e5",
   "metadata": {},
   "outputs": [],
   "source": [
    "def reviewer_node(state: VideoScriptState) -> Command[Literal[\"supervisor\"]]:\n",
    "    \"\"\"\n",
    "    The 'Reviewer' agent checks the current draft:\n",
    "      - If acceptable, we finalize the chapter.\n",
    "      - If not acceptable, we request changes => 'draft_node' or 'researcher_node' again.\n",
    "    \"\"\"\n",
    "\n",
    "    human_message = HumanMessage(content=f\"Review the draft of the chapter\", name=\"user\")\n",
    "    messages = state[\"messages\"] + [human_message]\n",
    "\n",
    "    res = reviewer.invoke(input={\"messages\": messages})\n",
    "\n",
    "    reviewer_message_content = (\n",
    "        f\"# Reviewer Feedback\\n\\n\"\n",
    "        f\"Good Points:\\n {res['GoodPoints']}\\n\\n\"\n",
    "        f\"Missing or Needs Research:\\n {res['MissingOrNeedsResearch']}\\n\\n\"\n",
    "        f\"Superfluous Content:\\n {res['SuperfluousContent']}\\n\\n\"\n",
    "        f\"Style Refinement:\\n {res['StyleRefinement']}\\n\\n\"\n",
    "        f\"next: {res['NextNode']}\\n\\n\"\n",
    "    )\n",
    "\n",
    "    return Command(\n",
    "        update={\n",
    "            \"messages\": [AIMessage(content=reviewer_message_content, name=\"reviewer\")],\n",
    "            \"next\": res[\"NextNode\"],\n",
    "        },\n",
    "        goto=\"supervisor\",\n",
    "    )"
   ]
  },
  {
   "cell_type": "markdown",
   "id": "e19a7900-59d4-4d29-9fb2-e405763e3851",
   "metadata": {},
   "source": [
    "'Reviewer' gives feedback on the quality of the script revision (good points) to keep it and what is missing or need to be change.\n",
    "\n",
    "We have also ask reviewer to give what he estimates to be the 'best' next node that the supervisor should redirect or if he approves the last iteration of the script. For example, we only need style revision, no need to do new research. But if content is missing, we should look for it with the research agent.\n",
    "\n",
    "In real-case scenario, you will have to give 'Guidelines' to each agent to ensure a coherency in style/tone/structure, etc... and avoid infinite revision.\n",
    "\n",
    "The next agent will be pass through the State of the graph so we add the field **'next'** in it."
   ]
  },
  {
   "cell_type": "code",
   "execution_count": 41,
   "id": "c84f63d8-a405-45eb-869b-ef49111ced61",
   "metadata": {},
   "outputs": [],
   "source": [
    "class VideoScriptState(TypedDict):\n",
    "    messages: Annotated[List[BaseMessage], add_messages]\n",
    "    chapters: List[Chapter]\n",
    "    next: Literal['researcher', 'writer', 'approved']"
   ]
  },
  {
   "cell_type": "markdown",
   "id": "b578fdeb-8070-492a-aa3a-56e6698c2c07",
   "metadata": {},
   "source": [
    "Now we will create a supervisor node that will orchestate the job between each agent chapter per chapter."
   ]
  },
  {
   "cell_type": "code",
   "execution_count": 42,
   "id": "b69f9eef-4d02-464c-898f-c604969b1b4a",
   "metadata": {},
   "outputs": [],
   "source": [
    "members = [\"researcher\", \"writer\"]\n",
    "# Our team supervisor is an LLM node. It just picks the next agent to process\n",
    "# and decides when the work is completed\n",
    "options = members + [END]\n",
    "\n",
    "system_prompt = (\n",
    "    \"You are a supervisor tasked with managing a conversation between the\"\n",
    "    f\" following workers: {members}. Given the initial user request and advice from reviewer,\"\n",
    "    \" respond with the worker to act next. Each worker will perform a\"\n",
    "    \" task and respond with their results and comments. When finished,\"\n",
    "    \" respond with 'approved'.\"\n",
    ")\n",
    "\n",
    "\n",
    "class Router(TypedDict):\n",
    "    \"\"\"Worker to route to next. If no workers needed, route to 'approved'.\"\"\"\n",
    "    next: Literal['researcher', 'writer', 'approved']\n",
    "\n",
    "\n",
    "\n",
    "def supervisor_node(state: VideoScriptState) -> Command[Literal[*options]]:\n",
    "    messages = [\n",
    "        {\"role\": \"system\", \"content\": system_prompt},\n",
    "    ] + state[\"messages\"]\n",
    "    host_message = HumanMessage(content=\"What to do next?\", name=\"host-producer\")\n",
    "    messages += [host_message]\n",
    "    response = llm.with_structured_output(Router).invoke(messages)\n",
    "    goto = response[\"next\"]\n",
    "    if goto == \"approved\":\n",
    "        goto = END\n",
    "\n",
    "    return Command(goto=goto, update={\"next\": \"\"})"
   ]
  },
  {
   "cell_type": "markdown",
   "id": "7c15aa26-f5b7-43d5-a32f-8b09ea2d227f",
   "metadata": {},
   "source": [
    "This is a basic version of supervisor. We'll update it later to handle chapter-based execution."
   ]
  },
  {
   "cell_type": "markdown",
   "id": "b50ba5bb-2724-4a1d-9639-5a68ecee98da",
   "metadata": {},
   "source": [
    "We need to redirect writer to reviewer. Another solution could have be to redirect all worker node to supervisor but it add an additional step which could be avoided."
   ]
  },
  {
   "cell_type": "code",
   "execution_count": 45,
   "id": "c1382e28-4d7b-4366-af9c-8018df82e449",
   "metadata": {},
   "outputs": [],
   "source": [
    "def writer_node(state: VideoScriptState) -> Command[Literal[\"reviewer\"]]:\n",
    "    \"\"\"\n",
    "    The Writer composes or updates the script for the current chapter using the research input.\n",
    "    \"\"\"\n",
    "    chapters = state[\"chapters\"]\n",
    "    message_content = f\"Write the script using agenda and research.\"\n",
    "    human_message = HumanMessage(content=message_content, name=\"user\")\n",
    "    messages = state[\"messages\"] + [human_message]\n",
    "\n",
    "    res = writer.invoke(input={\"messages\": messages})\n",
    "\n",
    "    # Check if 'comment' is in the response\n",
    "    writer_script_content = res['script']\n",
    "    writer_response_comment = res.get('comment', 'No comment provided.')\n",
    "\n",
    "    writer_message_content = (f\"# Script\"\n",
    "                              f\"\\n\\n{writer_script_content}\\n\\n-----\"\n",
    "                              f\"\\n\\n# Writer Comment\"\n",
    "                              f\"\\n\\n{writer_response_comment}\")\n",
    "\n",
    "    return Command(\n",
    "        update={\n",
    "            \"messages\": [AIMessage(content=writer_message_content, name=\"writer\")],\n",
    "        },\n",
    "        goto=\"reviewer\",\n",
    "    )"
   ]
  },
  {
   "cell_type": "code",
   "execution_count": 46,
   "id": "6e09c0a1-c0e8-4637-b79b-f6d57521ae9a",
   "metadata": {},
   "outputs": [],
   "source": [
    "workflow = StateGraph(VideoScriptState)\n",
    "workflow.add_node(\"planning\", planner_node)\n",
    "workflow.add_node(\"researcher\", researcher_node)\n",
    "workflow.add_node(\"writer\", writer_node)\n",
    "workflow.add_node(\"reviewer\", reviewer_node)\n",
    "workflow.add_node(\"supervisor\", supervisor_node)\n",
    "workflow.add_edge(START, \"planning\")\n",
    "workflow.add_edge(\"planning\", \"supervisor\")\n",
    "\n",
    "memory = MemorySaver()\n",
    "video_script_workflow = workflow.compile(checkpointer=memory)"
   ]
  },
  {
   "cell_type": "markdown",
   "id": "29d4eb57-7f69-4f76-a1ce-36fccb8ac170",
   "metadata": {},
   "source": [
    "Let's display it."
   ]
  },
  {
   "cell_type": "code",
   "execution_count": 47,
   "id": "5f3a69a8-bf52-4bd0-af02-5cd09cf46d2b",
   "metadata": {},
   "outputs": [
    {
     "data": {
      "image/png": "[encoded data removed]",
      "text/plain": [
       "<IPython.core.display.Image object>"
      ]
     },
     "metadata": {},
     "output_type": "display_data"
    }
   ],
   "source": [
    "from IPython.display import Image, display\n",
    "\n",
    "try:\n",
    "    display(Image(video_script_workflow.get_graph().draw_mermaid_png()))\n",
    "except Exception:\n",
    "    # This requires some extra dependencies and is optional\n",
    "    pass"
   ]
  },
  {
   "cell_type": "markdown",
   "id": "16cfb5aa-4d61-4b4b-aa0b-f05d35dfe861",
   "metadata": {},
   "source": [
    "Now we are getting some serious stuff. \n",
    "\n",
    "We won't try to execute this graph because reviewer won't be happy with research and script and will certainly go into an infinite revision cycle. To improve the quality of worker's output, we need to split the job into simpler task and let the supervisor manage the progress iteratively. The logical approach for scritpwriting is to work chapter by chapter."
   ]
  },
  {
   "cell_type": "markdown",
   "id": "9fb17bfc-4b54-4265-8800-2ab5fedd9341",
   "metadata": {},
   "source": [
    "# Chapter 6. Updating the Supervisor to Work Chapter by Chapter and Max Iteration\n",
    "\n",
    "To implement chapter-by-chapter execution and handle a max iteration per chapter, we need to modify VideoScriptState to track:\n",
    "\n",
    "1. The current chapter index (which chapter we are working on).\n",
    "1. A counter for how many times a chapter has been revised.\n",
    "1. Ensure the user message explicitly refers to the chapter being worked on."
   ]
  },
  {
   "cell_type": "markdown",
   "id": "f4f46444-c1f0-487e-9cde-41c5284fd007",
   "metadata": {},
   "source": [
    "### Updated supervisor_node to Handle Chapter-Based Execution\n",
    "#### Logic Adjustments\n",
    "\n",
    "- Check if all chapters are completed → if yes, finalize the script.\n",
    "- Track chapter iterations:\n",
    "    - If current_chapter_iteration >= MAX_REVISION, move to the next chapter.\n",
    "    - Else, draft or revise the current chapter.\n",
    "\n",
    "- Route based on agent feedback:\n",
    "   - If research is weak → loop back to researcher\n",
    "   - If writing needs improvement but research is ok → loop back to writer\n",
    "   - If all conditions are met → move to the next chapter."
   ]
  },
  {
   "cell_type": "markdown",
   "id": "8f72f1e8-e6a7-4825-a513-5f3f411e5a92",
   "metadata": {},
   "source": [
    "#### Key Modifications to VideoScriptState\n",
    "\n",
    "We'll extend the VideoScriptState definition to include:\n",
    "\n",
    "- ```current_chapter_index```: Tracks which chapter is being processed.\n",
    "- ```current_chapter_iteration```: Tracks how many times the current chapter has been iterated.\n",
    "- ```final_script```: Stores the fully approved script."
   ]
  },
  {
   "cell_type": "code",
   "execution_count": 48,
   "id": "aa33058d-a70d-45cf-bc27-7e27075310fc",
   "metadata": {},
   "outputs": [],
   "source": [
    "class VideoScriptState(TypedDict):\n",
    "    messages: Annotated[List[BaseMessage], add_messages]\n",
    "    chapters: List[Chapter]\n",
    "    current_chapter_index: int\n",
    "    current_chapter_iteration: int\n",
    "    final_script: str\n",
    "    next: Literal['researcher', 'writer', 'approved']\n"
   ]
  },
  {
   "cell_type": "markdown",
   "id": "8590234f-148f-474f-8ed4-daef98528d7c",
   "metadata": {},
   "source": [
    "We add a finalization function:\n",
    "\n",
    "- Ensures all chapters are processed before finalizing.\n",
    "- Appends each chapter to the final_script only when it is validated.\n",
    "- Resets relevant state values after finalization."
   ]
  },
  {
   "cell_type": "code",
   "execution_count": 49,
   "id": "78e83644-4bc4-4664-85ac-aaa0ac2b9f92",
   "metadata": {},
   "outputs": [],
   "source": [
    "MAX_REVISION = 2  # Maximum revision attempts per chapter"
   ]
  },
  {
   "cell_type": "code",
   "execution_count": 50,
   "id": "dab42d6e-27c9-4ce0-bde8-02e519127d66",
   "metadata": {},
   "outputs": [],
   "source": [
    "supervisor = producer_prompt | llm.with_structured_output(Router)"
   ]
  },
  {
   "cell_type": "code",
   "execution_count": 51,
   "id": "73d430d7-b49d-4533-b1bf-3548205c4b2c",
   "metadata": {},
   "outputs": [],
   "source": [
    "def finalize_script(state: VideoScriptState) -> str:\n",
    "    return (\n",
    "        f\"# FINAL SCRIPT\\n\\n{state['final_script']}\\n\\n### COMMENT\\n\\n\"\n",
    "        \"This script has been fully processed and validated.\"\n",
    "    )\n",
    "\n",
    "def append_chapter(state: VideoScriptState):\n",
    "    current_chapter = state[\"current_chapter_index\"]\n",
    "    # previous message is from reviewer, so go back to writer message in conversation\n",
    "    chapter_content = state[\"messages\"][-2].content if state[\"messages\"] else \"\"\n",
    "    \n",
    "    state[\"final_script\"] += (\n",
    "        f\"\\n\\n## CHAPTER {current_chapter + 1}\"\n",
    "        f\"\\n\\n{chapter_content}\"\n",
    "    )\n",
    "\n",
    "def process_finalization(state: VideoScriptState) -> Command[Literal[END, \"researcher\"]]:\n",
    "    \"\"\"\n",
    "    Manage moving to the next chapter or finalize the script.\n",
    "    \"\"\"\n",
    "    current_chapter = state[\"current_chapter_index\"]\n",
    "\n",
    "    append_chapter(state)\n",
    "\n",
    "    current_chapter += 1\n",
    "\n",
    "    if current_chapter >= len(state[\"chapters\"]):\n",
    "        return Command(\n",
    "            update={\n",
    "                \"final_script\": finalize_script(state),\n",
    "                \"messages\": [AIMessage(content=finalize_script(state), name=\"host-producer\")]\n",
    "            },\n",
    "            goto=END,\n",
    "        )\n",
    "\n",
    "    return Command(\n",
    "        update={\n",
    "            \"current_chapter_index\": current_chapter,\n",
    "            \"current_chapter_iteration\": 0,\n",
    "            \"final_script\": state['final_script'],\n",
    "            \"next\": \"researcher\",\n",
    "            \"messages\": state[\"messages\"] + [\n",
    "                AIMessage(\n",
    "                    content=f\"Draft Chapter {current_chapter + 1}: \"\n",
    "                            f\"'{state['chapters'][current_chapter]['title']}'.\",\n",
    "                    name=\"supervisor\")\n",
    "            ]\n",
    "        },\n",
    "        goto=\"researcher\"\n",
    "    )"
   ]
  },
  {
   "cell_type": "code",
   "execution_count": 52,
   "id": "4bd1ac80-8b3c-4e37-809d-174946d853c2",
   "metadata": {},
   "outputs": [],
   "source": [
    "def supervisor_node(state: VideoScriptState) -> Command[Literal[*options]]:\n",
    "    \"\"\"\n",
    "    Supervisor navigates the process through the workflow, making decisions on chapters.\n",
    "    \"\"\"\n",
    "    current_chapter = state[\"current_chapter_index\"]\n",
    "    iteration_count = state[\"current_chapter_iteration\"]\n",
    "    next_step = state[\"next\"]\n",
    "\n",
    "    # Finalize if all chapters are completed\n",
    "    if current_chapter >= len(state[\"chapters\"]):\n",
    "        return Command(\n",
    "            update={\n",
    "                \"final_script\": finalize_script(state),\n",
    "                \"messages\": [AIMessage(content=finalize_script(state), name=\"host-producer\")]\n",
    "            },\n",
    "            goto=END,\n",
    "        )\n",
    "\n",
    "    # Use supervisor LLM to decide next step based on last action\n",
    "    messages = state[\"messages\"]\n",
    "    content = (\n",
    "        f\"As the supervisor, decide the next steps between the agents: {members}. \"\n",
    "        f\"Given the current chapter status and revision count ({iteration_count})\"\n",
    "        f\"and last reviewer feedback, decide on the next action.\"\n",
    "    )\n",
    "    messages = state[\"messages\"] + [HumanMessage(content=content, name=\"producer\")]\n",
    "\n",
    "    supervisor_response = supervisor.invoke(input={\"messages\": messages})\n",
    "    next_step = supervisor_response[\"next\"]\n",
    "\n",
    "    # Handle approval or decide on actions\n",
    "    if next_step == \"approved\" or iteration_count >= MAX_REVISION:\n",
    "        return process_finalization(state)\n",
    "\n",
    "    # Prepare message for the next action\n",
    "    # Determine directive type: \"Draft\" for new chapter, \"Revise\" for existing\n",
    "    directive = \"Draft\" if iteration_count == 0 else \"Revise\"\n",
    "    \n",
    "    # Construct supervisor's message for the next agent\n",
    "    next_action_message = f\"{directive} Chapter {current_chapter + 1}: '{state['chapters'][current_chapter]['title']}'.\"\n",
    " \n",
    "    messages = state[\"messages\"] + [AIMessage(content=next_action_message, name=\"supervisor\")]\n",
    "\n",
    "    return Command(\n",
    "        update={\n",
    "            \"current_chapter_iteration\": iteration_count + 1,\n",
    "            \"next\": next_step,\n",
    "            \"messages\": messages,\n",
    "        },\n",
    "        goto=next_step,\n",
    "    )"
   ]
  },
  {
   "cell_type": "markdown",
   "id": "c5f195a1-eea9-4cd6-9669-1296b225e6ca",
   "metadata": {},
   "source": [
    "We bring here team members to do some adjustement: we update the directive to work on the last chapter."
   ]
  },
  {
   "cell_type": "code",
   "execution_count": 53,
   "id": "d2d6eb20-0915-40b6-bafd-9f46021e17e1",
   "metadata": {},
   "outputs": [],
   "source": [
    "def researcher_node(state: VideoScriptState) -> Command[Literal[\"writer\"]]:\n",
    "    \"\"\"\n",
    "    The Researcher provides factual data/ideas for the current chapter.\n",
    "    \"\"\"\n",
    "    chapter = state[\"chapters\"][state[\"current_chapter_index\"]]\n",
    "    chapter_title = chapter['title']\n",
    "    chapter_detail = _format_chapters([chapter])\n",
    "    message_content = (f\"Provide or enhance research for the chapter '{chapter_title}'\"\n",
    "                       f\" covering the topics on the agenda and advise from reviewer.\"\n",
    "                       f\"\\n\\n{chapter_detail}\")\n",
    "    \n",
    "    human_message = HumanMessage(content=message_content, name=\"user\")\n",
    "    messages = state[\"messages\"] + [human_message]\n",
    "\n",
    "    res = researcher.invoke(input={\"messages\": messages})\n",
    "\n",
    "    research_response_comment = res.get('comment', 'No comment provided.')\n",
    "    research_chapter_content = res['research']\n",
    "    research_message_content = (f\"# Research for '{chapter_title}'\"\n",
    "                                f\"\\n\\n{research_chapter_content}\"\n",
    "                                f\"\\n\\n-----\\n\\n#Comment\"\n",
    "                                f\"\\n\\n{research_response_comment}\")\n",
    "\n",
    "    return Command(\n",
    "        update={\n",
    "            \"messages\": [AIMessage(content=research_message_content, name=\"researcher\")],\n",
    "        },\n",
    "        goto=\"writer\",\n",
    "    )"
   ]
  },
  {
   "cell_type": "code",
   "execution_count": 55,
   "id": "91bb84ee-bf23-49a9-acf7-3ad9c36a41d2",
   "metadata": {},
   "outputs": [],
   "source": [
    "def writer_node(state: VideoScriptState) -> Command[Literal[\"reviewer\"]]:\n",
    "    \"\"\"\n",
    "    The Writer composes or updates the script for the current chapter using the research input.\n",
    "    \"\"\"\n",
    "    chapter =state[\"chapters\"][state[\"current_chapter_index\"]]\n",
    "    chapter_title = chapter['title']\n",
    "    chapter_detail = _format_chapters([chapter])\n",
    "    \n",
    "    message_content = (f\"Write or revise the last chapter draft '{chapter_title}'\"\n",
    "                       f\"using agenda, research and advise from reviewer.\"\n",
    "                       f\"\\n\\n{chapter_detail}\")\n",
    "    human_message = HumanMessage(content=message_content, name=\"user\")\n",
    "\n",
    "    messages = state[\"messages\"] + [human_message]\n",
    "\n",
    "    res = writer.invoke(input={\"messages\": messages})\n",
    "\n",
    "    # Check if 'comment' is in the response\n",
    "    writer_script_content = res['script']\n",
    "    writer_response_comment = res.get('comment', 'No comment provided.')\n",
    "\n",
    "    writer_message_content = (f\"## {chapter_title}\"\n",
    "                              f\"\\n\\n{writer_script_content}\\n\\n-----\")\n",
    "\n",
    "    return Command(\n",
    "        update={\n",
    "            \"messages\": [AIMessage(content=writer_message_content, name=\"writer\")],\n",
    "        },\n",
    "        goto=\"reviewer\",\n",
    "    )"
   ]
  },
  {
   "cell_type": "code",
   "execution_count": 56,
   "id": "e3c7e82c-8d62-45b1-9bb6-2a0b07e760cf",
   "metadata": {},
   "outputs": [],
   "source": [
    "def planner_node(state: VideoScriptState) -> VideoScriptState:\n",
    "    \"\"\"\n",
    "    The Host/Producer sets the plan (how many chapters, the overall direction).\n",
    "    \"\"\"\n",
    "    # If not already done, let's define chapters in the conversation or from user input\n",
    "    # Example simulation: The user wants a 3-chapter video, so we store that:\n",
    "    if not state.get(\"chapters\"):\n",
    "\n",
    "        planner_prompt = hub.pull(\"tuto-video-script-planner-prompt\")\n",
    "        message_content = planner_prompt.format()\n",
    "        messages = state[\"messages\"] + [HumanMessage(content=message_content, name=\"user\")]\n",
    "        res = planner.invoke(input={\"messages\": messages})\n",
    "        chapters = res['plan']\n",
    "        state[\"chapters\"] = chapters\n",
    "        formatted_chapters = _format_chapters(chapters)\n",
    "        producer_message = (f\"Here's a suggested agenda for your video.\"\n",
    "                            f\"\\n\\n{formatted_chapters}\")\n",
    "        host_message = HumanMessage(content=producer_message, name=\"host-producer\")\n",
    "        state[\"messages\"].append(host_message)\n",
    "        state[\"next\"] = 'research' # HER\n",
    "    return state"
   ]
  },
  {
   "cell_type": "code",
   "execution_count": 57,
   "id": "ee83b0f0-8745-44eb-92cc-f9e56efcff04",
   "metadata": {},
   "outputs": [],
   "source": [
    "workflow = StateGraph(VideoScriptState)\n",
    "workflow.add_node(\"planning\", planner_node)\n",
    "workflow.add_node(\"researcher\", researcher_node)\n",
    "workflow.add_node(\"writer\", writer_node)\n",
    "workflow.add_node(\"reviewer\", reviewer_node)\n",
    "workflow.add_node(\"supervisor\", supervisor_node)\n",
    "workflow.add_edge(START, \"planning\")\n",
    "workflow.add_edge(\"planning\", \"supervisor\")\n",
    "\n",
    "memory = MemorySaver()\n",
    "video_script_workflow = workflow.compile(checkpointer=memory)"
   ]
  },
  {
   "cell_type": "code",
   "execution_count": 58,
   "id": "1bd7291c-ba01-407d-8ef9-6a863ffeeae9",
   "metadata": {},
   "outputs": [
    {
     "data": {
      "image/png": "[encoded data removed]",
      "text/plain": [
       "<IPython.core.display.Image object>"
      ]
     },
     "metadata": {},
     "output_type": "display_data"
    }
   ],
   "source": [
    "from IPython.display import Image, display\n",
    "\n",
    "try:\n",
    "    display(Image(video_script_workflow.get_graph().draw_mermaid_png()))\n",
    "except Exception:\n",
    "    # This requires some extra dependencies and is optional\n",
    "    pass"
   ]
  },
  {
   "cell_type": "markdown",
   "id": "1237bbf2-9e35-4d0d-be01-62fcd51a85ae",
   "metadata": {},
   "source": [
    "#### Recursion Limit\n",
    "\n",
    "Now that we have a real agentic workflow with agent that take decision to the next action, don't forget to add ```\"recursion_limit\"```to configurable. 99 here is absolutely arbitrary. Adapt it to your needs.\n",
    "\n",
    "Let's test the agentic workflow.\n",
    "\n",
    "#### Note\n",
    "We add \"current_chapter_index\", \"current_chapter_iteration\" and \"final_script\" to the input of the graph to initialise their value. It could have been done by planner node."
   ]
  },
  {
   "cell_type": "code",
   "execution_count": 61,
   "id": "08081b7a-279d-4c44-aaaf-2dba5136acdc",
   "metadata": {},
   "outputs": [
    {
     "name": "stdout",
     "output_type": "stream",
     "text": [
      "Directive: 'I'd like a 2-chapter video of 2 minutes of 450 words on 'AI Won't Take Your Jobs. Those Who Use AI Will!''\n",
      "Result: '================================== Ai Message ==================================\n",
      "Name: host-producer\n",
      "\n",
      "# FINAL SCRIPT\n",
      "\n",
      "\n",
      "\n",
      "## CHAPTER 1\n",
      "\n",
      "## Opening Section [100 words]\n",
      "\n",
      "Opening section  |  Hook the audience with a surprising statement  |  ai and job market |  ai and gdp |  ai and job opportunities |  ai and job displacement |  introduce the main topic of the video  |  According to a report by McKinsey, by 2030, AI could boost global GDP by 14% That's a staggering $15.7 trillion! But here's the thing: AI won't take your job. Instead it will open up new opportunities for you to work in. In this video, we'll explore how AI is not a threat to jobs but a powerful tool that can enhance human capabilities and open new opportunities. We'll dive into industries where AI is already making a difference and discuss why AI literacy is crucial for staying competitive in the job market. So, if you're ready to future-proof your career, stick around.  \n",
      "\n",
      "-----\n",
      "\n",
      "## CHAPTER 2\n",
      "\n",
      "## Chapter 1: AI Is Not a Threat to Jobs [120 words]\n",
      "\n",
      "Chapter 1: AI Is Not a Threat to Jobs [120 words] AI is often perceived as a threat to jobs, but this is a misconception. AI is not here to replace human jobs but to augment our capabilities. Take the healthcare industry, for example. AI algorithms can analyze vast amounts of medical data to help doctors make more accurate diagnoses. In finance, AI is used for fraud detection and algorithmic trading, enhancing the efficiency and accuracy of financial processes. In manufacturing, AI predictive maintenance and supply chain optimization reduce downtime and improve productivity. Instead of displacing jobs, AI is transforming them. For instance, a data analyst might now use AI tools to process large datasets, allowing them to identify trends and make data-driven decisions. This shift requires continuous learning and adaptation, but it opens up new opportunities. According to a McKinsey report, as much as 30% of the tasks in around 60% of occupations could be automated with today's technology. However, this doesn't mean job loss; it means job transformation. Employees will shift to more strategic roles, focusing on areas where human creativity, empathy, and critical thinking are irreplaceable.\n",
      "\n",
      "-----\n",
      "\n",
      "## CHAPTER 3\n",
      "\n",
      "## Chapter 2: The Importance of AI Literacy [110 words]\n",
      "\n",
      "Chapter 2: The Importance of AI Literacy [110 words]  AI literacy is no longer just a buzzword; it's a necessity. Understanding and using AI can give you a significant edge in the job market. Take, for example, a marketing professional who uses AI tools to analyze consumer behavior and predict trends. This not only makes them more efficient but also opens up opportunities in data-driven marketing roles. Similarly, in finance, AI literacy can lead to jobs in algorithmic trading and risk management. Continuous learning is key to staying ahead. Platforms like Coursera and edX offer courses on AI and machine learning, helping professionals adapt to the evolving job market. According to a World Economic Forum report, by 2025, 85 million jobs may be displaced by AI, but 97 million new jobs may be created. This shift underscores the importance of AI literacy and continuous learning.\n",
      "\n",
      "-----\n",
      "\n",
      "## CHAPTER 4\n",
      "\n",
      "## Closing Section [120 words]\n",
      "\n",
      "Closing Section [120 words]  In conclusion, AI is not a threat to jobs but a powerful tool that can enhance our capabilities and open new opportunities. It's transforming industries like healthcare, finance, and marketing, creating roles that require a blend of technical skills and human intuition. To stay competitive, it's crucial to embrace AI literacy and continuous learning. Don't wait for AI to disrupt your industry; take action now. Start by exploring online courses on platforms like Coursera or edX. Join communities and forums to stay updated on the latest AI trends. Remember, the future belongs to those who understand and leverage AI. So, take the first step towards future-proofing your career today.\n",
      "\n",
      "-----\n",
      "\n",
      "### COMMENT\n",
      "\n",
      "This script has been fully processed and validated.'\n"
     ]
    }
   ],
   "source": [
    "prompt = (\"I'd like a 2-chapter video of 2 minutes of 450 words on 'AI Won't Take Your Jobs. Those Who Use AI Will!'\")\n",
    "\n",
    "config = {\"recursion_limit\": 99, \"configurable\": {\"thread_id\": \"1\"}}\n",
    "\n",
    "example_input = {\n",
    "    \"messages\": [(\"human\", prompt)],\n",
    "    \"current_chapter_index\": 0,\n",
    "    \"current_chapter_iteration\": 0,\n",
    "    \"final_script\": \"\"\n",
    "}\n",
    "\n",
    "# Collect all steps from the astream generator\n",
    "steps = [step for step in video_script_workflow.stream(example_input, config=config, stream_mode=\"values\")]\n",
    "\n",
    "# Access the last step\n",
    "last_step = steps[-1]\n",
    "\n",
    "print(f\"Directive: '{prompt}'\")\n",
    "\n",
    "# Print the last message of the last step\n",
    "last_message = last_step[\"messages\"][-1]\n",
    "\n",
    "output = last_message.pretty_repr()\n",
    "print(f\"Result: '{output}'\")\n"
   ]
  },
  {
   "cell_type": "markdown",
   "id": "eb0a4ff5-66d2-4330-a1fe-cfdee21ccef9",
   "metadata": {},
   "source": [
    "We have 2 more chapters because the planner automatically add the introduction and the conclusion in the agenda."
   ]
  },
  {
   "cell_type": "markdown",
   "id": "5dc37d38-91e5-46e0-a438-2ade544f9c5b",
   "metadata": {},
   "source": [
    "#### Additional tips:\n",
    "##### Retry Policy\n",
    "\n",
    "**Mistral-3-small** has made impressive progress to handle long conversation. With previous mistral-small, you had to regularly face issue with bad or empty structured output causing random 'KeyError' or 'AttributeError' requiring to recall llm. LangGraph allows you to handle this directly in your graph by adding a retry policy at the node level.\n",
    "\n",
    "For example we add retry policy to our workers:\n",
    "```python\n",
    "workflow.add_node(\"researcher\", researcher_node, retry=RetryPolicy(retry_on=[KeyError, AttributeError], max_attempts=3))\n",
    "workflow.add_node(\"writer\", writer_node, retry=RetryPolicy(retry_on=[KeyError, AttributeError], max_attempts=3))\n",
    "workflow.add_node(\"reviewer\", reviewer_node, retry=RetryPolicy(retry_on=[KeyError, AttributeError], max_attempts=3))\n",
    "```\n",
    "\n",
    "##### Remaining Steps\n",
    "[\"recursion_limit\"](https://langchain-ai.github.io/langgraph/concepts/low_level/#recursion-limit) is usefull to ensure that you don't reach a maximum step in your workflow. But you'll certainly want to [return step before hitting that limits](https://langchain-ai.github.io/langgraph/how-tos/return-when-recursion-limit-hits/?h=remaining#with-returning-state).\n",
    "\n",
    "To handle this case, you will add a remaining_step attribute to your StageGraph and handle it in your supervisor_node:\n",
    "```python\n",
    "from langgraph.managed.is_last_step import RemainingSteps\n",
    "\n",
    "class VideoScriptState(TypedDict):\n",
    "    [...]\n",
    "    remaining_steps: RemainingSteps\n",
    "\n",
    "def supervisor_node(state: VideoScriptState) -> Command[Literal[*members, END]]:\n",
    "    # ...\n",
    "\n",
    "    if state[\"remaining_steps\"] <= MIN_REMAINING_STEP:\n",
    "        return Command(goto=END,...\n",
    "    \n",
    "```\n",
    "LangGraph will automatically track and increment this value for you"
   ]
  },
  {
   "cell_type": "markdown",
   "id": "e783b20d-981a-441d-addb-cf330585eb7e",
   "metadata": {},
   "source": [
    "# Chapter 7. Where to go from here?\n",
    "\n",
    "Now, you have practiced the basics of LangGraph to build an agentic workflow. To go further, you can explore more advanced techniques of LangGraph like:\n",
    "\n",
    "- [Human-in-the-loop](https://langchain-ai.github.io/langgraph/concepts/human_in_the_loop/)\n",
    "- [Streaming](https://langchain-ai.github.io/langgraph/concepts/streaming/) and internal state handling (to display progress to user)\n",
    "- [Persistence](https://langchain-ai.github.io/langgraph/concepts/persistence/)\n",
    "- [Memory Management](https://langchain-ai.github.io/langgraph/concepts/memory/)"
   ]
  },
  {
   "cell_type": "markdown",
   "id": "d17e10c2-010e-4b31-bdb8-1e0e89c329e4",
   "metadata": {},
   "source": [
    "### Excercices\n",
    "Some ideas for you to practice:\n",
    "\n",
    "- **Extend research agent** with some RAG capabilities on internet with [tavily search](https://tavily.com/). For example add a [Research team](https://langchain-ai.github.io/langgraph/tutorials/multi_agent/hierarchical_agent_teams/#research-team) You'll practice subgraph and function calling. You can also use Agentic RAG if you want to use internal data. In LangGraph example, the research is done before writing process. Possibility is infinite.\n",
    "\n",
    "- **Add a final 'relecture node'** that will adjust the final script to ensure smooth transitions and avoid redundancy between sections.\n",
    "\n",
    "\n",
    "- **Add [parallel execution](https://langchain-ai.github.io/langgraph/how-tos/map-reduce/) of chapter and [aggregation (reducer)](https://langchain-ai.github.io/langgraph/concepts/low_level/#reducers) for final_script**. In our example, we let the supervisor manage the concatenation as the execution is serialized. We should let LangGraph do the work.\n"
   ]
  },
  {
   "cell_type": "markdown",
   "id": "5273dfa0-9e6a-48e1-b709-b59a6abc06bd",
   "metadata": {},
   "source": [
    "In a real-world scenario, you would refine each agent's prompt with more precise guidelines for style, tone, and structure. You can have a look at Video Script agent in my [AI-Agent-Casebook](https://github.com/BittnerPierre/AI-Agent-Casebook/tree/main/app/video_script) on my github.\n",
    "\n",
    "You can of course easily adapt the use case to your needs. **Audio Overview** feature of [NotebookLM](https://notebooklm.google/) is not that far away."
   ]
  }
 ],
 "metadata": {
  "kernelspec": {
   "display_name": "Python (ai-agent-casebook)",
   "language": "python",
   "name": "ai-agent-casebook-cacfgz2u-py3.12"
  },
  "language_info": {
   "codemirror_mode": {
    "name": "ipython",
    "version": 3
   },
   "file_extension": ".py",
   "mimetype": "text/x-python",
   "name": "python",
   "nbconvert_exporter": "python",
   "pygments_lexer": "ipython3",
   "version": "3.12.8"
  }
 },
 "nbformat": 4,
 "nbformat_minor": 5
}
