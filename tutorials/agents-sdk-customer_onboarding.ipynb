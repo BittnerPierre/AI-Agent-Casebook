{
 "cells": [
  {
   "cell_type": "markdown",
   "metadata": {
    "id": "d1DGYFfoKvsB"
   },
   "source": [
    "[![Open In Colab](https://colab.research.google.com/assets/colab-badge.svg)](https://colab.research.google.com/github/aurelio-labs/cookbook/blob/main/gen-ai/openai/agents-sdk-intro.ipynb)\n"
   ]
  },
  {
   "cell_type": "markdown",
   "metadata": {
    "id": "sG6pIZ-_7uRX"
   },
   "source": [
    "## OpenAI's Agents SDK"
   ]
  },
  {
   "cell_type": "markdown",
   "metadata": {
    "id": "rN2gNfry7tDp"
   },
   "source": [
    "OpenAI have released an **Agents SDK**, their version of an open source agent development library.\n",
    "\n",
    "OpenAI have outlined a few features of the library:\n",
    "\n",
    "```\n",
    "* Agent loop: Built-in agent loop that handles calling tools, sending results to the LLM, and looping until the LLM is done.\n",
    "* Python-first: Use built-in language features to orchestrate and chain agents, rather than needing to learn new abstractions.\n",
    "* Handoffs: A powerful feature to coordinate and delegate between multiple agents.\n",
    "* Guardrails: Run input validations and checks in parallel to your agents, breaking early if the checks fail.\n",
    "* Function tools: Turn any Python function into a tool, with automatic schema generation and Pydantic-powered validation.\n",
    "* Tracing: Built-in tracing that lets you visualize, debug and monitor your workflows, as well as use the OpenAI suite of evaluation, fine-tuning and distillation tools.\n",
    "```\n",
    "\n",
    "([source](https://openai.github.io/openai-agents-python/))\n",
    "\n",
    "**Note**: this notebook is inspired by this [Agents SDK intro](https://github.com/aurelio-labs/cookbook/blob/main/gen-ai/openai/agents-sdk-intro.ipynb) notebook and adapted to my Online Bank's [Customer Onboarding Case](https://github.com/BittnerPierre/AI-Agent-Casebook)\n",
    "\n",
    "Original notebook focus on covering the essentials - including the **agent loop**, **python-first**, **guardrails**, **streaming** and **function tools** features.\n",
    "\n",
    "This version has been extended to : \n",
    "\n",
    "- **File Search Tool** (RAG Agent), \n",
    "- **Handsoffs**, \n",
    "- **Context Management**, \n",
    "- **Agent Visualization**, \n",
    "- **Tracing**, \n",
    "- **Dynamic Instructions**\n",
    "\n",
    "What are we building to day: \n",
    "\n",
    "<img src=\"../res/Schema_Fonctionnel.png\" alt=\"schema\" width=\"400\"  style=\"background-color: white; padding: 5px;\"/>\n",
    "\n",
    "Note: DB access is not covered in this notebook.\n",
    "\n",
    "Let's start by installing the library:"
   ]
  },
  {
   "cell_type": "code",
   "execution_count": 1,
   "metadata": {
    "id": "3aqSlMc27noo"
   },
   "outputs": [],
   "source": [
    "#!pip install -qU openai-agents==0.0.9 openai-agents[viz] \n",
    "## requires libraries  graphviz (brew install graphviz)"
   ]
  },
  {
   "cell_type": "markdown",
   "metadata": {
    "id": "nBGHkh7nBVHp"
   },
   "source": [
    "First let's set our [OpenAI API key](https://platform.openai.com/settings/organization/api-keys).\n",
    "\n",
    "Note: I'm using .env file."
   ]
  },
  {
   "cell_type": "code",
   "execution_count": 2,
   "metadata": {
    "colab": {
     "base_uri": "https://localhost:8080/"
    },
    "id": "Kwpk_H5_BnAl",
    "outputId": "89f732f4-db60-4b68-e937-f95ec84cdaeb"
   },
   "outputs": [],
   "source": [
    "import os\n",
    "from getpass import getpass\n",
    "from dotenv import load_dotenv, find_dotenv\n",
    "\n",
    "# Import key from .env\n",
    "_ = load_dotenv(find_dotenv())\n",
    "\n",
    "def _set_env(var: str):\n",
    "    if not os.environ.get(var):\n",
    "        os.environ[var] = getpass.getpass(f\"{var}: \")\n",
    "\n",
    "_set_env(\"OPENAI_API_KEY\")"
   ]
  },
  {
   "cell_type": "markdown",
   "metadata": {},
   "source": [
    "## Agent definition"
   ]
  },
  {
   "cell_type": "code",
   "execution_count": 3,
   "metadata": {
    "id": "lqkaleTAAjHK"
   },
   "outputs": [],
   "source": [
    "from agents import Agent, Runner\n",
    "\n",
    "agent = Agent(\n",
    "    name=\"customer_support_agent\",\n",
    "    instructions=\"You're a helpful customer onboarding AI assistant for an online bank. \"\n",
    "      \"Your goal is to answer questions on products and services offered by the company\"\n",
    "      \" AND to solve issues with web and mobile app during onboarding process.\"\n",
    "      \" Answer by a single sentence whenever possible.\",\n",
    "    model=\"gpt-4o-mini\",\n",
    ")"
   ]
  },
  {
   "cell_type": "markdown",
   "metadata": {
    "id": "0-zOBFhAEROm"
   },
   "source": [
    "## Running our Agent"
   ]
  },
  {
   "cell_type": "markdown",
   "metadata": {
    "id": "dWO4ozC8ETNK"
   },
   "source": [
    "OpenAI gives us three methods for running our agent, all via a `Runner` class — those methods are:\n",
    "\n",
    "1. `Runner.run()` which runs in async.\n",
    "2. `Runner.run_sync()` which runs in sync.\n",
    "3. `Runner.run_streamed()` which runs in async _and_ streams the response back to us.\n",
    "\n",
    "We'll quicky test method **(1)**:"
   ]
  },
  {
   "cell_type": "code",
   "execution_count": 4,
   "metadata": {
    "colab": {
     "base_uri": "https://localhost:8080/",
     "height": 229
    },
    "id": "Bjn-gyR9BIn-",
    "outputId": "4d2f3062-7d78-4dae-8b1e-ecfebb594ba7"
   },
   "outputs": [
    {
     "data": {
      "text/plain": [
       "'A credit card allows you to borrow money up to a certain limit to make purchases, while a debit card withdraws funds directly from your bank account.'"
      ]
     },
     "execution_count": 4,
     "metadata": {},
     "output_type": "execute_result"
    }
   ],
   "source": [
    "result = await Runner.run(\n",
    "    starting_agent=agent,\n",
    "    input=\"What is the difference between a CREDIT card and a DEBIT card?\"\n",
    ")\n",
    "result.final_output"
   ]
  },
  {
   "cell_type": "markdown",
   "metadata": {
    "id": "W5_yue8fE4eX"
   },
   "source": [
    "In most scenarios we'll likely want to be using method **(3)**, ie running async and streaming tokens. To do this we need to write a little more code to handle the async streaming and print the tokens as they're returned.\n",
    "\n",
    "First, we create a `RunResultStreaming` object by calling `Runner.run_streamed(...)`, we then _asynchronously_ iterate through the streamed events returned by our LLM using the `response.stream_events()` method:"
   ]
  },
  {
   "cell_type": "code",
   "execution_count": 5,
   "metadata": {
    "colab": {
     "base_uri": "https://localhost:8080/"
    },
    "id": "bBnhUepDBPHM",
    "outputId": "043f936a-7aea-4ec8-fdfd-a7aeb9ea2f39"
   },
   "outputs": [
    {
     "name": "stdout",
     "output_type": "stream",
     "text": [
      "AgentUpdatedStreamEvent(new_agent=Agent(name='customer_support_agent', instructions=\"You're a helpful customer onboarding AI assistant for an online bank. Your goal is to answer questions on products and services offered by the company AND to solve issues with web and mobile app during onboarding process. Answer by a single sentence whenever possible.\", handoff_description=None, handoffs=[], model='gpt-4o-mini', model_settings=ModelSettings(temperature=None, top_p=None, frequency_penalty=None, presence_penalty=None, tool_choice=None, parallel_tool_calls=None, truncation=None, max_tokens=None, reasoning=None, metadata=None, store=None), tools=[], mcp_servers=[], mcp_config={}, input_guardrails=[], output_guardrails=[], output_type=None, hooks=None, tool_use_behavior='run_llm_again', reset_tool_choice=True), type='agent_updated_stream_event')\n",
      "RawResponsesStreamEvent(data=ResponseCreatedEvent(response=Response(id='resp_67f7e7fd53e881929c22dc04cad6fe640adcfaa9cc6fd900', created_at=1744300029.0, error=None, incomplete_details=None, instructions=\"You're a helpful customer onboarding AI assistant for an online bank. Your goal is to answer questions on products and services offered by the company AND to solve issues with web and mobile app during onboarding process. Answer by a single sentence whenever possible.\", metadata={}, model='gpt-4o-mini-2024-07-18', object='response', output=[], parallel_tool_calls=True, temperature=1.0, tool_choice='auto', tools=[], top_p=1.0, max_output_tokens=None, previous_response_id=None, reasoning=Reasoning(effort=None, generate_summary=None), status='in_progress', text=ResponseTextConfig(format=ResponseFormatText(type='text')), truncation='disabled', usage=None, user=None, store=True), type='response.created'), type='raw_response_event')\n",
      "RawResponsesStreamEvent(data=ResponseInProgressEvent(response=Response(id='resp_67f7e7fd53e881929c22dc04cad6fe640adcfaa9cc6fd900', created_at=1744300029.0, error=None, incomplete_details=None, instructions=\"You're a helpful customer onboarding AI assistant for an online bank. Your goal is to answer questions on products and services offered by the company AND to solve issues with web and mobile app during onboarding process. Answer by a single sentence whenever possible.\", metadata={}, model='gpt-4o-mini-2024-07-18', object='response', output=[], parallel_tool_calls=True, temperature=1.0, tool_choice='auto', tools=[], top_p=1.0, max_output_tokens=None, previous_response_id=None, reasoning=Reasoning(effort=None, generate_summary=None), status='in_progress', text=ResponseTextConfig(format=ResponseFormatText(type='text')), truncation='disabled', usage=None, user=None, store=True), type='response.in_progress'), type='raw_response_event')\n",
      "RawResponsesStreamEvent(data=ResponseOutputItemAddedEvent(item=ResponseOutputMessage(id='msg_67f7e7fdaff0819299a116a91f4f1c820adcfaa9cc6fd900', content=[], role='assistant', status='in_progress', type='message'), output_index=0, type='response.output_item.added'), type='raw_response_event')\n",
      "RawResponsesStreamEvent(data=ResponseContentPartAddedEvent(content_index=0, item_id='msg_67f7e7fdaff0819299a116a91f4f1c820adcfaa9cc6fd900', output_index=0, part=ResponseOutputText(annotations=[], text='', type='output_text'), type='response.content_part.added'), type='raw_response_event')\n",
      "RawResponsesStreamEvent(data=ResponseTextDeltaEvent(content_index=0, delta='Bonjour', item_id='msg_67f7e7fdaff0819299a116a91f4f1c820adcfaa9cc6fd900', output_index=0, type='response.output_text.delta'), type='raw_response_event')\n",
      "RawResponsesStreamEvent(data=ResponseTextDeltaEvent(content_index=0, delta=' !', item_id='msg_67f7e7fdaff0819299a116a91f4f1c820adcfaa9cc6fd900', output_index=0, type='response.output_text.delta'), type='raw_response_event')\n",
      "RawResponsesStreamEvent(data=ResponseTextDeltaEvent(content_index=0, delta=' Vous', item_id='msg_67f7e7fdaff0819299a116a91f4f1c820adcfaa9cc6fd900', output_index=0, type='response.output_text.delta'), type='raw_response_event')\n",
      "RawResponsesStreamEvent(data=ResponseTextDeltaEvent(content_index=0, delta=' pouvez', item_id='msg_67f7e7fdaff0819299a116a91f4f1c820adcfaa9cc6fd900', output_index=0, type='response.output_text.delta'), type='raw_response_event')\n",
      "RawResponsesStreamEvent(data=ResponseTextDeltaEvent(content_index=0, delta=' ouvrir', item_id='msg_67f7e7fdaff0819299a116a91f4f1c820adcfaa9cc6fd900', output_index=0, type='response.output_text.delta'), type='raw_response_event')\n",
      "RawResponsesStreamEvent(data=ResponseTextDeltaEvent(content_index=0, delta=' un', item_id='msg_67f7e7fdaff0819299a116a91f4f1c820adcfaa9cc6fd900', output_index=0, type='response.output_text.delta'), type='raw_response_event')\n",
      "RawResponsesStreamEvent(data=ResponseTextDeltaEvent(content_index=0, delta=' compte', item_id='msg_67f7e7fdaff0819299a116a91f4f1c820adcfaa9cc6fd900', output_index=0, type='response.output_text.delta'), type='raw_response_event')\n",
      "RawResponsesStreamEvent(data=ResponseTextDeltaEvent(content_index=0, delta=' bancaire', item_id='msg_67f7e7fdaff0819299a116a91f4f1c820adcfaa9cc6fd900', output_index=0, type='response.output_text.delta'), type='raw_response_event')\n",
      "RawResponsesStreamEvent(data=ResponseTextDeltaEvent(content_index=0, delta=' rapidement', item_id='msg_67f7e7fdaff0819299a116a91f4f1c820adcfaa9cc6fd900', output_index=0, type='response.output_text.delta'), type='raw_response_event')\n",
      "RawResponsesStreamEvent(data=ResponseTextDeltaEvent(content_index=0, delta=' en', item_id='msg_67f7e7fdaff0819299a116a91f4f1c820adcfaa9cc6fd900', output_index=0, type='response.output_text.delta'), type='raw_response_event')\n",
      "RawResponsesStreamEvent(data=ResponseTextDeltaEvent(content_index=0, delta=' rempl', item_id='msg_67f7e7fdaff0819299a116a91f4f1c820adcfaa9cc6fd900', output_index=0, type='response.output_text.delta'), type='raw_response_event')\n",
      "RawResponsesStreamEvent(data=ResponseTextDeltaEvent(content_index=0, delta='issant', item_id='msg_67f7e7fdaff0819299a116a91f4f1c820adcfaa9cc6fd900', output_index=0, type='response.output_text.delta'), type='raw_response_event')\n",
      "RawResponsesStreamEvent(data=ResponseTextDeltaEvent(content_index=0, delta=' le', item_id='msg_67f7e7fdaff0819299a116a91f4f1c820adcfaa9cc6fd900', output_index=0, type='response.output_text.delta'), type='raw_response_event')\n",
      "RawResponsesStreamEvent(data=ResponseTextDeltaEvent(content_index=0, delta=' formulaire', item_id='msg_67f7e7fdaff0819299a116a91f4f1c820adcfaa9cc6fd900', output_index=0, type='response.output_text.delta'), type='raw_response_event')\n",
      "RawResponsesStreamEvent(data=ResponseTextDeltaEvent(content_index=0, delta=' d', item_id='msg_67f7e7fdaff0819299a116a91f4f1c820adcfaa9cc6fd900', output_index=0, type='response.output_text.delta'), type='raw_response_event')\n",
      "RawResponsesStreamEvent(data=ResponseTextDeltaEvent(content_index=0, delta=\"'inscription\", item_id='msg_67f7e7fdaff0819299a116a91f4f1c820adcfaa9cc6fd900', output_index=0, type='response.output_text.delta'), type='raw_response_event')\n",
      "RawResponsesStreamEvent(data=ResponseTextDeltaEvent(content_index=0, delta=' sur', item_id='msg_67f7e7fdaff0819299a116a91f4f1c820adcfaa9cc6fd900', output_index=0, type='response.output_text.delta'), type='raw_response_event')\n",
      "RawResponsesStreamEvent(data=ResponseTextDeltaEvent(content_index=0, delta=' notre', item_id='msg_67f7e7fdaff0819299a116a91f4f1c820adcfaa9cc6fd900', output_index=0, type='response.output_text.delta'), type='raw_response_event')\n",
      "RawResponsesStreamEvent(data=ResponseTextDeltaEvent(content_index=0, delta=' site', item_id='msg_67f7e7fdaff0819299a116a91f4f1c820adcfaa9cc6fd900', output_index=0, type='response.output_text.delta'), type='raw_response_event')\n",
      "RawResponsesStreamEvent(data=ResponseTextDeltaEvent(content_index=0, delta=' ou', item_id='msg_67f7e7fdaff0819299a116a91f4f1c820adcfaa9cc6fd900', output_index=0, type='response.output_text.delta'), type='raw_response_event')\n",
      "RawResponsesStreamEvent(data=ResponseTextDeltaEvent(content_index=0, delta=' via', item_id='msg_67f7e7fdaff0819299a116a91f4f1c820adcfaa9cc6fd900', output_index=0, type='response.output_text.delta'), type='raw_response_event')\n",
      "RawResponsesStreamEvent(data=ResponseTextDeltaEvent(content_index=0, delta=' notre', item_id='msg_67f7e7fdaff0819299a116a91f4f1c820adcfaa9cc6fd900', output_index=0, type='response.output_text.delta'), type='raw_response_event')\n",
      "RawResponsesStreamEvent(data=ResponseTextDeltaEvent(content_index=0, delta=' application', item_id='msg_67f7e7fdaff0819299a116a91f4f1c820adcfaa9cc6fd900', output_index=0, type='response.output_text.delta'), type='raw_response_event')\n",
      "RawResponsesStreamEvent(data=ResponseTextDeltaEvent(content_index=0, delta=' mobile', item_id='msg_67f7e7fdaff0819299a116a91f4f1c820adcfaa9cc6fd900', output_index=0, type='response.output_text.delta'), type='raw_response_event')\n",
      "RawResponsesStreamEvent(data=ResponseTextDeltaEvent(content_index=0, delta='.', item_id='msg_67f7e7fdaff0819299a116a91f4f1c820adcfaa9cc6fd900', output_index=0, type='response.output_text.delta'), type='raw_response_event')\n",
      "RawResponsesStreamEvent(data=ResponseTextDoneEvent(content_index=0, item_id='msg_67f7e7fdaff0819299a116a91f4f1c820adcfaa9cc6fd900', output_index=0, text=\"Bonjour ! Vous pouvez ouvrir un compte bancaire rapidement en remplissant le formulaire d'inscription sur notre site ou via notre application mobile.\", type='response.output_text.done'), type='raw_response_event')\n",
      "RawResponsesStreamEvent(data=ResponseContentPartDoneEvent(content_index=0, item_id='msg_67f7e7fdaff0819299a116a91f4f1c820adcfaa9cc6fd900', output_index=0, part=ResponseOutputText(annotations=[], text=\"Bonjour ! Vous pouvez ouvrir un compte bancaire rapidement en remplissant le formulaire d'inscription sur notre site ou via notre application mobile.\", type='output_text'), type='response.content_part.done'), type='raw_response_event')\n",
      "RawResponsesStreamEvent(data=ResponseOutputItemDoneEvent(item=ResponseOutputMessage(id='msg_67f7e7fdaff0819299a116a91f4f1c820adcfaa9cc6fd900', content=[ResponseOutputText(annotations=[], text=\"Bonjour ! Vous pouvez ouvrir un compte bancaire rapidement en remplissant le formulaire d'inscription sur notre site ou via notre application mobile.\", type='output_text')], role='assistant', status='completed', type='message'), output_index=0, type='response.output_item.done'), type='raw_response_event')\n",
      "RawResponsesStreamEvent(data=ResponseCompletedEvent(response=Response(id='resp_67f7e7fd53e881929c22dc04cad6fe640adcfaa9cc6fd900', created_at=1744300029.0, error=None, incomplete_details=None, instructions=\"You're a helpful customer onboarding AI assistant for an online bank. Your goal is to answer questions on products and services offered by the company AND to solve issues with web and mobile app during onboarding process. Answer by a single sentence whenever possible.\", metadata={}, model='gpt-4o-mini-2024-07-18', object='response', output=[ResponseOutputMessage(id='msg_67f7e7fdaff0819299a116a91f4f1c820adcfaa9cc6fd900', content=[ResponseOutputText(annotations=[], text=\"Bonjour ! Vous pouvez ouvrir un compte bancaire rapidement en remplissant le formulaire d'inscription sur notre site ou via notre application mobile.\", type='output_text')], role='assistant', status='completed', type='message')], parallel_tool_calls=True, temperature=1.0, tool_choice='auto', tools=[], top_p=1.0, max_output_tokens=None, previous_response_id=None, reasoning=Reasoning(effort=None, generate_summary=None), status='completed', text=ResponseTextConfig(format=ResponseFormatText(type='text')), truncation='disabled', usage=ResponseUsage(input_tokens=68, input_tokens_details=InputTokensDetails(cached_tokens=0), output_tokens=26, output_tokens_details=OutputTokensDetails(reasoning_tokens=0), total_tokens=94), user=None, store=True), type='response.completed'), type='raw_response_event')\n",
      "RunItemStreamEvent(name='message_output_created', item=MessageOutputItem(agent=Agent(name='customer_support_agent', instructions=\"You're a helpful customer onboarding AI assistant for an online bank. Your goal is to answer questions on products and services offered by the company AND to solve issues with web and mobile app during onboarding process. Answer by a single sentence whenever possible.\", handoff_description=None, handoffs=[], model='gpt-4o-mini', model_settings=ModelSettings(temperature=None, top_p=None, frequency_penalty=None, presence_penalty=None, tool_choice=None, parallel_tool_calls=None, truncation=None, max_tokens=None, reasoning=None, metadata=None, store=None), tools=[], mcp_servers=[], mcp_config={}, input_guardrails=[], output_guardrails=[], output_type=None, hooks=None, tool_use_behavior='run_llm_again', reset_tool_choice=True), raw_item=ResponseOutputMessage(id='msg_67f7e7fdaff0819299a116a91f4f1c820adcfaa9cc6fd900', content=[ResponseOutputText(annotations=[], text=\"Bonjour ! Vous pouvez ouvrir un compte bancaire rapidement en remplissant le formulaire d'inscription sur notre site ou via notre application mobile.\", type='output_text')], role='assistant', status='completed', type='message'), type='message_output_item'), type='run_item_stream_event')\n"
     ]
    }
   ],
   "source": [
    "response = Runner.run_streamed(\n",
    "    starting_agent=agent,\n",
    "    input=\"Bonjour, je dois ouvrir un compte bancaire rapidement.\"\n",
    ")\n",
    "async for event in response.stream_events():\n",
    "    print(event)"
   ]
  },
  {
   "cell_type": "markdown",
   "metadata": {
    "id": "iH-RoQfzMj6T"
   },
   "source": [
    "We can filter these various event types to find only raw tokens like so:"
   ]
  },
  {
   "cell_type": "code",
   "execution_count": 6,
   "metadata": {
    "colab": {
     "base_uri": "https://localhost:8080/"
    },
    "id": "dGQANyvXG9zJ",
    "outputId": "8f64469d-fe14-4d74-be40-6a0d0af51848"
   },
   "outputs": [
    {
     "name": "stdout",
     "output_type": "stream",
     "text": [
      "Bonjour ! Vous pouvez ouvrir un compte bancaire en ligne en remplissant notre formulaire d'inscription sur le site ou l'application mobile."
     ]
    }
   ],
   "source": [
    "from openai.types.responses import ResponseTextDeltaEvent\n",
    "\n",
    "# we do need to reinitialize our runner before re-executing\n",
    "response = Runner.run_streamed(\n",
    "    starting_agent=agent,\n",
    "    input=\"Bonjour, je dois ouvrir un compte bancaire rapidement.\"\n",
    ")\n",
    "\n",
    "async for event in response.stream_events():\n",
    "    if event.type == \"raw_response_event\" and \\\n",
    "        isinstance(event.data, ResponseTextDeltaEvent):\n",
    "        print(event.data.delta, end=\"\", flush=True)"
   ]
  },
  {
   "cell_type": "markdown",
   "metadata": {
    "id": "9Iixlv0sRMqr"
   },
   "source": [
    "## Tools"
   ]
  },
  {
   "cell_type": "markdown",
   "metadata": {
    "id": "kDHORYUcROZn"
   },
   "source": [
    "OpenAI included **function tools** as a key feature in their Agents SDK announcement. After turning everyone away from using _function calling_ to instead use _tool calling_, OpenAI have now decided that an LLM deciding to execute some code will be called _\"function tools\"_.\n",
    "\n",
    "To use _function tools_ in Agents SDK we simply decorate a function with the `@function_tool` decorator like so:"
   ]
  },
  {
   "cell_type": "code",
   "execution_count": 7,
   "metadata": {
    "id": "tJz7BlwiNOa3"
   },
   "outputs": [],
   "source": [
    "from agents import function_tool\n",
    "\n",
    "@function_tool\n",
    "def eligibility_checker(\n",
    "    nationality: str,\n",
    "    age: int,\n",
    "    has_eu_bank_account: bool\n",
    ") -> str:\n",
    "    \"\"\"\n",
    "    Checks if the user is eligible to open an account.\n",
    "\n",
    "    - nationality: nationality (e.g., 'French', 'Belgian', etc.).\n",
    "    - age: age in years.\n",
    "    - has_eu_bank_account: True/False if the user already has\n",
    "    a bank account in an EU country.\n",
    "\n",
    "    Return: a text indicating \"Eligible\" or \"Not Eligible\".\n",
    "    \"\"\"\n",
    "\n",
    "    # Règles simplifiées, vous adaptez à la réalité\n",
    "    # 1. Être majeur (>=18 ans)\n",
    "    # 2. Être de nationalité d'un pays de l'UE (on se limite à un set)\n",
    "    # 3. Posséder déjà un compte bancaire dans l'UE\n",
    "\n",
    "    EU_NATIONALITIES = {\n",
    "        \"française\", \"francais\", \"french\", \"belgium\", \"belge\", \"allemande\", \"german\", \"italienne\", \"italian\",\n",
    "        \"espagnole\", \"spanish\", \"portugaise\", \"luxembourgeoise\",  # etc.\n",
    "    }\n",
    "\n",
    "    # Convertir pour simplifier la comparaison\n",
    "    nat_lower = nationality.lower().replace(\" \", \"\")\n",
    "\n",
    "    if age < 18:\n",
    "        return \"Non Eligible : l'utilisateur doit être majeur.\"\n",
    "    if nat_lower not in EU_NATIONALITIES:\n",
    "        return \"Non Eligible : la nationalité doit être européenne.\"\n",
    "    if not has_eu_bank_account:\n",
    "        return \"Non Eligible : l'utilisateur doit posséder un compte bancaire dans l'UE.\"\n",
    "    \n",
    "    return \"Eligible\""
   ]
  },
  {
   "cell_type": "markdown",
   "metadata": {
    "id": "I8b8KektTQbK"
   },
   "source": [
    "Note that we have taken extra care to include a clear and descriptive function name, relatively clear parameter names, type annotations for both input parameters and expected output, and a natural language docstring that will be fed to the LLM and explain to it _what_ this tool does.\n",
    "\n",
    "To run our agent _with_ tools we simply pass our new tool into the `tools` parameter during `Agent` initialization."
   ]
  },
  {
   "cell_type": "code",
   "execution_count": 8,
   "metadata": {
    "id": "WnT4C9WBTO_M"
   },
   "outputs": [],
   "source": [
    "agent = Agent(\n",
    "    name=\"customer_support_agent\",\n",
    "    instructions=(\n",
    "        \"You are an AI assistant in charge of customer onboarding for an online bank.\\n\"\n",
    "        \"You answer questions about offers and services.\\n\"\n",
    "        \"You can also verify a prospect's eligibility.\\n\"\n",
    "        \"For this, call the eligibility checker function if the user \"\n",
    "        \"provides information about their nationality, age and whether they have \"\n",
    "        \"a European bank account.\\n\"\n",
    "        \"DO NOT invent additional rules.\\n\"\n",
    "        \"If the user is eligible, indicate it clearly, otherwise explain the reason.\\n\"\n",
    "        \"Never reveal the exact function name or its internal logic.\\n\"\n",
    "    ),\n",
    "    model=\"gpt-4o-mini\",\n",
    "    tools=[eligibility_checker]  # note that we expect a list of tools\n",
    ")"
   ]
  },
  {
   "cell_type": "markdown",
   "metadata": {
    "id": "VtioNxflUS-s"
   },
   "source": [
    "Now let's initialize a new runner and execute our agent with tools:"
   ]
  },
  {
   "cell_type": "code",
   "execution_count": 9,
   "metadata": {},
   "outputs": [
    {
     "name": "stdout",
     "output_type": "stream",
     "text": [
      "Final response:\n",
      " Malheureusement, vous n'êtes pas éligible pour ouvrir un compte. Bien que vous soyez Français, il semble que la nationalité doit être d'un autre pays européen. Si vous avez d'autres questions ou si vous souhaitez plus d'informations, n'hésitez pas à demander !\n"
     ]
    }
   ],
   "source": [
    "from agents import Runner\n",
    "\n",
    "\n",
    "result = await Runner.run(\n",
    "    starting_agent=agent,\n",
    "    input=\"Salut, je suis français, j'ai 25 ans et j'ai déjà un compte en Belgique. Suis-je éligible ?\"\n",
    ")\n",
    "print(\"Final response:\\n\", result.final_output)"
   ]
  },
  {
   "cell_type": "markdown",
   "metadata": {},
   "source": [
    "#### WorkFlow\n",
    "\n",
    "1. The agent reads the request.\n",
    "1. It sees it can call eligibility_checker with nationality=\"French\", age=25, has_eu_bank_account=True.\n",
    "1. The function returns \"Eligible\".\n",
    "\n",
    "The agent sends back to the user a message like \"Yes, you are eligible...\""
   ]
  },
  {
   "cell_type": "code",
   "execution_count": 10,
   "metadata": {},
   "outputs": [
    {
     "name": "stdout",
     "output_type": "stream",
     "text": [
      "AgentUpdatedStreamEvent(new_agent=Agent(name='customer_support_agent', instructions=\"You are an AI assistant in charge of customer onboarding for an online bank.\\nYou answer questions about offers and services.\\nYou can also verify a prospect's eligibility.\\nFor this, call the eligibility checker function if the user provides information about their nationality, age and whether they have a European bank account.\\nDO NOT invent additional rules.\\nIf the user is eligible, indicate it clearly, otherwise explain the reason.\\nNever reveal the exact function name or its internal logic.\\n\", handoff_description=None, handoffs=[], model='gpt-4o-mini', model_settings=ModelSettings(temperature=None, top_p=None, frequency_penalty=None, presence_penalty=None, tool_choice=None, parallel_tool_calls=None, truncation=None, max_tokens=None, reasoning=None, metadata=None, store=None), tools=[FunctionTool(name='eligibility_checker', description='Checks if the user is eligible to open an account.\\n\\n- nationality: nationality (e.g., \\'French\\', \\'Belgian\\', etc.).\\n- age: age in years.\\n- has_eu_bank_account: True/False if the user already has\\na bank account in an EU country.\\n\\nReturn: a text indicating \"Eligible\" or \"Not Eligible\".', params_json_schema={'properties': {'nationality': {'title': 'Nationality', 'type': 'string'}, 'age': {'title': 'Age', 'type': 'integer'}, 'has_eu_bank_account': {'title': 'Has Eu Bank Account', 'type': 'boolean'}}, 'required': ['nationality', 'age', 'has_eu_bank_account'], 'title': 'eligibility_checker_args', 'type': 'object', 'additionalProperties': False}, on_invoke_tool=<function function_tool.<locals>._create_function_tool.<locals>._on_invoke_tool at 0x120371260>, strict_json_schema=True)], mcp_servers=[], mcp_config={}, input_guardrails=[], output_guardrails=[], output_type=None, hooks=None, tool_use_behavior='run_llm_again', reset_tool_choice=True), type='agent_updated_stream_event')\n",
      "RawResponsesStreamEvent(data=ResponseCreatedEvent(response=Response(id='resp_67f7e80570288192922339989246c26f091f59eb51d9abbc', created_at=1744300037.0, error=None, incomplete_details=None, instructions=\"You are an AI assistant in charge of customer onboarding for an online bank.\\nYou answer questions about offers and services.\\nYou can also verify a prospect's eligibility.\\nFor this, call the eligibility checker function if the user provides information about their nationality, age and whether they have a European bank account.\\nDO NOT invent additional rules.\\nIf the user is eligible, indicate it clearly, otherwise explain the reason.\\nNever reveal the exact function name or its internal logic.\\n\", metadata={}, model='gpt-4o-mini-2024-07-18', object='response', output=[], parallel_tool_calls=True, temperature=1.0, tool_choice='auto', tools=[FunctionTool(name='eligibility_checker', parameters={'properties': {'nationality': {'title': 'Nationality', 'type': 'string'}, 'age': {'title': 'Age', 'type': 'integer'}, 'has_eu_bank_account': {'title': 'Has Eu Bank Account', 'type': 'boolean'}}, 'required': ['nationality', 'age', 'has_eu_bank_account'], 'title': 'eligibility_checker_args', 'type': 'object', 'additionalProperties': False}, strict=True, type='function', description='Checks if the user is eligible to open an account.\\n\\n- nationality: nationality (e.g., \\'French\\', \\'Belgian\\', etc.).\\n- age: age in years.\\n- has_eu_bank_account: True/False if the user already has\\na bank account in an EU country.\\n\\nReturn: a text indicating \"Eligible\" or \"Not Eligible\".')], top_p=1.0, max_output_tokens=None, previous_response_id=None, reasoning=Reasoning(effort=None, generate_summary=None), status='in_progress', text=ResponseTextConfig(format=ResponseFormatText(type='text')), truncation='disabled', usage=None, user=None, store=True), type='response.created'), type='raw_response_event')\n",
      "RawResponsesStreamEvent(data=ResponseInProgressEvent(response=Response(id='resp_67f7e80570288192922339989246c26f091f59eb51d9abbc', created_at=1744300037.0, error=None, incomplete_details=None, instructions=\"You are an AI assistant in charge of customer onboarding for an online bank.\\nYou answer questions about offers and services.\\nYou can also verify a prospect's eligibility.\\nFor this, call the eligibility checker function if the user provides information about their nationality, age and whether they have a European bank account.\\nDO NOT invent additional rules.\\nIf the user is eligible, indicate it clearly, otherwise explain the reason.\\nNever reveal the exact function name or its internal logic.\\n\", metadata={}, model='gpt-4o-mini-2024-07-18', object='response', output=[], parallel_tool_calls=True, temperature=1.0, tool_choice='auto', tools=[FunctionTool(name='eligibility_checker', parameters={'properties': {'nationality': {'title': 'Nationality', 'type': 'string'}, 'age': {'title': 'Age', 'type': 'integer'}, 'has_eu_bank_account': {'title': 'Has Eu Bank Account', 'type': 'boolean'}}, 'required': ['nationality', 'age', 'has_eu_bank_account'], 'title': 'eligibility_checker_args', 'type': 'object', 'additionalProperties': False}, strict=True, type='function', description='Checks if the user is eligible to open an account.\\n\\n- nationality: nationality (e.g., \\'French\\', \\'Belgian\\', etc.).\\n- age: age in years.\\n- has_eu_bank_account: True/False if the user already has\\na bank account in an EU country.\\n\\nReturn: a text indicating \"Eligible\" or \"Not Eligible\".')], top_p=1.0, max_output_tokens=None, previous_response_id=None, reasoning=Reasoning(effort=None, generate_summary=None), status='in_progress', text=ResponseTextConfig(format=ResponseFormatText(type='text')), truncation='disabled', usage=None, user=None, store=True), type='response.in_progress'), type='raw_response_event')\n",
      "RawResponsesStreamEvent(data=ResponseOutputItemAddedEvent(item=ResponseFunctionToolCall(arguments='', call_id='call_Zq0xiHvQ43A5yPYnCspBGaNd', name='eligibility_checker', type='function_call', id='fc_67f7e806cf7c81928207611849d35970091f59eb51d9abbc', status='in_progress'), output_index=0, type='response.output_item.added'), type='raw_response_event')\n",
      "RawResponsesStreamEvent(data=ResponseFunctionCallArgumentsDeltaEvent(delta='{\"', item_id='fc_67f7e806cf7c81928207611849d35970091f59eb51d9abbc', output_index=0, type='response.function_call_arguments.delta'), type='raw_response_event')\n",
      "RawResponsesStreamEvent(data=ResponseFunctionCallArgumentsDeltaEvent(delta='national', item_id='fc_67f7e806cf7c81928207611849d35970091f59eb51d9abbc', output_index=0, type='response.function_call_arguments.delta'), type='raw_response_event')\n",
      "RawResponsesStreamEvent(data=ResponseFunctionCallArgumentsDeltaEvent(delta='ity', item_id='fc_67f7e806cf7c81928207611849d35970091f59eb51d9abbc', output_index=0, type='response.function_call_arguments.delta'), type='raw_response_event')\n",
      "RawResponsesStreamEvent(data=ResponseFunctionCallArgumentsDeltaEvent(delta='\":\"', item_id='fc_67f7e806cf7c81928207611849d35970091f59eb51d9abbc', output_index=0, type='response.function_call_arguments.delta'), type='raw_response_event')\n",
      "RawResponsesStreamEvent(data=ResponseFunctionCallArgumentsDeltaEvent(delta='French', item_id='fc_67f7e806cf7c81928207611849d35970091f59eb51d9abbc', output_index=0, type='response.function_call_arguments.delta'), type='raw_response_event')\n",
      "RawResponsesStreamEvent(data=ResponseFunctionCallArgumentsDeltaEvent(delta='\",\"', item_id='fc_67f7e806cf7c81928207611849d35970091f59eb51d9abbc', output_index=0, type='response.function_call_arguments.delta'), type='raw_response_event')\n",
      "RawResponsesStreamEvent(data=ResponseFunctionCallArgumentsDeltaEvent(delta='age', item_id='fc_67f7e806cf7c81928207611849d35970091f59eb51d9abbc', output_index=0, type='response.function_call_arguments.delta'), type='raw_response_event')\n",
      "RawResponsesStreamEvent(data=ResponseFunctionCallArgumentsDeltaEvent(delta='\":', item_id='fc_67f7e806cf7c81928207611849d35970091f59eb51d9abbc', output_index=0, type='response.function_call_arguments.delta'), type='raw_response_event')\n",
      "RawResponsesStreamEvent(data=ResponseFunctionCallArgumentsDeltaEvent(delta='25', item_id='fc_67f7e806cf7c81928207611849d35970091f59eb51d9abbc', output_index=0, type='response.function_call_arguments.delta'), type='raw_response_event')\n",
      "RawResponsesStreamEvent(data=ResponseFunctionCallArgumentsDeltaEvent(delta=',\"', item_id='fc_67f7e806cf7c81928207611849d35970091f59eb51d9abbc', output_index=0, type='response.function_call_arguments.delta'), type='raw_response_event')\n",
      "RawResponsesStreamEvent(data=ResponseFunctionCallArgumentsDeltaEvent(delta='has', item_id='fc_67f7e806cf7c81928207611849d35970091f59eb51d9abbc', output_index=0, type='response.function_call_arguments.delta'), type='raw_response_event')\n",
      "RawResponsesStreamEvent(data=ResponseFunctionCallArgumentsDeltaEvent(delta='_e', item_id='fc_67f7e806cf7c81928207611849d35970091f59eb51d9abbc', output_index=0, type='response.function_call_arguments.delta'), type='raw_response_event')\n",
      "RawResponsesStreamEvent(data=ResponseFunctionCallArgumentsDeltaEvent(delta='u', item_id='fc_67f7e806cf7c81928207611849d35970091f59eb51d9abbc', output_index=0, type='response.function_call_arguments.delta'), type='raw_response_event')\n",
      "RawResponsesStreamEvent(data=ResponseFunctionCallArgumentsDeltaEvent(delta='_bank', item_id='fc_67f7e806cf7c81928207611849d35970091f59eb51d9abbc', output_index=0, type='response.function_call_arguments.delta'), type='raw_response_event')\n",
      "RawResponsesStreamEvent(data=ResponseFunctionCallArgumentsDeltaEvent(delta='_account', item_id='fc_67f7e806cf7c81928207611849d35970091f59eb51d9abbc', output_index=0, type='response.function_call_arguments.delta'), type='raw_response_event')\n",
      "RawResponsesStreamEvent(data=ResponseFunctionCallArgumentsDeltaEvent(delta='\":', item_id='fc_67f7e806cf7c81928207611849d35970091f59eb51d9abbc', output_index=0, type='response.function_call_arguments.delta'), type='raw_response_event')\n",
      "RawResponsesStreamEvent(data=ResponseFunctionCallArgumentsDeltaEvent(delta='false', item_id='fc_67f7e806cf7c81928207611849d35970091f59eb51d9abbc', output_index=0, type='response.function_call_arguments.delta'), type='raw_response_event')\n",
      "RawResponsesStreamEvent(data=ResponseFunctionCallArgumentsDeltaEvent(delta='}', item_id='fc_67f7e806cf7c81928207611849d35970091f59eb51d9abbc', output_index=0, type='response.function_call_arguments.delta'), type='raw_response_event')\n",
      "RawResponsesStreamEvent(data=ResponseFunctionCallArgumentsDoneEvent(arguments='{\"nationality\":\"French\",\"age\":25,\"has_eu_bank_account\":false}', item_id='fc_67f7e806cf7c81928207611849d35970091f59eb51d9abbc', output_index=0, type='response.function_call_arguments.done'), type='raw_response_event')\n",
      "RawResponsesStreamEvent(data=ResponseOutputItemDoneEvent(item=ResponseFunctionToolCall(arguments='{\"nationality\":\"French\",\"age\":25,\"has_eu_bank_account\":false}', call_id='call_Zq0xiHvQ43A5yPYnCspBGaNd', name='eligibility_checker', type='function_call', id='fc_67f7e806cf7c81928207611849d35970091f59eb51d9abbc', status='completed'), output_index=0, type='response.output_item.done'), type='raw_response_event')\n",
      "RawResponsesStreamEvent(data=ResponseCompletedEvent(response=Response(id='resp_67f7e80570288192922339989246c26f091f59eb51d9abbc', created_at=1744300037.0, error=None, incomplete_details=None, instructions=\"You are an AI assistant in charge of customer onboarding for an online bank.\\nYou answer questions about offers and services.\\nYou can also verify a prospect's eligibility.\\nFor this, call the eligibility checker function if the user provides information about their nationality, age and whether they have a European bank account.\\nDO NOT invent additional rules.\\nIf the user is eligible, indicate it clearly, otherwise explain the reason.\\nNever reveal the exact function name or its internal logic.\\n\", metadata={}, model='gpt-4o-mini-2024-07-18', object='response', output=[ResponseFunctionToolCall(arguments='{\"nationality\":\"French\",\"age\":25,\"has_eu_bank_account\":false}', call_id='call_Zq0xiHvQ43A5yPYnCspBGaNd', name='eligibility_checker', type='function_call', id='fc_67f7e806cf7c81928207611849d35970091f59eb51d9abbc', status='completed')], parallel_tool_calls=True, temperature=1.0, tool_choice='auto', tools=[FunctionTool(name='eligibility_checker', parameters={'properties': {'nationality': {'title': 'Nationality', 'type': 'string'}, 'age': {'title': 'Age', 'type': 'integer'}, 'has_eu_bank_account': {'title': 'Has Eu Bank Account', 'type': 'boolean'}}, 'required': ['nationality', 'age', 'has_eu_bank_account'], 'title': 'eligibility_checker_args', 'type': 'object', 'additionalProperties': False}, strict=True, type='function', description='Checks if the user is eligible to open an account.\\n\\n- nationality: nationality (e.g., \\'French\\', \\'Belgian\\', etc.).\\n- age: age in years.\\n- has_eu_bank_account: True/False if the user already has\\na bank account in an EU country.\\n\\nReturn: a text indicating \"Eligible\" or \"Not Eligible\".')], top_p=1.0, max_output_tokens=None, previous_response_id=None, reasoning=Reasoning(effort=None, generate_summary=None), status='completed', text=ResponseTextConfig(format=ResponseFormatText(type='text')), truncation='disabled', usage=ResponseUsage(input_tokens=256, input_tokens_details=InputTokensDetails(cached_tokens=0), output_tokens=30, output_tokens_details=OutputTokensDetails(reasoning_tokens=0), total_tokens=286), user=None, store=True), type='response.completed'), type='raw_response_event')\n",
      "RunItemStreamEvent(name='tool_called', item=ToolCallItem(agent=Agent(name='customer_support_agent', instructions=\"You are an AI assistant in charge of customer onboarding for an online bank.\\nYou answer questions about offers and services.\\nYou can also verify a prospect's eligibility.\\nFor this, call the eligibility checker function if the user provides information about their nationality, age and whether they have a European bank account.\\nDO NOT invent additional rules.\\nIf the user is eligible, indicate it clearly, otherwise explain the reason.\\nNever reveal the exact function name or its internal logic.\\n\", handoff_description=None, handoffs=[], model='gpt-4o-mini', model_settings=ModelSettings(temperature=None, top_p=None, frequency_penalty=None, presence_penalty=None, tool_choice=None, parallel_tool_calls=None, truncation=None, max_tokens=None, reasoning=None, metadata=None, store=None), tools=[FunctionTool(name='eligibility_checker', description='Checks if the user is eligible to open an account.\\n\\n- nationality: nationality (e.g., \\'French\\', \\'Belgian\\', etc.).\\n- age: age in years.\\n- has_eu_bank_account: True/False if the user already has\\na bank account in an EU country.\\n\\nReturn: a text indicating \"Eligible\" or \"Not Eligible\".', params_json_schema={'properties': {'nationality': {'title': 'Nationality', 'type': 'string'}, 'age': {'title': 'Age', 'type': 'integer'}, 'has_eu_bank_account': {'title': 'Has Eu Bank Account', 'type': 'boolean'}}, 'required': ['nationality', 'age', 'has_eu_bank_account'], 'title': 'eligibility_checker_args', 'type': 'object', 'additionalProperties': False}, on_invoke_tool=<function function_tool.<locals>._create_function_tool.<locals>._on_invoke_tool at 0x120371260>, strict_json_schema=True)], mcp_servers=[], mcp_config={}, input_guardrails=[], output_guardrails=[], output_type=None, hooks=None, tool_use_behavior='run_llm_again', reset_tool_choice=True), raw_item=ResponseFunctionToolCall(arguments='{\"nationality\":\"French\",\"age\":25,\"has_eu_bank_account\":false}', call_id='call_Zq0xiHvQ43A5yPYnCspBGaNd', name='eligibility_checker', type='function_call', id='fc_67f7e806cf7c81928207611849d35970091f59eb51d9abbc', status='completed'), type='tool_call_item'), type='run_item_stream_event')\n",
      "RunItemStreamEvent(name='tool_output', item=ToolCallOutputItem(agent=Agent(name='customer_support_agent', instructions=\"You are an AI assistant in charge of customer onboarding for an online bank.\\nYou answer questions about offers and services.\\nYou can also verify a prospect's eligibility.\\nFor this, call the eligibility checker function if the user provides information about their nationality, age and whether they have a European bank account.\\nDO NOT invent additional rules.\\nIf the user is eligible, indicate it clearly, otherwise explain the reason.\\nNever reveal the exact function name or its internal logic.\\n\", handoff_description=None, handoffs=[], model='gpt-4o-mini', model_settings=ModelSettings(temperature=None, top_p=None, frequency_penalty=None, presence_penalty=None, tool_choice=None, parallel_tool_calls=None, truncation=None, max_tokens=None, reasoning=None, metadata=None, store=None), tools=[FunctionTool(name='eligibility_checker', description='Checks if the user is eligible to open an account.\\n\\n- nationality: nationality (e.g., \\'French\\', \\'Belgian\\', etc.).\\n- age: age in years.\\n- has_eu_bank_account: True/False if the user already has\\na bank account in an EU country.\\n\\nReturn: a text indicating \"Eligible\" or \"Not Eligible\".', params_json_schema={'properties': {'nationality': {'title': 'Nationality', 'type': 'string'}, 'age': {'title': 'Age', 'type': 'integer'}, 'has_eu_bank_account': {'title': 'Has Eu Bank Account', 'type': 'boolean'}}, 'required': ['nationality', 'age', 'has_eu_bank_account'], 'title': 'eligibility_checker_args', 'type': 'object', 'additionalProperties': False}, on_invoke_tool=<function function_tool.<locals>._create_function_tool.<locals>._on_invoke_tool at 0x120371260>, strict_json_schema=True)], mcp_servers=[], mcp_config={}, input_guardrails=[], output_guardrails=[], output_type=None, hooks=None, tool_use_behavior='run_llm_again', reset_tool_choice=True), raw_item={'call_id': 'call_Zq0xiHvQ43A5yPYnCspBGaNd', 'output': \"Non Eligible : l'utilisateur doit posséder un compte bancaire dans l'UE.\", 'type': 'function_call_output'}, output=\"Non Eligible : l'utilisateur doit posséder un compte bancaire dans l'UE.\", type='tool_call_output_item'), type='run_item_stream_event')\n",
      "RawResponsesStreamEvent(data=ResponseCreatedEvent(response=Response(id='resp_67f7e80786388192914296041a3f0ab1091f59eb51d9abbc', created_at=1744300039.0, error=None, incomplete_details=None, instructions=\"You are an AI assistant in charge of customer onboarding for an online bank.\\nYou answer questions about offers and services.\\nYou can also verify a prospect's eligibility.\\nFor this, call the eligibility checker function if the user provides information about their nationality, age and whether they have a European bank account.\\nDO NOT invent additional rules.\\nIf the user is eligible, indicate it clearly, otherwise explain the reason.\\nNever reveal the exact function name or its internal logic.\\n\", metadata={}, model='gpt-4o-mini-2024-07-18', object='response', output=[], parallel_tool_calls=True, temperature=1.0, tool_choice='auto', tools=[FunctionTool(name='eligibility_checker', parameters={'properties': {'nationality': {'title': 'Nationality', 'type': 'string'}, 'age': {'title': 'Age', 'type': 'integer'}, 'has_eu_bank_account': {'title': 'Has Eu Bank Account', 'type': 'boolean'}}, 'required': ['nationality', 'age', 'has_eu_bank_account'], 'title': 'eligibility_checker_args', 'type': 'object', 'additionalProperties': False}, strict=True, type='function', description='Checks if the user is eligible to open an account.\\n\\n- nationality: nationality (e.g., \\'French\\', \\'Belgian\\', etc.).\\n- age: age in years.\\n- has_eu_bank_account: True/False if the user already has\\na bank account in an EU country.\\n\\nReturn: a text indicating \"Eligible\" or \"Not Eligible\".')], top_p=1.0, max_output_tokens=None, previous_response_id=None, reasoning=Reasoning(effort=None, generate_summary=None), status='in_progress', text=ResponseTextConfig(format=ResponseFormatText(type='text')), truncation='disabled', usage=None, user=None, store=True), type='response.created'), type='raw_response_event')\n",
      "RawResponsesStreamEvent(data=ResponseInProgressEvent(response=Response(id='resp_67f7e80786388192914296041a3f0ab1091f59eb51d9abbc', created_at=1744300039.0, error=None, incomplete_details=None, instructions=\"You are an AI assistant in charge of customer onboarding for an online bank.\\nYou answer questions about offers and services.\\nYou can also verify a prospect's eligibility.\\nFor this, call the eligibility checker function if the user provides information about their nationality, age and whether they have a European bank account.\\nDO NOT invent additional rules.\\nIf the user is eligible, indicate it clearly, otherwise explain the reason.\\nNever reveal the exact function name or its internal logic.\\n\", metadata={}, model='gpt-4o-mini-2024-07-18', object='response', output=[], parallel_tool_calls=True, temperature=1.0, tool_choice='auto', tools=[FunctionTool(name='eligibility_checker', parameters={'properties': {'nationality': {'title': 'Nationality', 'type': 'string'}, 'age': {'title': 'Age', 'type': 'integer'}, 'has_eu_bank_account': {'title': 'Has Eu Bank Account', 'type': 'boolean'}}, 'required': ['nationality', 'age', 'has_eu_bank_account'], 'title': 'eligibility_checker_args', 'type': 'object', 'additionalProperties': False}, strict=True, type='function', description='Checks if the user is eligible to open an account.\\n\\n- nationality: nationality (e.g., \\'French\\', \\'Belgian\\', etc.).\\n- age: age in years.\\n- has_eu_bank_account: True/False if the user already has\\na bank account in an EU country.\\n\\nReturn: a text indicating \"Eligible\" or \"Not Eligible\".')], top_p=1.0, max_output_tokens=None, previous_response_id=None, reasoning=Reasoning(effort=None, generate_summary=None), status='in_progress', text=ResponseTextConfig(format=ResponseFormatText(type='text')), truncation='disabled', usage=None, user=None, store=True), type='response.in_progress'), type='raw_response_event')\n",
      "RawResponsesStreamEvent(data=ResponseOutputItemAddedEvent(item=ResponseOutputMessage(id='msg_67f7e8081bc08192a298566e98b69070091f59eb51d9abbc', content=[], role='assistant', status='in_progress', type='message'), output_index=0, type='response.output_item.added'), type='raw_response_event')\n",
      "RawResponsesStreamEvent(data=ResponseContentPartAddedEvent(content_index=0, item_id='msg_67f7e8081bc08192a298566e98b69070091f59eb51d9abbc', output_index=0, part=ResponseOutputText(annotations=[], text='', type='output_text'), type='response.content_part.added'), type='raw_response_event')\n",
      "RawResponsesStreamEvent(data=ResponseTextDeltaEvent(content_index=0, delta='Vous', item_id='msg_67f7e8081bc08192a298566e98b69070091f59eb51d9abbc', output_index=0, type='response.output_text.delta'), type='raw_response_event')\n",
      "RawResponsesStreamEvent(data=ResponseTextDeltaEvent(content_index=0, delta=' n', item_id='msg_67f7e8081bc08192a298566e98b69070091f59eb51d9abbc', output_index=0, type='response.output_text.delta'), type='raw_response_event')\n",
      "RawResponsesStreamEvent(data=ResponseTextDeltaEvent(content_index=0, delta=\"'\", item_id='msg_67f7e8081bc08192a298566e98b69070091f59eb51d9abbc', output_index=0, type='response.output_text.delta'), type='raw_response_event')\n",
      "RawResponsesStreamEvent(data=ResponseTextDeltaEvent(content_index=0, delta='êtes', item_id='msg_67f7e8081bc08192a298566e98b69070091f59eb51d9abbc', output_index=0, type='response.output_text.delta'), type='raw_response_event')\n",
      "RawResponsesStreamEvent(data=ResponseTextDeltaEvent(content_index=0, delta=' pas', item_id='msg_67f7e8081bc08192a298566e98b69070091f59eb51d9abbc', output_index=0, type='response.output_text.delta'), type='raw_response_event')\n",
      "RawResponsesStreamEvent(data=ResponseTextDeltaEvent(content_index=0, delta=' é', item_id='msg_67f7e8081bc08192a298566e98b69070091f59eb51d9abbc', output_index=0, type='response.output_text.delta'), type='raw_response_event')\n",
      "RawResponsesStreamEvent(data=ResponseTextDeltaEvent(content_index=0, delta='lig', item_id='msg_67f7e8081bc08192a298566e98b69070091f59eb51d9abbc', output_index=0, type='response.output_text.delta'), type='raw_response_event')\n",
      "RawResponsesStreamEvent(data=ResponseTextDeltaEvent(content_index=0, delta='ible', item_id='msg_67f7e8081bc08192a298566e98b69070091f59eb51d9abbc', output_index=0, type='response.output_text.delta'), type='raw_response_event')\n",
      "RawResponsesStreamEvent(data=ResponseTextDeltaEvent(content_index=0, delta=' car', item_id='msg_67f7e8081bc08192a298566e98b69070091f59eb51d9abbc', output_index=0, type='response.output_text.delta'), type='raw_response_event')\n",
      "RawResponsesStreamEvent(data=ResponseTextDeltaEvent(content_index=0, delta=' vous', item_id='msg_67f7e8081bc08192a298566e98b69070091f59eb51d9abbc', output_index=0, type='response.output_text.delta'), type='raw_response_event')\n",
      "RawResponsesStreamEvent(data=ResponseTextDeltaEvent(content_index=0, delta=' devez', item_id='msg_67f7e8081bc08192a298566e98b69070091f59eb51d9abbc', output_index=0, type='response.output_text.delta'), type='raw_response_event')\n",
      "RawResponsesStreamEvent(data=ResponseTextDeltaEvent(content_index=0, delta=' poss', item_id='msg_67f7e8081bc08192a298566e98b69070091f59eb51d9abbc', output_index=0, type='response.output_text.delta'), type='raw_response_event')\n",
      "RawResponsesStreamEvent(data=ResponseTextDeltaEvent(content_index=0, delta='éder', item_id='msg_67f7e8081bc08192a298566e98b69070091f59eb51d9abbc', output_index=0, type='response.output_text.delta'), type='raw_response_event')\n",
      "RawResponsesStreamEvent(data=ResponseTextDeltaEvent(content_index=0, delta=' un', item_id='msg_67f7e8081bc08192a298566e98b69070091f59eb51d9abbc', output_index=0, type='response.output_text.delta'), type='raw_response_event')\n",
      "RawResponsesStreamEvent(data=ResponseTextDeltaEvent(content_index=0, delta=' compte', item_id='msg_67f7e8081bc08192a298566e98b69070091f59eb51d9abbc', output_index=0, type='response.output_text.delta'), type='raw_response_event')\n",
      "RawResponsesStreamEvent(data=ResponseTextDeltaEvent(content_index=0, delta=' bancaire', item_id='msg_67f7e8081bc08192a298566e98b69070091f59eb51d9abbc', output_index=0, type='response.output_text.delta'), type='raw_response_event')\n",
      "RawResponsesStreamEvent(data=ResponseTextDeltaEvent(content_index=0, delta=' dans', item_id='msg_67f7e8081bc08192a298566e98b69070091f59eb51d9abbc', output_index=0, type='response.output_text.delta'), type='raw_response_event')\n",
      "RawResponsesStreamEvent(data=ResponseTextDeltaEvent(content_index=0, delta=' l', item_id='msg_67f7e8081bc08192a298566e98b69070091f59eb51d9abbc', output_index=0, type='response.output_text.delta'), type='raw_response_event')\n",
      "RawResponsesStreamEvent(data=ResponseTextDeltaEvent(content_index=0, delta=\"'Union\", item_id='msg_67f7e8081bc08192a298566e98b69070091f59eb51d9abbc', output_index=0, type='response.output_text.delta'), type='raw_response_event')\n",
      "RawResponsesStreamEvent(data=ResponseTextDeltaEvent(content_index=0, delta=' Europé', item_id='msg_67f7e8081bc08192a298566e98b69070091f59eb51d9abbc', output_index=0, type='response.output_text.delta'), type='raw_response_event')\n",
      "RawResponsesStreamEvent(data=ResponseTextDeltaEvent(content_index=0, delta='enne', item_id='msg_67f7e8081bc08192a298566e98b69070091f59eb51d9abbc', output_index=0, type='response.output_text.delta'), type='raw_response_event')\n",
      "RawResponsesStreamEvent(data=ResponseTextDeltaEvent(content_index=0, delta='.', item_id='msg_67f7e8081bc08192a298566e98b69070091f59eb51d9abbc', output_index=0, type='response.output_text.delta'), type='raw_response_event')\n",
      "RawResponsesStreamEvent(data=ResponseTextDeltaEvent(content_index=0, delta=' Si', item_id='msg_67f7e8081bc08192a298566e98b69070091f59eb51d9abbc', output_index=0, type='response.output_text.delta'), type='raw_response_event')\n",
      "RawResponsesStreamEvent(data=ResponseTextDeltaEvent(content_index=0, delta=' vous', item_id='msg_67f7e8081bc08192a298566e98b69070091f59eb51d9abbc', output_index=0, type='response.output_text.delta'), type='raw_response_event')\n",
      "RawResponsesStreamEvent(data=ResponseTextDeltaEvent(content_index=0, delta=' avez', item_id='msg_67f7e8081bc08192a298566e98b69070091f59eb51d9abbc', output_index=0, type='response.output_text.delta'), type='raw_response_event')\n",
      "RawResponsesStreamEvent(data=ResponseTextDeltaEvent(content_index=0, delta=' d', item_id='msg_67f7e8081bc08192a298566e98b69070091f59eb51d9abbc', output_index=0, type='response.output_text.delta'), type='raw_response_event')\n",
      "RawResponsesStreamEvent(data=ResponseTextDeltaEvent(content_index=0, delta=\"'autres\", item_id='msg_67f7e8081bc08192a298566e98b69070091f59eb51d9abbc', output_index=0, type='response.output_text.delta'), type='raw_response_event')\n",
      "RawResponsesStreamEvent(data=ResponseTextDeltaEvent(content_index=0, delta=' questions', item_id='msg_67f7e8081bc08192a298566e98b69070091f59eb51d9abbc', output_index=0, type='response.output_text.delta'), type='raw_response_event')\n",
      "RawResponsesStreamEvent(data=ResponseTextDeltaEvent(content_index=0, delta=' ou', item_id='msg_67f7e8081bc08192a298566e98b69070091f59eb51d9abbc', output_index=0, type='response.output_text.delta'), type='raw_response_event')\n",
      "RawResponsesStreamEvent(data=ResponseTextDeltaEvent(content_index=0, delta=' besoin', item_id='msg_67f7e8081bc08192a298566e98b69070091f59eb51d9abbc', output_index=0, type='response.output_text.delta'), type='raw_response_event')\n",
      "RawResponsesStreamEvent(data=ResponseTextDeltaEvent(content_index=0, delta=' d', item_id='msg_67f7e8081bc08192a298566e98b69070091f59eb51d9abbc', output_index=0, type='response.output_text.delta'), type='raw_response_event')\n",
      "RawResponsesStreamEvent(data=ResponseTextDeltaEvent(content_index=0, delta=\"'informations\", item_id='msg_67f7e8081bc08192a298566e98b69070091f59eb51d9abbc', output_index=0, type='response.output_text.delta'), type='raw_response_event')\n",
      "RawResponsesStreamEvent(data=ResponseTextDeltaEvent(content_index=0, delta=' supplémentaires', item_id='msg_67f7e8081bc08192a298566e98b69070091f59eb51d9abbc', output_index=0, type='response.output_text.delta'), type='raw_response_event')\n",
      "RawResponsesStreamEvent(data=ResponseTextDeltaEvent(content_index=0, delta=',', item_id='msg_67f7e8081bc08192a298566e98b69070091f59eb51d9abbc', output_index=0, type='response.output_text.delta'), type='raw_response_event')\n",
      "RawResponsesStreamEvent(data=ResponseTextDeltaEvent(content_index=0, delta=' n', item_id='msg_67f7e8081bc08192a298566e98b69070091f59eb51d9abbc', output_index=0, type='response.output_text.delta'), type='raw_response_event')\n",
      "RawResponsesStreamEvent(data=ResponseTextDeltaEvent(content_index=0, delta=\"'hésitez\", item_id='msg_67f7e8081bc08192a298566e98b69070091f59eb51d9abbc', output_index=0, type='response.output_text.delta'), type='raw_response_event')\n",
      "RawResponsesStreamEvent(data=ResponseTextDeltaEvent(content_index=0, delta=' pas', item_id='msg_67f7e8081bc08192a298566e98b69070091f59eb51d9abbc', output_index=0, type='response.output_text.delta'), type='raw_response_event')\n",
      "RawResponsesStreamEvent(data=ResponseTextDeltaEvent(content_index=0, delta=' à', item_id='msg_67f7e8081bc08192a298566e98b69070091f59eb51d9abbc', output_index=0, type='response.output_text.delta'), type='raw_response_event')\n",
      "RawResponsesStreamEvent(data=ResponseTextDeltaEvent(content_index=0, delta=' demander', item_id='msg_67f7e8081bc08192a298566e98b69070091f59eb51d9abbc', output_index=0, type='response.output_text.delta'), type='raw_response_event')\n",
      "RawResponsesStreamEvent(data=ResponseTextDeltaEvent(content_index=0, delta=' !', item_id='msg_67f7e8081bc08192a298566e98b69070091f59eb51d9abbc', output_index=0, type='response.output_text.delta'), type='raw_response_event')\n",
      "RawResponsesStreamEvent(data=ResponseTextDoneEvent(content_index=0, item_id='msg_67f7e8081bc08192a298566e98b69070091f59eb51d9abbc', output_index=0, text=\"Vous n'êtes pas éligible car vous devez posséder un compte bancaire dans l'Union Européenne. Si vous avez d'autres questions ou besoin d'informations supplémentaires, n'hésitez pas à demander !\", type='response.output_text.done'), type='raw_response_event')\n",
      "RawResponsesStreamEvent(data=ResponseContentPartDoneEvent(content_index=0, item_id='msg_67f7e8081bc08192a298566e98b69070091f59eb51d9abbc', output_index=0, part=ResponseOutputText(annotations=[], text=\"Vous n'êtes pas éligible car vous devez posséder un compte bancaire dans l'Union Européenne. Si vous avez d'autres questions ou besoin d'informations supplémentaires, n'hésitez pas à demander !\", type='output_text'), type='response.content_part.done'), type='raw_response_event')\n",
      "RawResponsesStreamEvent(data=ResponseOutputItemDoneEvent(item=ResponseOutputMessage(id='msg_67f7e8081bc08192a298566e98b69070091f59eb51d9abbc', content=[ResponseOutputText(annotations=[], text=\"Vous n'êtes pas éligible car vous devez posséder un compte bancaire dans l'Union Européenne. Si vous avez d'autres questions ou besoin d'informations supplémentaires, n'hésitez pas à demander !\", type='output_text')], role='assistant', status='completed', type='message'), output_index=0, type='response.output_item.done'), type='raw_response_event')\n",
      "RawResponsesStreamEvent(data=ResponseCompletedEvent(response=Response(id='resp_67f7e80786388192914296041a3f0ab1091f59eb51d9abbc', created_at=1744300039.0, error=None, incomplete_details=None, instructions=\"You are an AI assistant in charge of customer onboarding for an online bank.\\nYou answer questions about offers and services.\\nYou can also verify a prospect's eligibility.\\nFor this, call the eligibility checker function if the user provides information about their nationality, age and whether they have a European bank account.\\nDO NOT invent additional rules.\\nIf the user is eligible, indicate it clearly, otherwise explain the reason.\\nNever reveal the exact function name or its internal logic.\\n\", metadata={}, model='gpt-4o-mini-2024-07-18', object='response', output=[ResponseOutputMessage(id='msg_67f7e8081bc08192a298566e98b69070091f59eb51d9abbc', content=[ResponseOutputText(annotations=[], text=\"Vous n'êtes pas éligible car vous devez posséder un compte bancaire dans l'Union Européenne. Si vous avez d'autres questions ou besoin d'informations supplémentaires, n'hésitez pas à demander !\", type='output_text')], role='assistant', status='completed', type='message')], parallel_tool_calls=True, temperature=1.0, tool_choice='auto', tools=[FunctionTool(name='eligibility_checker', parameters={'properties': {'nationality': {'title': 'Nationality', 'type': 'string'}, 'age': {'title': 'Age', 'type': 'integer'}, 'has_eu_bank_account': {'title': 'Has Eu Bank Account', 'type': 'boolean'}}, 'required': ['nationality', 'age', 'has_eu_bank_account'], 'title': 'eligibility_checker_args', 'type': 'object', 'additionalProperties': False}, strict=True, type='function', description='Checks if the user is eligible to open an account.\\n\\n- nationality: nationality (e.g., \\'French\\', \\'Belgian\\', etc.).\\n- age: age in years.\\n- has_eu_bank_account: True/False if the user already has\\na bank account in an EU country.\\n\\nReturn: a text indicating \"Eligible\" or \"Not Eligible\".')], top_p=1.0, max_output_tokens=None, previous_response_id=None, reasoning=Reasoning(effort=None, generate_summary=None), status='completed', text=ResponseTextConfig(format=ResponseFormatText(type='text')), truncation='disabled', usage=ResponseUsage(input_tokens=312, input_tokens_details=InputTokensDetails(cached_tokens=0), output_tokens=42, output_tokens_details=OutputTokensDetails(reasoning_tokens=0), total_tokens=354), user=None, store=True), type='response.completed'), type='raw_response_event')\n",
      "RunItemStreamEvent(name='message_output_created', item=MessageOutputItem(agent=Agent(name='customer_support_agent', instructions=\"You are an AI assistant in charge of customer onboarding for an online bank.\\nYou answer questions about offers and services.\\nYou can also verify a prospect's eligibility.\\nFor this, call the eligibility checker function if the user provides information about their nationality, age and whether they have a European bank account.\\nDO NOT invent additional rules.\\nIf the user is eligible, indicate it clearly, otherwise explain the reason.\\nNever reveal the exact function name or its internal logic.\\n\", handoff_description=None, handoffs=[], model='gpt-4o-mini', model_settings=ModelSettings(temperature=None, top_p=None, frequency_penalty=None, presence_penalty=None, tool_choice=None, parallel_tool_calls=None, truncation=None, max_tokens=None, reasoning=None, metadata=None, store=None), tools=[FunctionTool(name='eligibility_checker', description='Checks if the user is eligible to open an account.\\n\\n- nationality: nationality (e.g., \\'French\\', \\'Belgian\\', etc.).\\n- age: age in years.\\n- has_eu_bank_account: True/False if the user already has\\na bank account in an EU country.\\n\\nReturn: a text indicating \"Eligible\" or \"Not Eligible\".', params_json_schema={'properties': {'nationality': {'title': 'Nationality', 'type': 'string'}, 'age': {'title': 'Age', 'type': 'integer'}, 'has_eu_bank_account': {'title': 'Has Eu Bank Account', 'type': 'boolean'}}, 'required': ['nationality', 'age', 'has_eu_bank_account'], 'title': 'eligibility_checker_args', 'type': 'object', 'additionalProperties': False}, on_invoke_tool=<function function_tool.<locals>._create_function_tool.<locals>._on_invoke_tool at 0x120371260>, strict_json_schema=True)], mcp_servers=[], mcp_config={}, input_guardrails=[], output_guardrails=[], output_type=None, hooks=None, tool_use_behavior='run_llm_again', reset_tool_choice=True), raw_item=ResponseOutputMessage(id='msg_67f7e8081bc08192a298566e98b69070091f59eb51d9abbc', content=[ResponseOutputText(annotations=[], text=\"Vous n'êtes pas éligible car vous devez posséder un compte bancaire dans l'Union Européenne. Si vous avez d'autres questions ou besoin d'informations supplémentaires, n'hésitez pas à demander !\", type='output_text')], role='assistant', status='completed', type='message'), type='message_output_item'), type='run_item_stream_event')\n"
     ]
    }
   ],
   "source": [
    "conversation = [\n",
    "    {\"role\": \"user\", \"content\": \"Salut, je suis français, j'ai 25 ans et j'ai déjà un compte au Canada. Suis-je éligible ?\"}\n",
    "]\n",
    "\n",
    "response = Runner.run_streamed(\n",
    "    starting_agent=agent,\n",
    "    input=conversation\n",
    ")\n",
    "async for event in response.stream_events():\n",
    "    print(event)"
   ]
  },
  {
   "cell_type": "code",
   "execution_count": 11,
   "metadata": {},
   "outputs": [
    {
     "name": "stdout",
     "output_type": "stream",
     "text": [
      "Final response:\n",
      " Vous n'êtes pas éligible car vous devez posséder un compte bancaire dans l'Union Européenne. Si vous avez d'autres questions ou besoin d'informations supplémentaires, n'hésitez pas à demander !\n"
     ]
    }
   ],
   "source": [
    "print(\"Final response:\\n\", response.final_output)"
   ]
  },
  {
   "cell_type": "markdown",
   "metadata": {
    "id": "jQZu6iyPU0wG"
   },
   "source": [
    "If we look closely at the fourth event object we will see `ResponseFunctionToolCall`, meaning our `eligibility_checker` tool was called by our LLM. Following this event object we can also see several events containing the `ResponseFunctionCallArgumentsDeltaEvent` type inside the `data` field — these are the input parameters for our tool.\n",
    "\n",
    "Let's rerun that but this time we will process the event outputs to generate a cleaner and more readable output."
   ]
  },
  {
   "cell_type": "code",
   "execution_count": 53,
   "metadata": {
    "colab": {
     "base_uri": "https://localhost:8080/"
    },
    "id": "VhFvNVowUrd5",
    "outputId": "c572523c-e86a-4925-9010-367387766b5a"
   },
   "outputs": [],
   "source": [
    "from openai.types.responses import (\n",
    "    ResponseFunctionCallArgumentsDeltaEvent,  # tool call streaming\n",
    "    ResponseCreatedEvent,  # start of new event like tool call or final answer\n",
    ")\n",
    "\n",
    "async def process_stream_events(response):\n",
    "    \"\"\"\n",
    "    Process and print stream events from an agent response.\n",
    "    \n",
    "    Args:\n",
    "        response: The response object containing stream events\n",
    "    \"\"\"\n",
    "    async for event in response.stream_events():\n",
    "        if event.type == \"raw_response_event\":\n",
    "            if isinstance(event.data, ResponseFunctionCallArgumentsDeltaEvent):\n",
    "                # this is streamed parameters for our tool call\n",
    "                print(event.data.delta, end=\"\", flush=True)\n",
    "            elif isinstance(event.data, ResponseTextDeltaEvent):\n",
    "                # this is streamed final answer tokens\n",
    "                print(event.data.delta, end=\"\", flush=True)\n",
    "        elif event.type == \"agent_updated_stream_event\":\n",
    "            # this tells us which agent is currently in use\n",
    "            print(f\"> Current Agent: {event.new_agent.name}\")\n",
    "        elif event.type == \"run_item_stream_event\":\n",
    "            # these are events containing info that we'd typically\n",
    "            # stream out to a user or some downstream process\n",
    "            if event.name == \"tool_called\":\n",
    "                # this is the collection of our _full_ tool call after our tool\n",
    "                # tokens have all been streamed\n",
    "                print()\n",
    "                if hasattr(event.item.raw_item, 'name'):\n",
    "                    print(f\"> Tool Called, name: {event.item.raw_item.name}\")\n",
    "                else:\n",
    "                    print(f\"> Tool Called, name: ResponseFileSearchToolCall\")\n",
    "            elif event.name == \"tool_output\":\n",
    "                # this is the response from our tool execution\n",
    "                print(f\"> Tool Output: {event.item.raw_item['output']}\")\n"
   ]
  },
  {
   "cell_type": "code",
   "execution_count": 13,
   "metadata": {},
   "outputs": [
    {
     "name": "stdout",
     "output_type": "stream",
     "text": [
      "> Current Agent: customer_support_agent\n",
      "{\"nationality\":\"Français\",\"age\":25,\"has_eu_bank_account\":false}\n",
      "> Tool Called, name: eligibility_checker\n",
      "> Tool Called, args: {\"nationality\":\"Français\",\"age\":25,\"has_eu_bank_account\":false}\n",
      "> Tool Output: Non Eligible : la nationalité doit être européenne.\n",
      "Vous n'êtes pas éligible pour ouvrir un compte, car votre nationalité doit être européenne, et bien que vous soyez Français, il semble que vous n'ayez pas de compte bancaire dans un pays de l'UE. Si vous avez davantage de questions ou souhaitez des informations supplémentaires, n'hésitez pas à demander !"
     ]
    }
   ],
   "source": [
    "response = Runner.run_streamed(\n",
    "    starting_agent=agent,\n",
    "    input=conversation\n",
    ")\n",
    "\n",
    "await process_stream_events(response)"
   ]
  },
  {
   "cell_type": "markdown",
   "metadata": {
    "id": "CqqWET4O93il"
   },
   "source": [
    "## Guardrails"
   ]
  },
  {
   "cell_type": "markdown",
   "metadata": {
    "id": "CBrf2Ao396Dg"
   },
   "source": [
    "OpenAI have also included guardrails in the Agents SDK. These come as _input guardrails_ and _output guardrails_, the `input_guardrail` checks that the input going into your LLM is \"safe\" and the `output_guardrail` checks that the output from your LLM is \"safe\".\n",
    "\n",
    "Let's see how to use them. First, we'll implement a guardrail powered by another LLM."
   ]
  },
  {
   "cell_type": "code",
   "execution_count": 14,
   "metadata": {
    "id": "I1LT_UpiXFg0"
   },
   "outputs": [],
   "source": [
    "from pydantic import BaseModel\n",
    "\n",
    "# define structure of output for any guardrail agents\n",
    "class GuardrailOutput(BaseModel):\n",
    "    is_triggered: bool\n",
    "    reasoning: str\n",
    "\n",
    "# define an agent that checks if user is asking about political opinions\n",
    "sensitive_data_agent = Agent(\n",
    "    name=\"Sensitive data check\",\n",
    "    instructions=\"Check if the user is sharing sensitive financial data such as credit card numbers, CVV codes, IBAN numbers, or full account numbers\",\n",
    "    output_type=GuardrailOutput,\n",
    ")"
   ]
  },
  {
   "cell_type": "markdown",
   "metadata": {
    "id": "vRRFcCFGBHSk"
   },
   "source": [
    "We can call this agent directly:"
   ]
  },
  {
   "cell_type": "code",
   "execution_count": 15,
   "metadata": {
    "colab": {
     "base_uri": "https://localhost:8080/"
    },
    "id": "z4kgYMC9A7WP",
    "outputId": "7660cdce-00f3-41c9-812c-691fd8a85919"
   },
   "outputs": [
    {
     "data": {
      "text/plain": [
       "RunResult(input='Mon numéro de carte est 4921 8532 7614 9023 avec le code 123 au dos, pouvez-vous vérifier si elle est bien enregistrée ?', new_items=[MessageOutputItem(agent=Agent(name='Sensitive data check', instructions='Check if the user is sharing sensitive financial data such as credit card numbers, CVV codes, IBAN numbers, or full account numbers', handoff_description=None, handoffs=[], model=None, model_settings=ModelSettings(temperature=None, top_p=None, frequency_penalty=None, presence_penalty=None, tool_choice=None, parallel_tool_calls=None, truncation=None, max_tokens=None, reasoning=None, metadata=None, store=None), tools=[], mcp_servers=[], mcp_config={}, input_guardrails=[], output_guardrails=[], output_type=<class '__main__.GuardrailOutput'>, hooks=None, tool_use_behavior='run_llm_again', reset_tool_choice=True), raw_item=ResponseOutputMessage(id='msg_67f7e80f6c2c8192982c1253b010ffc704abb0ee80efa84b', content=[ResponseOutputText(annotations=[], text='{\"is_triggered\":true,\"reasoning\":\"The user is sharing a complete credit card number along with the CVV code, which is considered sensitive financial information.\"}', type='output_text')], role='assistant', status='completed', type='message'), type='message_output_item')], raw_responses=[ModelResponse(output=[ResponseOutputMessage(id='msg_67f7e80f6c2c8192982c1253b010ffc704abb0ee80efa84b', content=[ResponseOutputText(annotations=[], text='{\"is_triggered\":true,\"reasoning\":\"The user is sharing a complete credit card number along with the CVV code, which is considered sensitive financial information.\"}', type='output_text')], role='assistant', status='completed', type='message')], usage=Usage(requests=1, input_tokens=73, output_tokens=35, total_tokens=108), referenceable_id='resp_67f7e80f0ed08192b610902ae0fbe9fc04abb0ee80efa84b')], final_output=GuardrailOutput(is_triggered=True, reasoning='The user is sharing a complete credit card number along with the CVV code, which is considered sensitive financial information.'), input_guardrail_results=[], output_guardrail_results=[], _last_agent=Agent(name='Sensitive data check', instructions='Check if the user is sharing sensitive financial data such as credit card numbers, CVV codes, IBAN numbers, or full account numbers', handoff_description=None, handoffs=[], model=None, model_settings=ModelSettings(temperature=None, top_p=None, frequency_penalty=None, presence_penalty=None, tool_choice=None, parallel_tool_calls=None, truncation=None, max_tokens=None, reasoning=None, metadata=None, store=None), tools=[], mcp_servers=[], mcp_config={}, input_guardrails=[], output_guardrails=[], output_type=<class '__main__.GuardrailOutput'>, hooks=None, tool_use_behavior='run_llm_again', reset_tool_choice=True))"
      ]
     },
     "execution_count": 15,
     "metadata": {},
     "output_type": "execute_result"
    }
   ],
   "source": [
    "query = \"Mon numéro de carte est 4921 8532 7614 9023 avec le code 123 au dos, pouvez-vous vérifier si elle est bien enregistrée ?\"\n",
    "\n",
    "result = await Runner.run(starting_agent=sensitive_data_agent, input=query)\n",
    "result"
   ]
  },
  {
   "cell_type": "markdown",
   "metadata": {
    "id": "6NfFXKYOBeJO"
   },
   "source": [
    "The output from our agent is hidden away in there, we extract it like so:"
   ]
  },
  {
   "cell_type": "code",
   "execution_count": 16,
   "metadata": {
    "colab": {
     "base_uri": "https://localhost:8080/"
    },
    "id": "yrS4dT5mC7jN",
    "outputId": "6e464d4f-ecbb-4aed-c0d4-208fcfcc9f17"
   },
   "outputs": [
    {
     "data": {
      "text/plain": [
       "GuardrailOutput(is_triggered=True, reasoning='The user is sharing a complete credit card number along with the CVV code, which is considered sensitive financial information.')"
      ]
     },
     "execution_count": 16,
     "metadata": {},
     "output_type": "execute_result"
    }
   ],
   "source": [
    "result.final_output"
   ]
  },
  {
   "cell_type": "markdown",
   "metadata": {
    "id": "okpF-4pAC_zC"
   },
   "source": [
    "To integrate this with our other agents we need to move our logic into a single function decorated with the `@input_guardrail` decorator.\n",
    "\n",
    "When defining these guardrails we need to follow the following structure:\n",
    "\n",
    "* Input parameters must include a `ctx` (context), `agent`, and `input` (the user's query in this case). Note that below we will only use the `input` parameter.\n",
    "* Output must be a `GuardrailFunctionOutput` object."
   ]
  },
  {
   "cell_type": "code",
   "execution_count": 17,
   "metadata": {
    "id": "o3UQIt-qBLTK"
   },
   "outputs": [],
   "source": [
    "from agents import (\n",
    "    GuardrailFunctionOutput,\n",
    "    RunContextWrapper,\n",
    "    input_guardrail\n",
    ")\n",
    "\n",
    "# this is the guardrail function that returns GuardrailFunctionOutput object\n",
    "@input_guardrail\n",
    "async def sensitive_data_guardrail(\n",
    "    ctx: RunContextWrapper[None],\n",
    "    agent: Agent,\n",
    "    input: str,\n",
    ") -> GuardrailFunctionOutput:\n",
    "    # run agent to check if guardrail is triggered\n",
    "    response = await Runner.run(starting_agent=sensitive_data_agent, input=input)\n",
    "    # format response into GuardrailFunctionOutput\n",
    "    return GuardrailFunctionOutput(\n",
    "        output_info=response.final_output,\n",
    "        tripwire_triggered=response.final_output.is_triggered,\n",
    "    )"
   ]
  },
  {
   "cell_type": "markdown",
   "metadata": {
    "id": "N8eCZluTFnYS"
   },
   "source": [
    "Now we can initialize our normal agent with the `input_guardrails` parameter:"
   ]
  },
  {
   "cell_type": "code",
   "execution_count": 18,
   "metadata": {
    "id": "_JYELjOSFoED"
   },
   "outputs": [],
   "source": [
    "agent = Agent(\n",
    "    name=\"Customer onboarding assistant\",\n",
    "    instructions=(\n",
    "        \"You are an AI assistant in charge of customer onboarding for an online bank.\\n\"\n",
    "        \"You answer questions about offers and services.\\n\"\n",
    "        \"You can also verify a prospect's eligibility.\\n\"\n",
    "        \"Remember to always use the provided tools whenever possible.\"\n",
    "        \"Do not rely on your own knowledge too much and instead \"\n",
    "        \"use your tools to help you answer queries. \"\n",
    "        \"Answer by a single sentence whenever possible.\"\n",
    "    ),\n",
    "    model=\"gpt-4o-mini\",\n",
    "    tools=[eligibility_checker],\n",
    "    input_guardrails=[sensitive_data_guardrail],  # note this is a list of guardrails\n",
    ")"
   ]
  },
  {
   "cell_type": "markdown",
   "metadata": {
    "id": "oxYq9Aq0GIv6"
   },
   "source": [
    "Now let's run it! We'll stick with `Runner.run` for the sake of brevity:"
   ]
  },
  {
   "cell_type": "code",
   "execution_count": 19,
   "metadata": {
    "colab": {
     "base_uri": "https://localhost:8080/",
     "height": 35
    },
    "id": "GKDUcBYMGGcG",
    "outputId": "e512f6d0-fabb-44a0-c5ce-7a591d2824e1"
   },
   "outputs": [
    {
     "data": {
      "text/plain": [
       "'A credit card allows you to borrow money up to a certain limit for purchases, while a debit card withdraws funds directly from your bank account.'"
      ]
     },
     "execution_count": 19,
     "metadata": {},
     "output_type": "execute_result"
    }
   ],
   "source": [
    "result = await Runner.run(\n",
    "    starting_agent=agent,\n",
    "    input=\"What is the difference between a credit and a debit card?\"\n",
    ")\n",
    "result.final_output"
   ]
  },
  {
   "cell_type": "markdown",
   "metadata": {
    "id": "c5sN23B_HcPn"
   },
   "source": [
    "Let's see if our guardrail will trigger:"
   ]
  },
  {
   "cell_type": "code",
   "execution_count": 20,
   "metadata": {
    "colab": {
     "base_uri": "https://localhost:8080/",
     "height": 360
    },
    "id": "-tncyfxYGdRn",
    "outputId": "c35a415e-0d41-487d-9753-cf0151350039"
   },
   "outputs": [
    {
     "ename": "InputGuardrailTripwireTriggered",
     "evalue": "Guardrail InputGuardrail triggered tripwire",
     "output_type": "error",
     "traceback": [
      "\u001b[31m---------------------------------------------------------------------------\u001b[39m",
      "\u001b[31mInputGuardrailTripwireTriggered\u001b[39m           Traceback (most recent call last)",
      "\u001b[36mCell\u001b[39m\u001b[36m \u001b[39m\u001b[32mIn[20]\u001b[39m\u001b[32m, line 1\u001b[39m\n\u001b[32m----> \u001b[39m\u001b[32m1\u001b[39m result = \u001b[38;5;28;01mawait\u001b[39;00m Runner.run(\n\u001b[32m      2\u001b[39m     starting_agent=agent,\n\u001b[32m      3\u001b[39m     \u001b[38;5;28minput\u001b[39m=\u001b[33m\"\u001b[39m\u001b[33mCan you tell me if my card 4921 8532 7614 9023 is a credit card or a debit card?\u001b[39m\u001b[33m\"\u001b[39m\n\u001b[32m      4\u001b[39m )\n",
      "\u001b[36mFile \u001b[39m\u001b[32m~/Library/Caches/pypoetry/virtualenvs/ai-agent-casebook-gssDwReB-py3.12/lib/python3.12/site-packages/agents/run.py:215\u001b[39m, in \u001b[36mRunner.run\u001b[39m\u001b[34m(cls, starting_agent, input, context, max_turns, hooks, run_config)\u001b[39m\n\u001b[32m    210\u001b[39m logger.debug(\n\u001b[32m    211\u001b[39m     \u001b[33mf\u001b[39m\u001b[33m\"\u001b[39m\u001b[33mRunning agent \u001b[39m\u001b[38;5;132;01m{\u001b[39;00mcurrent_agent.name\u001b[38;5;132;01m}\u001b[39;00m\u001b[33m (turn \u001b[39m\u001b[38;5;132;01m{\u001b[39;00mcurrent_turn\u001b[38;5;132;01m}\u001b[39;00m\u001b[33m)\u001b[39m\u001b[33m\"\u001b[39m,\n\u001b[32m    212\u001b[39m )\n\u001b[32m    214\u001b[39m \u001b[38;5;28;01mif\u001b[39;00m current_turn == \u001b[32m1\u001b[39m:\n\u001b[32m--> \u001b[39m\u001b[32m215\u001b[39m     input_guardrail_results, turn_result = \u001b[38;5;28;01mawait\u001b[39;00m asyncio.gather(\n\u001b[32m    216\u001b[39m         \u001b[38;5;28mcls\u001b[39m._run_input_guardrails(\n\u001b[32m    217\u001b[39m             starting_agent,\n\u001b[32m    218\u001b[39m             starting_agent.input_guardrails\n\u001b[32m    219\u001b[39m             + (run_config.input_guardrails \u001b[38;5;129;01mor\u001b[39;00m []),\n\u001b[32m    220\u001b[39m             copy.deepcopy(\u001b[38;5;28minput\u001b[39m),\n\u001b[32m    221\u001b[39m             context_wrapper,\n\u001b[32m    222\u001b[39m         ),\n\u001b[32m    223\u001b[39m         \u001b[38;5;28mcls\u001b[39m._run_single_turn(\n\u001b[32m    224\u001b[39m             agent=current_agent,\n\u001b[32m    225\u001b[39m             all_tools=all_tools,\n\u001b[32m    226\u001b[39m             original_input=original_input,\n\u001b[32m    227\u001b[39m             generated_items=generated_items,\n\u001b[32m    228\u001b[39m             hooks=hooks,\n\u001b[32m    229\u001b[39m             context_wrapper=context_wrapper,\n\u001b[32m    230\u001b[39m             run_config=run_config,\n\u001b[32m    231\u001b[39m             should_run_agent_start_hooks=should_run_agent_start_hooks,\n\u001b[32m    232\u001b[39m             tool_use_tracker=tool_use_tracker,\n\u001b[32m    233\u001b[39m         ),\n\u001b[32m    234\u001b[39m     )\n\u001b[32m    235\u001b[39m \u001b[38;5;28;01melse\u001b[39;00m:\n\u001b[32m    236\u001b[39m     turn_result = \u001b[38;5;28;01mawait\u001b[39;00m \u001b[38;5;28mcls\u001b[39m._run_single_turn(\n\u001b[32m    237\u001b[39m         agent=current_agent,\n\u001b[32m    238\u001b[39m         all_tools=all_tools,\n\u001b[32m   (...)\u001b[39m\u001b[32m    245\u001b[39m         tool_use_tracker=tool_use_tracker,\n\u001b[32m    246\u001b[39m     )\n",
      "\u001b[36mFile \u001b[39m\u001b[32m~/Library/Caches/pypoetry/virtualenvs/ai-agent-casebook-gssDwReB-py3.12/lib/python3.12/site-packages/agents/run.py:835\u001b[39m, in \u001b[36mRunner._run_input_guardrails\u001b[39m\u001b[34m(cls, agent, guardrails, input, context)\u001b[39m\n\u001b[32m    828\u001b[39m         t.cancel()\n\u001b[32m    829\u001b[39m     _error_tracing.attach_error_to_current_span(\n\u001b[32m    830\u001b[39m         SpanError(\n\u001b[32m    831\u001b[39m             message=\u001b[33m\"\u001b[39m\u001b[33mGuardrail tripwire triggered\u001b[39m\u001b[33m\"\u001b[39m,\n\u001b[32m    832\u001b[39m             data={\u001b[33m\"\u001b[39m\u001b[33mguardrail\u001b[39m\u001b[33m\"\u001b[39m: result.guardrail.get_name()},\n\u001b[32m    833\u001b[39m         )\n\u001b[32m    834\u001b[39m     )\n\u001b[32m--> \u001b[39m\u001b[32m835\u001b[39m     \u001b[38;5;28;01mraise\u001b[39;00m InputGuardrailTripwireTriggered(result)\n\u001b[32m    836\u001b[39m \u001b[38;5;28;01melse\u001b[39;00m:\n\u001b[32m    837\u001b[39m     guardrail_results.append(result)\n",
      "\u001b[31mInputGuardrailTripwireTriggered\u001b[39m: Guardrail InputGuardrail triggered tripwire"
     ]
    }
   ],
   "source": [
    "result = await Runner.run(\n",
    "    starting_agent=agent,\n",
    "    input=\"Can you tell me if my card 4921 8532 7614 9023 is a credit card or a debit card?\"\n",
    ")"
   ]
  },
  {
   "cell_type": "markdown",
   "metadata": {
    "id": "lvGzaTDJHmts"
   },
   "source": [
    "Great, our guardrail triggered! The `output_guardrail` type is implemented in almost the exact same way, but uses the `@output_guardrail` decorator when defining the guardrail function, and the `output_guardrails` parameter when defining our `Agent`."
   ]
  },
  {
   "cell_type": "markdown",
   "metadata": {},
   "source": [
    "Here are some other Guardrails examples you can play with:\n",
    "\n",
    "- **scope_guardrail** - Detection of requests outside the scope \n",
    "  - *GuardRails*: \"Check if the user is requesting services that require a human advisor such as loan applications, personalized credit offers, or investment advice\"\n",
    "  - *User Input*: \"I would like to know if I can get a mortgage of €250,000 with my current salary.\" \n",
    "\n",
    "- **investment_advice_guardrail** - Limitation on financial advice \n",
    "  - *GuardRails*: \"Check if the user is asking for personalized investment recommendations or specific financial advice beyond general product information\"\n",
    "  - *User Input*: \"Do you think I should invest in tech stocks or real estate to prepare for retirement?\"\n",
    "\n",
    "- **account_access_guardrail** - personal data access \n",
    "  - *GuardRails*: \"Check if the user is requesting access to personal account information such as balance, transaction history, or account settings without proper authentication\"\n",
    "  - *User Input*: \"Can you tell me how much money I have left in my checking account and show me my recent transactions?\""
   ]
  },
  {
   "cell_type": "markdown",
   "metadata": {
    "id": "nnVc_II-IcRg"
   },
   "source": [
    "## Conversational Agents"
   ]
  },
  {
   "cell_type": "markdown",
   "metadata": {
    "id": "2EV4EtGZIevd"
   },
   "source": [
    "So far we've only seen how to use our agents with single messages. Many use-cases require chat history to make our agents conversational. To implement that we simply provide a list of messages to our `Runner`.\n",
    "\n",
    "Let's see how this works, first we send a single message:"
   ]
  },
  {
   "cell_type": "code",
   "execution_count": 21,
   "metadata": {
    "colab": {
     "base_uri": "https://localhost:8080/",
     "height": 70
    },
    "id": "wK558-qII5WA",
    "outputId": "5eaf5b88-18ef-4d4b-82ac-bf8511d519f3"
   },
   "outputs": [
    {
     "data": {
      "text/plain": [
       "\"Pouvez-vous me donner votre âge et si vous avez déjà un compte bancaire dans un pays de l'UE ?\""
      ]
     },
     "execution_count": 21,
     "metadata": {},
     "output_type": "execute_result"
    }
   ],
   "source": [
    "result = await Runner.run(\n",
    "    starting_agent=agent,\n",
    "    input=\"Je veux ouvrir un compte bancaire. Je suis Belge.\"\n",
    ")\n",
    "result.final_output"
   ]
  },
  {
   "cell_type": "markdown",
   "metadata": {
    "id": "fD_kDKxFI5LO"
   },
   "source": [
    "Fortunately, we can help our agent remember this information. We can use the `.to_input_list()` method to format our `result` into a list of messages for our next query."
   ]
  },
  {
   "cell_type": "code",
   "execution_count": 22,
   "metadata": {
    "colab": {
     "base_uri": "https://localhost:8080/"
    },
    "id": "xs-buAAvJh8F",
    "outputId": "3b889236-2a26-4c91-bcca-45733518241d"
   },
   "outputs": [
    {
     "data": {
      "text/plain": [
       "[{'content': 'Je veux ouvrir un compte bancaire. Je suis Belge.',\n",
       "  'role': 'user'},\n",
       " {'id': 'msg_67f7e8f5c528819291ee7fef1db1d5ed0ee7328d36103b1e',\n",
       "  'content': [{'annotations': [],\n",
       "    'text': \"Pouvez-vous me donner votre âge et si vous avez déjà un compte bancaire dans un pays de l'UE ?\",\n",
       "    'type': 'output_text'}],\n",
       "  'role': 'assistant',\n",
       "  'status': 'completed',\n",
       "  'type': 'message'}]"
      ]
     },
     "execution_count": 22,
     "metadata": {},
     "output_type": "execute_result"
    }
   ],
   "source": [
    "result.to_input_list()"
   ]
  },
  {
   "cell_type": "markdown",
   "metadata": {
    "id": "Ia1n7UG_JkYh"
   },
   "source": [
    "We merge this with our next message:"
   ]
  },
  {
   "cell_type": "code",
   "execution_count": 23,
   "metadata": {
    "colab": {
     "base_uri": "https://localhost:8080/",
     "height": 35
    },
    "id": "y4WKSTObJokR",
    "outputId": "01331fad-5e8c-4e64-86cd-a3470432d462"
   },
   "outputs": [
    {
     "data": {
      "text/plain": [
       "'Vous êtes éligible pour ouvrir un compte bancaire.'"
      ]
     },
     "execution_count": 23,
     "metadata": {},
     "output_type": "execute_result"
    }
   ],
   "source": [
    "result = await Runner.run(\n",
    "    starting_agent=agent,\n",
    "    input=result.to_input_list() + [\n",
    "        {\"role\": \"user\", \"content\": \"J'ai 25 ans et j'ai déjà un compte en Belgique. Suis-je éligible ?\"}\n",
    "    ]\n",
    ")\n",
    "result.final_output"
   ]
  },
  {
   "cell_type": "markdown",
   "metadata": {
    "id": "7bGdZMCLKDMK"
   },
   "source": [
    "It looks like our agent can remember our previous interactions after all!"
   ]
  },
  {
   "cell_type": "markdown",
   "metadata": {},
   "source": [
    "## RAG Agent"
   ]
  },
  {
   "cell_type": "markdown",
   "metadata": {},
   "source": [
    "### Response API File Search\n",
    "\n",
    "Here is a complete example illustrating:\n",
    "1. How to create (or reuse) a vector index via the official OpenAI API,\n",
    "1. How to obtain a file_id,\n",
    "1. How to declare the FileSearch tool provided by the Agents SDK,\n",
    "1. How to integrate it into an agent (e.g. a FAQAgent) to perform RAG queries.\n",
    "\n",
    "**Note**: This example relies on OpenAI's new \"files\"/\"retrieval\" API (Agents SDK side), as described in the official documentation. This is not Chroma or a local store, but rather a vector store hosted by OpenAI via file upload (openai.File.create(...))."
   ]
  },
  {
   "cell_type": "markdown",
   "metadata": {},
   "source": []
  },
  {
   "cell_type": "markdown",
   "metadata": {},
   "source": [
    "### Creation / Initialization of Vector Store on OpenAI\n",
    "#### Prepare a knowledge file (FAQ, documents, etc.)\n",
    "\n",
    "Let's say you have a JSON or CSV file (e.g. faq_data.json) containing your questions and answers, or simply text to index. It must be formatted for upload according to OpenAI's \"Retrieval\" specification:\n",
    "\n",
    "For example JSON Lines (each line = one document).\n",
    "\n",
    "Each document contains {\"text\":\"...\"} and optionally metadata if needed.\n",
    "\n",
    "Minimal example:"
   ]
  },
  {
   "cell_type": "code",
   "execution_count": 24,
   "metadata": {},
   "outputs": [
    {
     "data": {
      "text/plain": [
       "{'text': 'Question: Quelle est la limite de dépôt ? Réponse: ...'}"
      ]
     },
     "execution_count": 24,
     "metadata": {},
     "output_type": "execute_result"
    }
   ],
   "source": [
    "# faq_data.json (JSON Lines)\n",
    "{\"text\":\"Question: Quels sont les frais de tenue de compte ? Réponse: Il n'y en a pas.\"}\n",
    "{\"text\":\"Question: Comment ouvrir un livret A ? Réponse: ...\"}\n",
    "{\"text\":\"Question: Quelle est la limite de dépôt ? Réponse: ...\"}"
   ]
  },
  {
   "cell_type": "markdown",
   "metadata": {},
   "source": [
    "#### Uploading the File from a Python Script or Terminal\n",
    "You can use the OpenAI API or the command-line interface (openai) to upload this file. For example, in Python:"
   ]
  },
  {
   "cell_type": "code",
   "execution_count": 25,
   "metadata": {},
   "outputs": [
    {
     "data": {
      "text/plain": [
       "VectorStoreFile(id='file-9WWg8hCbbG4KG2Srbp4o6x', created_at=1744300284, last_error=None, object='vector_store.file', status='completed', usage_bytes=11097, vector_store_id='vs_67f7e8fac470819188e1ea2613af0eef', attributes={}, chunking_strategy=StaticFileChunkingStrategyObject(static=StaticFileChunkingStrategy(chunk_overlap_tokens=400, max_chunk_size_tokens=800), type='static'))"
      ]
     },
     "execution_count": 25,
     "metadata": {},
     "output_type": "execute_result"
    }
   ],
   "source": [
    "from openai import OpenAI\n",
    "client = OpenAI()\n",
    "\n",
    "vector_store = client.vector_stores.create(        # Create vector store\n",
    "    name=\"Support FAQ\",\n",
    ")\n",
    "\n",
    "client.vector_stores.files.upload_and_poll(        # Upload file\n",
    "    vector_store_id=vector_store.id,\n",
    "    file=open(\"../data/parsed/faq.json\", \"rb\")\n",
    ")"
   ]
  },
  {
   "cell_type": "code",
   "execution_count": 26,
   "metadata": {},
   "outputs": [
    {
     "data": {
      "text/plain": [
       "SyncPage[VectorStoreSearchResponse](data=[VectorStoreSearchResponse(attributes={}, content=[Content(text='\",\\n    \"answer\": \"A debit card deducts money directly from your account upon transaction, while a credit card allows delayed payments within a credit limit.\"\\n  },\\n  \"4\": {\\n    \"url\": \"https://www.onlinebank.com/help/cash/withdrawal/question/can-i-order-cash-or-foreign-currency\",\\n    \"cat\": \"cash\",\\n    \"sub_cat\": \"withdrawal\",\\n    \"subsub_cat\": \"question\",\\n    \"question\": \"Can I order cash or foreign currency?\",\\n    \"answer\": \"We do not offer cash or currency delivery. You can withdraw from ATMs or use your card for global transactions.\"\\n  },\\n  \"5\": {\\n    \"url\": \"https://www.onlinebank.com/help/taxes/forms/question/what-does-line-2tr-mean-on-my-tax-form\",\\n    \"cat\": \"taxes\",\\n    \"sub_cat\": \"forms\",\\n    \"subsub_cat\": \"question\",\\n    \"question\": \"What does line 2TR mean on my tax form?\",\\n    \"answer\": \"Line 2TR includes taxable income from interest, deposits, and certain accounts. Please consult your tax advisor for specifics.\"\\n  },\\n  \"6\": {\\n    \"url\": \"https://www.onlinebank.com/help/account/closing/question/how-do-i-close-my-account\",\\n    \"cat\": \"account\",\\n    \"sub_cat\": \"closing\",\\n    \"subsub_cat\": \"question\",\\n    \"question\": \"How do I close my account?\",\\n    \"answer\": \"To close your account, submit a signed request through the app or via email with a valid ID attached.\"\\n  },\\n  \"7\": {\\n    \"url\": \"https://www.onlinebank.com/help/card/settings/question/how-do-i-change-my-card-pin\",\\n    \"cat\": \"card\",\\n    \"sub_cat\": \"settings\",\\n    \"subsub_cat\": \"question\",\\n    \"question\": \"How do I change my card PIN?\",\\n    \"answer\": \"You can change your card PIN via the app under \\'Card Settings\\' or at supported ATMs.\"\\n  },\\n  \"8\": {\\n    \"url\": \"https://www.onlinebank.com/help/security/question/what-to-do-if-i-suspect-unauthorized-access\",\\n    \"cat\": \"security\",\\n    \"sub_cat\": \"fraud\",\\n    \"subsub_cat\": \"question\",\\n    \"question\": \"What should I do if I suspect unauthorized access to my account?\",\\n    \"answer\": \"If you suspect unauthorized access, change your password immediately and contact customer support to secure your account.\"\\n  },\\n  \"9\": {\\n    \"url\": \"https://www.onlinebank.com/help/transfers/question/how-do-i-set-up-a-recurring-transfer\",\\n    \"cat\": \"transfers\",\\n    \"sub_cat\": \"setup\",\\n    \"subsub_cat\": \"question\",\\n    \"question\": \"How do I set up a recurring transfer?\",\\n    \"answer\": \"Set up recurring transfers via the app by navigating to \\'Transfers\\' > \\'Recurring Transfers\\' and entering the required details.\"\\n  },\\n  \"10\": {\\n    \"url\": \"https://www.onlinebank.com/help/investments/question/what-investment-options-are-available\",\\n    \"cat\": \"investments\",\\n    \"sub_cat\": \"options\",\\n    \"subsub_cat\": \"question\",\\n    \"question\": \"What investment options are available?\",\\n    \"answer\": \"We offer savings accounts, mutual funds, and other investment products. Details can be accessed under \\'Investments\\' in the app.\"', type='text')], file_id='file-9WWg8hCbbG4KG2Srbp4o6x', filename='faq.json', score=0.8745896804779268), VectorStoreSearchResponse(attributes={}, content=[Content(text='},\\n  \"7\": {\\n    \"url\": \"https://www.onlinebank.com/help/card/settings/question/how-do-i-change-my-card-pin\",\\n    \"cat\": \"card\",\\n    \"sub_cat\": \"settings\",\\n    \"subsub_cat\": \"question\",\\n    \"question\": \"How do I change my card PIN?\",\\n    \"answer\": \"You can change your card PIN via the app under \\'Card Settings\\' or at supported ATMs.\"\\n  },\\n  \"8\": {\\n    \"url\": \"https://www.onlinebank.com/help/security/question/what-to-do-if-i-suspect-unauthorized-access\",\\n    \"cat\": \"security\",\\n    \"sub_cat\": \"fraud\",\\n    \"subsub_cat\": \"question\",\\n    \"question\": \"What should I do if I suspect unauthorized access to my account?\",\\n    \"answer\": \"If you suspect unauthorized access, change your password immediately and contact customer support to secure your account.\"\\n  },\\n  \"9\": {\\n    \"url\": \"https://www.onlinebank.com/help/transfers/question/how-do-i-set-up-a-recurring-transfer\",\\n    \"cat\": \"transfers\",\\n    \"sub_cat\": \"setup\",\\n    \"subsub_cat\": \"question\",\\n    \"question\": \"How do I set up a recurring transfer?\",\\n    \"answer\": \"Set up recurring transfers via the app by navigating to \\'Transfers\\' > \\'Recurring Transfers\\' and entering the required details.\"\\n  },\\n  \"10\": {\\n    \"url\": \"https://www.onlinebank.com/help/investments/question/what-investment-options-are-available\",\\n    \"cat\": \"investments\",\\n    \"sub_cat\": \"options\",\\n    \"subsub_cat\": \"question\",\\n    \"question\": \"What investment options are available?\",\\n    \"answer\": \"We offer savings accounts, mutual funds, and other investment products. Details can be accessed under \\'Investments\\' in the app.\"\\n  },\\n  \"11\": {\\n    \"url\": \"https://www.onlinebank.com/help/card/lost/question/what-to-do-if-i-lose-my-card\",\\n    \"cat\": \"card\",\\n    \"sub_cat\": \"lost\",\\n    \"subsub_cat\": \"question\",\\n    \"question\": \"What should I do if I lose my card?\",\\n    \"answer\": \"Report your lost card via the app or by contacting support to block it immediately and request a replacement.\"\\n  },\\n  \"12\": {\\n    \"url\": \"https://www.onlinebank.com/help/account/documents/question/how-to-download-account-statements\",\\n    \"cat\": \"account\",\\n    \"sub_cat\": \"documents\",\\n    \"subsub_cat\": \"question\",\\n    \"question\": \"How can I download my account statements?\",\\n    \"answer\": \"Download your statements from the app by navigating to \\'Documents\\' > \\'Account Statements.\\'\"\\n  },\\n  \"13\": {\\n    \"url\": \"https://www.onlinebank.com/help/account/update/question/how-to-update-my-personal-information\",\\n    \"cat\": \"account\",\\n    \"sub_cat\": \"update\",\\n    \"subsub_cat\": \"question\",\\n    \"question\": \"How can I update my personal information?\",\\n    \"answer\": \"Update your personal information via the app under \\'Profile Settings.\\'\"\\n  },\\n  \"14\": {\\n    \"url\": \"https://www.onlinebank.com/help/mobile-app/question/how-to-enable-biometric-login\",\\n    \"cat\": \"mobile-app\",\\n    \"sub_cat\": \"features\",\\n    \"subsub_cat\": \"question\",\\n    \"question\": \"How can I enable biometric login?\",\\n    \"answer\": \"Enable biometric login by navigating to \\'Settings\\' > \\'Security\\' in the app and activating the option.\"', type='text')], file_id='file-9WWg8hCbbG4KG2Srbp4o6x', filename='faq.json', score=0.8240495335036341), VectorStoreSearchResponse(attributes={}, content=[Content(text='Details can be accessed under \\'Investments\\' in the app.\"\\n  },\\n  \"11\": {\\n    \"url\": \"https://www.onlinebank.com/help/card/lost/question/what-to-do-if-i-lose-my-card\",\\n    \"cat\": \"card\",\\n    \"sub_cat\": \"lost\",\\n    \"subsub_cat\": \"question\",\\n    \"question\": \"What should I do if I lose my card?\",\\n    \"answer\": \"Report your lost card via the app or by contacting support to block it immediately and request a replacement.\"\\n  },\\n  \"12\": {\\n    \"url\": \"https://www.onlinebank.com/help/account/documents/question/how-to-download-account-statements\",\\n    \"cat\": \"account\",\\n    \"sub_cat\": \"documents\",\\n    \"subsub_cat\": \"question\",\\n    \"question\": \"How can I download my account statements?\",\\n    \"answer\": \"Download your statements from the app by navigating to \\'Documents\\' > \\'Account Statements.\\'\"\\n  },\\n  \"13\": {\\n    \"url\": \"https://www.onlinebank.com/help/account/update/question/how-to-update-my-personal-information\",\\n    \"cat\": \"account\",\\n    \"sub_cat\": \"update\",\\n    \"subsub_cat\": \"question\",\\n    \"question\": \"How can I update my personal information?\",\\n    \"answer\": \"Update your personal information via the app under \\'Profile Settings.\\'\"\\n  },\\n  \"14\": {\\n    \"url\": \"https://www.onlinebank.com/help/mobile-app/question/how-to-enable-biometric-login\",\\n    \"cat\": \"mobile-app\",\\n    \"sub_cat\": \"features\",\\n    \"subsub_cat\": \"question\",\\n    \"question\": \"How can I enable biometric login?\",\\n    \"answer\": \"Enable biometric login by navigating to \\'Settings\\' > \\'Security\\' in the app and activating the option.\"\\n  },\\n  \"15\": {\\n    \"url\": \"https://www.onlinebank.com/help/account/fees/question/what-are-the-monthly-account-fees\",\\n    \"cat\": \"account\",\\n    \"sub_cat\": \"fees\",\\n    \"subsub_cat\": \"question\",\\n    \"question\": \"What are the monthly account fees?\",\\n    \"answer\": \"Monthly fees vary by account type. Please refer to the \\'Fees and Charges\\' section in the app for details.\"\\n  },\\n  \"16\": {\\n    \"url\": \"https://www.onlinebank.com/help/loans/question/how-to-apply-for-a-personal-loan\",\\n    \"cat\": \"loans\",\\n    \"sub_cat\": \"application\",\\n    \"subsub_cat\": \"question\",\\n    \"question\": \"How can I apply for a personal loan?\",\\n    \"answer\": \"Apply for a personal loan through the app by going to \\'Loans\\' > \\'Apply Now\\' and filling out the application form.\"\\n  },\\n  \"17\": {\\n    \"url\": \"https://www.onlinebank.com/help/security/password-reset/question/how-to-reset-my-password\",\\n    \"cat\": \"security\",\\n    \"sub_cat\": \"password-reset\",\\n    \"subsub_cat\": \"question\",\\n    \"question\": \"How do I reset my password?\",\\n    \"answer\": \"Reset your password using the \\'Forgot Password\\' link on the login page or via the app\\'s \\'Security Settings.\\'\"\\n  }\\n}', type='text')], file_id='file-9WWg8hCbbG4KG2Srbp4o6x', filename='faq.json', score=0.17223606410984052), VectorStoreSearchResponse(attributes={}, content=[Content(text='{\\n  \"0\": {\\n    \"url\": \"https://www.onlinebank.com/help/account/opening/question/why-was-my-account-opening-request-rejected\",\\n    \"cat\": \"account\",\\n    \"sub_cat\": \"opening\",\\n    \"subsub_cat\": \"question\",\\n    \"question\": \"Why was my account opening request rejected?\",\\n    \"answer\": \"Your account opening request may have been rejected due to incomplete documentation or eligibility criteria not being met. Contact our support team for more details.\"\\n  },\\n  \"1\": {\\n    \"url\": \"https://www.onlinebank.com/help/card/blocked/question/what-should-i-do-if-my-card-is-blocked-at-an-atm\",\\n    \"cat\": \"card\",\\n    \"sub_cat\": \"blocked\",\\n    \"subsub_cat\": \"question\",\\n    \"question\": \"What should I do if my card is blocked at an ATM?\",\\n    \"answer\": \"If your card is blocked at an ATM, immediately report it using our mobile app under \\'Card Services\\' > \\'Block Card\\' and request a replacement.\"\\n  },\\n  \"2\": {\\n    \"url\": \"https://www.onlinebank.com/help/general/complaints/question/what-is-a-complaint\",\\n    \"cat\": \"general\",\\n    \"sub_cat\": \"complaints\",\\n    \"subsub_cat\": \"question\",\\n    \"question\": \"What is considered a complaint?\",\\n    \"answer\": \"A complaint is an issue or dissatisfaction that cannot be resolved by the initial customer support interaction. Our dedicated complaints team can assist further.\"\\n  },\\n  \"3\": {\\n    \"url\": \"https://www.onlinebank.com/help/card/info/question/what-is-the-difference-between-a-credit-and-a-debit-card\",\\n    \"cat\": \"card\",\\n    \"sub_cat\": \"info\",\\n    \"subsub_cat\": \"question\",\\n    \"question\": \"What is the difference between a credit and a debit card?\",\\n    \"answer\": \"A debit card deducts money directly from your account upon transaction, while a credit card allows delayed payments within a credit limit.\"\\n  },\\n  \"4\": {\\n    \"url\": \"https://www.onlinebank.com/help/cash/withdrawal/question/can-i-order-cash-or-foreign-currency\",\\n    \"cat\": \"cash\",\\n    \"sub_cat\": \"withdrawal\",\\n    \"subsub_cat\": \"question\",\\n    \"question\": \"Can I order cash or foreign currency?\",\\n    \"answer\": \"We do not offer cash or currency delivery. You can withdraw from ATMs or use your card for global transactions.\"\\n  },\\n  \"5\": {\\n    \"url\": \"https://www.onlinebank.com/help/taxes/forms/question/what-does-line-2tr-mean-on-my-tax-form\",\\n    \"cat\": \"taxes\",\\n    \"sub_cat\": \"forms\",\\n    \"subsub_cat\": \"question\",\\n    \"question\": \"What does line 2TR mean on my tax form?\",\\n    \"answer\": \"Line 2TR includes taxable income from interest, deposits, and certain accounts. Please consult your tax advisor for specifics.\"\\n  },\\n  \"6\": {\\n    \"url\": \"https://www.onlinebank.com/help/account/closing/question/how-do-i-close-my-account\",\\n    \"cat\": \"account\",\\n    \"sub_cat\": \"closing\",\\n    \"subsub_cat\": \"question\",\\n    \"question\": \"How do I close my account?\",\\n    \"answer\": \"To close your account, submit a signed request through the app or via email with a valid ID attached.\"', type='text')], file_id='file-9WWg8hCbbG4KG2Srbp4o6x', filename='faq.json', score=0.10674529127842818)], object='vector_store.search_results.page', search_query=['How do I change my card PIN?'], has_more=False, next_page=None)"
      ]
     },
     "execution_count": 26,
     "metadata": {},
     "output_type": "execute_result"
    }
   ],
   "source": [
    "user_query = \"How do I change my card PIN?\"\n",
    "\n",
    "results = client.vector_stores.search(\n",
    "    vector_store_id=vector_store.id,\n",
    "    query=user_query,\n",
    ")\n",
    "results"
   ]
  },
  {
   "cell_type": "markdown",
   "metadata": {},
   "source": [
    "A response will contain 10 results maximum by default, but you can set up to 50 using the max_num_results param."
   ]
  },
  {
   "cell_type": "code",
   "execution_count": 47,
   "metadata": {},
   "outputs": [
    {
     "name": "stdout",
     "output_type": "stream",
     "text": [
      "You can change your card PIN via the app under 'Card Settings' or at supported ATMs.\n"
     ]
    }
   ],
   "source": [
    "from agents import FileSearchTool\n",
    "\n",
    "faq_agent = Agent(\n",
    "    name=\"FAQ Agent\",\n",
    "    instructions=\"You help answer questions about offers and services using the provided FileSearchTool.\",\n",
    "    tools=[\n",
    "        FileSearchTool(\n",
    "            max_num_results=3,\n",
    "            vector_store_ids=[vector_store.id],\n",
    "        ),\n",
    "    ],\n",
    ")\n",
    "\n",
    "result = await Runner.run(faq_agent, \"How do I change my card PIN?\")\n",
    "print(result.final_output)"
   ]
  },
  {
   "cell_type": "code",
   "execution_count": 48,
   "metadata": {},
   "outputs": [],
   "source": [
    "customer_onboarding_agent = Agent(\n",
    "    name=\"Customer onboarding assistant\",\n",
    "    instructions=(\n",
    "        \"You are an AI assistant in charge of customer onboarding for an online bank.\\n\"\n",
    "        \"You answer questions about offers and services and solve issues.\\n\"\n",
    "        \"You have to verify prospect's eligibility before solving issues.\\n\"\n",
    "        \"If they ask about product and services, handoff to the FAQ agent.\"\n",
    "        \"Answer by a single sentence whenever possible.\"\n",
    "    ),\n",
    "    model=\"gpt-4o-mini\",\n",
    "    tools=[eligibility_checker],\n",
    "    input_guardrails=[sensitive_data_guardrail],  # note this is a list of guardrails\n",
    "    handoffs=[faq_agent],\n",
    ")"
   ]
  },
  {
   "cell_type": "code",
   "execution_count": 54,
   "metadata": {},
   "outputs": [
    {
     "name": "stdout",
     "output_type": "stream",
     "text": [
      "> Current Agent: Customer onboarding assistant\n",
      "{}> Current Agent: FAQ Agent\n",
      "To close your account, you need to submit a signed request through the app or via email with a valid ID attached.\n",
      "> Tool Called, name: ResponseFileSearchToolCall\n"
     ]
    }
   ],
   "source": [
    "response =  Runner.run_streamed(customer_onboarding_agent, \"How do I close my account?\")\n",
    "\n",
    "await process_stream_events(response)"
   ]
  },
  {
   "cell_type": "markdown",
   "metadata": {},
   "source": [
    "## Context Management\n",
    "\n",
    "### Eligibility Agent\n",
    "\n",
    "As you have seen, using a function to check eligibility is pretty weak. Let's make it an agent and rely on LLM \"intelligence\".\n",
    "\n",
    "We will use Context Management for that.\n",
    "\n",
    "The idea is that Eligibility Agent will check the user and then add the eligibility status in the context.\n",
    "So the Problem Solver agent will only help prospect that are eligible."
   ]
  },
  {
   "cell_type": "code",
   "execution_count": 55,
   "metadata": {},
   "outputs": [],
   "source": [
    "from dataclasses import dataclass\n",
    "from typing import Optional\n",
    "\n",
    "@dataclass\n",
    "class UserProfile:  \n",
    "    nationality: str | None = None\n",
    "    age: int | None = None\n",
    "    has_eu_bank_account: bool | None = None\n",
    "    is_elligible: bool | None = None\n",
    "\n",
    "@function_tool\n",
    "def update_eligibility(context: RunContextWrapper[UserProfile], nationality: str, age: int, has_eu_bank_account: bool, is_elligible: bool) -> str:\n",
    "    \"\"\"\n",
    "    Update the eligibility status of the user.\n",
    "    Args:\n",
    "    - nationality: nationality (e.g., 'French', 'Belgian', etc.).\n",
    "    - age: age in years.\n",
    "    - has_eu_bank_account: True/False if the user already has\n",
    "    a bank account in an EU country.\n",
    "    - is_elligible: True/False if the user is eligible to open an account.\n",
    "    \"\"\"\n",
    "    print(f\"Eligibility status verified from user input '{nationality}', '{age}', '{has_eu_bank_account}'. Status is {is_elligible}.\")\n",
    "    context.context.nationality = nationality\n",
    "    context.context.age = age\n",
    "    context.context.has_eu_bank_account = has_eu_bank_account\n",
    "    context.context.is_elligible = is_elligible\n",
    "    assert context.context.is_elligible is not None, \"Eligibility status is required\"\n",
    "    return f\"Eligibility status verified from user input '{nationality}', '{age}', '{has_eu_bank_account}'. Status is {is_elligible}.\"\n"
   ]
  },
  {
   "cell_type": "markdown",
   "metadata": {},
   "source": [
    "Tips: There is a RECOMMENDED_PROMPT_PREFIX prompt you can add to agent collaborating in a Agentic workflow."
   ]
  },
  {
   "cell_type": "code",
   "execution_count": 56,
   "metadata": {},
   "outputs": [],
   "source": [
    "from agents.extensions.handoff_prompt import RECOMMENDED_PROMPT_PREFIX\n",
    "\n",
    "eligibility_agent = Agent[UserProfile](\n",
    "    name=\"Eligibility agent\",\n",
    "    instructions=f\"\"\"{RECOMMENDED_PROMPT_PREFIX}            \n",
    "        You are an agent in charge of determining if a prospect is eligible to open a bank account.\n",
    "        \n",
    "        ### Process\n",
    "        1. To validate eligibility, you need to be provided with the country of tax residence, nationality, age and\n",
    "            verify if the user has a European bank account in their own name.\n",
    "        2. If partial information is provided, respond with the missing information.\n",
    "        3. Once ALL information is transmitted, verify the eligibility criteria:\n",
    "            - If a condition does not meet business eligibility rules,\n",
    "             end the conversation with \"Not eligible. \" and explain why.\n",
    "             - If the prospect meets all eligibility criteria and only if so,\n",
    "             end the conversation with \"Eligible\".\n",
    "        4. Use the update eligibility tool to update the eligibility of the user.\n",
    "        \n",
    "        ### Eligibility Criteria\n",
    "        - Eligible nationalities are those of the European Union.\n",
    "        - Authorized countries of residence are those of the European Union.\n",
    "        - The applicant must already have a bank account in France in their name.\n",
    "        - Only adults can open an account.\n",
    "        \n",
    "        ### Path Exploration\n",
    "        - Only verify eligibility criteria when you know\n",
    "            the country of residence, nationality and possession of a French bank account.\n",
    "       \n",
    "        ### Simulated Dialogue\n",
    "        User: \"I want to open an account.\"\n",
    "        Assistant: \"To validate eligibility, I need the country of tax residence,\n",
    "            the applicant's nationality and verify that the user has a French bank account in their name.\"\n",
    "        User: \"I live in Canada, I am French nationality\"\n",
    "        Assistant: \"Do you have an account in France in your name?\"\n",
    "        User: \"Yes, I have an account in France in my name.\"\n",
    "        Assistant: \"Not eligible. This offer is reserved for people of French nationality.\"\"\",\n",
    "    model=\"gpt-4o-mini\",\n",
    "    tools=[update_eligibility]\n",
    ")\n"
   ]
  },
  {
   "cell_type": "code",
   "execution_count": 57,
   "metadata": {},
   "outputs": [],
   "source": [
    "context = UserProfile()"
   ]
  },
  {
   "cell_type": "code",
   "execution_count": 58,
   "metadata": {},
   "outputs": [
    {
     "name": "stdout",
     "output_type": "stream",
     "text": [
      "Pour valider votre éligibilité, j'ai besoin de connaître votre pays de résidence fiscale. Pouvez-vous me le confirmer ?\n"
     ]
    }
   ],
   "source": [
    "result = await Runner.run(eligibility_agent, \"Salut, je suis français, j'ai 25 ans et j'ai déjà un compte en France. Suis-je éligible ?\", context=context)\n",
    "print(result.final_output)"
   ]
  },
  {
   "cell_type": "code",
   "execution_count": 59,
   "metadata": {},
   "outputs": [
    {
     "name": "stdout",
     "output_type": "stream",
     "text": [
      "> Current Agent: Eligibility agent\n",
      "{\"nationality\":\"French\",\"age\":25,\"has_eu_bank_account\":true,\"is_elligible\":true}Eligibility status verified from user input 'French', '25', 'True'. Status is True.\n",
      "\n",
      "> Tool Called, name: update_eligibility\n",
      "> Tool Output: Eligibility status verified from user input 'French', '25', 'True'. Status is True.\n",
      "Eligible."
     ]
    }
   ],
   "source": [
    "response = Runner.run_streamed(\n",
    "    starting_agent=eligibility_agent,\n",
    "    input=result.to_input_list() + [\n",
    "        {\"role\": \"user\", \"content\": \"Je réside en Allemagne et suis résident fiscal en France. \"}\n",
    "    ],\n",
    "    context=context\n",
    ")\n",
    "# result.final_output\n",
    "await process_stream_events(response)"
   ]
  },
  {
   "cell_type": "markdown",
   "metadata": {},
   "source": [
    "### Problem Solver Agent\n",
    "\n",
    "Problem solver agent works like FAQ agent but it's role is to solve technical issues during onboarding process. It uses FileSearchTool for retrieval and call eligibility_checker function to ensure that the eligibility of user has been verified by Eligibility Agent."
   ]
  },
  {
   "cell_type": "code",
   "execution_count": 60,
   "metadata": {},
   "outputs": [
    {
     "data": {
      "text/plain": [
       "VectorStoreFile(id='file-VnLtZETuokHVo8Li6F2T4S', created_at=1744300952, last_error=None, object='vector_store.file', status='completed', usage_bytes=13507, vector_store_id='vs_67f7eb972e1881918ff64e03c4cf6859', attributes={}, chunking_strategy=StaticFileChunkingStrategyObject(static=StaticFileChunkingStrategy(chunk_overlap_tokens=400, max_chunk_size_tokens=800), type='static'))"
      ]
     },
     "execution_count": 60,
     "metadata": {},
     "output_type": "execute_result"
    }
   ],
   "source": [
    "vector_store_problem = client.vector_stores.create(        # Create vector store\n",
    "    name=\"Problem Database\",\n",
    ")\n",
    "\n",
    "client.vector_stores.files.upload_and_poll(        # Upload file\n",
    "    vector_store_id=vector_store_problem.id,\n",
    "    file=open(\"../data/parsed/error_db.json\", \"rb\")\n",
    ")\n"
   ]
  },
  {
   "cell_type": "code",
   "execution_count": 61,
   "metadata": {},
   "outputs": [
    {
     "data": {
      "text/plain": [
       "SyncPage[VectorStoreSearchResponse](data=[], object='vector_store.search_results.page', search_query=[\"I've forgotten my PIN\"], has_more=False, next_page=None)"
      ]
     },
     "execution_count": 61,
     "metadata": {},
     "output_type": "execute_result"
    }
   ],
   "source": [
    "user_query = \"I've forgotten my PIN\"\n",
    "\n",
    "results = client.vector_stores.search(\n",
    "    vector_store_id=vector_store_problem.id,\n",
    "    query=user_query,\n",
    ")\n",
    "results"
   ]
  },
  {
   "cell_type": "code",
   "execution_count": 62,
   "metadata": {},
   "outputs": [],
   "source": [
    "@function_tool\n",
    "def eligibility_checker(\n",
    "    context: RunContextWrapper[UserProfile]\n",
    ") -> str:\n",
    "    \"\"\"\n",
    "    Checks if eligibility  to open an account has been verifieed.\n",
    "\n",
    "    Return: a text indicating \"Eligible\" or \"Not Eligible\".\n",
    "    \"\"\"\n",
    "\n",
    "    # Règles simplifiées, vous adaptez à la réalité\n",
    "    # 1. Être majeur (>=18 ans)\n",
    "    # 2. Être de nationalité d'un pays de l'UE (on se limite à un set)\n",
    "    # 3. Posséder déjà un compte bancaire dans l'UE\n",
    "\n",
    "\n",
    "    if context.context.is_elligible is None:\n",
    "        return \"Eligibility status not verified. Need Verification\"\n",
    "    elif context.context.is_elligible:\n",
    "        return \"Eligible\"\n",
    "    else:\n",
    "        return \"Non Eligible\""
   ]
  },
  {
   "cell_type": "code",
   "execution_count": 63,
   "metadata": {},
   "outputs": [],
   "source": [
    "\n",
    "problem_solver_agent = Agent[UserProfile](\n",
    "    name=\"Problem solver agent\",\n",
    "    instructions=f\"\"\"{RECOMMENDED_PROMPT_PREFIX}\n",
    "    You are an AI agent in charge of solving problems encountered by users of an online bank mobile and web applications.\n",
    "    You only reply if elligibility has been verified.\n",
    "    Use eligibility checker tool to verify eligibility.\n",
    "    \"\"\",\n",
    "    tools=[\n",
    "        FileSearchTool(\n",
    "            max_num_results=3,\n",
    "            vector_store_ids=[vector_store_problem.id],\n",
    "        ),\n",
    "        eligibility_checker\n",
    "    ],\n",
    ")"
   ]
  },
  {
   "cell_type": "markdown",
   "metadata": {},
   "source": [
    "## Handsoff\n",
    "\n",
    "We are now bringing all agents together with handsoffs on 'customer_onboarding_agent'."
   ]
  },
  {
   "cell_type": "code",
   "execution_count": 64,
   "metadata": {},
   "outputs": [],
   "source": [
    "customer_onboarding_agent = Agent[UserProfile](\n",
    "    name=\"Customer onboarding assistant\",\n",
    "    instructions=(\n",
    "        \"You are an AI assistant in charge of customer onboarding for an online bank.\\n\"\n",
    "        \"You answer questions about offers and services and solve issues.\\n\"\n",
    "        \"You have to verify prospect's eligibility before solving issues.\\n\"\n",
    "        \"If they ask about product and services, handoff to the FAQ agent.\\n\"\n",
    "        \"If they ask about problem and issues, handoff to the Problem solver agent.\\n\"\n",
    "        \"Answer by a single sentence whenever possible.\"\n",
    "    ),\n",
    "    model=\"gpt-4o-mini\",\n",
    "    input_guardrails=[sensitive_data_guardrail],  # note this is a list of guardrails\n",
    "    handoffs=[faq_agent, eligibility_agent, problem_solver_agent],\n",
    ")"
   ]
  },
  {
   "cell_type": "markdown",
   "metadata": {},
   "source": [
    "## Agent Vizualization\n",
    "\n",
    "You can now easely draw you agentic workflow with Agents SDK."
   ]
  },
  {
   "cell_type": "code",
   "execution_count": 65,
   "metadata": {},
   "outputs": [
    {
     "data": {
      "image/svg+xml": [
       "<?xml version=\"1.0\" encoding=\"UTF-8\" standalone=\"no\"?>\n",
       "<!DOCTYPE svg PUBLIC \"-//W3C//DTD SVG 1.1//EN\"\n",
       " \"http://www.w3.org/Graphics/SVG/1.1/DTD/svg11.dtd\">\n",
       "<!-- Generated by graphviz version 12.2.1 (20241206.2353)\n",
       " -->\n",
       "<!-- Title: G Pages: 1 -->\n",
       "<svg width=\"401pt\" height=\"462pt\"\n",
       " viewBox=\"0.00 0.00 400.64 461.56\" xmlns=\"http://www.w3.org/2000/svg\" xmlns:xlink=\"http://www.w3.org/1999/xlink\">\n",
       "<g id=\"graph0\" class=\"graph\" transform=\"scale(1 1) rotate(0) translate(4 457.56)\">\n",
       "<title>G</title>\n",
       "<polygon fill=\"white\" stroke=\"none\" points=\"-4,4 -4,-457.56 396.64,-457.56 396.64,4 -4,4\"/>\n",
       "<!-- __start__ -->\n",
       "<g id=\"node1\" class=\"node\">\n",
       "<title>__start__</title>\n",
       "<ellipse fill=\"lightblue\" stroke=\"black\" cx=\"101.75\" cy=\"-436.77\" rx=\"51.09\" ry=\"16.79\"/>\n",
       "<text text-anchor=\"middle\" x=\"101.75\" y=\"-431.34\" font-family=\"Arial\" font-size=\"14.00\">__start__</text>\n",
       "</g>\n",
       "<!-- Customer onboarding assistant -->\n",
       "<g id=\"node3\" class=\"node\">\n",
       "<title>Customer onboarding assistant</title>\n",
       "<polygon fill=\"lightyellow\" stroke=\"black\" points=\"203.5,-383.98 0,-383.98 0,-326.38 203.5,-326.38 203.5,-383.98\"/>\n",
       "<text text-anchor=\"middle\" x=\"101.75\" y=\"-349.75\" font-family=\"Arial\" font-size=\"14.00\">Customer onboarding assistant</text>\n",
       "</g>\n",
       "<!-- __start__&#45;&gt;Customer onboarding assistant -->\n",
       "<g id=\"edge1\" class=\"edge\">\n",
       "<title>__start__&#45;&gt;Customer onboarding assistant</title>\n",
       "<path fill=\"none\" stroke=\"black\" stroke-width=\"1.5\" d=\"M101.75,-419.66C101.75,-412.83 101.75,-404.52 101.75,-396.21\"/>\n",
       "<polygon fill=\"black\" stroke=\"black\" stroke-width=\"1.5\" points=\"105.25,-396.45 101.75,-386.45 98.25,-396.45 105.25,-396.45\"/>\n",
       "</g>\n",
       "<!-- __end__ -->\n",
       "<g id=\"node2\" class=\"node\">\n",
       "<title>__end__</title>\n",
       "<ellipse fill=\"lightblue\" stroke=\"black\" cx=\"239.75\" cy=\"-16.79\" rx=\"48.44\" ry=\"16.79\"/>\n",
       "<text text-anchor=\"middle\" x=\"239.75\" y=\"-11.37\" font-family=\"Arial\" font-size=\"14.00\">__end__</text>\n",
       "</g>\n",
       "<!-- FAQ Agent -->\n",
       "<g id=\"node4\" class=\"node\">\n",
       "<title>FAQ Agent</title>\n",
       "<polygon fill=\"lightyellow\" stroke=\"black\" points=\"155.75,-290.38 47.75,-290.38 47.75,-232.78 155.75,-232.78 155.75,-290.38\"/>\n",
       "<text text-anchor=\"middle\" x=\"101.75\" y=\"-256.15\" font-family=\"Arial\" font-size=\"14.00\">FAQ Agent</text>\n",
       "</g>\n",
       "<!-- Customer onboarding assistant&#45;&gt;FAQ Agent -->\n",
       "<g id=\"edge2\" class=\"edge\">\n",
       "<title>Customer onboarding assistant&#45;&gt;FAQ Agent</title>\n",
       "<path fill=\"none\" stroke=\"black\" stroke-width=\"1.5\" d=\"M101.75,-326.19C101.75,-318.81 101.75,-310.68 101.75,-302.79\"/>\n",
       "<polygon fill=\"black\" stroke=\"black\" stroke-width=\"1.5\" points=\"105.25,-302.97 101.75,-292.97 98.25,-302.97 105.25,-302.97\"/>\n",
       "</g>\n",
       "<!-- Eligibility agent -->\n",
       "<g id=\"node6\" class=\"node\">\n",
       "<title>Eligibility agent</title>\n",
       "<polygon fill=\"lightyellow\" stroke=\"black\" points=\"350.75,-290.38 242.75,-290.38 242.75,-232.78 350.75,-232.78 350.75,-290.38\"/>\n",
       "<text text-anchor=\"middle\" x=\"296.75\" y=\"-256.15\" font-family=\"Arial\" font-size=\"14.00\">Eligibility agent</text>\n",
       "</g>\n",
       "<!-- Customer onboarding assistant&#45;&gt;Eligibility agent -->\n",
       "<g id=\"edge6\" class=\"edge\">\n",
       "<title>Customer onboarding assistant&#45;&gt;Eligibility agent</title>\n",
       "<path fill=\"none\" stroke=\"black\" stroke-width=\"1.5\" d=\"M161.85,-325.94C183.97,-315.55 209.11,-303.74 231.65,-293.15\"/>\n",
       "<polygon fill=\"black\" stroke=\"black\" stroke-width=\"1.5\" points=\"232.86,-296.45 240.43,-289.03 229.89,-290.12 232.86,-296.45\"/>\n",
       "</g>\n",
       "<!-- Problem solver agent -->\n",
       "<g id=\"node8\" class=\"node\">\n",
       "<title>Problem solver agent</title>\n",
       "<polygon fill=\"lightyellow\" stroke=\"black\" points=\"158.88,-127.19 14.62,-127.19 14.62,-69.59 158.88,-69.59 158.88,-127.19\"/>\n",
       "<text text-anchor=\"middle\" x=\"86.75\" y=\"-92.96\" font-family=\"Arial\" font-size=\"14.00\">Problem solver agent</text>\n",
       "</g>\n",
       "<!-- Customer onboarding assistant&#45;&gt;Problem solver agent -->\n",
       "<g id=\"edge10\" class=\"edge\">\n",
       "<title>Customer onboarding assistant&#45;&gt;Problem solver agent</title>\n",
       "<path fill=\"none\" stroke=\"black\" stroke-width=\"1.5\" d=\"M64.93,-326.02C54.55,-315.99 44.52,-303.82 38.75,-290.38 16.44,-238.42 17.04,-216.55 35.75,-163.19 38.99,-153.96 44.18,-145.07 50.04,-137.01\"/>\n",
       "<polygon fill=\"black\" stroke=\"black\" stroke-width=\"1.5\" points=\"52.59,-139.43 56.03,-129.41 47.09,-135.1 52.59,-139.43\"/>\n",
       "</g>\n",
       "<!-- FAQ Agent&#45;&gt;__end__ -->\n",
       "<g id=\"edge5\" class=\"edge\">\n",
       "<title>FAQ Agent&#45;&gt;__end__</title>\n",
       "<path fill=\"none\" stroke=\"black\" stroke-width=\"1.5\" d=\"M136.17,-232.47C147.31,-222.12 159.03,-209.73 167.75,-196.78 200.45,-148.18 222.08,-82.46 232.49,-45.68\"/>\n",
       "<polygon fill=\"black\" stroke=\"black\" stroke-width=\"1.5\" points=\"235.84,-46.72 235.11,-36.15 229.09,-44.86 235.84,-46.72\"/>\n",
       "</g>\n",
       "<!-- file_search -->\n",
       "<g id=\"node5\" class=\"node\">\n",
       "<title>file_search</title>\n",
       "<ellipse fill=\"lightgreen\" stroke=\"black\" cx=\"101.75\" cy=\"-179.98\" rx=\"57.45\" ry=\"16.79\"/>\n",
       "<text text-anchor=\"middle\" x=\"101.75\" y=\"-174.56\" font-family=\"Arial\" font-size=\"14.00\">file_search</text>\n",
       "</g>\n",
       "<!-- FAQ Agent&#45;&gt;file_search -->\n",
       "<g id=\"edge3\" class=\"edge\">\n",
       "<title>FAQ Agent&#45;&gt;file_search</title>\n",
       "<path fill=\"none\" stroke=\"black\" stroke-width=\"1.5\" stroke-dasharray=\"1,5\" d=\"M95.26,-232.29C94.91,-224.82 94.91,-216.77 95.26,-209.3\"/>\n",
       "<polygon fill=\"black\" stroke=\"black\" stroke-width=\"1.5\" points=\"98.74,-209.63 96.02,-199.39 91.76,-209.09 98.74,-209.63\"/>\n",
       "</g>\n",
       "<!-- file_search&#45;&gt;FAQ Agent -->\n",
       "<g id=\"edge4\" class=\"edge\">\n",
       "<title>file_search&#45;&gt;FAQ Agent</title>\n",
       "<path fill=\"none\" stroke=\"black\" stroke-width=\"1.5\" stroke-dasharray=\"1,5\" d=\"M107.3,-197.13C108.08,-203.83 108.48,-211.93 108.5,-220.08\"/>\n",
       "<polygon fill=\"black\" stroke=\"black\" stroke-width=\"1.5\" points=\"105,-219.95 108.29,-230.02 112,-220.1 105,-219.95\"/>\n",
       "</g>\n",
       "<!-- file_search&#45;&gt;Problem solver agent -->\n",
       "<g id=\"edge12\" class=\"edge\">\n",
       "<title>file_search&#45;&gt;Problem solver agent</title>\n",
       "<path fill=\"none\" stroke=\"black\" stroke-width=\"1.5\" stroke-dasharray=\"1,5\" d=\"M93.28,-163.26C91.19,-156.44 89.2,-148.11 87.61,-139.75\"/>\n",
       "<polygon fill=\"black\" stroke=\"black\" stroke-width=\"1.5\" points=\"91.06,-139.17 85.96,-129.88 84.15,-140.32 91.06,-139.17\"/>\n",
       "</g>\n",
       "<!-- Eligibility agent&#45;&gt;__end__ -->\n",
       "<g id=\"edge9\" class=\"edge\">\n",
       "<title>Eligibility agent&#45;&gt;__end__</title>\n",
       "<path fill=\"none\" stroke=\"black\" stroke-width=\"1.5\" d=\"M350.85,-234.96C365.5,-225.19 379.56,-212.52 387.75,-196.78 394.64,-183.53 393.52,-176.95 387.75,-163.19 364.61,-108.02 309.19,-63.23 273.12,-38.58\"/>\n",
       "<polygon fill=\"black\" stroke=\"black\" stroke-width=\"1.5\" points=\"275.21,-35.76 264.95,-33.13 271.33,-41.59 275.21,-35.76\"/>\n",
       "</g>\n",
       "<!-- update_eligibility -->\n",
       "<g id=\"node7\" class=\"node\">\n",
       "<title>update_eligibility</title>\n",
       "<ellipse fill=\"lightgreen\" stroke=\"black\" cx=\"296.75\" cy=\"-179.98\" rx=\"81.85\" ry=\"16.79\"/>\n",
       "<text text-anchor=\"middle\" x=\"296.75\" y=\"-174.56\" font-family=\"Arial\" font-size=\"14.00\">update_eligibility</text>\n",
       "</g>\n",
       "<!-- Eligibility agent&#45;&gt;update_eligibility -->\n",
       "<g id=\"edge7\" class=\"edge\">\n",
       "<title>Eligibility agent&#45;&gt;update_eligibility</title>\n",
       "<path fill=\"none\" stroke=\"black\" stroke-width=\"1.5\" stroke-dasharray=\"1,5\" d=\"M290.26,-232.29C289.91,-224.82 289.91,-216.77 290.26,-209.3\"/>\n",
       "<polygon fill=\"black\" stroke=\"black\" stroke-width=\"1.5\" points=\"293.74,-209.63 291.02,-199.39 286.76,-209.09 293.74,-209.63\"/>\n",
       "</g>\n",
       "<!-- update_eligibility&#45;&gt;Eligibility agent -->\n",
       "<g id=\"edge8\" class=\"edge\">\n",
       "<title>update_eligibility&#45;&gt;Eligibility agent</title>\n",
       "<path fill=\"none\" stroke=\"black\" stroke-width=\"1.5\" stroke-dasharray=\"1,5\" d=\"M302.3,-197.13C303.08,-203.83 303.48,-211.93 303.5,-220.08\"/>\n",
       "<polygon fill=\"black\" stroke=\"black\" stroke-width=\"1.5\" points=\"300,-219.95 303.29,-230.02 307,-220.1 300,-219.95\"/>\n",
       "</g>\n",
       "<!-- Problem solver agent&#45;&gt;__end__ -->\n",
       "<g id=\"edge15\" class=\"edge\">\n",
       "<title>Problem solver agent&#45;&gt;__end__</title>\n",
       "<path fill=\"none\" stroke=\"black\" stroke-width=\"1.5\" d=\"M141.12,-69.1C161.7,-58.39 184.62,-46.47 203.19,-36.82\"/>\n",
       "<polygon fill=\"black\" stroke=\"black\" stroke-width=\"1.5\" points=\"204.57,-40.04 211.82,-32.32 201.34,-33.83 204.57,-40.04\"/>\n",
       "</g>\n",
       "<!-- Problem solver agent&#45;&gt;file_search -->\n",
       "<g id=\"edge11\" class=\"edge\">\n",
       "<title>Problem solver agent&#45;&gt;file_search</title>\n",
       "<path fill=\"none\" stroke=\"black\" stroke-width=\"1.5\" stroke-dasharray=\"1,5\" d=\"M98.51,-127.39C100.3,-135.01 101.86,-143.25 102.94,-150.87\"/>\n",
       "<polygon fill=\"black\" stroke=\"black\" stroke-width=\"1.5\" points=\"99.44,-151.06 104.01,-160.62 106.39,-150.29 99.44,-151.06\"/>\n",
       "</g>\n",
       "<!-- eligibility_checker -->\n",
       "<g id=\"node9\" class=\"node\">\n",
       "<title>eligibility_checker</title>\n",
       "<ellipse fill=\"lightgreen\" stroke=\"black\" cx=\"86.75\" cy=\"-16.79\" rx=\"86.09\" ry=\"16.79\"/>\n",
       "<text text-anchor=\"middle\" x=\"86.75\" y=\"-11.37\" font-family=\"Arial\" font-size=\"14.00\">eligibility_checker</text>\n",
       "</g>\n",
       "<!-- Problem solver agent&#45;&gt;eligibility_checker -->\n",
       "<g id=\"edge13\" class=\"edge\">\n",
       "<title>Problem solver agent&#45;&gt;eligibility_checker</title>\n",
       "<path fill=\"none\" stroke=\"black\" stroke-width=\"1.5\" stroke-dasharray=\"1,5\" d=\"M80.26,-69.1C79.91,-61.64 79.91,-53.58 80.26,-46.11\"/>\n",
       "<polygon fill=\"black\" stroke=\"black\" stroke-width=\"1.5\" points=\"83.74,-46.45 81.02,-36.21 76.76,-45.91 83.74,-46.45\"/>\n",
       "</g>\n",
       "<!-- eligibility_checker&#45;&gt;Problem solver agent -->\n",
       "<g id=\"edge14\" class=\"edge\">\n",
       "<title>eligibility_checker&#45;&gt;Problem solver agent</title>\n",
       "<path fill=\"none\" stroke=\"black\" stroke-width=\"1.5\" stroke-dasharray=\"1,5\" d=\"M92.3,-33.94C93.08,-40.64 93.48,-48.75 93.5,-56.89\"/>\n",
       "<polygon fill=\"black\" stroke=\"black\" stroke-width=\"1.5\" points=\"90,-56.76 93.29,-66.83 97,-56.91 90,-56.76\"/>\n",
       "</g>\n",
       "</g>\n",
       "</svg>\n"
      ],
      "text/plain": [
       "<graphviz.sources.Source at 0x1217f1a60>"
      ]
     },
     "execution_count": 65,
     "metadata": {},
     "output_type": "execute_result"
    }
   ],
   "source": [
    "from agents.extensions.visualization import draw_graph\n",
    "\n",
    "draw_graph(customer_onboarding_agent)"
   ]
  },
  {
   "cell_type": "markdown",
   "metadata": {},
   "source": [
    "## Tracing\n",
    "\n",
    "Tracing is available in Agents SDK. You access it on Openai's platform."
   ]
  },
  {
   "cell_type": "code",
   "execution_count": 66,
   "metadata": {},
   "outputs": [
    {
     "name": "stdout",
     "output_type": "stream",
     "text": [
      "View trace: https://platform.openai.com/traces/trace?trace_id=trace_496c8e0afafd465c8c068f18a2b04f84\n",
      "Pour valider votre éligibilité, j'ai besoin de quelques informations supplémentaires. Pouvez-vous me confirmer votre pays de résidence fiscale ?\n"
     ]
    }
   ],
   "source": [
    "from agents import Runner,gen_trace_id, trace\n",
    "\n",
    "context = UserProfile()\n",
    "\n",
    "trace_id = gen_trace_id()\n",
    "with trace(\"Customer onboarding trace\", trace_id=trace_id):\n",
    "    print(f\"View trace: https://platform.openai.com/traces/trace?trace_id={trace_id}\")\n",
    "\n",
    "    conversation = [\n",
    "        {\"role\": \"user\", \"content\": \"Salut, je suis Allemande, j'ai 25 ans et j'ai déjà un compte en France. Je veux ouvrir un compte bancaire.\"\n",
    "        \"Mais je ne recois pas l'email de confirmation. Comment puis-je résoudre ce problème ?\"}\n",
    "    ]\n",
    "\n",
    "    result = await Runner.run(customer_onboarding_agent, conversation, context=context)\n",
    "    print(result.final_output)"
   ]
  },
  {
   "cell_type": "markdown",
   "metadata": {},
   "source": [
    "### Tracing with LangSmith\n",
    "\n",
    "You can use the LLMOps platform of your choice with Agents SDK. Here is LangSmith."
   ]
  },
  {
   "cell_type": "code",
   "execution_count": 67,
   "metadata": {},
   "outputs": [],
   "source": [
    "from agents import set_trace_processors\n",
    "from langsmith.wrappers import OpenAIAgentsTracingProcessor\n",
    "\n",
    "set_trace_processors([OpenAIAgentsTracingProcessor()])\n",
    "\n"
   ]
  },
  {
   "cell_type": "code",
   "execution_count": 68,
   "metadata": {},
   "outputs": [
    {
     "data": {
      "text/plain": [
       "\"Pour résoudre le problème de non-réception de l'e-mail de confirmation lorsque vous ouvrez un compte bancaire, voici quelques étapes que vous pouvez suivre :\\n\\n1. **Vérifiez vos dossiers de spam** : Assurez-vous que l'e-mail n'a pas été déplacé dans vos dossiers de courriers indésirables ou spam.\\n\\n2. **Vérifiez l'adresse e-mail saisie** : Confirmez que l'adresse e-mail que vous avez fournie est correcte. Parfois, une simple faute de frappe peut empêcher la réception de l'e-mail.\\n\\n3. **Renvoyer l'email** : Si vous n'avez toujours pas reçu l'e-mail, essayez de demander à renvoyer l'e-mail de confirmation depuis l'application ou le site Web de la banque.\\n\\n4. **Support technique** : Si le problème persiste après ces vérifications, il peut être utile de contacter le support technique de votre banque pour qu'ils puissent examiner cette question plus en détail.\\n\\nEn suivant ces étapes, vous devriez être en mesure de résoudre le problème. Si vous avez besoin d'aide supplémentaire, n'hésitez pas à les contacter.\""
      ]
     },
     "execution_count": 68,
     "metadata": {},
     "output_type": "execute_result"
    }
   ],
   "source": [
    "result = await Runner.run(\n",
    "    starting_agent=customer_onboarding_agent,\n",
    "    input=result.to_input_list() + [\n",
    "        {\"role\": \"user\", \"content\": \"Je réside fiscalement en France.\"}\n",
    "    ],\n",
    "    context=context\n",
    ")\n",
    "result.final_output"
   ]
  },
  {
   "cell_type": "markdown",
   "metadata": {},
   "source": [
    "## Dynamic Instructions\n",
    "\n",
    "You can push information in the context to the prompt with dynamic instructions."
   ]
  },
  {
   "cell_type": "code",
   "execution_count": 69,
   "metadata": {},
   "outputs": [],
   "source": [
    "@dataclass\n",
    "class UserProfile:  \n",
    "    nationality: str | None = None\n",
    "    age: int | None = None\n",
    "    has_eu_bank_account: bool | None = None\n",
    "    is_elligible: bool | None = None\n",
    "    onboarding_channel: str | None = None # \"mobile\" or \"web\"\n",
    "    onboarding_step: str | None = None # \"not_started\", \"verify_identity\" or \"upload_docs\"\n",
    "\n",
    "\n",
    "def problem_solver_dynamic_instructions(\n",
    "    context: RunContextWrapper[UserProfile], agent: Agent[UserProfile]\n",
    ") -> str:\n",
    "    return f\"\"\"{RECOMMENDED_PROMPT_PREFIX}\n",
    "    You are an AI agent in charge of solving onboarding problems encountered by users of an online bank 'mobile' and 'web' applications.\n",
    "    You only reply if elligibility has been verified.\n",
    "    You don't use your own knowledge, you only use the FileSearchTool to retrieve information from the database.\n",
    "    Use eligibility checker tool to verify eligibility.\n",
    "    The user's name come's form {context.context.onboarding_channel} and stopped at {context.context.onboarding_step}.\n",
    "    Help them with their questions.\"\"\"\n",
    "\n",
    "problem_solver_agent = Agent[UserProfile](\n",
    "    name=\"Problem solver agent\",\n",
    "    instructions=problem_solver_dynamic_instructions,\n",
    "    tools=[\n",
    "        FileSearchTool(\n",
    "            max_num_results=3,\n",
    "            vector_store_ids=[vector_store_problem.id],\n",
    "        ),\n",
    "        eligibility_checker\n",
    "    ],\n",
    ")"
   ]
  },
  {
   "cell_type": "code",
   "execution_count": 77,
   "metadata": {},
   "outputs": [],
   "source": [
    "context = UserProfile(onboarding_channel=\"mobile\", onboarding_step=\"verify_identity\", is_elligible=True)\n",
    "\n",
    "conversation = [\n",
    "    {\"role\": \"user\", \"content\": \"Je veux ouvrir un compte bancaire chez vous.\"\n",
    "    \"Je ne peux pas scanner ma carte d'identité. Comment puis-je résoudre ce problème ?\"}\n",
    "]\n",
    "\n",
    "result = await Runner.run(problem_solver_agent, conversation, context=context)"
   ]
  },
  {
   "cell_type": "code",
   "execution_count": 78,
   "metadata": {},
   "outputs": [
    {
     "data": {
      "text/plain": [
       "\"Pour résoudre le problème de scan de votre carte d'identité, voici quelques suggestions\\xa0:\\n\\n1. **Utilisez un autre appareil\\xa0:** Essayez de scanner votre carte d'identité avec un autre téléphone ou une tablette si possible.\\n\\n2. **Vérifiez les conditions d’éclairage\\xa0:** Assurez-vous que la pièce est bien éclairée et que l’appareil photo de votre téléphone n'est pas obstrué.\\n\\n3. **Nettoyez l'objectif de l’appareil photo\\xa0:** Assurez-vous que l'objectif de votre appareil photo est propre afin d'obtenir une image claire.\\n\\n4. **Mettez à jour l'application\\xa0:** Vérifiez que vous utilisez la dernière version de notre application mobile.\\n\\n5. **Vérifiez pour les autorisations\\xa0:** Assurez-vous que l'application a les autorisations nécessaires pour accéder à votre appareil photo.\\n\\n6. **Rapprochez la carte\\xa0:** Tenez la carte à une distance appropriée pour que le texte soit bien focalisé. \\n\\n7. **Contactez le support client\\xa0:** Si aucune des solutions ci-dessus ne fonctionne, contactez notre service clientèle via l'application ou sur notre site Web pour obtenir de l'aide personnalisée.\\n\\nSi vous avez besoin d’aide supplémentaire, n'hésitez pas à demander\\u202f!\""
      ]
     },
     "execution_count": 78,
     "metadata": {},
     "output_type": "execute_result"
    }
   ],
   "source": [
    "result.final_output"
   ]
  },
  {
   "cell_type": "markdown",
   "metadata": {
    "id": "khGNoTd_KH4k"
   },
   "source": [
    "---"
   ]
  },
  {
   "cell_type": "markdown",
   "metadata": {
    "id": "aFi__V9hKIKQ"
   },
   "source": [
    "That is our rapid overview of OpenAI's new Agents SDK. We've covered most of the essentials here but there are many other features in the library, and many of the features we included here come with plenty of different ways to use. The SDK is already fairly substantial and certainly worth keeping an eye on."
   ]
  },
  {
   "cell_type": "markdown",
   "metadata": {},
   "source": []
  }
 ],
 "metadata": {
  "colab": {
   "provenance": []
  },
  "kernelspec": {
   "display_name": "ai-agent-casebook-gssDwReB-py3.12",
   "language": "python",
   "name": "python3"
  },
  "language_info": {
   "codemirror_mode": {
    "name": "ipython",
    "version": 3
   },
   "file_extension": ".py",
   "mimetype": "text/x-python",
   "name": "python",
   "nbconvert_exporter": "python",
   "pygments_lexer": "ipython3",
   "version": "3.12.10"
  }
 },
 "nbformat": 4,
 "nbformat_minor": 4
}
