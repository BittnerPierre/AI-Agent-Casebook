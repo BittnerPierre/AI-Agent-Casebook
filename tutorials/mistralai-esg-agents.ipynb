{
 "cells": [
  {
   "cell_type": "markdown",
   "metadata": {
    "vscode": {
     "languageId": "plaintext"
    }
   },
   "source": [
    "# Mistral AI Agents"
   ]
  },
  {
   "cell_type": "markdown",
   "metadata": {},
   "source": [
    "## 1. Contexte\n",
    "\n",
    "### 1.1 Agent de Mistral AI — une première version singulière mais efficace\n",
    "\n",
    "Quand Mistral AI a sorti la première version de son service d'agents, l’approche détonnait. On retrouvait une interface no-code ultra-minimaliste, très proche dans l’esprit de celle des GPTs d’OpenAI : un interface utilisateur avec quelques champs à remplir (modèle, température, instructions) et un fonctionnement en few-shot prompting.\n",
    "\n",
    "Mais là où Mistral marquait des points, c’était sur l’intégration : on pouvait utiliser l’agent directement dans “Le Chat” en le mentionnant avec @, mais aussi l'appeler par API, et donc l’intégrer très facilement dans un outil ou un flux existant. Une dualité simple mais puissante, absente des GPTs d’OpenAI à ce moment-là.\n",
    "\n",
    "➡️ En quelques heures, j’ai mis en production un assistant RH, accessible directement dans Outlook. Le plus long ? Faire le plugin Outlook. Et depuis ? Aucun souci en production, une intégration sans accroc. C’est le cycle idée → prod le plus rapide que j’ai vécu avec un assistant IA.\n",
    "\n",
    "[Mistral](https://www.youtube.com/watch?v=wGIPXu3IsAY) proposait un système simple, mais efficace, à l’opposé des solutions “heavyweight” du moment comme LangGraph ou l’Assistant API d’OpenAI. Une vraie réalisation à la française : quelques bonnes idées bien exécutées, quelques oublis gênants… mais un excellent rapport valeur / effort.\n",
    "\n",
    "### 1.2 Changement du paysage agentique\n",
    "\n",
    "Depuis, tout a changé côté agents IA. Voici les grandes tendances :\n",
    "- LangChain a lancé LangGraph et sa plateforme, LangConnect, et OAP.\n",
    "- OpenAI pousse Agents SDK et Responses API.\n",
    "- Le protocole MCP (ModelContextProtocol.io) d'Anthropic est devenu un standard pour connecter agents et ressources.\n",
    "- Les handoffs (transferts entre agents) se généralisent : OpenAI, LangGraph swarm.\n",
    "👉 Dans ce contexte, quelle direction prend Mistral avec sa v2 ?"
   ]
  },
  {
   "cell_type": "markdown",
   "metadata": {},
   "source": [
    "## 2. Une UI Agent débarque dans Le Chat\n",
    "\n",
    "Une des principales nouveautés visibles est l’arrivée d’une interface de création d’agents directement intégrée à Le Chat de Mistral.\n",
    "\n",
    "### Un éditeur d’agent simple mais efficace\n",
    "\n",
    "L’interface est fidèle à l’approche Mistral : simple, fonctionnelle, rapide à prendre en main. Elle permet de :\n",
    "- Choisir un modèle, définir un style de réponse.\n",
    "- Saisir des instructions sous forme libre.\n",
    "- Ajouter des outils intégrés parmi ceux disponibles : web_search, code_interpreter, image_generation, document_library, gmail, google agenda…\n",
    "- Définir un champ “garde-fous” qui encadre les limites de l’agent (ex : ne pas partager de données sensibles, ne jamais nommer de personne).\n",
    "\n",
    "### Intégration native dans la conversation\n",
    "\n",
    "Une fois l’agent configuré, il peut être appelé directement dans une conversation avec @nomdelagent. L’expérience est très fluide. On reste dans Le Chat, sans avoir à basculer vers une autre interface, sans friction technique. \n",
    "\n",
    "Cette interface vise les usages immédiats et interactifs, et s’adresse à un public non technique souhaitant créer un agent rapidement sans passer par l’API.\n",
    "\n",
    "Je n’ai pas poussé plus loin les tests fonctionnels de cette UI, car l’essentiel de mon évaluation porte sur la nouvelle API d'Agent."
   ]
  },
  {
   "cell_type": "markdown",
   "metadata": {},
   "source": [
    "## La Base des Agents "
   ]
  },
  {
   "cell_type": "markdown",
   "metadata": {},
   "source": [
    "### Objets\n",
    "\n",
    "Il y a trois nouveaux objets principaux qui sont utilisés par l'Agents API de Mistral AI :\n",
    "\n",
    "- **Agents** → Un ensemble de valeurs préconfigurées pour augmenter les capacités du modèle, comme des outils, des instructions et des paramètres de complétion.\n",
    "\n",
    "- **Conversation** → Un historique des interactions et des événements passés avec un assistant, incluant les messages et les exécutions d’outils.\n",
    "\n",
    "- **Entry** → Une action pouvant être créée par l’utilisateur ou par un assistant. Elle permet une représentation plus souple et expressive des interactions entre un utilisateur et un ou plusieurs assistants, offrant ainsi un meilleur contrôle sur la description des événements.\n",
    "\n"
   ]
  },
  {
   "cell_type": "markdown",
   "metadata": {},
   "source": [
    "Commençons par quelques imports de librairies (MistralAI, pytdantic)"
   ]
  },
  {
   "cell_type": "code",
   "execution_count": 1,
   "metadata": {},
   "outputs": [],
   "source": [
    "from mistralai import Mistral\n",
    "from pydantic import BaseModel\n",
    "import json\n",
    "import os\n"
   ]
  },
  {
   "cell_type": "markdown",
   "metadata": {},
   "source": [
    "Puis importons des fonctions utilitaires locales."
   ]
  },
  {
   "cell_type": "code",
   "execution_count": 2,
   "metadata": {},
   "outputs": [],
   "source": [
    "import importlib\n",
    "import utils\n",
    "importlib.reload(utils)\n",
    "from utils import pretty_print_agent_response, download_and_display_agent_images"
   ]
  },
  {
   "cell_type": "markdown",
   "metadata": {},
   "source": [
    "Enfin la création du client Mistral."
   ]
  },
  {
   "cell_type": "code",
   "execution_count": 3,
   "metadata": {},
   "outputs": [],
   "source": [
    "token = os.environ.get(\"MISTRAL_API_KEY\")\n",
    "client = Mistral(api_key=token)\n"
   ]
  },
  {
   "cell_type": "markdown",
   "metadata": {},
   "source": [
    "### Création d'un Agent"
   ]
  },
  {
   "cell_type": "markdown",
   "metadata": {},
   "source": [
    "Lors de la création d’un agent, plusieurs paramètres et valeurs doivent être définis à l’avance. Il s’agit de :\n",
    "\n",
    "* **model** : Le modèle que votre agent utilisera, parmi ceux disponibles pour la complétion de chat.\n",
    "* **description** : La description de l’agent, liée à la tâche qu’il doit accomplir ou au cas d’usage concerné.\n",
    "* **name** : Le nom de votre agent.\n",
    "* **instructions** *(optionnel)* : Les instructions principales de l’agent, également appelées *system prompt*. Elles doivent décrire précisément la tâche principale de l’agent.\n",
    "* **tools** *(optionnel)* : Une liste d’outils que le modèle peut utiliser. Il existe actuellement plusieurs types d’outils :\n",
    "\n",
    "  * **function** : Outils définis par l’utilisateur, similaires aux appels de fonction standards utilisés avec la complétion de chat.\n",
    "  * **web\\_search** : Outil intégré de recherche web.\n",
    "  * **code\\_interpreter** : Outil intégré pour l’exécution de code.\n",
    "  * **image\\_generation** : Outil intégré pour la génération d’images.\n",
    "* **completion\\_args** *(optionnel)* : Paramètres standard du *chat completion sampler*. Tous les arguments valides pour la complétion de chat sont acceptés.\n",
    "\n",
    "---\n"
   ]
  },
  {
   "cell_type": "code",
   "execution_count": 4,
   "metadata": {},
   "outputs": [],
   "source": [
    "# Main agent\n",
    "esg_agent = client.beta.agents.create(\n",
    "    model=\"mistral-large-latest\",\n",
    "    name=\"esg-agent\",\n",
    "    description=\"Agent used to answer ESG (Environmental, Social and Governance) related requests.\",\n",
    ")"
   ]
  },
  {
   "cell_type": "markdown",
   "metadata": {},
   "source": [
    "Lors de la création d’un agent, vous recevrez un objet Agent contenant un identifiant d’agent. Vous pourrez ensuite utiliser cet identifiant pour engager des conversations."
   ]
  },
  {
   "cell_type": "code",
   "execution_count": 5,
   "metadata": {},
   "outputs": [
    {
     "data": {
      "text/plain": [
       "Agent(model='mistral-large-latest', name='esg-agent', id='ag_068370d2cc7276fa800011513a1f31ee', version=0, created_at=datetime.datetime(2025, 5, 28, 13, 18, 36, 781323, tzinfo=TzInfo(UTC)), updated_at=datetime.datetime(2025, 5, 28, 13, 18, 36, 781325, tzinfo=TzInfo(UTC)), instructions=None, tools=[], completion_args=CompletionArgs(stop=None, presence_penalty=None, frequency_penalty=None, temperature=0.3, top_p=None, max_tokens=None, random_seed=None, prediction=None, response_format=None, tool_choice='auto'), description='Agent used to answer ESG (Environmental, Social and Governance) related requests.', handoffs=None, object='agent')"
      ]
     },
     "execution_count": 5,
     "metadata": {},
     "output_type": "execute_result"
    }
   ],
   "source": [
    "esg_agent"
   ]
  },
  {
   "cell_type": "markdown",
   "metadata": {},
   "source": [
    "### Commencez une conversation\n",
    "\n",
    "\n",
    "Une fois votre agent créé, vous pouvez engager des conversations à tout moment tout en conservant la même conversation persistante.\n",
    "\n",
    "Vous commencez une conversation en fournissant :\n",
    "\n",
    "* **agent\\_id** : l’identifiant de l’agent, généré lors de sa création.\n",
    "* **inputs** : le message de départ de la conversation. Cela peut être une simple chaîne de caractères (le premier message ou la première question de l’utilisateur), ou bien une liste de messages.\n",
    "\n",
    "La création de la conversation retournera un **identifiant de conversation** (*conversation\\_id*).\n",
    "\n",
    "Pour poursuivre la conversation et y ajouter les échanges au fur et à mesure, vous devez fournir deux éléments :\n",
    "\n",
    "* **conversation\\_id** : l’identifiant obtenu lors du démarrage de la conversation, qui permet de retrouver l’historique stocké en interne.\n",
    "* **inputs** : le message ou la réponse suivante. Il peut s’agir d’une chaîne de caractères ou d’une liste de messages.\n"
   ]
  },
  {
   "cell_type": "code",
   "execution_count": 6,
   "metadata": {},
   "outputs": [],
   "source": [
    "response = client.beta.conversations.start(\n",
    "    agent_id=esg_agent.id, inputs=\"Qu'est ce que l'ESG ?\"\n",
    ")"
   ]
  },
  {
   "cell_type": "code",
   "execution_count": 7,
   "metadata": {},
   "outputs": [
    {
     "name": "stdout",
     "output_type": "stream",
     "text": [
      "\n",
      "\u001b[1mID de la conversation :\u001b[0m conv_068370d527a97f55800011c764c6bd02\n",
      "\n",
      "\u001b[1mRéponse finale de l'agent :\u001b[0m\n",
      "  L'ESG, ou \"Environnement, Social et Gouvernance\", est un cadre utilisé pour évaluer la durabilité et l'impact sociétal des entreprises. Il se compose de trois piliers principaux :\n",
      "\n",
      "1. **Environnement (E)** : Ce pilier évalue l'impact environnemental d'une entreprise, y compris ses pratiques en matière de gestion des ressources naturelles, de réduction des émissions de carbone, de gestion des déchets, et de protection de la biodiversité. Il prend également en compte les efforts de l'entreprise pour atténuer les risques environnementaux et s'adapter aux changements climatiques.\n",
      "\n",
      "2. **Social (S)** : Ce pilier examine les pratiques sociales de l'entreprise, telles que les conditions de travail, la diversité et l'inclusion, les relations avec les communautés locales, et le respect des droits de l'homme. Il évalue également la manière dont l'entreprise traite ses employés, ses fournisseurs et ses clients.\n",
      "\n",
      "3. **Gouvernance (G)** : Ce pilier se concentre sur la structure de gouvernance de l'entreprise, y compris la composition et l'indépendance du conseil d'administration, la transparence et la communication avec les parties prenantes, ainsi que les pratiques de gestion des risques et de conformité. Il examine également les mécanismes de contrôle interne et les politiques de rémunération des dirigeants.\n",
      "\n",
      "L'ESG est de plus en plus utilisé par les investisseurs pour évaluer les entreprises au-delà de leurs performances financières traditionnelles. Les critères ESG permettent d'identifier les entreprises qui sont bien positionnées pour gérer les risques à long terme et pour saisir les opportunités de croissance durable. Les entreprises qui obtiennent de bonnes notes ESG sont souvent perçues comme étant plus résilientes et mieux préparées pour faire face aux défis futurs.\n",
      "\n"
     ]
    }
   ],
   "source": [
    "pretty_print_agent_response(response)"
   ]
  },
  {
   "cell_type": "markdown",
   "metadata": {},
   "source": [
    "### Continuer une conversation\n",
    "\n",
    "Vous pouvez poursuivre la conversation ; l’historique est conservé si vous utilisez le bon identifiant de conversation.\"\n"
   ]
  },
  {
   "cell_type": "code",
   "execution_count": 8,
   "metadata": {},
   "outputs": [],
   "source": [
    "response = client.beta.conversations.append(\n",
    "    conversation_id=response.conversation_id, inputs=\"Quelle est la différence avec le CSR ?\"\n",
    ")"
   ]
  },
  {
   "cell_type": "code",
   "execution_count": 9,
   "metadata": {},
   "outputs": [
    {
     "name": "stdout",
     "output_type": "stream",
     "text": [
      "\n",
      "\u001b[1mID de la conversation :\u001b[0m conv_068370d527a97f55800011c764c6bd02\n",
      "\n",
      "\u001b[1mRéponse finale de l'agent :\u001b[0m\n",
      "  L'ESG (Environnement, Social et Gouvernance) et le CSR (Corporate Social Responsibility, ou Responsabilité Sociétale des Entreprises) sont deux concepts liés à la durabilité et à l'impact sociétal des entreprises, mais ils ont des objectifs et des approches légèrement différents.\n",
      "\n",
      "### ESG (Environnement, Social et Gouvernance)\n",
      "\n",
      "1. **Objectif** : L'ESG est principalement utilisé par les investisseurs pour évaluer les risques et les opportunités liés à la durabilité d'une entreprise. Il sert de cadre pour analyser la performance non financière d'une entreprise et pour prendre des décisions d'investissement.\n",
      "\n",
      "2. **Utilisateurs** : Les principaux utilisateurs de l'ESG sont les investisseurs institutionnels, les gestionnaires de fonds, et les analystes financiers.\n",
      "\n",
      "3. **Méthodologie** : L'ESG utilise des critères standardisés et des indicateurs quantitatifs pour évaluer les performances environnementales, sociales et de gouvernance d'une entreprise. Ces critères sont souvent intégrés dans les modèles de notation et les analyses de risque.\n",
      "\n",
      "4. **Transparence et Reporting** : Les entreprises sont souvent évaluées par des agences de notation ESG qui fournissent des scores et des rapports détaillés. Ces évaluations sont utilisées pour comparer les entreprises au sein d'un même secteur ou d'un même portefeuille d'investissement.\n",
      "\n",
      "### CSR (Corporate Social Responsibility)\n",
      "\n",
      "1. **Objectif** : Le CSR se concentre sur la manière dont une entreprise gère ses responsabilités sociales et environnementales. Il vise à promouvoir des pratiques commerciales éthiques et durables qui bénéficient à la société dans son ensemble.\n",
      "\n",
      "2. **Utilisateurs** : Les principaux utilisateurs du CSR sont les entreprises elles-mêmes, les parties prenantes internes (employés, dirigeants) et externes (communautés locales, ONG, consommateurs).\n",
      "\n",
      "3. **Méthodologie** : Le CSR est souvent plus qualitatif et contextuel. Il peut inclure des initiatives spécifiques telles que des programmes de développement communautaire, des politiques de diversité et d'inclusion, des efforts de réduction de l'empreinte carbone, et des pratiques de gouvernance éthique.\n",
      "\n",
      "4. **Transparence et Reporting** : Les entreprises publient souvent des rapports CSR pour communiquer leurs initiatives et leurs progrès en matière de responsabilité sociétale. Ces rapports peuvent être utilisés pour améliorer la réputation de l'entreprise et renforcer la confiance des parties prenantes.\n",
      "\n",
      "### En résumé\n",
      "\n",
      "- **ESG** est principalement un outil d'évaluation pour les investisseurs, axé sur la performance non financière et les risques à long terme.\n",
      "- **CSR** est une approche plus large et plus qualitative, axée sur les responsabilités sociales et environnementales de l'entreprise et ses impacts sur la société.\n",
      "\n",
      "Les deux concepts sont complémentaires et peuvent être utilisés conjointement pour promouvoir une gestion durable et responsable des entreprises.\n",
      "\n"
     ]
    }
   ],
   "source": [
    "pretty_print_agent_response(response)"
   ]
  },
  {
   "cell_type": "markdown",
   "metadata": {},
   "source": [
    "### Mise à jour d’un agent\n",
    "\n",
    "Après sa création, vous pouvez mettre à jour l’agent avec de nouveaux paramètres si nécessaire. Les arguments sont les mêmes que ceux utilisés lors de la création de l’agent."
   ]
  },
  {
   "cell_type": "code",
   "execution_count": 10,
   "metadata": {},
   "outputs": [
    {
     "data": {
      "text/plain": [
       "Agent(model='mistral-large-latest', name='esg-agent', id='ag_068370d2cc7276fa800011513a1f31ee', version=1, created_at=datetime.datetime(2025, 5, 28, 13, 18, 36, 781323, tzinfo=TzInfo(UTC)), updated_at=datetime.datetime(2025, 5, 28, 13, 22, 9, 225100, tzinfo=TzInfo(UTC)), instructions='Tu réponds de manière concise et professionnelle en 1 paragraphe.', tools=[], completion_args=CompletionArgs(stop=None, presence_penalty=None, frequency_penalty=None, temperature=0.1, top_p=0.95, max_tokens=None, random_seed=None, prediction=None, response_format=None, tool_choice='auto'), description='Agent used to answer ESG (Environmental, Social and Governance) related requests.', handoffs=None, object='agent')"
      ]
     },
     "execution_count": 10,
     "metadata": {},
     "output_type": "execute_result"
    }
   ],
   "source": [
    "client.beta.agents.update(\n",
    "    agent_id=esg_agent.id, \n",
    "    instructions=\"Tu réponds de manière concise et professionnelle en 1 paragraphe.\",\n",
    "    completion_args={\n",
    "        \"temperature\": 0.1,\n",
    "        \"top_p\": 0.95,\n",
    "    }\n",
    ")"
   ]
  },
  {
   "cell_type": "code",
   "execution_count": 13,
   "metadata": {},
   "outputs": [],
   "source": [
    "response = client.beta.conversations.append(\n",
    "    conversation_id=response.conversation_id, inputs=\"Et avec les SDG ?\"\n",
    ")"
   ]
  },
  {
   "cell_type": "code",
   "execution_count": 14,
   "metadata": {},
   "outputs": [
    {
     "name": "stdout",
     "output_type": "stream",
     "text": [
      "\n",
      "\u001b[1mID de la conversation :\u001b[0m conv_068370d527a97f55800011c764c6bd02\n",
      "\n",
      "\u001b[1mRéponse finale de l'agent :\u001b[0m\n",
      "  L'ESG et les SDG (Sustainable Development Goals) sont deux cadres complémentaires qui visent à promouvoir la durabilité et le développement responsable, mais ils diffèrent par leur portée et leur application. L'ESG est un cadre d'évaluation utilisé principalement par les investisseurs pour mesurer la performance non financière des entreprises en matière d'environnement, de social et de gouvernance. Il se concentre sur les risques et opportunités à long terme liés à ces trois piliers. En revanche, les SDG sont un ensemble de 17 objectifs globaux adoptés par les Nations Unies pour aborder des défis mondiaux tels que la pauvreté, l'inégalité, le changement climatique et la paix. Les SDG fournissent un cadre universel pour guider les politiques et les actions à tous les niveaux, impliquant les gouvernements, les entreprises, la société civile et les individus. Les entreprises peuvent aligner leurs stratégies ESG sur les SDG pour contribuer à des objectifs de développement durable plus larges, en intégrant des initiatives spécifiques qui soutiennent ces objectifs globaux. Ainsi, l'ESG et les SDG peuvent se renforcer mutuellement, les entreprises utilisant l'ESG pour mesurer leur impact et les SDG pour orienter leurs actions vers des objectifs de développement durable à long terme.\n",
      "\n"
     ]
    }
   ],
   "source": [
    "pretty_print_agent_response(response)"
   ]
  },
  {
   "cell_type": "markdown",
   "metadata": {},
   "source": [
    "### Agent Tooling"
   ]
  },
  {
   "cell_type": "code",
   "execution_count": 15,
   "metadata": {},
   "outputs": [],
   "source": [
    "web_search_agent = client.beta.agents.create(\n",
    "    model=\"mistral-large-latest\",\n",
    "    description=\"Agent that can search online for any information if needed\",\n",
    "    name=\"websearch-agent\",\n",
    "    tools=[{\"type\": \"web_search\"}],\n",
    ")"
   ]
  },
  {
   "cell_type": "code",
   "execution_count": 16,
   "metadata": {},
   "outputs": [
    {
     "name": "stdout",
     "output_type": "stream",
     "text": [
      "\n",
      "\u001b[1mID de la conversation :\u001b[0m conv_068370e86a55793780001ee8ab0e2531\n",
      "\n",
      "\u001b[1mExécution d'outil :\u001b[0m\n",
      "  Outil : web_search\n",
      "  Début : 2025-05-28 13:24:25.183189+00:00\n",
      "  Fin : 2025-05-28 13:24:26.377624+00:00\n",
      "  ID : tool_exec_068370e892ee72b48000cd2a17f035ee\n",
      "\n",
      "\u001b[1mRéponse finale de l'agent :\u001b[0m\n",
      "  En janvier 2025, le taux directeur de la Banque centrale européenne (BCE) pour la facilité de dépôt a été abaissé à 2,75 % à compter du 5 février 2025. Cette décision fait suite à une série de réductions des taux directeurs par la BCE, avec des baisses consécutives entre septembre 2024 et janvier 2025\n",
      "  .\n",
      "\n",
      "  \u001b[4mSources citées :\u001b[0m\n",
      "    - [5e repli des taux directeurs de la BCE en janvier 2025](https://ymanci.fr/credit-immobilier/actualites/la-bce-poursuit-sur-sa-lancee-en-reduisant-ses-taux-directeurs-en-janvier-2025/) via web_search\n",
      "    - [Décisions de politique monétaire](https://www.ecb.europa.eu/press/pr/date/2025/html/ecb.mp250130~530b29e622.fr.html) via web_search\n",
      "\n"
     ]
    }
   ],
   "source": [
    "response = client.beta.conversations.start(\n",
    "    agent_id=web_search_agent.id, inputs=\"Quel est le taux directeur de la Banque centrale européenne en janvier 2025\"\n",
    ")\n",
    "pretty_print_agent_response(response)"
   ]
  },
  {
   "cell_type": "code",
   "execution_count": 17,
   "metadata": {},
   "outputs": [],
   "source": [
    "graph_agent = client.beta.agents.create(\n",
    "    model=\"mistral-large-latest\",\n",
    "    name=\"graph-drawing-agent\",\n",
    "    description=\"Agent used to create graphs using the code interpreter tool.\",\n",
    "    instructions=\"Use the code interpreter tool when you have to draw a graph.\",\n",
    "    tools=[{\"type\": \"code_interpreter\"}]\n",
    ")"
   ]
  },
  {
   "cell_type": "code",
   "execution_count": 18,
   "metadata": {},
   "outputs": [
    {
     "name": "stdout",
     "output_type": "stream",
     "text": [
      "\n",
      "\u001b[1mID de la conversation :\u001b[0m conv_068370f15d4176d080009075e359493b\n",
      "\n",
      "\u001b[1mExécution d'outil :\u001b[0m\n",
      "  Outil : code_interpreter\n",
      "  Début : 2025-05-28 13:26:55.288032+00:00\n",
      "  Fin : 2025-05-28 13:27:46.942545+00:00\n",
      "  ID : tool_exec_068370f1f49b79fb80006b35c72724f2\n",
      "\n",
      "\u001b[1mRéponse finale de l'agent :\u001b[0m\n",
      "  Voici la matrice de double matérialité des enjeux ESG pour votre entreprise. Les enjeux sont placés sur un nuage de points avec l'importance financière sur l'axe X et l'impact d'entreprise sur l'axe Y. Les lignes médianes en pointillés et la grille discrète facilitent la lecture des positions.\n",
      "\n"
     ]
    }
   ],
   "source": [
    "inputs = \"\"\"\n",
    "Dessine la matrice de double matérialité des 5 enjeux clés de mon Entreprise:\n",
    "– Enjeux ESG Prioritaires = [Climat, Eau, Biodiversité, Droits humains, Inclusion]\n",
    "– Pour chaque enjeux, deux scores de 1 à 5 :\n",
    " 1. Importance financière (à quel point l’enjeu peut impacter les résultats) = [5, 4, 3, 2, 3]\n",
    " 2. Impact d’entreprise (à quel point vous-même affectez cet enjeu) =  [4, 5, 2, 3, 4]\n",
    "\n",
    "- Trace les enjeux sur un nuage de points avec deux axes (Importance financière sur l’axe X, Impact d’entreprise sur l’axe Y),\n",
    "et ajoute les lignes médianes pour créer les 4 quadrants.\n",
    "- Fais commencer et terminer les deux axes (financier et impact) à 1 et 5, pour bien cadrer les scores.\n",
    "- Trace les lignes en pointillés (--) à la valeur 3 sur chaque axe pour représenter les médianes.\n",
    "- Et ajoute une grille discrète en fond pour faciliter la lecture des positions\n",
    "\"\"\"\n",
    "\n",
    "response = client.beta.conversations.start(\n",
    "    agent_id=graph_agent.id, inputs=inputs\n",
    ")\n",
    "pretty_print_agent_response(response)"
   ]
  },
  {
   "cell_type": "code",
   "execution_count": 19,
   "metadata": {},
   "outputs": [
    {
     "data": {
      "image/png": "[encoded data removed]",
      "text/plain": [
       "<IPython.core.display.Image object>"
      ]
     },
     "metadata": {},
     "output_type": "display_data"
    }
   ],
   "source": [
    "download_and_display_agent_images(response, client)"
   ]
  },
  {
   "cell_type": "markdown",
   "metadata": {},
   "source": [
    "## Création d'un workflow agentique\n",
    "\n",
    "Lors de la création et de l’utilisation d’agents, souvent équipés d'outils spécifiques, il arrive qu’on souhaite faire appel à d’autres agents en cours d’action. Pour concevoir et structurer des workflows automatisés couvrant une variété de tâches, cette capacité à déléguer des tâches à d’autres agents ou à leur transférer une conversation s’appelle un Handoff (transfert)."
   ]
  },
  {
   "cell_type": "markdown",
   "metadata": {},
   "source": [
    "### Création des agents"
   ]
  },
  {
   "cell_type": "code",
   "execution_count": 20,
   "metadata": {},
   "outputs": [],
   "source": [
    "from mistralai import CompletionArgs, ResponseFormat, JSONSchema\n",
    "\n",
    "token = os.environ.get(\"MISTRAL_API_KEY\")\n",
    "client = Mistral(api_key=token)\n",
    "\n",
    "class CalcResult(BaseModel):\n",
    "    reasoning: str\n",
    "     # JSON list of { year, value, meets_target }\n",
    "    result: str\n",
    "\n",
    "# Create your agents\n",
    "calculator_agent = client.beta.agents.create(\n",
    "    model=\"mistral-large-latest\",\n",
    "    name=\"calculator-agent\",\n",
    "    description=\"Agent used to make detailed calculations\",\n",
    "    instructions=r\"\"\"When doing calculations explain step by step what you are doing.\n",
    "    #### Compound annual reduction rate (CARR)\n",
    "    To calculate the compounded effect of reducing a quantity over time to reach a target value, you can use the formula for compound annual reduction:\n",
    "\n",
    "    \\[ r = 1 - \\left( \\frac{T}{B} \\right)^{\\frac{1}{n}} \\]\n",
    "\n",
    "    where:\n",
    "    - \\( r \\) is the annual reduction rate (as a decimal, e.g., 0.043 for 4.3%).\n",
    "    - \\( B \\) is the baseline value (initial quantity, e.g., emissions in year 0).\n",
    "    - \\( T \\) is the target value (final quantity after n years).\n",
    "    - \\( n \\) is the number of years over which the reduction occurs.\"\"\",\n",
    "    completion_args=CompletionArgs(\n",
    "          response_format=ResponseFormat(\n",
    "            type=\"json_schema\",\n",
    "            json_schema=JSONSchema(\n",
    "                name=\"calc_result\",\n",
    "                schema=CalcResult.model_json_schema(),\n",
    "            )\n",
    "        )\n",
    "    )\n",
    ")\n",
    "\n"
   ]
  },
  {
   "cell_type": "code",
   "execution_count": 21,
   "metadata": {},
   "outputs": [],
   "source": [
    "# – Lookup interne esg baseline : metric + date + sector, retourne [{baseline, target, unit, yearBaseline, yearTarget, source, comment}, ...]\n",
    "esg_baseline_agent = client.beta.agents.create(\n",
    "    model=\"mistral-large-latest\",\n",
    "    name=\"esg-baseline-agent\",\n",
    "    description=\"Can find the current baseline and target of the EU taxonomy by sector and year in Europe\",\n",
    "    tools=[{\n",
    "        \"type\": \"function\",\n",
    "        \"function\": {\n",
    "            \"name\": \"get_esg_baseline\",\n",
    "            \"description\": \"Returns the baseline of an ESG indicator (for example 'carbon_intensity' or 'water_usage') for a sector and a target year.\",\n",
    "            \"parameters\": {\n",
    "                \"type\": \"object\",\n",
    "                \"properties\": {\n",
    "                    \"metric\": {\"type\": \"string\"},\n",
    "                    \"sector\": {\"type\": \"string\"},\n",
    "                    \"date\":   {\"type\": \"string\"}\n",
    "                },\n",
    "                \"required\": [\"metric\", \"sector\", \"date\"]\n",
    "            }\n",
    "        }\n",
    "    }]\n",
    ")"
   ]
  },
  {
   "cell_type": "markdown",
   "metadata": {},
   "source": [
    "## Définir les responsabilités lors des transferts (handoff) entre agents\n",
    "\n",
    "Une fois tous nos agents créés, nous mettons à jour les agents définis précédemment avec la liste des handoffs disponibles (transferts possibles vers d'autres agents)."
   ]
  },
  {
   "cell_type": "code",
   "execution_count": 22,
   "metadata": {},
   "outputs": [
    {
     "data": {
      "text/plain": [
       "Agent(model='mistral-large-latest', name='websearch-agent', id='ag_068370e7f8d67cbd8000ce20cb49eb01', version=1, created_at=datetime.datetime(2025, 5, 28, 13, 24, 15, 554940, tzinfo=TzInfo(UTC)), updated_at=datetime.datetime(2025, 5, 28, 13, 37, 58, 290808, tzinfo=TzInfo(UTC)), instructions=None, tools=[WebSearchTool(type='web_search')], completion_args=CompletionArgs(stop=None, presence_penalty=None, frequency_penalty=None, temperature=0.3, top_p=None, max_tokens=None, random_seed=None, prediction=None, response_format=None, tool_choice='auto'), description='Agent that can search online for any information if needed', handoffs=['ag_06837104175676fe8000161e87ea0096', 'ag_068370ecf9277f3d8000d75f98e3a71d'], object='agent')"
      ]
     },
     "execution_count": 22,
     "metadata": {},
     "output_type": "execute_result"
    }
   ],
   "source": [
    "# Allow the esg_agent to handoff the conversation to the esg_baseline_agent or web_search_agent\n",
    "client.beta.agents.update(\n",
    "    agent_id=esg_agent.id, \n",
    "    handoffs=[esg_baseline_agent.id, web_search_agent.id]\n",
    ")\n",
    "\n",
    "\n",
    "# Allow the ecb_interest_rate_agent to handoff the conversation to the graph_agent or calculator_agent\n",
    "client.beta.agents.update(\n",
    "    # instructions=\"\"\"\n",
    "    #     If the user asks for calculations, you may hand off to the calculator agent.\n",
    "    #     If the user asks to plot, visualize, or graph anything hand off the task to the graph-drawing agent.\n",
    "    #     You have access to both calculator-agent and graph-drawing-agent via handoffs.\n",
    "    #     \"\"\",\n",
    "    agent_id=esg_baseline_agent.id, \n",
    "    handoffs=[calculator_agent.id, graph_agent.id]\n",
    ")\n",
    "\n",
    "\n",
    "# Allow the web_search_agent to handoff the conversation to the graph_agent or calculator_agent\n",
    "client.beta.agents.update(\n",
    "    agent_id=web_search_agent.id, \n",
    "    # instructions=\"\"\"\n",
    "    #     If the user asks for calculations, you may hand off to the calculator agent.\n",
    "    #     If the user asks to plot, visualize, or graph anything hand off the task to the graph-drawing agent.\n",
    "    #     You have access to both calculator-agent and graph-drawing-agent via handoffs.\n",
    "    #     \"\"\",\n",
    "    handoffs=[calculator_agent.id, graph_agent.id]\n",
    ")\n"
   ]
  },
  {
   "cell_type": "markdown",
   "metadata": {},
   "source": [
    "### Comment ça fonctionne\n",
    "\n",
    "Notre workflow et le comportement des agents sont désormais définis, nous pouvons donc l’exécuter.\n",
    "\n",
    "Nous avons créé 5 agents. Certains ont accès à des outils intégrés, d'autres à des outils locaux comme `get_esg_baseline`.\n",
    "\n",
    "Il est maintenant possible d’enchaîner plusieurs actions en envoyant une requête à `esg_agent`.\n",
    "\n",
    "Déclenchons deux comportements différents à titre d’exemple :\n"
   ]
  },
  {
   "cell_type": "markdown",
   "metadata": {},
   "source": [
    "#### Exemple A\n",
    "\n",
    "**\"Fetch the current US bank interest rate and calculate the compounded effect if investing for the next 10y\"**\n",
    "\n",
    "*(\"Récupère le taux directeur actuel de la banque centrale américaine et calcule l'effet des intérêts composés sur un investissement sur les 10 prochaines années\")*\n",
    "\n",
    "Dans ce premier exemple, on demande le taux directeur de la banque centrale des États-Unis. On s’attend donc à ce que l’agent de recherche web (websearch-agent) intervienne, suivi du calcul des intérêts composés sur 10 ans. Cette opération sera effectuée par l’agent calculateur (calculator-agent)."
   ]
  },
  {
   "cell_type": "code",
   "execution_count": 23,
   "metadata": {},
   "outputs": [
    {
     "name": "stdout",
     "output_type": "stream",
     "text": [
      "\n",
      "\u001b[1mID de la conversation :\u001b[0m conv_0683711d6b457ccd80002ab6daf8393a\n",
      "\n",
      "\u001b[1mTransfert d'agent (Handoff) :\u001b[0m\n",
      "  De : esg-agent\n",
      "  Vers : websearch-agent\n",
      "  Date : 2025-05-28 13:38:31.333678+00:00\n",
      "\n",
      "\u001b[1mExécution d'outil :\u001b[0m\n",
      "  Outil : web_search\n",
      "  Début : 2025-05-28 13:38:31.932746+00:00\n",
      "  Fin : 2025-05-28 13:38:34.023052+00:00\n",
      "  ID : tool_exec_0683711d7eec75438000a6e7c5d348b4\n",
      "\n",
      "\u001b[1mExécution d'outil :\u001b[0m\n",
      "  Outil : web_search\n",
      "  Début : 2025-05-28 13:38:32.682500+00:00\n",
      "  Fin : 2025-05-28 13:38:34.037188+00:00\n",
      "  ID : tool_exec_0683711d8aeb756b80001c39b0424aff\n",
      "\n",
      "\u001b[1mRéponse finale de l'agent :\u001b[0m\n",
      "  The current carbon emission levels for steel industries in China are significant. The steel industry is one of the key contributors to carbon neutrality, needing to accelerate decarbonization. Reducing energy consumption and CO2 emissions to keep up with the current global warming trend are reviewed\n",
      "  .\n",
      "\n",
      "For the 2030 reduction targets, China has set an ambitious national determined contributions target to peak CO2 emissions by 2030 and aims to be carbon neutral by 2060. The steel industry, being one of China's top energy consumers and CO2 contributors, accounts for 13% of the country's total consumption and 15% of CO2 emissions\n",
      "  . China's steel industry can peak emissions in 2025 and reduce them by 30% in 2030\n",
      "  .\n",
      "\n",
      "  \u001b[4mSources citées :\u001b[0m\n",
      "    - [The CO2 emission reduction path towards carbon neutrality in the Chinese steel industry: A review - ScienceDirect](https://www.sciencedirect.com/science/article/abs/pii/S0195925522002839) via web_search\n",
      "    - [The CO2 emission reduction path towards carbon neutrality in the Chinese steel industry: A review - ScienceDirect](https://www.sciencedirect.com/science/article/abs/pii/S0195925522002839) via web_search\n",
      "    - [Steel decarbonization in China – a top-down optimization model for exploring the first steps - ScienceDirect](https://www.sciencedirect.com/science/article/pii/S0959652622051241) via web_search\n",
      "\n"
     ]
    }
   ],
   "source": [
    "response = client.beta.conversations.start(\n",
    "    agent_id=esg_agent.id,\n",
    "    inputs=\"What are the current carbon emission levels and 2030 reduction targets for the steel industries in China?\"\n",
    ")   \n",
    "pretty_print_agent_response(response)"
   ]
  },
  {
   "cell_type": "code",
   "execution_count": 24,
   "metadata": {},
   "outputs": [],
   "source": [
    "response = client.beta.conversations.start(\n",
    "    agent_id=esg_agent.id,\n",
    "    inputs=\"The carbon intensity of EU steel production was 1.8 tCO₂/tonne in 2018. The target for 2030 is 1.2 tCO₂/tonne.\" \n",
    "    \"Calculate the compound annual reduction rate over this 12-year period.\"\n",
    ")   \n",
    "\n"
   ]
  },
  {
   "cell_type": "code",
   "execution_count": 25,
   "metadata": {},
   "outputs": [
    {
     "name": "stdout",
     "output_type": "stream",
     "text": [
      "\n",
      "\u001b[1mID de la conversation :\u001b[0m conv_0683712154c17ad3800005f8dcc39548\n",
      "\n",
      "\u001b[1mRéponse finale de l'agent :\u001b[0m\n",
      "  To calculate the compound annual reduction rate (CARR) over the 12-year period from 2018 to 2030, we can use the formula for compound annual growth rate (CAGR), but adapted for reduction:\n",
      "\n",
      "CARR = (End Value / Start Value)^(1/n) - 1\n",
      "\n",
      "Where:\n",
      "- End Value = 1.2 tCO₂/tonne (target for 2030)\n",
      "- Start Value = 1.8 tCO₂/tonne (value for 2018)\n",
      "- n = number of years (2030 - 2018 = 12 years)\n",
      "\n",
      "Plugging in the values:\n",
      "\n",
      "CARR = (1.2 / 1.8)^(1/12) - 1\n",
      "\n",
      "CARR = (0.6667)^(1/12) - 1\n",
      "\n",
      "CARR ≈ 0.9609 - 1\n",
      "\n",
      "CARR ≈ -0.0391 or -3.91%\n",
      "\n",
      "The compound annual reduction rate is approximately 3.91% per year.\n",
      "\n"
     ]
    }
   ],
   "source": [
    "pretty_print_agent_response(response)"
   ]
  },
  {
   "cell_type": "code",
   "execution_count": 32,
   "metadata": {},
   "outputs": [
    {
     "name": "stdout",
     "output_type": "stream",
     "text": [
      "\u001b[1mRésultat de la fonction :\u001b[0m\n",
      "tool_call_id='tUHsRhfJV' result='{\"baseline\": 1.8, \"target\": 1.2, \"unit\": \"tCO2e/tonne\", \"yearBaseline\": 2018, \"yearTarget\": 2030, \"source\": \"EUROFER\", \"comment\": \"Average EU steel production target\"}' object='entry' type='function.result' created_at=None completed_at=Unset() id=None\n",
      "conversation_id='conv_0683712f3c2b71c080008602d3ab7780' outputs=[AgentHandoffEntry(previous_agent_id='ag_0683710a1c317e308000458aab7bcc75', previous_agent_name='esg-baseline-agent', next_agent_id='ag_068370ecf9277f3d8000d75f98e3a71d', next_agent_name='graph-drawing-agent', object='entry', type='agent.handoff', created_at=datetime.datetime(2025, 5, 28, 13, 43, 19, 188622, tzinfo=TzInfo(UTC)), completed_at=datetime.datetime(2025, 5, 28, 13, 43, 19, 227041, tzinfo=TzInfo(UTC)), id='handoff_0683712f730476938000bc96eb3b194a'), ToolExecutionEntry(name='code_interpreter', object='entry', type='tool.execution', created_at=datetime.datetime(2025, 5, 28, 13, 43, 19, 563281, tzinfo=TzInfo(UTC)), completed_at=datetime.datetime(2025, 5, 28, 13, 43, 28, 265987, tzinfo=TzInfo(UTC)), id='tool_exec_0683712f79027f9880006879f25b18d3', info={'code': \"import matplotlib.pyplot as plt\\nimport numpy as np\\n\\n# Define the carbon intensity target for EU in the steel industry in 2030\\ncarbon_intensity_target_2030 = 1.2  # tCO2e/tonne\\n\\n# Calculate the compound annual reduction rate (CARR) over the next 10 years\\n# Assuming the initial carbon intensity in 2023 is known\\ninitial_carbon_intensity_2023 = 1.8  # tCO2e/tonne\\n\\n# Number of years\\nn_years = 10\\n\\n# Calculate the CARR\\nCARR = (carbon_intensity_target_2030 / initial_carbon_intensity_2023) ** (1 / n_years) - 1\\n\\n# Generate the years array\\nyears = np.arange(2023, 2033)\\n\\n# Calculate the carbon intensity for each year\\ncarbon_intensity = initial_carbon_intensity_2023 * (1 + CARR) ** (years - 2023)\\n\\n# Plot the graph\\nplt.figure(figsize=(10, 6))\\nplt.plot(years, carbon_intensity, marker='o', linestyle='-', color='b')\\nplt.xlabel('Year')\\nplt.ylabel('Carbon Intensity (tCO2e/tonne)')\\nplt.title('Compound Annual Reduction Rate (CARR) in Carbon Intensity for EU Steel Industry')\\nplt.grid(True)\\nplt.show()\", 'code_output': '<Figure size 1000x600 with 1 Axes>\\n'}), MessageOutputEntry(content=[ToolFileChunk(tool='code_interpreter', file_id='59de5d66-8f0e-4570-8448-758eeca1f468', type='tool_file', file_name='plot_0.png', file_type='png'), TextChunk(text='The graph illustrates the Compound Annual Reduction Rate (CARR) in carbon intensity for the EU steel industry over the next 10 years, from 2023 to 2033. The carbon intensity decreases from 1.8 tCO2e/tonne in 2023 to the target of 1.2 tCO2e/tonne in 2030, and continues to decrease in the following years. The CARR is calculated based on the initial and target carbon intensities, providing a clear visualization of the reduction trend over time.', type='text')], object='entry', type='message.output', created_at=datetime.datetime(2025, 5, 28, 13, 43, 28, 502917, tzinfo=TzInfo(UTC)), completed_at=datetime.datetime(2025, 5, 28, 13, 43, 30, 808375, tzinfo=TzInfo(UTC)), id='msg_06837130080b7b0b800044995c142134', agent_id='ag_068370ecf9277f3d8000d75f98e3a71d', model='mistral-large-latest', role='assistant')] usage=ConversationUsageInfo(prompt_tokens=925, completion_tokens=587, total_tokens=1564, connector_tokens=52, connectors={'code_interpreter': 1}) object='conversation.response'\n"
     ]
    }
   ],
   "source": [
    "from mistralai import FunctionResultEntry\n",
    "import json\n",
    "\n",
    "response = client.beta.conversations.start(\n",
    "    agent_id=esg_agent.id,\n",
    "    inputs=\"\"\"Given the carbon intensity target in tCO2e/tonne for EU in the steel industry in 2030,\n",
    "      plot a graph of the compound annual reduction rate (CARR) over the next 10 years.\"\"\"\n",
    ")\n",
    "\n",
    "# Supposons que tu as déjà la variable `response` issue de la requête initiale\n",
    "if response.outputs[-1].type == \"function.call\" and response.outputs[-1].name == \"get_esg_baseline\":\n",
    "    # On récupère les arguments de la fonction appelée\n",
    "    args = response.outputs[-1].arguments\n",
    "    if isinstance(args, str):\n",
    "        args = json.loads(args)  # Désérialisation si c'est une chaîne\n",
    "    metric = args.get(\"metric\", \"\")\n",
    "\n",
    "    if metric == \"carbon_intensity\":\n",
    "        result = {\n",
    "            \"baseline\": 1.8,\n",
    "            \"target\": 1.2,\n",
    "            \"unit\": \"tCO2e/tonne\",\n",
    "            \"yearBaseline\": 2018,\n",
    "            \"yearTarget\": 2030,\n",
    "            \"source\": \"EUROFER\",\n",
    "            \"comment\": \"Average EU steel production target\"\n",
    "        }\n",
    "    elif metric == \"water_usage\":\n",
    "        result = {\n",
    "            \"baseline\": 2400,\n",
    "            \"target\": 1900,\n",
    "            \"unit\": \"m3/hectare/year\",\n",
    "            \"yearBaseline\": 2015,\n",
    "            \"yearTarget\": 2030,\n",
    "            \"source\": \"European Environment Agency\",\n",
    "            \"comment\": \"Target for average agricultural water use per hectare in EU\"\n",
    "        }\n",
    "    else:\n",
    "        result = {\"error\": \"Metric non supporté\"}\n",
    "\n",
    "    user_entry = FunctionResultEntry(\n",
    "        tool_call_id=response.outputs[-1].tool_call_id,\n",
    "        result=json.dumps(result),  # On sérialise en JSON si besoin\n",
    "    )\n",
    "    print(\"\\033[1mRésultat de la fonction :\\033[0m\")\n",
    "    print(user_entry)\n",
    "    response = client.beta.conversations.append(\n",
    "        conversation_id=response.conversation_id,\n",
    "        inputs=[user_entry]\n",
    "    )\n",
    "\n",
    "    print(response)"
   ]
  },
  {
   "cell_type": "code",
   "execution_count": 33,
   "metadata": {},
   "outputs": [
    {
     "name": "stdout",
     "output_type": "stream",
     "text": [
      "\n",
      "\u001b[1mID de la conversation :\u001b[0m conv_0683712f3c2b71c080008602d3ab7780\n",
      "\n",
      "\u001b[1mTransfert d'agent (Handoff) :\u001b[0m\n",
      "  De : esg-baseline-agent\n",
      "  Vers : graph-drawing-agent\n",
      "  Date : 2025-05-28 13:43:19.188622+00:00\n",
      "\n",
      "\u001b[1mExécution d'outil :\u001b[0m\n",
      "  Outil : code_interpreter\n",
      "  Début : 2025-05-28 13:43:19.563281+00:00\n",
      "  Fin : 2025-05-28 13:43:28.265987+00:00\n",
      "  ID : tool_exec_0683712f79027f9880006879f25b18d3\n",
      "\n",
      "\u001b[1mRéponse finale de l'agent :\u001b[0m\n",
      "  The graph illustrates the Compound Annual Reduction Rate (CARR) in carbon intensity for the EU steel industry over the next 10 years, from 2023 to 2033. The carbon intensity decreases from 1.8 tCO2e/tonne in 2023 to the target of 1.2 tCO2e/tonne in 2030, and continues to decrease in the following years. The CARR is calculated based on the initial and target carbon intensities, providing a clear visualization of the reduction trend over time.\n",
      "\n"
     ]
    }
   ],
   "source": [
    "pretty_print_agent_response(response)"
   ]
  },
  {
   "cell_type": "code",
   "execution_count": 34,
   "metadata": {},
   "outputs": [
    {
     "data": {
      "image/png": "[encoded data removed]",
      "text/plain": [
       "<IPython.core.display.Image object>"
      ]
     },
     "metadata": {},
     "output_type": "display_data"
    }
   ],
   "source": [
    "download_and_display_agent_images(response, client)"
   ]
  },
  {
   "cell_type": "markdown",
   "metadata": {},
   "source": [
    "## 3. Le nouveau Agent API : tour d’horizon des fonctionnalités\n",
    "\n",
    "Le cœur de ce test portait sur la nouvelle version de l’Agent API de Mistral AI, qui permet de programmer et piloter des agents exécutés directement sur la plateforme Mistral.\n",
    "\n",
    "### 3.1 Les “classiques” désormais disponibles\n",
    "\n",
    "- Agent API complète la Chat Completion API existante en apportant un cadre conversationnel enrichi, avec gestion de sessions persistantes côté serveur : les conversations peuvent être reprises, suivies, et enrichies dans le temps sans réinitialiser le contexte.\n",
    "- Outils intégrés : web_search, code_interpreter, image_generation, document_library\n",
    "- Streaming natif des réponses\n",
    "- Prise en charge du function calling via un format structuré\n",
    "- Support des handoffs : un agent peut déléguer à un autre, via des mécanismes similaires à ceux de LangGraph ou de l’Agents SDK\n",
    "- Utilisation du protocole MCP pour accéder à des ressources ou documents connectés\n",
    "\n",
    "### 3.2 Les originalités de Mistral\n",
    "\n",
    "- La bonne idée de Mistral AI est de permettre de modifier les agents dynamiquement et de créer des liens entre eux a posteriori. Ces liens permettent de chaîner plusieurs agents dans un même flux, en s’appuyant sur un mécanisme de handoff automatique géré par la plateforme.\n",
    "- Les agents s’exécutent directement sur la plateforme de Mistral, ce qui évite d'avoir à les exécuter sur sa propre infrastructure. Des clients sont disponibles en Python, TypeScript, ou via appel API.\n",
    "\t- Seuls le function_calling et MCP fonctionnent différemment : ce n’est pas la plateforme qui exécute les appels automatiquement. Il faut intercepter les événements côté client et renvoyer une réponse. Cela répond évidement à des contraintes de sécurité.\n",
    "\n",
    "### 3.3 Les absents qu’on espère voir bientôt\n",
    "\n",
    "- Pas d’interface de tracing pour debugger ou suivre l’exécution pas à pas.\n",
    "- Les agents créés par la nouvelle API ne sont pas encore disponible dans la partie UI\n",
    "- Unification incomplète entre les agents Le Chat et ceux de la plateforme.\n",
    "- On regrette moins l'absence de contexte inter-agent (tout passe par la conversation), de mémoire ou d'human-in-the-loop. \n",
    "\n",
    "👉 Malgré ces petits manques, la nouvelle Agent API montre une volonté claire de fournir un socle solide pour des cas d’usage ciblés, avec une montée en puissance fonctionnelle tout en gardant une logique de simplicité. On sent une approche pragmatique, orientée développeurs, mais sans prétention d’unifier tous les paradigmes agentiques."
   ]
  },
  {
   "cell_type": "markdown",
   "metadata": {},
   "source": [
    "## 4. Conclusion — uniquement sur Agent API\n",
    "\n",
    "\n",
    "### 4.1 Mon avis\n",
    "\n",
    "Cette v2 de l’Agent API de Mistral coche l’essentiel pour ce qu’elle vise : offrir une solution simple, rapide à intégrer, et stable en production.\n",
    "\n",
    "L’API s’enrichit de toutes les briques devenues standard dans l’écosystème agentique : `web_search`, `code_interpreter`, `streaming`, `handoffs`, `Document Library (beta)`, `MCP`. Mais elle conserve une sobriété rare dans un marché qui sur-construit souvent ses outils.\n",
    "\n",
    "➡️ Ce n’est pas un framework généraliste ou un studio tout-en-un. Et justement, pour une entreprise, **c’est ce qui fait tout son intérêt**. On peut créer des assistants ciblés, intégrables rapidement dans une application métier, sans devoir déployer ni maintenir une infra complexe. Le fait que tout tourne sur la plateforme Mistral enlève aussi une grosse charge côté ops. Et surtout, ces agents sont accessibles directement via Le Chat, l’assistant conversationnel de Mistral AI, ce qui facilite leur adoption au quotidien.\n",
    "\n",
    "Est-ce complet ? Non. Il manque encore du tracing, une gestion du contexte inter-agent, et l’unification avec UI. Mais dans une logique d’entreprise qui veut automatiser un cas d’usage bien défini, Mistral propose une réponse crédible, bien ancrée dans les besoins terrain.\n",
    "\n",
    "\n",
    "### 4.2 Les plus / les moins\n",
    "\n",
    "| ✅ Les plus                                       | ❌ Les moins                        |\n",
    "| ------------------------------------------------ | ---------------------------------- |\n",
    "| API + Chat dans la même logique                  | Function calling encore manuel     |\n",
    "| Tools, streaming, handoffs intégrés              | Pas encore de tracing intégré      |\n",
    "| Exécution sur la plateforme Mistral              | Document Library non dispo au test |\n",
    "| Simplicité, efficace pour des besoins ciblés     | Deux types d’agents non unifiés    |\n",
    "| Adapté à des intégrations pro sans surcoût infra | Agent Builder non mis à jour       |\n"
   ]
  }
 ],
 "metadata": {
  "kernelspec": {
   "display_name": ".venv",
   "language": "python",
   "name": "python3"
  },
  "language_info": {
   "codemirror_mode": {
    "name": "ipython",
    "version": 3
   },
   "file_extension": ".py",
   "mimetype": "text/x-python",
   "name": "python",
   "nbconvert_exporter": "python",
   "pygments_lexer": "ipython3",
   "version": "3.13.2"
  }
 },
 "nbformat": 4,
 "nbformat_minor": 2
}
