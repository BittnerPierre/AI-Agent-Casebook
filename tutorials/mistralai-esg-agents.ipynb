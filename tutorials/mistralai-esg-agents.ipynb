{
 "cells": [
  {
   "cell_type": "markdown",
   "metadata": {
    "vscode": {
     "languageId": "plaintext"
    }
   },
   "source": [
    "# Mistral AI Agents"
   ]
  },
  {
   "cell_type": "markdown",
   "metadata": {},
   "source": [
    "## La Base des Agents "
   ]
  },
  {
   "cell_type": "markdown",
   "metadata": {},
   "source": [
    "### Objets\n",
    "\n",
    "Il y a trois nouveaux objets principaux qui sont utilisés par l'Agents API de Mistral AI :\n",
    "\n",
    "- **Agents** → Un ensemble de valeurs préconfigurées pour augmenter les capacités du modèle, comme des outils, des instructions et des paramètres de complétion.\n",
    "\n",
    "- **Conversation** → Un historique des interactions et des événements passés avec un assistant, incluant les messages et les exécutions d’outils.\n",
    "\n",
    "- **Entry** → Une action pouvant être créée par l’utilisateur ou par un assistant. Elle permet une représentation plus souple et expressive des interactions entre un utilisateur et un ou plusieurs assistants, offrant ainsi un meilleur contrôle sur la description des événements.\n",
    "\n"
   ]
  },
  {
   "cell_type": "markdown",
   "metadata": {},
   "source": [
    "Commençons par quelques imports de librairies (MistralAI, pytdantic)"
   ]
  },
  {
   "cell_type": "code",
   "execution_count": 1,
   "metadata": {},
   "outputs": [],
   "source": [
    "from mistralai import Mistral\n",
    "from pydantic import BaseModel\n",
    "import json\n",
    "import os\n"
   ]
  },
  {
   "cell_type": "markdown",
   "metadata": {},
   "source": [
    "Puis importons des fonctions utilitaires locales."
   ]
  },
  {
   "cell_type": "code",
   "execution_count": 2,
   "metadata": {},
   "outputs": [],
   "source": [
    "import importlib\n",
    "import utils\n",
    "importlib.reload(utils)\n",
    "from utils import pretty_print_agent_response, download_and_display_agent_images"
   ]
  },
  {
   "cell_type": "markdown",
   "metadata": {},
   "source": [
    "Enfin la création du client Mistral."
   ]
  },
  {
   "cell_type": "code",
   "execution_count": 3,
   "metadata": {},
   "outputs": [],
   "source": [
    "token = os.environ.get(\"MISTRAL_API_KEY\")\n",
    "client = Mistral(api_key=token)\n"
   ]
  },
  {
   "cell_type": "markdown",
   "metadata": {},
   "source": [
    "### Création d'un Agent"
   ]
  },
  {
   "cell_type": "markdown",
   "metadata": {},
   "source": [
    "Lors de la création d’un agent, plusieurs paramètres et valeurs doivent être définis à l’avance. Il s’agit de :\n",
    "\n",
    "* **model** : Le modèle que votre agent utilisera, parmi ceux disponibles pour la complétion de chat.\n",
    "* **description** : La description de l’agent, liée à la tâche qu’il doit accomplir ou au cas d’usage concerné.\n",
    "* **name** : Le nom de votre agent.\n",
    "* **instructions** *(optionnel)* : Les instructions principales de l’agent, également appelées *system prompt*. Elles doivent décrire précisément la tâche principale de l’agent.\n",
    "* **tools** *(optionnel)* : Une liste d’outils que le modèle peut utiliser. Il existe actuellement plusieurs types d’outils :\n",
    "\n",
    "  * **function** : Outils définis par l’utilisateur, similaires aux appels de fonction standards utilisés avec la complétion de chat.\n",
    "  * **web\\_search** : Outil intégré de recherche web.\n",
    "  * **code\\_interpreter** : Outil intégré pour l’exécution de code.\n",
    "  * **image\\_generation** : Outil intégré pour la génération d’images.\n",
    "* **completion\\_args** *(optionnel)* : Paramètres standard du *chat completion sampler*. Tous les arguments valides pour la complétion de chat sont acceptés.\n",
    "\n",
    "---\n"
   ]
  },
  {
   "cell_type": "code",
   "execution_count": 4,
   "metadata": {},
   "outputs": [],
   "source": [
    "# Main agent\n",
    "esg_agent = client.beta.agents.create(\n",
    "    model=\"mistral-large-latest\",\n",
    "    name=\"esg-agent\",\n",
    "    description=\"Agent used to answer ESG (Environmental, Social and Governance) related requests.\",\n",
    ")"
   ]
  },
  {
   "cell_type": "markdown",
   "metadata": {},
   "source": [
    "Lors de la création d’un agent, vous recevrez un objet Agent contenant un identifiant d’agent. Vous pourrez ensuite utiliser cet identifiant pour engager des conversations."
   ]
  },
  {
   "cell_type": "code",
   "execution_count": 5,
   "metadata": {},
   "outputs": [
    {
     "data": {
      "text/plain": [
       "Agent(model='mistral-large-latest', name='esg-agent', id='ag_06836d76d5bb7df9800064b28701e40b', version=0, created_at=datetime.datetime(2025, 5, 28, 9, 29, 17, 366244, tzinfo=TzInfo(UTC)), updated_at=datetime.datetime(2025, 5, 28, 9, 29, 17, 366247, tzinfo=TzInfo(UTC)), instructions=None, tools=[], completion_args=CompletionArgs(stop=None, presence_penalty=None, frequency_penalty=None, temperature=0.3, top_p=None, max_tokens=None, random_seed=None, prediction=None, response_format=None, tool_choice='auto'), description='Agent used to answer ESG (Environmental, Social and Governance) related requests.', handoffs=None, object='agent')"
      ]
     },
     "execution_count": 5,
     "metadata": {},
     "output_type": "execute_result"
    }
   ],
   "source": [
    "esg_agent"
   ]
  },
  {
   "cell_type": "markdown",
   "metadata": {},
   "source": [
    "### Commencez une conversation\n",
    "\n",
    "\n",
    "Une fois votre agent créé, vous pouvez engager des conversations à tout moment tout en conservant la même conversation persistante.\n",
    "\n",
    "Vous commencez une conversation en fournissant :\n",
    "\n",
    "* **agent\\_id** : l’identifiant de l’agent, généré lors de sa création.\n",
    "* **inputs** : le message de départ de la conversation. Cela peut être une simple chaîne de caractères (le premier message ou la première question de l’utilisateur), ou bien une liste de messages.\n",
    "\n",
    "La création de la conversation retournera un **identifiant de conversation** (*conversation\\_id*).\n",
    "\n",
    "Pour poursuivre la conversation et y ajouter les échanges au fur et à mesure, vous devez fournir deux éléments :\n",
    "\n",
    "* **conversation\\_id** : l’identifiant obtenu lors du démarrage de la conversation, qui permet de retrouver l’historique stocké en interne.\n",
    "* **inputs** : le message ou la réponse suivante. Il peut s’agir d’une chaîne de caractères ou d’une liste de messages.\n"
   ]
  },
  {
   "cell_type": "code",
   "execution_count": 6,
   "metadata": {},
   "outputs": [],
   "source": [
    "response = client.beta.conversations.start(\n",
    "    agent_id=esg_agent.id, inputs=\"Qu'est ce que l'ESG ?\"\n",
    ")"
   ]
  },
  {
   "cell_type": "code",
   "execution_count": 7,
   "metadata": {},
   "outputs": [
    {
     "name": "stdout",
     "output_type": "stream",
     "text": [
      "\n",
      "\u001b[1mID de la conversation :\u001b[0m conv_06836d7791bb700a8000c8c9252a9e4c\n",
      "\n",
      "\u001b[1mRéponse finale de l'agent :\u001b[0m\n",
      "  L'ESG, ou \"Environnemental, Social et Gouvernance\", est un cadre utilisé pour évaluer la durabilité et l'impact sociétal des entreprises. Il se compose de trois piliers principaux :\n",
      "\n",
      "1. **Environnemental (E)** : Ce pilier évalue l'impact d'une entreprise sur l'environnement. Cela inclut des aspects tels que la gestion des ressources naturelles, la réduction des émissions de carbone, la gestion des déchets, et les efforts pour atténuer le changement climatique.\n",
      "\n",
      "2. **Social (S)** : Ce pilier examine les relations de l'entreprise avec ses employés, ses clients, ses fournisseurs et les communautés locales. Cela inclut des questions comme les conditions de travail, la diversité et l'inclusion, les droits de l'homme, et l'engagement communautaire.\n",
      "\n",
      "3. **Gouvernance (G)** : Ce pilier se concentre sur la manière dont l'entreprise est dirigée. Cela inclut des aspects tels que la structure de gouvernance, les pratiques de gestion, la transparence, l'éthique des affaires, et la gestion des risques.\n",
      "\n",
      "L'ESG est de plus en plus utilisé par les investisseurs pour évaluer les risques et les opportunités liés à la durabilité. Les entreprises qui obtiennent de bonnes notes ESG sont souvent perçues comme étant plus responsables et plus durables à long terme, ce qui peut influencer les décisions d'investissement. Les critères ESG sont également de plus en plus intégrés dans les politiques d'entreprise et les réglementations, reflétant une prise de conscience croissante de l'importance de la durabilité et de la responsabilité sociale.\n",
      "\n"
     ]
    }
   ],
   "source": [
    "pretty_print_agent_response(response)"
   ]
  },
  {
   "cell_type": "markdown",
   "metadata": {},
   "source": [
    "### Continuer une conversation\n",
    "\n",
    "Vous pouvez poursuivre la conversation ; l’historique est conservé si vous utilisez le bon identifiant de conversation.\"\n"
   ]
  },
  {
   "cell_type": "code",
   "execution_count": 8,
   "metadata": {},
   "outputs": [],
   "source": [
    "response = client.beta.conversations.append(\n",
    "    conversation_id=response.conversation_id, inputs=\"Quelle est la différence avec le CSR ?\"\n",
    ")"
   ]
  },
  {
   "cell_type": "code",
   "execution_count": 9,
   "metadata": {},
   "outputs": [
    {
     "name": "stdout",
     "output_type": "stream",
     "text": [
      "\n",
      "\u001b[1mID de la conversation :\u001b[0m conv_06836d7791bb700a8000c8c9252a9e4c\n",
      "\n",
      "\u001b[1mRéponse finale de l'agent :\u001b[0m\n",
      "  L'ESG (Environnemental, Social et Gouvernance) et la CSR (Corporate Social Responsibility, ou Responsabilité Sociétale des Entreprises) sont deux concepts liés à la durabilité et à la responsabilité des entreprises, mais ils ont des approches et des objectifs légèrement différents.\n",
      "\n",
      "### ESG (Environnemental, Social et Gouvernance)\n",
      "\n",
      "1. **Objectif** : L'ESG est principalement utilisé par les investisseurs pour évaluer les risques et les opportunités liés à la durabilité des entreprises. Il s'agit d'un cadre d'analyse qui aide à identifier les entreprises qui sont bien positionnées pour gérer les défis environnementaux, sociaux et de gouvernance.\n",
      "\n",
      "2. **Utilisateurs** : Les principaux utilisateurs de l'ESG sont les investisseurs, les analystes financiers et les gestionnaires de fonds. Ils utilisent les critères ESG pour prendre des décisions d'investissement et pour évaluer la performance à long terme des entreprises.\n",
      "\n",
      "3. **Mesure** : Les critères ESG sont souvent quantifiés et standardisés, permettant une comparaison objective entre différentes entreprises. Les agences de notation ESG évaluent les entreprises sur des critères spécifiques et attribuent des scores.\n",
      "\n",
      "### CSR (Corporate Social Responsibility)\n",
      "\n",
      "1. **Objectif** : La CSR se concentre sur les initiatives et les pratiques internes des entreprises visant à avoir un impact positif sur la société et l'environnement. Elle est souvent perçue comme une partie intégrante de la stratégie d'entreprise et de la culture organisationnelle.\n",
      "\n",
      "2. **Utilisateurs** : Les principaux utilisateurs de la CSR sont les entreprises elles-mêmes, leurs employés, leurs clients, et les parties prenantes locales. La CSR est souvent utilisée pour améliorer la réputation de l'entreprise, renforcer la fidélité des clients et attirer des talents.\n",
      "\n",
      "3. **Mesure** : La CSR est souvent plus qualitative et moins standardisée que l'ESG. Les entreprises publient des rapports CSR pour communiquer leurs initiatives et leurs progrès en matière de responsabilité sociale, mais ces rapports peuvent varier considérablement d'une entreprise à l'autre.\n",
      "\n",
      "### Points Communs\n",
      "\n",
      "- **Durabilité** : Les deux concepts visent à promouvoir la durabilité et la responsabilité des entreprises.\n",
      "- **Impact** : Ils cherchent à évaluer et à améliorer l'impact des entreprises sur l'environnement, la société et la gouvernance.\n",
      "\n",
      "### Différences Clés\n",
      "\n",
      "- **Perspective** : L'ESG est principalement une perspective externe utilisée par les investisseurs pour évaluer les entreprises, tandis que la CSR est une perspective interne utilisée par les entreprises pour gérer leurs impacts sociaux et environnementaux.\n",
      "- **Standardisation** : Les critères ESG sont souvent plus standardisés et quantifiables, tandis que les initiatives CSR peuvent être plus variées et qualitatives.\n",
      "- **Objectif** : L'ESG est axé sur l'évaluation des risques et des opportunités pour les investisseurs, tandis que la CSR est axée sur l'amélioration de la réputation et de la performance sociale et environnementale de l'entreprise.\n",
      "\n",
      "En résumé, bien que les deux concepts soient complémentaires et visent à promouvoir la durabilité, ils diffèrent par leur approche, leurs utilisateurs et leurs objectifs.\n",
      "\n"
     ]
    }
   ],
   "source": [
    "pretty_print_agent_response(response)"
   ]
  },
  {
   "cell_type": "markdown",
   "metadata": {},
   "source": [
    "### Mise à jour d’un agent\n",
    "\n",
    "Après sa création, vous pouvez mettre à jour l’agent avec de nouveaux paramètres si nécessaire. Les arguments sont les mêmes que ceux utilisés lors de la création de l’agent."
   ]
  },
  {
   "cell_type": "code",
   "execution_count": null,
   "metadata": {},
   "outputs": [
    {
     "data": {
      "text/plain": [
       "Agent(model='mistral-large-latest', name='esg-agent', id='ag_06836d76d5bb7df9800064b28701e40b', version=2, created_at=datetime.datetime(2025, 5, 28, 9, 29, 17, 366244, tzinfo=TzInfo(UTC)), updated_at=datetime.datetime(2025, 5, 28, 9, 31, 41, 360782, tzinfo=TzInfo(UTC)), instructions='Tu réponds de manière concise et professionnelle en 1 paragraphe en français.', tools=[], completion_args=CompletionArgs(stop=None, presence_penalty=None, frequency_penalty=None, temperature=0.1, top_p=0.95, max_tokens=None, random_seed=None, prediction=None, response_format=None, tool_choice='auto'), description='Agent used to answer ESG (Environmental, Social and Governance) related requests.', handoffs=None, object='agent')"
      ]
     },
     "execution_count": 13,
     "metadata": {},
     "output_type": "execute_result"
    }
   ],
   "source": [
    "client.beta.agents.update(\n",
    "    agent_id=esg_agent.id, \n",
    "    instructions=\"Tu réponds de manière concise et professionnelle en 1 paragraphe.\",\n",
    "    completion_args={\n",
    "        \"temperature\": 0.1,\n",
    "        \"top_p\": 0.95,\n",
    "    }\n",
    ")"
   ]
  },
  {
   "cell_type": "code",
   "execution_count": 11,
   "metadata": {},
   "outputs": [],
   "source": [
    "response = client.beta.conversations.append(\n",
    "    conversation_id=response.conversation_id, inputs=\"Et avec les SDG ?\"\n",
    ")"
   ]
  },
  {
   "cell_type": "code",
   "execution_count": 12,
   "metadata": {},
   "outputs": [
    {
     "name": "stdout",
     "output_type": "stream",
     "text": [
      "\n",
      "\u001b[1mID de la conversation :\u001b[0m conv_06836d7791bb700a8000c8c9252a9e4c\n",
      "\n",
      "\u001b[1mRéponse finale de l'agent :\u001b[0m\n",
      "  Les SDG (Sustainable Development Goals, ou Objectifs de Développement Durable) sont un ensemble de 17 objectifs globaux adoptés par les Nations Unies en 2015 pour promouvoir la prospérité tout en protégeant la planète. Ils couvrent un large éventail de domaines, y compris la pauvreté, la faim, la santé, l'éducation, l'égalité des sexes, l'eau potable, l'énergie, le travail décent, l'industrie, l'innovation, les inégalités, les villes durables, la consommation responsable, le climat, les océans, les écosystèmes terrestres, la paix et les partenariats. Les SDG visent à mobiliser les efforts pour atteindre un développement durable d'ici 2030, en impliquant les gouvernements, les entreprises, la société civile et les individus. Ils fournissent un cadre universel pour guider les politiques et les actions vers un avenir plus durable et équitable.\n",
      "\n"
     ]
    }
   ],
   "source": [
    "pretty_print_agent_response(response)"
   ]
  },
  {
   "cell_type": "markdown",
   "metadata": {},
   "source": [
    "### Agent Tooling"
   ]
  },
  {
   "cell_type": "code",
   "execution_count": 14,
   "metadata": {},
   "outputs": [],
   "source": [
    "web_search_agent = client.beta.agents.create(\n",
    "    model=\"mistral-large-latest\",\n",
    "    description=\"Agent that can search online for any information if needed\",\n",
    "    name=\"websearch-agent\",\n",
    "    tools=[{\"type\": \"web_search\"}],\n",
    ")"
   ]
  },
  {
   "cell_type": "code",
   "execution_count": 16,
   "metadata": {},
   "outputs": [
    {
     "name": "stdout",
     "output_type": "stream",
     "text": [
      "\n",
      "\u001b[1mID de la conversation :\u001b[0m conv_06836d87b96f782e800016a72227028f\n",
      "\n",
      "\u001b[1mExécution d'outil :\u001b[0m\n",
      "  Outil : web_search\n",
      "  Début : 2025-05-28 09:33:48.052411+00:00\n",
      "  Fin : 2025-05-28 09:33:49.178313+00:00\n",
      "  ID : tool_exec_06836d87c0d6783880006fc1c188f6b2\n",
      "\n",
      "\u001b[1mRéponse finale de l'agent :\u001b[0m\n",
      "  En janvier 2025, le taux directeur de la Banque centrale européenne (BCE) pour la facilité de dépôt a été réduit à 2,75 % à compter du 5 février 2025. Cette décision fait suite à une série de baisses des taux directeurs de la BCE, qui ont été réduits de 25 points de base chacun, marquant la quatrième baisse consécutive entre septembre 2024 et janvier 2025, et la cinquième depuis juin 2024\n",
      "  .\n",
      "\n",
      "  \u001b[4mSources citées :\u001b[0m\n",
      "    - [5e repli des taux directeurs de la BCE en janvier 2025](https://ymanci.fr/credit-immobilier/actualites/la-bce-poursuit-sur-sa-lancee-en-reduisant-ses-taux-directeurs-en-janvier-2025/) via web_search\n",
      "    - [Décisions de politique monétaire](https://www.ecb.europa.eu/press/pr/date/2025/html/ecb.mp250130~530b29e622.fr.html) via web_search\n",
      "\n"
     ]
    }
   ],
   "source": [
    "response = client.beta.conversations.start(\n",
    "    agent_id=web_search_agent.id, inputs=\"Quel est le taux directeur de la Banque centrale européenne en janvier 2025\"\n",
    ")\n",
    "pretty_print_agent_response(response)"
   ]
  },
  {
   "cell_type": "code",
   "execution_count": 26,
   "metadata": {},
   "outputs": [],
   "source": [
    "graph_agent = client.beta.agents.create(\n",
    "    model=\"mistral-large-latest\",\n",
    "    name=\"graph-drawing-agent\",\n",
    "    description=\"Agent used to create graphs using the code interpreter tool.\",\n",
    "    instructions=\"Use the code interpreter tool when you have to draw a graph.\",\n",
    "    tools=[{\"type\": \"code_interpreter\"}]\n",
    ")"
   ]
  },
  {
   "cell_type": "code",
   "execution_count": 38,
   "metadata": {},
   "outputs": [
    {
     "name": "stdout",
     "output_type": "stream",
     "text": [
      "\n",
      "\u001b[1mID de la conversation :\u001b[0m conv_06836def1cc1715d80003f852ab60799\n",
      "\n",
      "\u001b[1mExécution d'outil :\u001b[0m\n",
      "  Outil : code_interpreter\n",
      "  Début : 2025-05-28 10:01:27.224896+00:00\n",
      "  Fin : 2025-05-28 10:01:39.859738+00:00\n",
      "  ID : tool_exec_06836def73987f4180000ee34f657fed\n",
      "\n",
      "\u001b[1mRéponse finale de l'agent :\u001b[0m\n",
      "  Voici la matrice de double matérialité des enjeux ESG pour votre entreprise. Les enjeux sont tracés sur un nuage de points avec l'importance financière sur l'axe X et l'impact d'entreprise sur l'axe Y. Les lignes médianes en pointillés et la grille discrète facilitent la lecture des positions.\n",
      "\n"
     ]
    }
   ],
   "source": [
    "inputs = \"\"\"\n",
    "Dessine la matrice de double matérialité des 5 enjeux clés de mon Entreprise:\n",
    "– Enjeux ESG Prioritaires = [Climat, Eau, Biodiversité, Droits humains, Inclusion]\n",
    "– Pour chaque enjeux, deux scores de 1 à 5 :\n",
    " 1. Importance financière (à quel point l’enjeu peut impacter les résultats) = [5, 4, 3, 2, 3]\n",
    " 2. Impact d’entreprise (à quel point vous-même affectez cet enjeu) =  [4, 5, 2, 3, 4]\n",
    "\n",
    "- Trace les enjeux sur un nuage de points avec deux axes (Importance financière sur l’axe X, Impact d’entreprise sur l’axe Y),\n",
    "et ajoute les lignes médianes pour créer les 4 quadrants.\n",
    "- Fais commencer et terminer les deux axes (financier et impact) à 1 et 5, pour bien cadrer les scores.\n",
    "- Trace les lignes en pointillés (--) à la valeur 3 sur chaque axe pour représenter les médianes.\n",
    "- Et ajoute une grille discrète en fond pour faciliter la lecture des positions\n",
    "\"\"\"\n",
    "\n",
    "response = client.beta.conversations.start(\n",
    "    agent_id=graph_agent.id, inputs=inputs\n",
    ")\n",
    "pretty_print_agent_response(response)"
   ]
  },
  {
   "cell_type": "code",
   "execution_count": 39,
   "metadata": {},
   "outputs": [
    {
     "data": {
      "image/png": "[encoded data removed]",
      "text/plain": [
       "<IPython.core.display.Image object>"
      ]
     },
     "metadata": {},
     "output_type": "display_data"
    }
   ],
   "source": [
    "download_and_display_agent_images(response, client)"
   ]
  },
  {
   "cell_type": "markdown",
   "metadata": {},
   "source": [
    "## Création d'un workflow agentique\n",
    "\n",
    "Lors de la création et de l’utilisation d’agents, souvent équipés d'outils spécifiques, il arrive qu’on souhaite faire appel à d’autres agents en cours d’action. Pour concevoir et structurer des workflows automatisés couvrant une variété de tâches, cette capacité à déléguer des tâches à d’autres agents ou à leur transférer une conversation s’appelle un Handoff (transfert)."
   ]
  },
  {
   "cell_type": "markdown",
   "metadata": {},
   "source": [
    "### Création des agents"
   ]
  },
  {
   "cell_type": "code",
   "execution_count": 40,
   "metadata": {},
   "outputs": [],
   "source": [
    "from mistralai import CompletionArgs, ResponseFormat, JSONSchema\n",
    "\n",
    "token = os.environ.get(\"MISTRAL_API_KEY\")\n",
    "client = Mistral(api_key=token)\n",
    "\n",
    "class CalcResult(BaseModel):\n",
    "    reasoning: str\n",
    "     # JSON list of { year, value, meets_target }\n",
    "    result: str\n",
    "\n",
    "# Create your agents\n",
    "calculator_agent = client.beta.agents.create(\n",
    "    model=\"mistral-large-latest\",\n",
    "    name=\"calculator-agent\",\n",
    "    description=\"Agent used to make detailed calculations\",\n",
    "    instructions=r\"\"\"When doing calculations explain step by step what you are doing.\n",
    "    #### Compound annual reduction rate (CARR)\n",
    "    To calculate the compounded effect of reducing a quantity over time to reach a target value, you can use the formula for compound annual reduction:\n",
    "\n",
    "    \\[ r = 1 - \\left( \\frac{T}{B} \\right)^{\\frac{1}{n}} \\]\n",
    "\n",
    "    where:\n",
    "    - \\( r \\) is the annual reduction rate (as a decimal, e.g., 0.043 for 4.3%).\n",
    "    - \\( B \\) is the baseline value (initial quantity, e.g., emissions in year 0).\n",
    "    - \\( T \\) is the target value (final quantity after n years).\n",
    "    - \\( n \\) is the number of years over which the reduction occurs.\"\"\",\n",
    "    completion_args=CompletionArgs(\n",
    "          response_format=ResponseFormat(\n",
    "            type=\"json_schema\",\n",
    "            json_schema=JSONSchema(\n",
    "                name=\"calc_result\",\n",
    "                schema=CalcResult.model_json_schema(),\n",
    "            )\n",
    "        )\n",
    "    )\n",
    ")\n",
    "\n"
   ]
  },
  {
   "cell_type": "code",
   "execution_count": 42,
   "metadata": {},
   "outputs": [],
   "source": [
    "# – Lookup interne esg baseline : metric + date + sector, retourne [{baseline, target, unit, yearBaseline, yearTarget, source, comment}, ...]\n",
    "esg_baseline_agent = client.beta.agents.create(\n",
    "    model=\"mistral-large-latest\",\n",
    "    name=\"esg-baseline-agent\",\n",
    "    description=\"Can find the current baseline and target of the EU taxonomy by sector and year in Europe\",\n",
    "    tools=[{\n",
    "        \"type\": \"function\",\n",
    "        \"function\": {\n",
    "            \"name\": \"get_esg_baseline\",\n",
    "            \"description\": \"Returns the baseline of an ESG indicator (for example 'carbon_intensity' or 'water_usage') for a sector and a target year.\",\n",
    "            \"parameters\": {\n",
    "                \"type\": \"object\",\n",
    "                \"properties\": {\n",
    "                    \"metric\": {\"type\": \"string\"},\n",
    "                    \"sector\": {\"type\": \"string\"},\n",
    "                    \"date\":   {\"type\": \"string\"}\n",
    "                },\n",
    "                \"required\": [\"metric\", \"sector\", \"date\"]\n",
    "            }\n",
    "        }\n",
    "    }]\n",
    ")"
   ]
  },
  {
   "cell_type": "markdown",
   "metadata": {},
   "source": [
    "## Définir les responsabilités lors des transferts (handoff) entre agents\n",
    "\n",
    "Une fois tous nos agents créés, nous mettons à jour les agents définis précédemment avec la liste des handoffs disponibles (transferts possibles vers d'autres agents)."
   ]
  },
  {
   "cell_type": "code",
   "execution_count": 64,
   "metadata": {},
   "outputs": [
    {
     "data": {
      "text/plain": [
       "Agent(model='mistral-large-latest', name='websearch-agent', id='ag_06836d8350137612800050f05187a144', version=3, created_at=datetime.datetime(2025, 5, 28, 9, 32, 37, 11713, tzinfo=TzInfo(UTC)), updated_at=datetime.datetime(2025, 5, 28, 10, 18, 14, 644036, tzinfo=TzInfo(UTC)), instructions=None, tools=[WebSearchTool(type='web_search')], completion_args=CompletionArgs(stop=None, presence_penalty=None, frequency_penalty=None, temperature=0.3, top_p=None, max_tokens=None, random_seed=None, prediction=None, response_format=None, tool_choice='auto'), description='Agent that can search online for any information if needed', handoffs=['ag_06836df6b13d7d82800018fad1a41338', 'ag_06836dd547f27b5b80006d7cb78cbbab'], object='agent')"
      ]
     },
     "execution_count": 64,
     "metadata": {},
     "output_type": "execute_result"
    }
   ],
   "source": [
    "# Allow the esg_agent to handoff the conversation to the esg_baseline_agent or web_search_agent\n",
    "client.beta.agents.update(\n",
    "    agent_id=esg_agent.id, \n",
    "    handoffs=[esg_baseline_agent.id, web_search_agent.id]\n",
    ")\n",
    "\n",
    "\n",
    "# Allow the ecb_interest_rate_agent to handoff the conversation to the graph_agent or calculator_agent\n",
    "client.beta.agents.update(\n",
    "    # instructions=\"\"\"\n",
    "    #     If the user asks for calculations, you may hand off to the calculator agent.\n",
    "    #     If the user asks to plot, visualize, or graph anything hand off the task to the graph-drawing agent.\n",
    "    #     You have access to both calculator-agent and graph-drawing-agent via handoffs.\n",
    "    #     \"\"\",\n",
    "    agent_id=esg_baseline_agent.id, \n",
    "    handoffs=[calculator_agent.id, graph_agent.id]\n",
    ")\n",
    "\n",
    "\n",
    "# Allow the web_search_agent to handoff the conversation to the graph_agent or calculator_agent\n",
    "client.beta.agents.update(\n",
    "    agent_id=web_search_agent.id, \n",
    "    # instructions=\"\"\"\n",
    "    #     If the user asks for calculations, you may hand off to the calculator agent.\n",
    "    #     If the user asks to plot, visualize, or graph anything hand off the task to the graph-drawing agent.\n",
    "    #     You have access to both calculator-agent and graph-drawing-agent via handoffs.\n",
    "    #     \"\"\",\n",
    "    handoffs=[calculator_agent.id, graph_agent.id]\n",
    ")\n"
   ]
  },
  {
   "cell_type": "markdown",
   "metadata": {},
   "source": [
    "### Comment ça fonctionne\n",
    "\n",
    "Notre workflow et le comportement des agents sont désormais définis, nous pouvons donc l’exécuter.\n",
    "\n",
    "Nous avons créé 5 agents. Certains ont accès à des outils intégrés, d'autres à des outils locaux comme `get_esg_baseline`.\n",
    "\n",
    "Il est maintenant possible d’enchaîner plusieurs actions en envoyant une requête à `esg_agent`.\n",
    "\n",
    "Déclenchons deux comportements différents à titre d’exemple :\n"
   ]
  },
  {
   "cell_type": "markdown",
   "metadata": {},
   "source": [
    "#### Exemple A\n",
    "\n",
    "**\"Fetch the current US bank interest rate and calculate the compounded effect if investing for the next 10y\"**\n",
    "\n",
    "*(\"Récupère le taux directeur actuel de la banque centrale américaine et calcule l'effet des intérêts composés sur un investissement sur les 10 prochaines années\")*\n",
    "\n",
    "Dans ce premier exemple, on demande le taux directeur de la banque centrale des États-Unis. On s’attend donc à ce que l’agent de recherche web (websearch-agent) intervienne, suivi du calcul des intérêts composés sur 10 ans. Cette opération sera effectuée par l’agent calculateur (calculator-agent)."
   ]
  },
  {
   "cell_type": "code",
   "execution_count": 44,
   "metadata": {},
   "outputs": [
    {
     "name": "stdout",
     "output_type": "stream",
     "text": [
      "\n",
      "\u001b[1mID de la conversation :\u001b[0m conv_06836dfe771e75c980009d0f66584115\n",
      "\n",
      "\u001b[1mTransfert d'agent (Handoff) :\u001b[0m\n",
      "  De : esg-agent\n",
      "  Vers : websearch-agent\n",
      "  Date : 2025-05-28 10:05:28.064974+00:00\n",
      "\n",
      "\u001b[1mExécution d'outil :\u001b[0m\n",
      "  Outil : web_search\n",
      "  Début : 2025-05-28 10:05:30.396383+00:00\n",
      "  Fin : 2025-05-28 10:05:32.142771+00:00\n",
      "  ID : tool_exec_06836dfea657763f80009e9b8d0432b3\n",
      "\n",
      "\u001b[1mExécution d'outil :\u001b[0m\n",
      "  Outil : web_search\n",
      "  Début : 2025-05-28 10:05:32.514637+00:00\n",
      "  Fin : 2025-05-28 10:05:33.861097+00:00\n",
      "  ID : tool_exec_06836dfec83b7b5b800025fedea28e8f\n",
      "\n",
      "\u001b[1mRéponse finale de l'agent :\u001b[0m\n",
      "  As of 2025, China's steel industry is a significant contributor to the country's carbon emissions, accounting for approximately 15% of the total. The industry has set ambitious targets to reduce these emissions. By 2030, the steel sector aims to decrease its carbon emissions by 30% compared to its peak levels. This reduction is part of a broader national goal to establish a modern industrial system characterized by high efficiency, green practices, circular economy principles, and low-carbon characteristics\n",
      "  .\n",
      "\n",
      "  \u001b[4mSources citées :\u001b[0m\n",
      "    - [Will China’s new steel industry carbon target cloud peak emissions plans? | South China Morning Post](https://www.scmp.com/news/china/science/article/3166894/will-chinas-new-steel-industry-carbon-target-cloud-peak) via web_search\n",
      "    - [Consumption-Driven Carbon Emission Reduction Path and Simulation Research in Steel Industry: A Case Study of China](https://www.mdpi.com/2071-1050/14/20/13693) via web_search\n",
      "    - [Steel decarbonization in China – a top-down optimization model for exploring the first steps - ScienceDirect](https://www.sciencedirect.com/science/article/pii/S0959652622051241) via web_search\n",
      "    - [China’s steel sector to achieve carbon emissions peak in 2025 - Global Times](https://www.globaltimes.cn/page/202103/1219867.shtml) via web_search\n",
      "    - [China releases plan to guide carbon-intensive industries to reach peak emissions by 2030 | South China Morning Post](https://www.scmp.com/business/china-business/article/3187317/china-releases-plan-guide-carbon-intensive-industries-reach) via web_search\n",
      "\n"
     ]
    }
   ],
   "source": [
    "response = client.beta.conversations.start(\n",
    "    agent_id=esg_agent.id,\n",
    "    inputs=\"What are the current carbon emission levels and 2030 reduction targets for the steel industries in China?\"\n",
    ")   \n",
    "pretty_print_agent_response(response)"
   ]
  },
  {
   "cell_type": "code",
   "execution_count": 60,
   "metadata": {},
   "outputs": [],
   "source": [
    "response = client.beta.conversations.start(\n",
    "    agent_id=esg_agent.id,\n",
    "    inputs=\"The carbon intensity of EU steel production was 1.8 tCO₂/tonne in 2018. The target for 2030 is 1.2 tCO₂/tonne.\" \n",
    "    \"Calculate the compound annual reduction rate over this 12-year period.\"\n",
    ")   \n",
    "\n"
   ]
  },
  {
   "cell_type": "code",
   "execution_count": 61,
   "metadata": {},
   "outputs": [
    {
     "name": "stdout",
     "output_type": "stream",
     "text": [
      "\n",
      "\u001b[1mID de la conversation :\u001b[0m conv_06836e25e504792b800063f9c12c508b\n",
      "\n",
      "\u001b[1mRéponse finale de l'agent :\u001b[0m\n",
      "  To calculate the compound annual reduction rate (CARR) over the 12-year period from 2018 to 2030, we can use the formula for compound annual growth rate (CAGR), but adapted for reduction:\n",
      "\n",
      "CARR = (End Value / Start Value)^(1/n) - 1\n",
      "\n",
      "where:\n",
      "- End Value = 1.2 tCO₂/tonne (target for 2030)\n",
      "- Start Value = 1.8 tCO₂/tonne (value for 2018)\n",
      "- n = number of years (2030 - 2018 = 12)\n",
      "\n",
      "Plugging in the values:\n",
      "\n",
      "CARR = (1.2 / 1.8)^(1/12) - 1\n",
      "\n",
      "CARR = (0.6667)^(1/12) - 1\n",
      "\n",
      "CARR ≈ 0.9609 - 1\n",
      "\n",
      "CARR ≈ -0.0391 or -3.91%\n",
      "\n",
      "The compound annual reduction rate over the 12-year period is approximately 3.91%.\n",
      "\n"
     ]
    }
   ],
   "source": [
    "pretty_print_agent_response(response)"
   ]
  },
  {
   "cell_type": "code",
   "execution_count": 65,
   "metadata": {},
   "outputs": [
    {
     "name": "stdout",
     "output_type": "stream",
     "text": [
      "conversation_id='conv_06836e308c5e7aca800042f5282232d4' outputs=[AgentHandoffEntry(previous_agent_id='ag_06836dfd059c71e98000c7d0371043c3', previous_agent_name='esg-baseline-agent', next_agent_id='ag_06836df6b13d7d82800018fad1a41338', next_agent_name='calculator-agent', object='entry', type='agent.handoff', created_at=datetime.datetime(2025, 5, 28, 10, 18, 57, 180867, tzinfo=TzInfo(UTC)), completed_at=datetime.datetime(2025, 5, 28, 10, 18, 59, 898974, tzinfo=TzInfo(UTC)), id='handoff_06836e3112e47ac58000a38ec22a1344'), MessageOutputEntry(content=' {\\n  \"result\": \"0.03\",\\n  \"reasoning\": \"To calculate the compound annual reduction rate (CARR), we use the formula:\\\\n\\\\n  r = 1 - (T / B)^(1 / n)\\\\n\\\\nGiven:\\\\n- B (baseline value) = 1.8 tCO2e/tonne\\\\n- T (target value) = 1.2 tCO2e/tonne\\\\n- n (number of years) = 12 years (from 2018 to 2030)\\\\n\\\\nFirst, calculate the ratio T / B:\\\\n\\\\n  T / B = 1.2 / 1.8 = 0.6667\\\\n\\\\nNext, calculate the exponent (1 / n):\\\\n\\\\n  1 / n = 1 / 12 ≈ 0.0833\\\\n\\\\nNow, raise the ratio to the power of the exponent:\\\\n\\\\n  (0.6667)^(0.0833) ≈ 0.9705\\\\n\\\\nFinally, calculate the CARR:\\\\n\\\\n  r = 1 - 0.9705 = 0.0295 or 2.95%\\\\n\\\\nSo, the compound annual reduction rate is approximately 0.03 or 3%.\"\\n}', object='entry', type='message.output', created_at=datetime.datetime(2025, 5, 28, 10, 19, 0, 369101, tzinfo=TzInfo(UTC)), completed_at=datetime.datetime(2025, 5, 28, 10, 19, 16, 734450, tzinfo=TzInfo(UTC)), id='msg_06836e3145e77a918000c23ed1208b31', agent_id='ag_06836df6b13d7d82800018fad1a41338', model='mistral-large-latest', role='assistant')] usage=ConversationUsageInfo(prompt_tokens=1097, completion_tokens=376, total_tokens=1473, connector_tokens=Unset(), connectors=Unset()) object='conversation.response'\n"
     ]
    }
   ],
   "source": [
    "from mistralai import FunctionResultEntry\n",
    "import json\n",
    "\n",
    "response = client.beta.conversations.start(\n",
    "    agent_id=esg_agent.id,\n",
    "    inputs=\"\"\"Given the carbon intensity target in tCO2e/tonne for EU in the steel industry in 2030,\n",
    "      plot a graph of the compound annual reduction rate (CARR) over the next 10 years.\"\"\"\n",
    ")\n",
    "\n",
    "# Supposons que tu as déjà la variable `response` issue de la requête initiale\n",
    "if response.outputs[-1].type == \"function.call\" and response.outputs[-1].name == \"get_esg_baseline\":\n",
    "    # On récupère les arguments de la fonction appelée\n",
    "    args = response.outputs[-1].arguments\n",
    "    if isinstance(args, str):\n",
    "        args = json.loads(args)  # Désérialisation si c'est une chaîne\n",
    "    metric = args.get(\"metric\", \"\")\n",
    "\n",
    "    if metric == \"carbon_intensity\":\n",
    "        result = {\n",
    "            \"baseline\": 1.8,\n",
    "            \"target\": 1.2,\n",
    "            \"unit\": \"tCO2e/tonne\",\n",
    "            \"yearBaseline\": 2018,\n",
    "            \"yearTarget\": 2030,\n",
    "            \"source\": \"EUROFER\",\n",
    "            \"comment\": \"Average EU steel production target\"\n",
    "        }\n",
    "    elif metric == \"water_usage\":\n",
    "        result = {\n",
    "            \"baseline\": 2400,\n",
    "            \"target\": 1900,\n",
    "            \"unit\": \"m3/hectare/year\",\n",
    "            \"yearBaseline\": 2015,\n",
    "            \"yearTarget\": 2030,\n",
    "            \"source\": \"European Environment Agency\",\n",
    "            \"comment\": \"Target for average agricultural water use per hectare in EU\"\n",
    "        }\n",
    "    else:\n",
    "        result = {\"error\": \"Metric non supporté\"}\n",
    "\n",
    "    user_entry = FunctionResultEntry(\n",
    "        tool_call_id=response.outputs[-1].tool_call_id,\n",
    "        result=json.dumps(result),  # On sérialise en JSON si besoin\n",
    "    )\n",
    "    print(\"\\033[1mRésultat de la fonction :\\033[0m\")\n",
    "    print(user_entry)\n",
    "    response = client.beta.conversations.append(\n",
    "        conversation_id=response.conversation_id,\n",
    "        inputs=[user_entry]\n",
    "    )\n",
    "\n",
    "    print(response)"
   ]
  },
  {
   "cell_type": "code",
   "execution_count": 66,
   "metadata": {},
   "outputs": [
    {
     "name": "stdout",
     "output_type": "stream",
     "text": [
      "\n",
      "\u001b[1mID de la conversation :\u001b[0m conv_06836e308c5e7aca800042f5282232d4\n",
      "\n",
      "\u001b[1mTransfert d'agent (Handoff) :\u001b[0m\n",
      "  De : esg-baseline-agent\n",
      "  Vers : calculator-agent\n",
      "  Date : 2025-05-28 10:18:57.180867+00:00\n",
      "\n",
      "\u001b[1mRéponse finale de l'agent :\u001b[0m\n",
      "  {\n",
      "  \"result\": \"0.03\",\n",
      "  \"reasoning\": \"To calculate the compound annual reduction rate (CARR), we use the formula:\\n\\n  r = 1 - (T / B)^(1 / n)\\n\\nGiven:\\n- B (baseline value) = 1.8 tCO2e/tonne\\n- T (target value) = 1.2 tCO2e/tonne\\n- n (number of years) = 12 years (from 2018 to 2030)\\n\\nFirst, calculate the ratio T / B:\\n\\n  T / B = 1.2 / 1.8 = 0.6667\\n\\nNext, calculate the exponent (1 / n):\\n\\n  1 / n = 1 / 12 ≈ 0.0833\\n\\nNow, raise the ratio to the power of the exponent:\\n\\n  (0.6667)^(0.0833) ≈ 0.9705\\n\\nFinally, calculate the CARR:\\n\\n  r = 1 - 0.9705 = 0.0295 or 2.95%\\n\\nSo, the compound annual reduction rate is approximately 0.03 or 3%.\"\n",
      "}\n",
      "\n"
     ]
    }
   ],
   "source": [
    "pretty_print_agent_response(response)"
   ]
  },
  {
   "cell_type": "code",
   "execution_count": 51,
   "metadata": {},
   "outputs": [],
   "source": [
    "download_and_display_agent_images(response, client)"
   ]
  },
  {
   "cell_type": "markdown",
   "metadata": {},
   "source": [
    "### Append to conversation"
   ]
  },
  {
   "cell_type": "code",
   "execution_count": null,
   "metadata": {},
   "outputs": [],
   "source": [
    "response = client.beta.conversations.append(\n",
    "    conversation_id=response.conversation_id, inputs=\"You didn't plot the graph.\"\n",
    ")\n",
    "pretty_print_agent_response(response)\n",
    "\n",
    "response = client.beta.conversations.append(\n",
    "    conversation_id=response.conversation_id, inputs=\"And then you should handoff to the calculator-agent.\"\n",
    ")\n",
    "pretty_print_agent_response(response)\n",
    "\n",
    "response = client.beta.conversations.append(\n",
    "    conversation_id=response.conversation_id, inputs=\"You still have to plot the graph. You should call the graph-drawing-agent.\"\n",
    ")\n",
    "pretty_print_agent_response(response)"
   ]
  }
 ],
 "metadata": {
  "kernelspec": {
   "display_name": ".venv",
   "language": "python",
   "name": "python3"
  },
  "language_info": {
   "codemirror_mode": {
    "name": "ipython",
    "version": 3
   },
   "file_extension": ".py",
   "mimetype": "text/x-python",
   "name": "python",
   "nbconvert_exporter": "python",
   "pygments_lexer": "ipython3",
   "version": "3.13.2"
  }
 },
 "nbformat": 4,
 "nbformat_minor": 2
}
