{
 "cells": [
  {
   "cell_type": "markdown",
   "id": "1d507716-09d2-4b73-93e6-a139b349f1de",
   "metadata": {},
   "source": [
    "# Building an Agentic System for YouTube Script Writing with LangGraph"
   ]
  },
  {
   "cell_type": "markdown",
   "id": "f7ec9162-84cb-46f9-bb4e-7d64c57e62ed",
   "metadata": {},
   "source": [
    "## Introduction\n",
    "\n",
    "Automating YouTube script writing is an ideal use case to showcase the power of agentic systems. In this article, we will build an agentic system step by step using LangGraph and LangChain, following an iterative approach.\n",
    "\n",
    "We will use Mistral Small 3 as our primary LLM. This choice is strategic as agentic systems allow us to avoid relying on very large models like GPT-4o or Large Reasoning Models (LRMs) such as O1 or DeepSeek. With this approach, we can achieve advanced results while being more efficient in terms of computation and resources.\n",
    "\n",
    "**Mistral Small 3** covers all our need for our agentic use case: \n",
    "- Low-latency function calling,\n",
    "- robust structured output,\n",
    "- competitive instuction following,\n",
    "- fast-response conversational assistance,\n",
    "- General Knowlegde performance that rivals models three times larger.\n",
    "\n",
    "We will explore how to transition from a single LLM-based writing assistant to a multi-agent system capable of collaborating to produce a high-quality script."
   ]
  },
  {
   "cell_type": "markdown",
   "id": "597c8d42-9742-416d-afea-d42a0eb2896c",
   "metadata": {},
   "source": [
    "## What You Will Learn\n",
    "- The basics of agentic systems and why they matter\n",
    "- How to create a **multi-agent** system with LangGraph\n",
    "- How to evaluate agents and improve their quality\n",
    "- How to use **Mistral Small 3** for efficient structured output\n",
    "- How to implement a **supervisor** to coordinate agent collaboration"
   ]
  },
  {
   "cell_type": "markdown",
   "id": "478701cc-1d02-43f5-9c4c-7a524e890150",
   "metadata": {},
   "source": [
    "### **Understanding What an Agentic System Is (Collaboration of Agents, Not Just Function Calling)**\n",
    "\n",
    "An **agentic system** is fundamentally about **collaboration between multiple autonomous agents** to accomplish a complex task. Unlike a traditional **function-calling approach**, where a single model or function sequentially processes inputs, an **agentic system** enables **distributed decision-making**, **specialized roles**, and **dynamic workflow adjustments** based on real-time results.\n",
    "\n",
    "In this tutorial, we are **not focusing on function calling**, as it plays a minimal role in our implementation. Instead, we aim to build an **end-to-end agentic solution** with **fundamental capabilities**, showcasing how independent agents can work together in a structured, modular way.\n",
    "\n",
    "### **Why Focus on the Basics?**\n",
    "LangGraph’s official documentation often highlights **advanced features** such as:\n",
    "- **Human-in-the-loop interventions** (where users can manually approve, edit, or intervene in workflows),\n",
    "- **Memory management** (persistent state tracking across interactions),\n",
    "- **Streaming outputs** (real-time updates from LLMs),\n",
    "- **Complex multi-agent workflows** with intricate dependencies and decision-making.\n",
    "\n",
    "These advanced features are **powerful but can overwhelm beginners** who are just getting started with **agentic systems**. \n",
    "\n",
    "### **The Goal of This Tutorial**\n",
    "- Provide a **clear, accessible** introduction to **multi-agent system construction** using **LangGraph**.\n",
    "- Focus on **core principles**: agent coordination, modularity, and workflow execution.\n",
    "- **Avoid unnecessary complexity** while still demonstrating the **power of agentic architectures**.\n",
    "\n",
    "This step-by-step approach ensures that **readers first master the fundamentals** before diving into **more advanced agentic capabilities**."
   ]
  },
  {
   "cell_type": "markdown",
   "id": "98cef887-b134-42fa-9312-0e0d9a7dd535",
   "metadata": {},
   "source": [
    "## Chapter 1: Understanding the Limitations of Classical Approaches\n",
    "\n",
    "### The Problem with Classical Writing Assistants\n",
    "\n",
    "Early iterations of writing assistants relied on a single LLM with a RAG knowledge base. Unfortunately, these systems had limitations:\n",
    "\n",
    "- Excessive reliance on prompts\n",
    "- Lack of coherence in the generated script\n",
    "= Difficulty integrating user feedback\n",
    "\n",
    "### Towards an Agentic Approach\n",
    "\n",
    "Instead of asking a single model to handle everything, we will break down the writing process into multiple specific tasks assigned to specialized agents:\n",
    "\n",
    "- **Planning**: Defining chapters and the overall script structure\n",
    "- **Researcher**: Gathering relevant information\n",
    "- **Writer**: Generating the content for each section\n",
    "- **Reviewer**: Editing and validating the script\n",
    "- **Supervisor**: Managing the workflow and final validation"
   ]
  },
  {
   "attachments": {
    "2f47c12c-ec76-4a66-9e60-48aebec4b465.png": {
     "image/png": "[encoded data removed]"
    }
   },
   "cell_type": "markdown",
   "id": "2d33cd05-5231-466f-afd5-e43f8ffb24e1",
   "metadata": {},
   "source": [
    "![video_script_state_graph.png](attachment:2f47c12c-ec76-4a66-9e60-48aebec4b465.png)"
   ]
  },
  {
   "cell_type": "markdown",
   "id": "ac1f25ad-a850-4942-8d98-de15c1098fd9",
   "metadata": {},
   "source": [
    "## Chapter 2: Introduction to LangChain Concepts\n",
    "\n",
    "Before diving into LangGraph, it is crucial to understand the core LangChain concepts that will be used in nodes:\n",
    "\n",
    "- **Prompt Templates**: Structuring effective prompts for agent interactions.\n",
    "- **LLM with Structured Output**: Ensuring predictable responses.\n",
    "- **LLM with Tools**: Allowing agents to interact with external sources.\n",
    "- **Prompt Hub from LangSmith**: Reusing and managing prompts efficiently.\n",
    "\n",
    "We will also explore how to test individual nodes before integrating them into a full graph-based workflow."
   ]
  },
  {
   "cell_type": "code",
   "execution_count": 1,
   "id": "5a10aca0-e34a-4305-8a63-edf500a68c9a",
   "metadata": {},
   "outputs": [],
   "source": [
    "##############\n",
    "# Import     #\n",
    "##############\n",
    "from typing import TypedDict, Literal, Annotated, List\n",
    "\n",
    "from dotenv import load_dotenv, find_dotenv\n",
    "from langchain_core.prompts import ChatPromptTemplate, MessagesPlaceholder, PromptTemplate\n",
    "from langchain_core.messages import HumanMessage, AIMessage\n",
    "from langchain_mistralai import ChatMistralAI\n",
    "\n"
   ]
  },
  {
   "cell_type": "markdown",
   "id": "a2b0f8e6-7920-47b8-9088-40c8acb93890",
   "metadata": {},
   "source": [
    "We now load LangChain MistralAI client that we will use throughout this notebook."
   ]
  },
  {
   "cell_type": "code",
   "execution_count": 2,
   "id": "55b8dcdb-47e6-4d2d-84dd-3babc184ee90",
   "metadata": {},
   "outputs": [],
   "source": [
    "import getpass\n",
    "import os\n",
    "\n",
    "\n",
    "################\n",
    "# AUTH KEY     #\n",
    "################\n",
    "\n",
    "# Import key from .env\n",
    "_ = load_dotenv(find_dotenv())\n",
    "\n",
    "# You'll need following key in you .env\n",
    "# MISTRAL_API_KEY=vx...\n",
    "# for LC Prompt Hub\n",
    "# LANGCHAIN_API_KEY=lsv2_pt...\n",
    "\n",
    "\n",
    "def _set_env(var: str):\n",
    "    if not os.environ.get(var):\n",
    "        os.environ[var] = getpass.getpass(f\"{var}: \")\n",
    "\n",
    "\n",
    "_set_env(\"MISTRAL_API_KEY\")\n",
    "_set_env(\"LANGCHAIN_API_KEY\")\n",
    "\n"
   ]
  },
  {
   "cell_type": "code",
   "execution_count": 3,
   "id": "56756d98-9e31-41a7-b265-4dec657a2462",
   "metadata": {},
   "outputs": [],
   "source": [
    "################\n",
    "# COMMON     #\n",
    "################\n",
    "\n",
    "# Mistral Small 3 available on Mistral AI 'La Platforme'\n",
    "llm = ChatMistralAI(model=\"mistral-small-latest\")\n",
    "\n"
   ]
  },
  {
   "cell_type": "markdown",
   "id": "ad359b46-80ef-4de6-a914-c949278eefde",
   "metadata": {},
   "source": [
    "Here is the code of our first agent: the researcher."
   ]
  },
  {
   "cell_type": "code",
   "execution_count": 4,
   "id": "f29d2051-feb5-43bc-8ee7-74f2f6857b2d",
   "metadata": {},
   "outputs": [],
   "source": [
    "####################\n",
    "# RESEARCHER AGENT #\n",
    "####################\n",
    "\n",
    "# Define output format\n",
    "class Research(TypedDict):\n",
    "    research: str\n",
    "    comment: str\n",
    "\n",
    "\n",
    "researcher_prompt = ChatPromptTemplate.from_messages(\n",
    "    [\n",
    "        (\n",
    "            \"system\",\n",
    "            f\"\"\"\n",
    "            You are the **Researcher** in a team responsible for scriptwriting YouTube videos.\n",
    "            Your role is to **gather, verify, and organize** relevant information to support scriptwriter in producing accurate and engaging content.  \n",
    "            \n",
    "            ### Responsibilities:\n",
    "            - Provide **exhaustive, detailed, well-organized, contrasted and factual** information\n",
    "            to feed the writer for all topics on the agenda. \n",
    "            - **No assumption or generic statements.** Only verifiable, specific facts or knowlegde.\n",
    "            - **Incorporate feedback** to refine and improve your research.  \n",
    "            - **You do not write the script.**\n",
    "            - **You do not plan the agenda.**\n",
    "            - **You do not review or make critics.**\n",
    "\n",
    "            ### Constraint:\n",
    "            The scriptwriter will not have access to any other source than your research.\n",
    "            - Ensure that all necessary information is provided in your response.  \n",
    "            - Do not assume the scriptwriter knows background details—explain key concepts where needed.  \n",
    "            - Use reliable **sources** whenever possible to support claims.\n",
    "            \n",
    "            #### Expected Output Format:\n",
    "            1. **Research**  \n",
    "               - Organize your research with **numbered sections, subsections, bullet points, and hyphens** following the agenda for clarity.  \n",
    "               - Include **sources** whenever possible.  \n",
    "            2. **Comment**  \n",
    "               - Use plain text to add **research notes** or respond to feedback.  \n",
    "               - If informations are missing, state it here.\n",
    "            \n",
    "            #### Additional Notes:\n",
    "            - Maintain a **clear and structured** format for readability.  \n",
    "            - Avoid using **JSON, XML, or code-like formats.** Stick to plain text.  \n",
    "            \"\"\"\n",
    "        ),\n",
    "        MessagesPlaceholder(variable_name=\"messages\"),\n",
    "    ]\n",
    ")\n",
    "\n",
    "researcher = researcher_prompt | llm.with_structured_output(Research)"
   ]
  },
  {
   "cell_type": "markdown",
   "id": "b4727714-f86d-4f95-9e11-5ced9a28a33c",
   "metadata": {},
   "source": [
    "This is a simple LLM chain with structured output. However, in real-world applications, you’ll likely need to extend it by integrating function calling or RAG (Retrieval-Augmented Generation) to enhance accuracy.\n",
    "\n",
    "You can take inspiration from the [Research Team](https://langchain-ai.github.io/langgraph/tutorials/multi_agent/hierarchical_agent_teams/?h=#research-team) of [Hierarchical Agent Teams](https://langchain-ai.github.io/langgraph/tutorials/multi_agent/hierarchical_agent_teams/?h=#hierarchical-agent-teams) on LangGraph Documentations.\n",
    "\n",
    "We will keep 'research agent' as is for simplification."
   ]
  },
  {
   "cell_type": "markdown",
   "id": "f7027993-05f8-4898-b600-9a4848f5a66c",
   "metadata": {},
   "source": [
    "Let's test this researcher agent. We define a conversation from a 'Human' and the 'Planner' ."
   ]
  },
  {
   "cell_type": "code",
   "execution_count": 20,
   "id": "d3196799-9efc-4191-a9cb-be9e4ed65afa",
   "metadata": {},
   "outputs": [],
   "source": [
    "# Emulate a conversation\n",
    "\n",
    "input = [\n",
    "        (\"human\", \"\"\"I would like a two-chapter video, 2 minutes long, containing 450 words on the topic\n",
    "            'AI will not take your job. Those who use AI will!'\"\"\"),\n",
    "        (\"assistant\", \"\"\"Here's a suggested agenda for your 2-chapter video on 'AI will not take your job. Those who use AI will!'\n",
    "\n",
    "    ### Chapter 1\n",
    "    1. **Title**\n",
    "    AI will not take your job. Those who use AI will! (200 words):\n",
    "    \n",
    "    2. **Brief**\n",
    "    Introduction of the video, presentation of the topic, and key points to be covered.\n",
    "    \n",
    "    3. **Covered Topics**\n",
    "    - Understanding AI's role in the job market\n",
    "    - The benefits of AI for workers\n",
    "    - The skills needed to work with AI\n",
    "\n",
    "    ### Chapter 2\n",
    "    1. **Title**\n",
    "    AI and Career Opportunities (250 words):\n",
    "    \n",
    "    2. **Brief**\n",
    "    Presentation of companies that are succeeding thanks to AI, the skills in demand, and career opportunities.\n",
    "    \n",
    "    3. **Covered Topics**\n",
    "    - Companies that have succeeded with AI\n",
    "    - Skills sought by employers\n",
    "    - Career opportunities with AI\"\"\"),\n",
    "        (\"human\", \"Provide research for the video.\"),\n",
    "    ]\n"
   ]
  },
  {
   "cell_type": "markdown",
   "id": "95923a30-4346-496d-859c-380c6cda0481",
   "metadata": {},
   "source": [
    "To call the agent, simply provide the conversation history along with a team description as input to the ```invoke``` method.\n",
    "\n",
    "As our agent is a LangChain runnable, you could stream, batch or make asynchronous call. Sweet! But we just invoke here."
   ]
  },
  {
   "cell_type": "code",
   "execution_count": 21,
   "id": "5dc57f53-3777-4134-b735-44542f1bd74b",
   "metadata": {},
   "outputs": [
    {
     "name": "stdout",
     "output_type": "stream",
     "text": [
      "{'research': \"Agenda: Chapter 1\\n1. Title: AI will not take your job. Those who use AI will!\\n2. Brief: Introduction of the video, presentation of the topic, and key points to be covered.\\n3. Covered Topics:\\n   - Understanding AI's role in the job market\\n   - The benefits of AI for workers\\n   - The skills needed to work with AI\\n\\nAgenda: Chapter 2\\n1. Title: AI and Career Opportunities\\n2. Brief: Presentation of companies that are succeeding thanks to AI, the skills in demand, and career opportunities.\\n3. Covered Topics:\\n   - Companies that have succeeded with AI\\n   - Skills sought by employers\\n   - Career opportunities with AI\", 'comment': 'I will gather, verify and organize the information accordingly.'}\n"
     ]
    }
   ],
   "source": [
    "researcher_res = researcher.invoke(input={\"messages\": input})\n",
    "print(researcher_res)"
   ]
  },
  {
   "cell_type": "markdown",
   "id": "d93fc1f3-edcc-4cdb-add8-a4bf1e4a4722",
   "metadata": {},
   "source": [
    "You should get 2-chapter research and a comment. The quality of research may vary. This is 'normal' based on the stochastic nature of LLM outputs.\n",
    "\n",
    "This is fine at this stage. We will add a 'reviewer' agent later that will control the quality of research content.  Also, we will move our scriptwriting workflow to operate chapter per chapter to mitigate this by letting the agent work on a smaller chunk of task.\n",
    "\n",
    "Next, we will see an important practice in agentic agent and will introduce the concept of how an llm agent can 'review' the work of another one."
   ]
  },
  {
   "cell_type": "markdown",
   "id": "2de362d8-217d-43ce-b8f2-c4eeaddf6c30",
   "metadata": {},
   "source": [
    "### Good Practice #1: Agent Evaluation\n",
    "\n",
    "It is essential to have a robust evaluation system in place from the beginning to ensure steady and good progress while developping your agentic workflow.\n",
    "\n",
    "As llm answer can change we will use llm-as-judge to evaluate our agent answer."
   ]
  },
  {
   "cell_type": "code",
   "execution_count": 7,
   "id": "b2fdb4e0-b744-410c-8c08-3b490d278fe9",
   "metadata": {},
   "outputs": [],
   "source": [
    "research_evaluator_prompt = ChatPromptTemplate.from_template(\"\"\"\n",
    "### **Evaluation Prompt for Research (AI as Judge)**  \n",
    "\n",
    "You are an evaluator assessing the relevance and adequacy of research results based on a defined **story request** \n",
    "and a **suggested agenda**. \n",
    "\n",
    "Your goal is to determine whether the provided research aligns with the requested topic and provides useful, structured, and relevant information.  \n",
    "\n",
    "Here is the evaluation data:\n",
    "[BEGIN DATA]  \n",
    "************  \n",
    "<Request>\n",
    "{input}\n",
    "</Request>\n",
    "************  \n",
    "<Research>\n",
    "{response}\n",
    "</Research>\n",
    "************\n",
    "[END DATA]  \n",
    "\n",
    "#### **Evaluation Process**  \n",
    "1. **Relevance to Request**  \n",
    "   - Does the research directly address the requested chapter and its covered topics?  \n",
    "   - Does it stay within the intended scope without deviating into unrelated areas?  \n",
    "\n",
    "2. **Alignment with Proposed Planning**  \n",
    "   - Does the research sufficiently cover the key points outlined in the planning?  \n",
    "   - Are the topics appropriately developed to provide meaningful insights?  \n",
    "\n",
    "3. **Usefulness & Informational Value**  \n",
    "   - Is the research **clear, structured, and informative**?  \n",
    "   - Does it provide **credible information** (facts, explanations, or sources where applicable)?  \n",
    "   - Can the content be **directly used** for the requested video script without requiring excessive modifications?  \n",
    "\n",
    "#### **Evaluation Criteria (Score 0-10)**  \n",
    "- **8-10**: The research is highly relevant, well-structured, and directly usable for the script.  \n",
    "- **6-8**: Mostly aligned but may lack minor details or refinement.  \n",
    "- **4-6**: Partially aligned, missing key elements or requiring significant rework.  \n",
    "- **2-4**: Misaligned with the request, lacks important aspects, or includes off-topic content.  \n",
    "- **0-2**: Irrelevant or not useful for the intended purpose.  \n",
    "\n",
    "#### **Response Format:**  \n",
    "**Grade:** <ACCEPTABLE or UNACCEPTABLE>  \n",
    "**Score:** <0-10>  \n",
    "**Comment:** <Brief justification for the score, highlighting any gaps or misalignment>  \n",
    "\"\"\")"
   ]
  },
  {
   "cell_type": "markdown",
   "id": "107e3748-e1f6-4543-b987-bcb1486fa727",
   "metadata": {},
   "source": [
    "LLM as judge is very easy to setup with LC."
   ]
  },
  {
   "cell_type": "code",
   "execution_count": 8,
   "id": "dd504f23-c42b-4699-a66c-d3773947baf1",
   "metadata": {},
   "outputs": [],
   "source": [
    "class ScriptEvaluatorFeedback(TypedDict):\n",
    "    Grade: Literal['ACCEPTABLE', 'UNACCEPTABLE']\n",
    "    Score: int\n",
    "    Comment: str\n",
    "\n",
    "research_evaluator = research_evaluator_prompt | llm.with_structured_output(ScriptEvaluatorFeedback)\n",
    "\n",
    "\n",
    "def valid_research(input: str, output: str) -> ScriptEvaluatorFeedback:\n",
    "  \"\"\"Use an LLM to judge if the research is consistent.\"\"\"\n",
    "\n",
    "  res = research_evaluator.invoke(input={\"input\": input, \"response\": output})\n",
    "  return res\n",
    "\n",
    "\n",
    "def test_researcher(agent, input):\n",
    "\n",
    "    output = agent.invoke(input={\"messages\": input})\n",
    "\n",
    "    res = valid_research(input, output)\n",
    "\n",
    "    assert res[\"Grade\"], \"Acceptable\"\n",
    "    return res\n"
   ]
  },
  {
   "cell_type": "markdown",
   "id": "71b3d93a-ebdf-4bbe-b2f9-51e82f2c93e1",
   "metadata": {},
   "source": [
    "I advice you to go further with LangSmith on [LLM as Judge](https://docs.smith.langchain.com/evaluation/how_to_guides/llm_as_judge) with  dataset and evaluator and include it in your test set. "
   ]
  },
  {
   "cell_type": "code",
   "execution_count": 9,
   "id": "35fdc968-481f-4bd4-8674-ed21a45b8c88",
   "metadata": {},
   "outputs": [
    {
     "data": {
      "text/plain": [
       "{'Grade': 'UNACCEPTABLE',\n",
       " 'Score': 2,\n",
       " 'Comment': 'The research provided is a mere repetition of the suggested agenda without any actual content or insights. It does not offer any substantive information, facts, or explanations that can be directly used for the video script. It completely lacks the necessary details and credibility expected for a research output.'}"
      ]
     },
     "execution_count": 9,
     "metadata": {},
     "output_type": "execute_result"
    }
   ],
   "source": [
    "test_researcher(researcher, input)"
   ]
  },
  {
   "cell_type": "markdown",
   "id": "215c1f3c-fb9d-4a0d-80d5-9fda0748da26",
   "metadata": {},
   "source": [
    "Result will be probably evaluated as 'UNACCEPTABLE'.  \n",
    "\n",
    "There are several strategies to improve that, like performing external search as stated before or operate chapter per chapter. \n",
    "We will cover the 2nd stategy later.\n",
    "\n",
    "Again this is not very important at this stage, we want to keep research agent simple.\n",
    "\n",
    "For our demo purpose, **Mistral Small 3** has sufficient 'world knowlegde' to produce **good enough** research. "
   ]
  },
  {
   "cell_type": "markdown",
   "id": "9e004233-850e-42de-857e-ad616b6400c7",
   "metadata": {},
   "source": [
    "### Good Practice #2: Prompt-Oriented Architecture\n",
    "\n",
    "In GenAI app development, it's a best practice to decouple business logic from prompt engineering since prompts and system instructions follow a distinct lifecycle from the application's core logic. \n",
    "\n",
    "By treating prompts as modular and reusable assets—akin to data-driven prompting or prompt templates—developers can iterate independently, facilitate A/B testing, and streamline integration with LLM orchestration frameworks like LangChain or LlamaIndex. \n",
    "\n",
    "Tools such as [LangSmith](https://smith.langchain.com/) Prompt Hub enable prompt versioning and evaluation, ensuring optimal performance without entangling prompt design with backend workflows."
   ]
  },
  {
   "cell_type": "markdown",
   "id": "5d62f093-2cf4-447e-bdb8-3aa7f927299d",
   "metadata": {},
   "source": [
    "So next, we'll declare the 'scriptwriter' prompt directly in prompt hub."
   ]
  },
  {
   "cell_type": "code",
   "execution_count": 22,
   "id": "19531620-0c45-42c4-8538-4fcb99e36d41",
   "metadata": {},
   "outputs": [
    {
     "name": "stdout",
     "output_type": "stream",
     "text": [
      "Prompt has not changed.'Conflict for /commits/-/tuto-video-script-writer-prompt. HTTPError('409 Client Error: Conflict for url: https://api.smith.langchain.com/commits/-/tuto-video-script-writer-prompt', '{\"detail\":\"Nothing to commit: prompt has not changed since latest commit\"}')'\n"
     ]
    }
   ],
   "source": [
    "from langchain import hub\n",
    "from langsmith.utils import LangSmithConflictError\n",
    "\n",
    "writer_prompt = ChatPromptTemplate.from_messages(\n",
    "    [\n",
    "        (\n",
    "            \"system\",\n",
    "            \"\"\"You are the **Scriptwriter** in a team responsible for scriptwriting YouTube videos.\n",
    "\n",
    "            Your job is to:\n",
    "            - Write or improve a video script based on the agenda and information given.\n",
    "            - Make changes based on feedback to improve your script.\n",
    "            - Only use the information provided; do not do additional research.\n",
    "            \n",
    "            ### How to Format Your Output\n",
    "            1. Put the **full script** in the `chapter` section. Write it as plain text without any formatting.\n",
    "            2. Put any notes, responses to feedback, or extra suggestions in the `comment` section. Write these as plain text, like a conversation.\n",
    "            \n",
    "            ### Important Points\n",
    "            - Do not use structured formatting (like JSON or XML) in the `comment` section.\n",
    "            - If you need more information, say so in the `comment` section.\n",
    "            - Make sure the `chapter` text is clear and complete without relying on formatting.\n",
    "            \"\"\"\n",
    "        ),\n",
    "        MessagesPlaceholder(variable_name=\"messages\"),\n",
    "    ]\n",
    ")\n",
    "# langsmith create an error if prompt's content does not change. So we catch the error. \n",
    "try:\n",
    "    hub.push(repo_full_name=\"tuto-video-script-writer-prompt\", object=writer_prompt, new_repo_is_public=False)\n",
    "except LangSmithConflictError as e:\n",
    "    print(f\"Prompt has not changed.'{e}'\")"
   ]
  },
  {
   "cell_type": "markdown",
   "id": "1dca5664-585a-4c7c-8cf3-09e083cb64c1",
   "metadata": {},
   "source": [
    "Then, we will use the writer prompt to create the writer agent"
   ]
  },
  {
   "cell_type": "code",
   "execution_count": 23,
   "id": "4591e658-8f9f-442e-b523-888c81131a5a",
   "metadata": {},
   "outputs": [],
   "source": [
    "##############\n",
    "# WRITER     #\n",
    "##############\n",
    "\n",
    "class Draft(TypedDict):\n",
    "    script: str\n",
    "    comment: str"
   ]
  },
  {
   "cell_type": "code",
   "execution_count": 24,
   "id": "cee0ea5d-1400-4ac5-99ef-2349ca421368",
   "metadata": {},
   "outputs": [],
   "source": [
    "writer_prompt = hub.pull(\"tuto-video-script-writer-prompt\")\n",
    "writer = writer_prompt | llm.with_structured_output(Draft)"
   ]
  },
  {
   "cell_type": "markdown",
   "id": "a47c96f1-996b-47a2-b01b-fa538014c785",
   "metadata": {},
   "source": [
    "We can do the same with the previously declared researcher prompt.\n",
    "\n",
    "```python\n",
    "try:\n",
    "    hub.push(repo_full_name=\"tuto-video-script-researcher-prompt\", object=researcher_prompt, new_repo_is_public=False)\n",
    "except LangSmithConflictError as e:\n",
    "    print(f\"Prompt has not changed.'{e}'\")\n",
    "\n",
    "\n",
    "researcher_prompt = hub.pull(\"tuto-video-script-researcher-prompt\")\n",
    "researcher = researcher_prompt | llm.with_structured_output(Research)\n",
    "```"
   ]
  },
  {
   "cell_type": "markdown",
   "id": "5309673b-527f-4306-a861-515876a154f9",
   "metadata": {},
   "source": [
    "If you don't want to use Prompt hub yet, use this script to declare writer agent\n",
    "\n",
    "```python\n",
    "writer = writer_prompt | llm.with_structured_output(Draft)\n",
    "```"
   ]
  },
  {
   "cell_type": "markdown",
   "id": "4afad01d-113d-47cb-95c2-2e054a917f76",
   "metadata": {},
   "source": [
    "Let's test the 'writer agent'.\n",
    "\n",
    "First, we will format a message for the writer based on the result of research."
   ]
  },
  {
   "cell_type": "code",
   "execution_count": 25,
   "id": "d25d895f-c483-40af-b3e9-d2552b33db55",
   "metadata": {},
   "outputs": [],
   "source": [
    "researcher_res_comment = researcher_res.get('comment', 'No comment provided.')\n",
    "researcher_res_content = researcher_res['research']\n",
    "research_message_content = (f\"# Research \"\n",
    "                            f\"\\n\\n{researcher_res_content}\"\n",
    "                            f\"\\n\\n-----\\n\\n# Researcher Comment\"\n",
    "                            f\"\\n\\n{researcher_res_comment}\")"
   ]
  },
  {
   "cell_type": "code",
   "execution_count": 26,
   "id": "cf06fce4-cacf-42ee-b536-54745c5c1a5a",
   "metadata": {},
   "outputs": [
    {
     "data": {
      "text/plain": [
       "\"# Research \\n\\nAgenda: Chapter 1\\n1. Title: AI will not take your job. Those who use AI will!\\n2. Brief: Introduction of the video, presentation of the topic, and key points to be covered.\\n3. Covered Topics:\\n   - Understanding AI's role in the job market\\n   - The benefits of AI for workers\\n   - The skills needed to work with AI\\n\\nAgenda: Chapter 2\\n1. Title: AI and Career Opportunities\\n2. Brief: Presentation of companies that are succeeding thanks to AI, the skills in demand, and career opportunities.\\n3. Covered Topics:\\n   - Companies that have succeeded with AI\\n   - Skills sought by employers\\n   - Career opportunities with AI\\n\\n-----\\n\\n# Researcher Comment\\n\\nI will gather, verify and organize the information accordingly.\""
      ]
     },
     "execution_count": 26,
     "metadata": {},
     "output_type": "execute_result"
    }
   ],
   "source": [
    "research_message_content"
   ]
  },
  {
   "cell_type": "markdown",
   "id": "f567b85b-1993-4d37-8400-1c16f01a80d0",
   "metadata": {},
   "source": [
    "Next, we prepare messages input for the writer. We take previous conversation on which we append research result and writer instructions."
   ]
  },
  {
   "cell_type": "code",
   "execution_count": 27,
   "id": "f1352437-3088-42ad-be4d-7393e24da8ac",
   "metadata": {},
   "outputs": [],
   "source": [
    "writer_input = input + [(\"assistant\", research_message_content), \n",
    "          (\"human\", \"Write the script for the video using agenda and research.\") ]"
   ]
  },
  {
   "cell_type": "code",
   "execution_count": 28,
   "id": "7c71aff4-47b2-4393-b261-6871957eb6bf",
   "metadata": {},
   "outputs": [],
   "source": [
    "writer_res = writer.invoke(input={\"messages\": writer_input})"
   ]
  },
  {
   "cell_type": "code",
   "execution_count": 29,
   "id": "06cdd666-db1a-42c6-9342-cc459b6d1375",
   "metadata": {},
   "outputs": [
    {
     "data": {
      "text/plain": [
       "{'script': 'chapter 1: AI will not take your job. Those who use AI will!\\n\\n In today\\'s rapidly evolving world, artificial intelligence, or AI, is a hot topic. But one question that keeps coming up is, \"Will AI take my job?\" Today, we\\'re here to set the record straight. AI will not take your job. In fact, those who use AI effectively will thrive in the job market.\\n\\nLet\\'s dive into understanding AI\\'s role in the job market. AI is not just about automation; it\\'s about augmentation. It\\'s about using technology to enhance human capabilities, making us more efficient and effective in our work.\\n\\nThe benefits of AI for workers are enormous. AI can automate repetitive tasks, freeing up time for more creative and strategic work. It can provide valuable insights through data analysis, helping workers make better decisions. And it can even create new job opportunities in fields like data analysis, AI development, and more.\\n\\nBut to leverage these benefits, workers need to develop new skills. Skills like data literacy, AI literacy, and digital skills are becoming increasingly important. These skills enable workers to work effectively with AI, to understand its capabilities and limitations, and to use it to their advantage.\\n\\nChapter 2: AI and Career Opportunities\\n\\nNow, let\\'s talk about AI and career opportunities. There are countless examples of companies that have succeeded with AI. Take Netflix, for instance. They use AI to personalize recommendations for their users, keeping them engaged and happy. Or consider Amazon, which uses AI for inventory management and delivery optimization.\\n\\nThese companies are not just using AI; they\\'re investing in it. They\\'re hiring professionals who can develop, implement, and manage AI systems. And the skills they\\'re looking for are not just technical. They also include soft skills like problem-solving, critical thinking, and effective communication.\\n\\nSo, what does this mean for your career? It means that AI is creating new opportunities. Jobs like AI specialist, data analyst, and machine learning engineer are in high demand. But even if your job isn\\'t directly related to AI, understanding and using AI can make you more valuable to your employer.\\n\\nIn conclusion, AI is not something to fear. It\\'s a tool that can help you do your job better, smarter, and faster. So, embrace AI. Learn how to use it effectively, and you\\'ll be well on your way to a successful career in the AI-driven world.',\n",
       " 'comment': 'The script for the video \"AI will not take your job. Those who use AI will!\" is ready for review.'}"
      ]
     },
     "execution_count": 29,
     "metadata": {},
     "output_type": "execute_result"
    }
   ],
   "source": [
    "writer_res"
   ]
  },
  {
   "cell_type": "markdown",
   "id": "94187925-80d3-4c11-90fd-fb5607e3eca9",
   "metadata": {},
   "source": [
    "# Chapter 3: Creating a Minimal Skeleton of our Agentic Workflow (Planner + Researcher +Writer)\n",
    "\n",
    "Defining an Initial Graph\n",
    "\n",
    "To start, we create a simple workflow with two agents:\n",
    "\n",
    "1. **Planner**: Determines the script structure (agenda, key topic, brief).\n",
    "2. **Researcher**: Generates research based on the agenda.\n",
    "3. **Writer**: Generates the script based on the agenda + research.\n",
    "\n",
    "In LangGraph, an agentic workflow is describe with a Graph representation. So will have to define a Graph, Node and edges."
   ]
  },
  {
   "cell_type": "markdown",
   "id": "1df09456-d2ba-4f94-b464-62ef3dd7d765",
   "metadata": {},
   "source": [
    "Let's now create the planning step. This will be used by the team to guide during their script writing  process."
   ]
  },
  {
   "cell_type": "code",
   "execution_count": 30,
   "id": "8cfe115b-d298-45bf-b631-2b4707d8448d",
   "metadata": {},
   "outputs": [],
   "source": [
    "class Chapter(TypedDict):\n",
    "    title: str\n",
    "    covered_topics: List[str]\n",
    "\n",
    "\n",
    "class Planning(TypedDict):\n",
    "    topic: str\n",
    "    plan: List[Chapter]"
   ]
  },
  {
   "cell_type": "code",
   "execution_count": 31,
   "id": "4b82196e-945f-4ffb-b6da-f148f63a8072",
   "metadata": {},
   "outputs": [],
   "source": [
    "producer_prompt = ChatPromptTemplate.from_messages(\n",
    "    [\n",
    "        (\n",
    "            \"system\",\n",
    "            \"You are the 'planner' in a team responsible for scriptwriting YouTube videos.\\n\\n\"\n",
    "            \"Your responsibilities:\\n\"\n",
    "            \"- Plan the video agenda: \\n\"\n",
    "            \"Define for each section:\"\n",
    "            \" - Title [words count]\\n\"\n",
    "            \" - covered topics (max 3)\\n\"\n",
    "            \"- Provide the final approval of the script.\\n\\n\"\n",
    "            \"The video must follow this template :\\n\"\n",
    "            \"- Section 1: Video hook and intro\\n\"\n",
    "            \"- Section 2: Body, main content (prefer 3 chapters if not specify otherwise) \\n\"\n",
    "            \"- Section 3: CTA (call to action) and Conclusion\\n\"\n",
    "            \"\\n\\n\"\n",
    "            \"You DO NOT write script.\\n\"\n",
    "            \"You DO NOT make research.\"\n",
    "            \"You DO NOT review.\\n\"\n",
    "        ),\n",
    "        MessagesPlaceholder(variable_name=\"messages\"),\n",
    "    ]\n",
    ")\n",
    "\n",
    "planner = producer_prompt | llm.with_structured_output(Planning)"
   ]
  },
  {
   "cell_type": "code",
   "execution_count": 32,
   "id": "9eaf2245-97ed-46ae-aee6-2a049a747d1d",
   "metadata": {},
   "outputs": [
    {
     "name": "stdout",
     "output_type": "stream",
     "text": [
      "Prompt has not changed.'Conflict for /commits/-/tuto-video-script-planner-prompt. HTTPError('409 Client Error: Conflict for url: https://api.smith.langchain.com/commits/-/tuto-video-script-planner-prompt', '{\"detail\":\"Nothing to commit: prompt has not changed since latest commit\"}')'\n"
     ]
    }
   ],
   "source": [
    "planner_prompt = PromptTemplate.from_template(\n",
    "    \"Elaborate the plan of the video script. \\n\"\n",
    "    \"Define for each chapter:\\n\"\n",
    "    \" - Chapter 'Title' (including words count directive for the chapter in format '[X words]')\\n\"\n",
    "    \" - Covered topics (max 3 per chapter) with specific and actionable direction.\\n\"\n",
    "    \" - Brief for the chapter explaining where you want to go.\\n\"\n",
    "    \"You provide information that guide your team to deliver the story you envision.\\n\"\n",
    "    \"\\n\\n\"\n",
    "    \"The video plan must follow this structure :\\n\"\n",
    "    \"- 'Opening Section': contains video hook and introduction.\\n\"\n",
    "    \"- 'Main Section': 'Body' of the script where you develop the X chapters.\\n\"\n",
    "    \"- 'Closing Section': contains the CTA (call to action) and a brief conclusion.\\n\"\n",
    "    \"\\n\\n\"\n",
    "    \"Opening and Closing section does not count as 'user chapters'. \"\n",
    "    \"If user ask for 3 chapters, you must plan for 5 (1: Hook+Introduction, 2,3,4: user chapters, 5: CTA+Conclusion)\"\n",
    ")\n",
    "try:\n",
    "    hub.push(repo_full_name=\"tuto-video-script-planner-prompt\", object=planner_prompt, new_repo_is_public=False)\n",
    "except LangSmithConflictError as e:\n",
    "    print(f\"Prompt has not changed.'{e}'\")"
   ]
  },
  {
   "cell_type": "code",
   "execution_count": 34,
   "id": "82f1bea1-3648-4f58-99c0-493995c681de",
   "metadata": {},
   "outputs": [],
   "source": [
    "from langgraph.graph.message import add_messages\n",
    "from langchain_core.messages import  BaseMessage\n",
    "\n",
    "class VideoScriptState(TypedDict):\n",
    "    messages: Annotated[List[BaseMessage], add_messages]\n",
    "    chapters: List[Chapter]"
   ]
  },
  {
   "cell_type": "markdown",
   "id": "758a983b-a164-4e3c-b0e5-57b9643c69b6",
   "metadata": {},
   "source": [
    "In LangGraph, the Graph's *'State'* is a **shared data structure** that represents the current snapshot of your application. It can be any Python type, but is typically a TypedDict or Pydantic BaseModel.\n",
    "\n",
    "It is what will collect the messages produced by each agent within the workflow. But you can use it to share any information each component in your graph need to collaborate.\n",
    "\n",
    "Here, we will add the chapter generated by the 'planner_node' that will be used by 'researcher' and 'writer'.\n",
    "\n",
    "Why that? We want to handle at a granular level what each node works on. We cannot only rely on the conversation as it may become very long and agent could start to be confused. "
   ]
  },
  {
   "cell_type": "markdown",
   "id": "dd2614b5-e648-450a-8ae8-6b8f6f52e712",
   "metadata": {},
   "source": [
    "Let's define a node for Planner, researcher and writer. The planner node is the 'host/producer' agent with a specific prompt to create the agenda.\n",
    "\n",
    "We parse the output of **'planner'** agent to add its content directly in the **'VideoStateGraph'** in **'chapter'** field.."
   ]
  },
  {
   "cell_type": "code",
   "execution_count": 35,
   "id": "9edb90f6-4057-479d-890f-e26e8e370612",
   "metadata": {},
   "outputs": [],
   "source": [
    "#####################\n",
    "# TOOLING\n",
    "#####################\n",
    "\n",
    "def _format_chapters(chapters):\n",
    "    formatted_chapters = \"\"\n",
    "    for chapter in chapters:\n",
    "        formatted_chapters += f\"{chapter['title']}:\\n\"\n",
    "        if 'chapter_brief' in chapter:\n",
    "            formatted_chapters += f\"  - Brief: {chapter['chapter_brief']}\\n\"\n",
    "        formatted_chapters += \"  - Covered Topics:\\n\"\n",
    "        for topic in chapter['covered_topics']:\n",
    "            formatted_chapters += f\"    - {topic}\\n\"\n",
    "        formatted_chapters += \"\\n\"\n",
    "    return formatted_chapters"
   ]
  },
  {
   "cell_type": "code",
   "execution_count": 36,
   "id": "98ec29b5-3bfb-4e40-bc4b-090b2c0dba18",
   "metadata": {},
   "outputs": [],
   "source": [
    "def planner_node(state: VideoScriptState) -> VideoScriptState:\n",
    "    \"\"\"\n",
    "    The Host/Producer sets the plan (how many chapters, the overall direction).\n",
    "    In a real scenario, you'd call host_producer_prompt with the user request to produce an agenda.\n",
    "    We'll simulate it here.\n",
    "    \"\"\"\n",
    "    # If not already done, let's define chapters in the conversation or from user input\n",
    "    # Example simulation: The user wants a 3-chapter video, so we store that:\n",
    "    if not state.get(\"chapters\"):\n",
    "\n",
    "        planner_prompt = hub.pull(\"tuto-video-script-planner-prompt\")\n",
    "        message_content = planner_prompt.format()\n",
    "        messages = state[\"messages\"] + [HumanMessage(content=message_content, name=\"user\")]\n",
    "        res = planner.invoke(input={\"messages\": messages})\n",
    "        chapters = res['plan']\n",
    "        state[\"chapters\"] = chapters\n",
    "        formatted_chapters = _format_chapters(chapters)\n",
    "        producer_message = (f\"Here's a suggested agenda for your video.\"\n",
    "                            f\"\\n\\n{formatted_chapters}\")\n",
    "        host_message = AIMessage(content=producer_message, name=\"host-producer\")\n",
    "        state[\"messages\"].append(host_message)\n",
    "    return state"
   ]
  },
  {
   "cell_type": "markdown",
   "id": "3e7a52ca-0cbc-4f68-a26a-51e2cdd5f9f7",
   "metadata": {},
   "source": [
    "### Command: A new tool for building multi-agent architectures in LangGraph"
   ]
  },
  {
   "cell_type": "markdown",
   "id": "bf6e3244-9c71-499f-9973-6d182247045b",
   "metadata": {},
   "source": [
    "For the next node, we will use a new addition to LangGraph arsenal : *'Command'*"
   ]
  },
  {
   "cell_type": "code",
   "execution_count": 37,
   "id": "53710d95-0f21-4cb7-84ec-95c25622c5bc",
   "metadata": {},
   "outputs": [],
   "source": [
    "from langgraph.types import Command"
   ]
  },
  {
   "cell_type": "code",
   "execution_count": 38,
   "id": "3335e7d9-c94f-41a3-b6c7-1ec11a77096f",
   "metadata": {},
   "outputs": [],
   "source": [
    "def researcher_node(state: VideoScriptState) -> Command[Literal[\"writer\"]]:\n",
    "    \"\"\"\n",
    "    The Researcher provides factual data/ideas for the current chapter.\n",
    "    For demonstration, we just append a dummy 'AIMessage' with bullet points.\n",
    "    \"\"\"\n",
    "    chapters = state[\"chapters\"]\n",
    "    message_content = f\"Provide research for the video covering the key topics of agenda.\"\n",
    "    human_message = HumanMessage(content=message_content, name=\"user\")\n",
    "    messages = state[\"messages\"] + [human_message]\n",
    "\n",
    "    res = researcher.invoke(input={\"messages\": messages})\n",
    "\n",
    "    research_response_comment = res.get('comment', 'No comment provided.')\n",
    "    research_chapter_content = res['research']\n",
    "    research_message_content = (f\"# Research\"\n",
    "                                f\"\\n\\n{research_chapter_content}\"\n",
    "                                f\"\\n\\n-----\\n\\n#Comment\"\n",
    "                                f\"\\n\\n{research_response_comment}\")\n",
    "\n",
    "    return Command(\n",
    "        update={\n",
    "            \"messages\": [AIMessage(content=research_message_content, name=\"researcher\")],\n",
    "        },\n",
    "        goto=\"writer\",\n",
    "    )"
   ]
  },
  {
   "cell_type": "code",
   "execution_count": 39,
   "id": "006bf4ac-949b-4681-849b-001b795f5fdd",
   "metadata": {},
   "outputs": [],
   "source": [
    "def writer_node(state: VideoScriptState) -> Command[Literal[\"__end__\"]]:\n",
    "    \"\"\"\n",
    "    The Writer composes or updates the script for the current chapter using the research input.\n",
    "    \"\"\"\n",
    "    chapters = state[\"chapters\"]\n",
    "    message_content = f\"Write the script using agenda and research.\"\n",
    "    human_message = HumanMessage(content=message_content, name=\"user\")\n",
    "    messages = state[\"messages\"] + [human_message]\n",
    "\n",
    "    res = writer.invoke(input={\"messages\": messages})\n",
    "\n",
    "    # Check if 'comment' is in the response\n",
    "    writer_script_content = res['script']\n",
    "    writer_response_comment = res.get('comment', 'No comment provided.')\n",
    "\n",
    "    writer_message_content = (f\"# Script\"\n",
    "                              f\"\\n\\n{writer_script_content}\\n\\n-----\"\n",
    "                              f\"\\n\\n# Writer Comment\"\n",
    "                              f\"\\n\\n{writer_response_comment}\")\n",
    "\n",
    "    return Command(\n",
    "        update={\n",
    "            \"messages\": [AIMessage(content=writer_message_content, name=\"writer\")],\n",
    "        },\n",
    "        goto=\"__end__\",\n",
    "    )"
   ]
  },
  {
   "cell_type": "code",
   "execution_count": 43,
   "id": "73d8a04e-0e13-46d4-b2c7-1dfb3b4459f9",
   "metadata": {},
   "outputs": [
    {
     "data": {
      "text/plain": [
       "<langgraph.graph.state.StateGraph at 0x121632c90>"
      ]
     },
     "execution_count": 43,
     "metadata": {},
     "output_type": "execute_result"
    }
   ],
   "source": [
    "from langgraph.graph import StateGraph, START, END\n",
    "\n",
    "workflow = StateGraph(VideoScriptState)\n",
    "workflow.add_node(\"planning\", planner_node)\n",
    "workflow.add_node(\"researcher\", researcher_node)\n",
    "workflow.add_node(\"writer\", writer_node)\n",
    "workflow.add_edge(START, \"planning\")\n",
    "workflow.add_edge(\"planning\", \"researcher\")"
   ]
  },
  {
   "cell_type": "markdown",
   "id": "2ee04b80-a75d-46c8-87c3-4ad7ffa6e059",
   "metadata": {},
   "source": [
    "Of course, LangGraph need to store the state of the graph somewhere. It use Memory for that. For real use case,\n",
    "you must use persistant memory but for this demo we will use MemorySaver."
   ]
  },
  {
   "cell_type": "code",
   "execution_count": 44,
   "id": "ab1bab5d-0c78-4c7b-9b4b-00059971f976",
   "metadata": {},
   "outputs": [],
   "source": [
    "from langgraph.checkpoint.memory import MemorySaver\n",
    "\n",
    "memory = MemorySaver()"
   ]
  },
  {
   "cell_type": "markdown",
   "id": "6742e456-35ed-41aa-8d78-5ccbc3b9baf6",
   "metadata": {},
   "source": [
    "And at the end, we compile the Graph. LangGraph will check its consistency so you can have error."
   ]
  },
  {
   "cell_type": "code",
   "execution_count": 45,
   "id": "ead86184-e6fb-4540-bf13-fbccdebe008f",
   "metadata": {},
   "outputs": [],
   "source": [
    "video_script_app = workflow.compile(checkpointer=memory)"
   ]
  },
  {
   "cell_type": "markdown",
   "id": "fc0b74f0-20df-4221-b280-fc88121fa1e7",
   "metadata": {},
   "source": [
    "We can see the 2 approaches here:\n",
    "\n",
    "- **'planning_node'** function return an updated *'StateGraph'* and the *'edge'* between **'planning_node'** and **'writer_node'** is declare at graph level with *'add_edge'* method.\n",
    "- **'researcher_node'** and **'writer_node'** use *'Command'* and its attribute *'goto'* to create the *'edge'* between them. It is also in the signature of the function (return). Command is an important addition to LangGraph to allow dynamic workflow. Change on *'StateGraph'* is transfer via the *'update*' parameter. This allow *handoff* between agents in the graph.\n",
    "\n",
    "If you prefer the first method, you can use 'add_conditional_edge' method of stategraph for decision making. Take care, you cannot combined both approach (ie. a node that return a Command and a conditional_edge on the graph).\n",
    "\n",
    "Let's see what our graph looks like.\n"
   ]
  },
  {
   "cell_type": "code",
   "execution_count": 46,
   "id": "3fdf8d21-2d16-48b6-bd73-b8d29f970be1",
   "metadata": {},
   "outputs": [
    {
     "data": {
      "image/png": "[encoded data removed]",
      "text/plain": [
       "<IPython.core.display.Image object>"
      ]
     },
     "metadata": {},
     "output_type": "display_data"
    }
   ],
   "source": [
    "from IPython.display import Image, display\n",
    "\n",
    "try:\n",
    "    display(Image(video_script_app.get_graph().draw_mermaid_png()))\n",
    "except Exception:\n",
    "    # This requires some extra dependencies and is optional\n",
    "    pass"
   ]
  },
  {
   "cell_type": "markdown",
   "id": "afa1df65-27c9-4458-b8a7-aaa187a38526",
   "metadata": {},
   "source": [
    "We have a linear process '__start__' --> 'planning' --> 'researcher' --> 'writer' --> '__end__' which starts to look like something we could do in real-life. You see that the edges are not the same (continuous versus dotted line) showing the two approach.\n",
    "\n",
    "So we are not in an agentic workflow yet as each step is know and no agent decide what will come next. But we have already moved away from le llm-chain paradigm. "
   ]
  },
  {
   "cell_type": "markdown",
   "id": "46f802bb-9c44-4753-88d6-439d550fb613",
   "metadata": {},
   "source": [
    "Let's run the graph now."
   ]
  },
  {
   "cell_type": "code",
   "execution_count": 47,
   "id": "524b2c33-d7d4-44d0-822e-4cd9799dd5a3",
   "metadata": {},
   "outputs": [
    {
     "name": "stdout",
     "output_type": "stream",
     "text": [
      "Directive: 'I'd like a 2-chapter video of 2 minutes of 450 words on 'AI Won't Take Your Jobs. Those Who Use AI Will!''\n",
      "Result: '================================== Ai Message ==================================\n",
      "Name: writer\n",
      "\n",
      "# Script\n",
      "\n",
      "Imagine a world where machines do all the work. Sounds scary, right? But what if I told you that AI won't take your jobs. Those who use AI will! AI is not scary, its here to stay and it is a tool.  AI is the new electric power. AI is a tool to amplify human abilities. In various industries, AI is being used to automate tasks, analyze data, and make decisions. For example, in healthcare, AI is used to diagnose diseases, in finance, AI is used to detect fraud, and in retail, AI is used to personalize shopping experiences. AI will create more jobs than it will replace. AI will create new jobs, like AI ethicists, AI trainers, and AI engineers. AI will augment existing jobs, making them more efficient and effective. AI will transform industries, creating new opportunities and markets. Embrace AI to stay competitive. AI is the future of work, and those who embrace it will have a competitive advantage. AI is a skill to learn, and those who learn it will be in high demand. AI is a tool, not a threat. AI is a tool to augment human abilities, creating new opportunities and transforming industries. \n",
      "\n",
      "-----\n",
      "\n",
      "# Writer Comment\n",
      "\n",
      "I have used the agenda and research to write the script. The script is 450 words long and covers all the topics mentioned in the agenda.'\n"
     ]
    }
   ],
   "source": [
    "prompt = (\"I'd like a 2-chapter video of 2 minutes of 450 words on 'AI Won't Take Your Jobs. Those Who Use AI Will!'\")\n",
    "\n",
    "config = {\"configurable\": {\"thread_id\": \"1\"}}\n",
    "\n",
    "example_input = {\n",
    "    \"messages\": [(\"human\", prompt)],\n",
    "}\n",
    "\n",
    "# Collect all steps from the astream generator\n",
    "steps = [step for step in video_script_app.stream(example_input, config=config, stream_mode=\"values\")]\n",
    "\n",
    "# Access the last step\n",
    "last_step = steps[-1]\n",
    "\n",
    "print(f\"Directive: '{prompt}'\")\n",
    "\n",
    "# Print the last message of the last step\n",
    "last_message = last_step[\"messages\"][-1]\n",
    "\n",
    "output = last_message.pretty_repr()\n",
    "print(f\"Result: '{output}'\")\n"
   ]
  },
  {
   "cell_type": "markdown",
   "id": "dc6be045-21dd-4fa0-b6dd-0ebb038d07a8",
   "metadata": {},
   "source": [
    "What's important here is ```config = {\"configurable\": {\"thread_id\": \"1\"}}```\n",
    "\n",
    "You have to define a **'thread_id'** for each user. This is mandatory because StateGraph is statefull. You remember the 'MemorySaver' we have added when we compile the graph. So you have to identify the user uniquely.\n",
    "\n",
    "LangChain use **'session_id'** to handle conversation history per user. So you'll have to initialize both value if you are using advanced chain like *'RunnableWithMessageHistory'*. \n",
    "\n",
    "So if you are already using LC, take care: LC and LG does not use the same *keyword* for memory management.\n",
    "\n",
    "In this notebook, we can simply use 1 as value but for real application you will probably have a code like:\n",
    "\n",
    "```python\n",
    "import uuid\n",
    "\n",
    "thread_id = config.configurable.get(\"thread_id\") if config and hasattr(config, 'configurable') else str(uuid.uuid4())\n",
    "```\n",
    "\n",
    "uuid helps to generate unique id."
   ]
  },
  {
   "cell_type": "markdown",
   "id": "239587af-1836-4814-94b4-dee4be5a0612",
   "metadata": {},
   "source": [
    "2nd interesting things is that langgraph work per step (and handle everything smoothly for you). It will orchestrate the call between all agent. We won't go into the detail of what is going while langgraph is executing the process. Here, we just retrieve the last step and display the last message.\n",
    "\n",
    "StateGraph is also a runnable (like LangChain chain) so you have all the nice feature with async calling, streaming, batching etc. You also have access granularly to all events during execution to display progress to user."
   ]
  },
  {
   "cell_type": "markdown",
   "id": "ed4d7bb3-e187-4cd4-b841-d0fdec99ab76",
   "metadata": {},
   "source": [
    "## Chapter 7: Agentic Evaluation and Simulation\n",
    "\n",
    "Like agent, you have to test you agentic worklow. Here we will use the same strategy has research but for final script. For conversational agent, you will use a [Simulator agent](https://langchain-ai.github.io/langgraph/tutorials/chatbot-simulation-evaluation/agent-simulation-evaluation/) that will replace the human interaction. As we have a fully automatized process, we just evaluate the final results. Also I recommend to set up more advanced test "
   ]
  },
  {
   "cell_type": "code",
   "execution_count": 48,
   "id": "fc4d5d9f-1c71-4f37-b187-88831e1bfb65",
   "metadata": {},
   "outputs": [],
   "source": [
    "script_evaluator_prompt = ChatPromptTemplate.from_template(\"\"\"\n",
    "You are evaluating a submitted script based on the given request. \n",
    "\n",
    "Here is the evaluation data:\n",
    "[BEGIN DATA]  \n",
    "************  \n",
    "<Request>\n",
    "{input}\n",
    "</Request>\n",
    "************  \n",
    "<SubmittedScript>\n",
    "{response}\n",
    "</SubmittedScript>\n",
    "************\n",
    "[END DATA]  \n",
    "\n",
    "Compare the submitted script with the request.  \n",
    "Ignore differences in style, minor phrasing, or wording variations.  \n",
    "\n",
    "Assess alignment based on:  \n",
    "- **Structure**: Does it follow a logical **chapitrage** (proposed agenda)?  \n",
    "- **Angle**: Does the story perspective fit the topic?  \n",
    "- **Length & Duration**: Is it reasonably aligned with expectations?  \n",
    "- **Language**: Does the script is in the expected language (same as request if user not specify)?  \n",
    "- **Quality**: Is it coherent, engaging, and suitable for a YouTube AI audience?  \n",
    "\n",
    "**Grade the result:**  \n",
    "- **8 to 10**: Fully meets the request across all aspects.  \n",
    "- **6 to 8**: Mostly aligned, with minor gaps.  \n",
    "- **4 to 6**: Partially aligned, missing key aspects.  \n",
    "- **2 to 4**: Significant misalignment with the request.  \n",
    "- **0 to 2**: Off-topic or completely missing expectations.  \n",
    "If the submission is entirely missing or contains no meaningful content (ex: None), assign a score of 0.\n",
    "The script is **ACCEPTABLE** if the score is above 6. It is **UNACCEPTABLE** if the score is below 6.  \n",
    "\n",
    "**Answer format:**  \n",
    "Grade: <ACCEPTABLE or UNACCEPTABLE>  \n",
    "Score: <grade from 0 to 10>\"**  \n",
    "Comment: <Brief justification for the score, highlighting any gaps or misalignment>  \n",
    "\"\"\")"
   ]
  },
  {
   "cell_type": "code",
   "execution_count": 49,
   "id": "76a76a04-69dd-4799-8c53-cc1f7f77bfda",
   "metadata": {},
   "outputs": [],
   "source": [
    "import uuid\n",
    "\n",
    "script_evaluator = script_evaluator_prompt | llm.with_structured_output(ScriptEvaluatorFeedback)\n",
    "\n",
    "\n",
    "def valid_script(input: str, output: str) -> ScriptEvaluatorFeedback:\n",
    "  \"\"\"Use an LLM to judge if the script is consistent.\"\"\"\n",
    "\n",
    "  res = script_evaluator.invoke(input={\"input\": input, \"response\": output})\n",
    "  return res\n",
    "\n",
    "\n",
    "def test_script(agent, input):\n",
    "\n",
    "    thread_id = config.configurable.get(\"thread_id\") if config and hasattr(config, 'configurable') else str(\n",
    "        uuid.uuid4())\n",
    "\n",
    "    effective_config = {\"configurable\": {\"thread_id\": thread_id}, \"recursion_limit\": 99}\n",
    "\n",
    "    input_data = {'messages': [HumanMessage(content=input)],}\n",
    "\n",
    "    steps = [step for step in agent.stream(input=input_data, config=effective_config, stream_mode=\"values\")]\n",
    "\n",
    "    # Access the last step\n",
    "    last_step = steps[-1]\n",
    "\n",
    "    # Print the last message of the last step\n",
    "    last_message = last_step[\"messages\"][-1]\n",
    "    output = last_message.pretty_repr()\n",
    "\n",
    "    # output = agent.invoke(input={\"messages\": input})\n",
    "\n",
    "    res = valid_script(input, output)\n",
    "\n",
    "    assert res[\"Grade\"], \"Acceptable\"\n",
    "    return res\n"
   ]
  },
  {
   "cell_type": "code",
   "execution_count": 50,
   "id": "eabbd31e-03ac-482d-abc0-9f12c715578c",
   "metadata": {},
   "outputs": [
    {
     "data": {
      "text/plain": [
       "{'Grade': 'ACCEPTABLE',\n",
       " 'Score': 8,\n",
       " 'Comment': 'The script is well-aligned with the request. It follows a logical structure with two chapters as requested, covering the impact of AI on the job market and how to leverage AI for career enhancement. The angle is appropriate, focusing on the positive aspects of AI in the job market. The length and duration are reasonably aligned with the expectation of a 2-minute, 450-word video script. The language is clear and suitable for a YouTube AI audience. However, there are minor gaps in the script; it could benefit from more specific examples and actionable advice to fully meet the request.'}"
      ]
     },
     "execution_count": 50,
     "metadata": {},
     "output_type": "execute_result"
    }
   ],
   "source": [
    "test_script(video_script_app, prompt)"
   ]
  },
  {
   "cell_type": "markdown",
   "id": "f222efde-1dea-4a0a-ad08-cc9e87c18d11",
   "metadata": {},
   "source": [
    "This is basic testing but it is very simple to implement and as your workflow start to complexify, you must have a robust testing strategy in place from the beggining."
   ]
  },
  {
   "cell_type": "markdown",
   "id": "62e613bd-b9f8-4529-935c-c2f8e65a26bb",
   "metadata": {},
   "source": [
    "If you look carefully at the test_script function, you'll notice that I've added a **\"recursion_limit\"** parameter to the configurable.\n",
    "This is very important as from now we will add 'branch' and 'loop' in our graph and we doesn't not want our workflow go into infinite loop (as the logic and decision will be handled by autonomous agents). So **'recursion_limit'** will avoid our AI Agent go crazy and stop before consuming all our credits."
   ]
  },
  {
   "cell_type": "markdown",
   "id": "9610eaba-4472-4d92-a036-8d4e3119f01c",
   "metadata": {},
   "source": [
    "# Chapter 8: Supervisor node\n",
    "\n",
    "First, we will add a new member in the script writing team: **'reviewer'**.\n",
    "\n",
    "Reviewer will be in charge to check the quality of the research and the script and give advice for enhance. He will advice if the work must be done by research if more input is needed or writer if only style or structure revision is required. He will also 'approved' the script if it is ok. "
   ]
  },
  {
   "cell_type": "markdown",
   "id": "6c5630cb-0c24-42ab-b20c-01f4e46440b9",
   "metadata": {},
   "source": [
    "But for good measure, we will redeclare import in one cell so we won't have to search for them."
   ]
  },
  {
   "cell_type": "code",
   "execution_count": 53,
   "id": "7c1a43b1-699a-41a2-b4f1-e3e913b555a4",
   "metadata": {},
   "outputs": [],
   "source": [
    "# redeclaring import here to avoir searching in different cells.\n",
    "from typing import TypedDict, Literal, Annotated, List,  Tuple\n",
    "\n",
    "from langgraph.types import Command\n",
    "from langchain_core.prompts import ChatPromptTemplate, MessagesPlaceholder, PromptTemplate\n",
    "\n",
    "from langchain_core.prompts import ChatPromptTemplate, MessagesPlaceholder, PromptTemplate\n",
    "from langchain_core.messages import HumanMessage, AIMessage\n",
    "\n",
    "from langgraph.graph.message import add_messages\n",
    "from langchain_core.messages import  BaseMessage\n",
    "\n",
    "from langchain import hub\n",
    "from langsmith.utils import LangSmithConflictError\n",
    "\n",
    "import operator\n",
    "\n",
    "from langgraph.graph import StateGraph, START, END\n",
    "\n",
    "from langgraph.checkpoint.memory import MemorySaver"
   ]
  },
  {
   "cell_type": "code",
   "execution_count": 64,
   "id": "6db948c2-9311-4113-8751-6e97f626e190",
   "metadata": {},
   "outputs": [],
   "source": [
    "class ReviewFeedback(TypedDict):\n",
    "    GoodPoints: str\n",
    "    MissingOrNeedsResearch: str\n",
    "    SuperfluousContent: str\n",
    "    StyleRefinement: str\n",
    "    NextNode: Literal['researcher', 'writer', 'approved']\n",
    "\n",
    "review_prompt = ChatPromptTemplate.from_messages(\n",
    "    [\n",
    "        (\n",
    "            \"system\",\n",
    "            \"You are the `Reviewer` in a team responsible for scriptwriting YouTube videos.\\n\\n\"\n",
    "            \"\"\"Based solely on the proposed key topics and brief from the agenda and writing guidelines,\n",
    "            your task is to evaluate the script draft and provide concise and structured feedback in four parts:\n",
    "\n",
    "            1. **GoodPoints**: List the positive aspects that should be retained.\n",
    "            2. **MissingOrNeedsResearch**: Specify missing information or areas that require more research.\n",
    "            3. **SuperfluousContent**: Identify anything unnecessary or off-topic in the chapter.\n",
    "            4. **StyleRefinement**: Major issues with writing guidelines such as word counts per chapter or repetition.\n",
    "            5. **NextNode**: Indicate the next action by choosing one of:\n",
    "               - 'approved': If no major revisions or research are necessary.\n",
    "               - 'writer': If Superfluous Content or Style Refinement BUT NO NEW CONTENT.\n",
    "               - 'research': If Missing Or Needs Research to address gaps or improve accuracy from the agenda.\n",
    "\n",
    "            ---\n",
    "\n",
    "            ### **Decision-Making Guidance for NextNode**:\n",
    "            1. Choose **'approved'** (default) if issues are minor or stylistic.\n",
    "            2. Choose **'writer'** if structural or stylistic improvements are required AND NO NEW content is required.\n",
    "            3. Choose **'research'** if missing content.\n",
    "            **IMPORTANT**: 'writer' cannot do his own research. Go to 'research' any time new content is necessary.\n",
    "            In case of ambiguity or perplexity, choose 'research'.\n",
    "            ---\n",
    "            \"\"\"\n",
    "        ),\n",
    "        MessagesPlaceholder(variable_name=\"messages\"),\n",
    "    ]\n",
    ")\n",
    "\n",
    "reviewer = review_prompt | llm.with_structured_output(ReviewFeedback)"
   ]
  },
  {
   "cell_type": "markdown",
   "id": "087723a5-a814-4ac0-a2f8-12738bea546a",
   "metadata": {},
   "source": [
    "Nothing particular to comment here.\n",
    "\n",
    "Let's define the **'reviewer_node'**."
   ]
  },
  {
   "cell_type": "code",
   "execution_count": 65,
   "id": "4c8a908c-3538-460c-9d08-f2bd131fd1e5",
   "metadata": {},
   "outputs": [],
   "source": [
    "def reviewer_node(state: VideoScriptState) -> Command[Literal[\"supervisor\"]]:\n",
    "    \"\"\"\n",
    "    The 'Reviewer' agent checks the current draft:\n",
    "      - If acceptable, we finalize the chapter.\n",
    "      - If not acceptable, we request changes => 'draft_node' or 'researcher_node' again.\n",
    "    \"\"\"\n",
    "\n",
    "    human_message = HumanMessage(content=f\"Review the draft of the chapter\", name=\"user\")\n",
    "    messages = state[\"messages\"] + [human_message]\n",
    "\n",
    "    res = reviewer.invoke(input={\"messages\": messages})\n",
    "\n",
    "    reviewer_message_content = (\n",
    "        f\"# Reviewer Feedback\\n\\n\"\n",
    "        f\"Good Points:\\n {res['GoodPoints']}\\n\\n\"\n",
    "        f\"Missing or Needs Research:\\n {res['MissingOrNeedsResearch']}\\n\\n\"\n",
    "        f\"Superfluous Content:\\n {res['SuperfluousContent']}\\n\\n\"\n",
    "        f\"Style Refinement:\\n {res['StyleRefinement']}\\n\\n\"\n",
    "        f\"next: {res['NextNode']}\\n\\n\"\n",
    "    )\n",
    "\n",
    "    return Command(\n",
    "        update={\n",
    "            \"messages\": [AIMessage(content=reviewer_message_content, name=\"reviewer\")],\n",
    "            \"next\": res[\"NextNode\"],\n",
    "        },\n",
    "        goto=\"supervisor\",\n",
    "    )"
   ]
  },
  {
   "cell_type": "markdown",
   "id": "e19a7900-59d4-4d29-9fb2-e405763e3851",
   "metadata": {},
   "source": [
    "'Reviewer' gives feedback on the quality of the script revision (good points) to keep it and what is missing or need to be change.\n",
    "\n",
    "We have also ask reviewer to give what he estimates to be the 'best' next node that the supervisor should redirect or if he approves the last iteration of the script. For example, we only need style revision, no need to do new research. But if content is missing, we should look for it with the research agent.\n",
    "\n",
    "In real-case scenario, you will have to give 'Guidelines' to each agent to ensure a coherency in style/tone/structure, etc... and avoid infinite revision.\n",
    "\n",
    "The next agent will be pass through the State of the graph so we add the field **'next'** in it."
   ]
  },
  {
   "cell_type": "code",
   "execution_count": 56,
   "id": "aa33058d-a70d-45cf-bc27-7e27075310fc",
   "metadata": {},
   "outputs": [],
   "source": [
    "class VideoScriptState(TypedDict):\n",
    "    messages: Annotated[List[BaseMessage], add_messages]\n",
    "    chapters: List[Chapter]\n",
    "    next: Literal['researcher', 'writer', 'approved']\n",
    "    past_steps: Annotated[List[Tuple], operator.add]"
   ]
  },
  {
   "cell_type": "markdown",
   "id": "b578fdeb-8070-492a-aa3a-56e6698c2c07",
   "metadata": {},
   "source": [
    "Now we will create a supervisor node that will orchestate the job between each agent chapter per chapter."
   ]
  },
  {
   "cell_type": "code",
   "execution_count": 73,
   "id": "b69f9eef-4d02-464c-898f-c604969b1b4a",
   "metadata": {},
   "outputs": [],
   "source": [
    "members = [\"researcher\", \"writer\", \"reviewer\"]\n",
    "# Our team supervisor is an LLM node. It just picks the next agent to process\n",
    "# and decides when the work is completed\n",
    "options = members + [\"FINISH\"]\n",
    "\n",
    "system_prompt = (\n",
    "    \"You are a supervisor tasked with managing a conversation between the\"\n",
    "    f\" following workers: {members}. Given the initial user request and advice from reviewer,\"\n",
    "    \" respond with the worker to act next. Each worker will perform a\"\n",
    "    \" task and respond with their results and comments. When finished,\"\n",
    "    \" respond with FINISH.\"\n",
    ")\n",
    "\n",
    "\n",
    "class Router(TypedDict):\n",
    "    \"\"\"Worker to route to next. If no workers needed, route to FINISH.\"\"\"\n",
    "    next: Literal[*options]\n",
    "\n",
    "\n",
    "\n",
    "def supervisor_node(state: VideoScriptState) -> Command[Literal[*members, \"__end__\"]]:\n",
    "    messages = [\n",
    "        {\"role\": \"system\", \"content\": system_prompt},\n",
    "    ] + state[\"messages\"]\n",
    "    host_message = HumanMessage(content=\"What to do next?\", name=\"host-producer\")\n",
    "    messages += [host_message]\n",
    "    response = llm.with_structured_output(Router).invoke(messages)\n",
    "    goto = response[\"next\"]\n",
    "    if goto == \"FINISH\":\n",
    "        goto = END\n",
    "\n",
    "    return Command(goto=goto, update={\"next\": \"\"})"
   ]
  },
  {
   "cell_type": "markdown",
   "id": "c5f195a1-eea9-4cd6-9669-1296b225e6ca",
   "metadata": {},
   "source": [
    "Now we update each participants to go back to supervisor"
   ]
  },
  {
   "cell_type": "code",
   "execution_count": 58,
   "id": "d2d6eb20-0915-40b6-bafd-9f46021e17e1",
   "metadata": {},
   "outputs": [],
   "source": [
    "def researcher_node(state: VideoScriptState) -> Command[Literal[\"writer\"]]:\n",
    "    \"\"\"\n",
    "    The Researcher provides factual data/ideas for the current chapter.\n",
    "    For demonstration, we just append a dummy 'AIMessage' with bullet points.\n",
    "    \"\"\"\n",
    "    chapters = state[\"chapters\"]\n",
    "    message_content = f\"Provide research for the video covering the key topics of agenda.\"\n",
    "    human_message = HumanMessage(content=message_content, name=\"user\")\n",
    "    messages = state[\"messages\"] + [human_message]\n",
    "\n",
    "    res = researcher.invoke(input={\"messages\": messages})\n",
    "\n",
    "    research_response_comment = res.get('comment', 'No comment provided.')\n",
    "    research_chapter_content = res['research']\n",
    "    research_message_content = (f\"# Research\"\n",
    "                                f\"\\n\\n{research_chapter_content}\"\n",
    "                                f\"\\n\\n-----\\n\\n#Comment\"\n",
    "                                f\"\\n\\n{research_response_comment}\")\n",
    "\n",
    "    return Command(\n",
    "        update={\n",
    "            \"messages\": [AIMessage(content=research_message_content, name=\"researcher\")],\n",
    "        },\n",
    "        goto=\"writer\",\n",
    "    )"
   ]
  },
  {
   "cell_type": "code",
   "execution_count": 59,
   "id": "91bb84ee-bf23-49a9-acf7-3ad9c36a41d2",
   "metadata": {},
   "outputs": [],
   "source": [
    "def writer_node(state: VideoScriptState) -> Command[Literal[\"reviewer\"]]:\n",
    "    \"\"\"\n",
    "    The Writer composes or updates the script for the current chapter using the research input.\n",
    "    \"\"\"\n",
    "    chapters = state[\"chapters\"]\n",
    "    message_content = f\"Write the script using agenda and research.\"\n",
    "    human_message = HumanMessage(content=message_content, name=\"user\")\n",
    "    messages = state[\"messages\"] + [human_message]\n",
    "\n",
    "    res = writer.invoke(input={\"messages\": messages})\n",
    "\n",
    "    # Check if 'comment' is in the response\n",
    "    writer_script_content = res['script']\n",
    "    writer_response_comment = res.get('comment', 'No comment provided.')\n",
    "\n",
    "    writer_message_content = (f\"# Script\"\n",
    "                              f\"\\n\\n{writer_script_content}\\n\\n-----\"\n",
    "                              f\"\\n\\n# Writer Comment\"\n",
    "                              f\"\\n\\n{writer_response_comment}\")\n",
    "\n",
    "    return Command(\n",
    "        update={\n",
    "            \"messages\": [AIMessage(content=writer_message_content, name=\"writer\")],\n",
    "        },\n",
    "        goto=\"reviewer\",\n",
    "    )"
   ]
  },
  {
   "cell_type": "markdown",
   "id": "9ae2dd12-1675-4495-91e3-1516f7eb81b4",
   "metadata": {},
   "source": [
    "And 'planner node' if it need some tweacking."
   ]
  },
  {
   "cell_type": "code",
   "execution_count": 60,
   "id": "e3c7e82c-8d62-45b1-9bb6-2a0b07e760cf",
   "metadata": {},
   "outputs": [],
   "source": [
    "def planner_node(state: VideoScriptState) -> VideoScriptState:\n",
    "    \"\"\"\n",
    "    The Host/Producer sets the plan (how many chapters, the overall direction).\n",
    "    In a real scenario, you'd call host_producer_prompt with the user request to produce an agenda.\n",
    "    We'll simulate it here.\n",
    "    \"\"\"\n",
    "    # If not already done, let's define chapters in the conversation or from user input\n",
    "    # Example simulation: The user wants a 3-chapter video, so we store that:\n",
    "    if not state.get(\"chapters\"):\n",
    "\n",
    "        planner_prompt = hub.pull(\"tuto-video-script-planner-prompt\")\n",
    "        message_content = planner_prompt.format()\n",
    "        messages = state[\"messages\"] + [HumanMessage(content=message_content, name=\"user\")]\n",
    "        res = planner.invoke(input={\"messages\": messages})\n",
    "        chapters = res['plan']\n",
    "        state[\"chapters\"] = chapters\n",
    "        formatted_chapters = _format_chapters(chapters)\n",
    "        producer_message = (f\"Here's a suggested agenda for your video.\"\n",
    "                            f\"\\n\\n{formatted_chapters}\")\n",
    "        host_message = HumanMessage(content=producer_message, name=\"host-producer\")\n",
    "        state[\"messages\"].append(host_message)\n",
    "        state[\"next\"] = 'research'\n",
    "    return state"
   ]
  },
  {
   "cell_type": "code",
   "execution_count": 74,
   "id": "ee83b0f0-8745-44eb-92cc-f9e56efcff04",
   "metadata": {},
   "outputs": [],
   "source": [
    "workflow = StateGraph(VideoScriptState)\n",
    "workflow.add_node(\"planning\", planner_node)\n",
    "workflow.add_node(\"researcher\", researcher_node)\n",
    "workflow.add_node(\"writer\", writer_node)\n",
    "workflow.add_node(\"reviewer\", reviewer_node)\n",
    "workflow.add_node(\"supervisor\", supervisor_node)\n",
    "workflow.add_edge(START, \"planning\")\n",
    "workflow.add_edge(\"planning\", \"supervisor\")\n",
    "\n",
    "memory = MemorySaver()\n",
    "video_script_workflow = workflow.compile(checkpointer=memory)"
   ]
  },
  {
   "cell_type": "markdown",
   "id": "29d4eb57-7f69-4f76-a1ce-36fccb8ac170",
   "metadata": {},
   "source": [
    "Let's display it."
   ]
  },
  {
   "cell_type": "code",
   "execution_count": 71,
   "id": "1bd7291c-ba01-407d-8ef9-6a863ffeeae9",
   "metadata": {},
   "outputs": [
    {
     "data": {
      "image/png": "[encoded data removed]",
      "text/plain": [
       "<IPython.core.display.Image object>"
      ]
     },
     "metadata": {},
     "output_type": "display_data"
    }
   ],
   "source": [
    "from IPython.display import Image, display\n",
    "\n",
    "try:\n",
    "    display(Image(video_script_workflow.get_graph().draw_mermaid_png()))\n",
    "except Exception:\n",
    "    # This requires some extra dependencies and is optional\n",
    "    pass"
   ]
  },
  {
   "cell_type": "markdown",
   "id": "1237bbf2-9e35-4d0d-be01-62fcd51a85ae",
   "metadata": {},
   "source": [
    "Now we are getting some serious stuff. \n",
    "\n",
    "Now that we have a real agentic workflow with agent that take decision to the next action, don't forget to add ```\"recursion_limit\"```to configurable. 99 here is absolutely arbitrary. Adapt it to your needs.\n",
    "\n",
    "Let's test it."
   ]
  },
  {
   "cell_type": "code",
   "execution_count": 77,
   "id": "08081b7a-279d-4c44-aaaf-2dba5136acdc",
   "metadata": {},
   "outputs": [
    {
     "name": "stdout",
     "output_type": "stream",
     "text": [
      "Directive: 'I'd like a 2-chapter video of 2 minutes of 450 words on 'AI Won't Take Your Jobs. Those Who Use AI Will!''\n",
      "Result: '================================== Ai Message ==================================\n",
      "Name: reviewer\n",
      "\n",
      "# Reviewer Feedback\n",
      "\n",
      "Good Points:\n",
      " Engaging opening and closing statements. The script is well-organized with logical flow between sections. The examples provided for AI in daily life and various industries are interesting and relevant. The emphasis on continuous learning and ethical AI use is well-placed. The inclusion of specific reports and statistics from credible sources adds credibility. Clear and concise language.\n",
      "\n",
      "Missing or Needs Research:\n",
      " The opening section could be enhanced with a more compelling hook or a surprising statistic to immediately grab the audience's attention. The transition between chapters could be smoother; consider using bridging sentences to connect the ideas more fluidly. More concrete examples of AI tools and their practical applications in the workplace would enhance the content. The section on ethical AI use could benefit from more detailed guidelines or real-world examples of ethical considerations. Specifically, how AI can create new opportunities. The script could benefit from more specific examples of job seekers and AI. The chapter concludes with a strong statement about the future of work, but it could be reinforced with a concrete example or a call to action for the audience.\n",
      "\n",
      "Superfluous Content:\n",
      " The phrase 'Imagine AI tools as superpowers' is somewhat clichéd and could be rephrased for a more professional tone. Some sentences are quite long and could be broken down for better readability. The script shifts between present and future tense, which can be jarring. The phrase 'Eighty-five percent of job seekers say that gaining new skills is a top priority, according to a LinkedIn report' is a bit wordy and could be simplified.\n",
      "\n",
      "Style Refinement:\n",
      " Word count is within guidelines. Consistency in tense usage needs improvement. Consider varying sentence structure to improve readability. The script could benefit from more transitions between sections to improve flow. Some sentences are quite long and could be broken down for better readability. The script could benefit from more specific examples of job seekers and AI.\n",
      "\n",
      "next: researcher'\n"
     ]
    }
   ],
   "source": [
    "prompt = (\"I'd like a 2-chapter video of 2 minutes of 450 words on 'AI Won't Take Your Jobs. Those Who Use AI Will!'\")\n",
    "\n",
    "config = {\"configurable\": {\"thread_id\": \"1\", \"recursion_limit\": 99}}\n",
    "\n",
    "example_input = {\n",
    "    \"messages\": [(\"human\", prompt)],\n",
    "}\n",
    "\n",
    "# Collect all steps from the astream generator\n",
    "steps = [step for step in video_script_workflow.stream(example_input, config=config, stream_mode=\"values\")]\n",
    "\n",
    "# Access the last step\n",
    "last_step = steps[-1]\n",
    "\n",
    "print(f\"Directive: '{prompt}'\")\n",
    "\n",
    "# Print the last message of the last step\n",
    "last_message = last_step[\"messages\"][-1]\n",
    "\n",
    "output = last_message.pretty_repr()\n",
    "print(f\"Result: '{output}'\")\n"
   ]
  },
  {
   "cell_type": "code",
   "execution_count": null,
   "id": "273f7426-0fe2-4163-93ad-956b9de2c81f",
   "metadata": {},
   "outputs": [],
   "source": []
  },
  {
   "cell_type": "markdown",
   "id": "82f33e92-f211-4d54-9672-4b36d996850d",
   "metadata": {},
   "source": [
    "# TODO \n",
    "- expliquer le role de thread_id pour la mémoire et qu'il y a aussi l'id de langchain. Ici c'est statique mais il faut le gérer dans de vrai cas d'usage\n",
    "- Expliquer l'Intéret de Mistral small 3 qui fonctionne très bien avec de longue conversation et qui avait tendance à ne plus générer le format structuré. Plus de soucis maintenant.\n",
    "- Mais dans ce cas montrer la partie policy\n",
    "- Quand on passe sur une boucle montrer le max itération\n",
    "- Présenter le thread_id avec uuid.\n",
    "\n",
    "- Passage en supervisor\n",
    "- Un petit exemple avec un appel de fonction (RAG) ou autre chose que langchain ?\n",
    "  "
   ]
  },
  {
   "cell_type": "code",
   "execution_count": null,
   "id": "ec462da7-8f46-41ec-b06a-74089fdf7400",
   "metadata": {},
   "outputs": [],
   "source": []
  }
 ],
 "metadata": {
  "kernelspec": {
   "display_name": "Python (ai-agent-casebook)",
   "language": "python",
   "name": "ai-agent-casebook-cacfgz2u-py3.12"
  },
  "language_info": {
   "codemirror_mode": {
    "name": "ipython",
    "version": 3
   },
   "file_extension": ".py",
   "mimetype": "text/x-python",
   "name": "python",
   "nbconvert_exporter": "python",
   "pygments_lexer": "ipython3",
   "version": "3.12.8"
  }
 },
 "nbformat": 4,
 "nbformat_minor": 5
}
